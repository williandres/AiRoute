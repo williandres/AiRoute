{
 "cells": [
  {
   "cell_type": "markdown",
   "source": "# Clase 20/02",
   "metadata": {
    "formattedRanges": [],
    "tags": [],
    "cell_id": "a2fbe62838d34fb498e8e235d290f535",
    "is_collapsed": false,
    "deepnote_cell_type": "text-cell-h1"
   }
  },
  {
   "cell_type": "markdown",
   "source": "https://r2022.netlify.app/",
   "metadata": {
    "is_collapsed": false,
    "tags": [],
    "cell_id": "3b34cc3e50374ce1ba38b81e6a920e74",
    "formattedRanges": [
     {
      "type": "link",
      "url": "https://r2022.netlify.app/",
      "fromCodePoint": 0,
      "toCodePoint": 26,
      "ranges": []
     }
    ],
    "deepnote_cell_type": "text-cell-p"
   }
  },
  {
   "cell_type": "code",
   "metadata": {
    "tags": [],
    "cell_id": "fb5ee2890fa54c93ade281f9ea89d1a0",
    "source_hash": "4b971e68",
    "execution_start": 1676921757519,
    "execution_millis": 6771,
    "deepnote_to_be_reexecuted": false,
    "deepnote_cell_type": "code",
    "deepnote_cell_height": 439.4375
   },
   "source": "install.packages(\"readxl\")\nlibrary(readxl)\ninstall.packages(\"readr\")\nlibrary(readr)\ninstall.packages(\"stringr\")\nlibrary(stringr)",
   "execution_count": 1,
   "outputs": [
    {
     "name": "stderr",
     "text": "Installing package into ‘/work/.R/library’\n(as ‘lib’ is unspecified)\n\nWarning message in install.packages(\"readxl\"):\n“installation of package ‘readxl’ had non-zero exit status”\nInstalling package into ‘/work/.R/library’\n(as ‘lib’ is unspecified)\n\nWarning message in install.packages(\"readr\"):\n“installation of package ‘readr’ had non-zero exit status”\nInstalling package into ‘/work/.R/library’\n(as ‘lib’ is unspecified)\n\n",
     "output_type": "stream"
    }
   ]
  },
  {
   "cell_type": "code",
   "metadata": {
    "tags": [],
    "cell_id": "4b221b552ee24428b0b2ff05befaa208",
    "source_hash": "99e51794",
    "execution_start": 1676921764321,
    "execution_millis": 1607,
    "deepnote_to_be_reexecuted": false,
    "deepnote_cell_type": "code",
    "deepnote_cell_height": 728.625
   },
   "source": "install.packages(\"dplyr\")\nlibrary(dplyr)\nsource(\"/work/AiRoute/university-stuff/statistical_computing/sources/mismacros.txt\")",
   "execution_count": 2,
   "outputs": [
    {
     "name": "stderr",
     "text": "Installing package into ‘/work/.R/library’\n(as ‘lib’ is unspecified)\n\nWarning message in install.packages(\"dplyr\"):\n“installation of package ‘dplyr’ had non-zero exit status”\n\nAttaching package: ‘dplyr’\n\n\nThe following objects are masked from ‘package:stats’:\n\n    filter, lag\n\n\nThe following objects are masked from ‘package:base’:\n\n    intersect, setdiff, setequal, union\n\n\n\ntable  :  Month\nweights: 1\n                  Frequency\n   | ----------------------\n5  |                     31\n6  |                     30\n7  |                     31\n8  |                     31\n9  |                     30\n   | ----------------------\n",
     "output_type": "stream"
    }
   ]
  },
  {
   "cell_type": "code",
   "metadata": {
    "tags": [],
    "cell_id": "0d610e0604684602995a2bd82aab3f44",
    "source_hash": "84454a9e",
    "execution_start": 1676921765917,
    "execution_millis": 9,
    "deepnote_to_be_reexecuted": false,
    "deepnote_cell_type": "code",
    "deepnote_cell_height": 81
   },
   "source": "Municipios <- readRDS(\"/work/AiRoute/university-stuff/statistical_computing/sources/outputs/Municipios.RDS\")",
   "execution_count": 3,
   "outputs": []
  },
  {
   "cell_type": "code",
   "metadata": {
    "tags": [],
    "cell_id": "a0590dc8b4b245c99e474bdfc8c52a4b",
    "source_hash": "410465db",
    "execution_start": 1676921765929,
    "execution_millis": 20,
    "deepnote_to_be_reexecuted": false,
    "deepnote_cell_type": "code",
    "deepnote_cell_height": 368,
    "deepnote_output_heights": [
     276
    ]
   },
   "source": "head(Municipios)",
   "execution_count": 4,
   "outputs": [
    {
     "data": {
      "text/html": "<table class=\"dataframe\">\n<caption>A data.frame: 6 x 11</caption>\n<thead>\n\t<tr><th></th><th scope=col>Departamento</th><th scope=col>Dep</th><th scope=col>Municipio</th><th scope=col>Depmun</th><th scope=col>Superficie</th><th scope=col>Poblacion</th><th scope=col>Irural</th><th scope=col>Region</th><th scope=col>Tipo</th><th scope=col>Zona</th><th scope=col>denspobl</th></tr>\n\t<tr><th></th><th scope=col>&lt;chr&gt;</th><th scope=col>&lt;chr&gt;</th><th scope=col>&lt;chr&gt;</th><th scope=col>&lt;chr&gt;</th><th scope=col>&lt;dbl&gt;</th><th scope=col>&lt;dbl&gt;</th><th scope=col>&lt;dbl&gt;</th><th scope=col>&lt;chr&gt;</th><th scope=col>&lt;chr&gt;</th><th scope=col>&lt;chr&gt;</th><th scope=col>&lt;dbl&gt;</th></tr>\n</thead>\n<tbody>\n\t<tr><th scope=row>1</th><td>Antioquia</td><td>05</td><td>Medellín  </td><td>05001</td><td> 374.83062</td><td>2483545</td><td> 5</td><td>Región Eje Cafetero</td><td>Capital</td><td>Urbano</td><td>6625.779315</td></tr>\n\t<tr><th scope=row>2</th><td>Antioquia</td><td>05</td><td>Abejorral </td><td>05002</td><td> 507.13411</td><td>  20258</td><td>45</td><td>Región Eje Cafetero</td><td>Otro   </td><td>Rural </td><td>  39.946041</td></tr>\n\t<tr><th scope=row>3</th><td>Antioquia</td><td>05</td><td>Abriaquí  </td><td>05004</td><td> 296.95598</td><td>   2710</td><td>58</td><td>Región Eje Cafetero</td><td>Otro   </td><td>Rural </td><td>   9.125932</td></tr>\n\t<tr><th scope=row>4</th><td>Antioquia</td><td>05</td><td>Alejandría</td><td>05021</td><td> 128.93215</td><td>   4669</td><td>48</td><td>Región Eje Cafetero</td><td>Otro   </td><td>Rural </td><td>  36.212844</td></tr>\n\t<tr><th scope=row>5</th><td>Antioquia</td><td>05</td><td>Amagá     </td><td>05030</td><td>  84.13248</td><td>  30777</td><td>28</td><td>Región Eje Cafetero</td><td>Otro   </td><td>Urbano</td><td> 365.815927</td></tr>\n\t<tr><th scope=row>6</th><td>Antioquia</td><td>05</td><td>Amalfi    </td><td>05031</td><td>1209.12687</td><td>  26552</td><td>54</td><td>Región Eje Cafetero</td><td>Otro   </td><td>Rural </td><td>  21.959648</td></tr>\n</tbody>\n</table>\n",
      "text/markdown": "\nA data.frame: 6 x 11\n\n| <!--/--> | Departamento &lt;chr&gt; | Dep &lt;chr&gt; | Municipio &lt;chr&gt; | Depmun &lt;chr&gt; | Superficie &lt;dbl&gt; | Poblacion &lt;dbl&gt; | Irural &lt;dbl&gt; | Region &lt;chr&gt; | Tipo &lt;chr&gt; | Zona &lt;chr&gt; | denspobl &lt;dbl&gt; |\n|---|---|---|---|---|---|---|---|---|---|---|---|\n| 1 | Antioquia | 05 | Medellín   | 05001 |  374.83062 | 2483545 |  5 | Región Eje Cafetero | Capital | Urbano | 6625.779315 |\n| 2 | Antioquia | 05 | Abejorral  | 05002 |  507.13411 |   20258 | 45 | Región Eje Cafetero | Otro    | Rural  |   39.946041 |\n| 3 | Antioquia | 05 | Abriaquí   | 05004 |  296.95598 |    2710 | 58 | Región Eje Cafetero | Otro    | Rural  |    9.125932 |\n| 4 | Antioquia | 05 | Alejandría | 05021 |  128.93215 |    4669 | 48 | Región Eje Cafetero | Otro    | Rural  |   36.212844 |\n| 5 | Antioquia | 05 | Amagá      | 05030 |   84.13248 |   30777 | 28 | Región Eje Cafetero | Otro    | Urbano |  365.815927 |\n| 6 | Antioquia | 05 | Amalfi     | 05031 | 1209.12687 |   26552 | 54 | Región Eje Cafetero | Otro    | Rural  |   21.959648 |\n\n",
      "text/latex": "A data.frame: 6 x 11\n\\begin{tabular}{r|lllllllllll}\n  & Departamento & Dep & Municipio & Depmun & Superficie & Poblacion & Irural & Region & Tipo & Zona & denspobl\\\\\n  & <chr> & <chr> & <chr> & <chr> & <dbl> & <dbl> & <dbl> & <chr> & <chr> & <chr> & <dbl>\\\\\n\\hline\n\t1 & Antioquia & 05 & Medellín   & 05001 &  374.83062 & 2483545 &  5 & Región Eje Cafetero & Capital & Urbano & 6625.779315\\\\\n\t2 & Antioquia & 05 & Abejorral  & 05002 &  507.13411 &   20258 & 45 & Región Eje Cafetero & Otro    & Rural  &   39.946041\\\\\n\t3 & Antioquia & 05 & Abriaquí   & 05004 &  296.95598 &    2710 & 58 & Región Eje Cafetero & Otro    & Rural  &    9.125932\\\\\n\t4 & Antioquia & 05 & Alejandría & 05021 &  128.93215 &    4669 & 48 & Región Eje Cafetero & Otro    & Rural  &   36.212844\\\\\n\t5 & Antioquia & 05 & Amagá      & 05030 &   84.13248 &   30777 & 28 & Región Eje Cafetero & Otro    & Urbano &  365.815927\\\\\n\t6 & Antioquia & 05 & Amalfi     & 05031 & 1209.12687 &   26552 & 54 & Región Eje Cafetero & Otro    & Rural  &   21.959648\\\\\n\\end{tabular}\n",
      "text/plain": "  Departamento Dep Municipio  Depmun Superficie Poblacion Irural\n1 Antioquia    05  Medellín   05001   374.83062 2483545    5    \n2 Antioquia    05  Abejorral  05002   507.13411   20258   45    \n3 Antioquia    05  Abriaquí   05004   296.95598    2710   58    \n4 Antioquia    05  Alejandría 05021   128.93215    4669   48    \n5 Antioquia    05  Amagá      05030    84.13248   30777   28    \n6 Antioquia    05  Amalfi     05031  1209.12687   26552   54    \n  Region              Tipo    Zona   denspobl   \n1 Región Eje Cafetero Capital Urbano 6625.779315\n2 Región Eje Cafetero Otro    Rural    39.946041\n3 Región Eje Cafetero Otro    Rural     9.125932\n4 Región Eje Cafetero Otro    Rural    36.212844\n5 Región Eje Cafetero Otro    Urbano  365.815927\n6 Región Eje Cafetero Otro    Rural    21.959648"
     },
     "metadata": {},
     "output_type": "display_data"
    }
   ]
  },
  {
   "cell_type": "markdown",
   "source": "## SQLDF",
   "metadata": {
    "formattedRanges": [],
    "tags": [],
    "cell_id": "5c94a66625044c9f8da759060bee8fe5",
    "is_collapsed": false,
    "deepnote_cell_type": "text-cell-h2"
   }
  },
  {
   "cell_type": "markdown",
   "source": "Dentro del sqldf(\"\"), se comporta como sql, no son las mismas reglas que en R",
   "metadata": {
    "formattedRanges": [],
    "tags": [],
    "cell_id": "09b0a2e8b0584a6eabace75e0d49f1e7",
    "is_collapsed": false,
    "deepnote_cell_type": "text-cell-p"
   }
  },
  {
   "cell_type": "code",
   "metadata": {
    "tags": [],
    "cell_id": "1bff1e1978a04deeb5ed18134f288221",
    "source_hash": "1cc1fa32",
    "execution_start": 1676921765960,
    "execution_millis": 5731,
    "deepnote_to_be_reexecuted": false,
    "deepnote_cell_type": "code",
    "deepnote_cell_height": 345.0625
   },
   "source": "install.packages(\"sqldf\")\nlibrary(sqldf)\nhelp(sqldf)",
   "execution_count": 5,
   "outputs": [
    {
     "name": "stderr",
     "text": "Installing package into ‘/work/.R/library’\n(as ‘lib’ is unspecified)\n\nLoading required package: gsubfn\n\nLoading required package: proto\n\nWarning message:\n“no DISPLAY variable so Tk is not available”\nLoading required package: RSQLite\n\n",
     "output_type": "stream"
    }
   ]
  },
  {
   "cell_type": "markdown",
   "source": "Conjunto de datos con las variables Departamento, Dep, Depmun, Municipio, Superficie y Poblacion que incluye todos los municipios de los departamentos de Antioquia y Caldas con más de 20 mil habitantes y donde los mismos están ordenados con respecto a Dep y de mayor a menor con respecto a Poblacion.",
   "metadata": {
    "formattedRanges": [],
    "tags": [],
    "cell_id": "414d2a428dd146b9805ce360f7d94ae5",
    "is_collapsed": false,
    "deepnote_cell_type": "text-cell-p"
   }
  },
  {
   "cell_type": "code",
   "metadata": {
    "tags": [],
    "cell_id": "0aa4112a2d854dc5ab1f2257d1c307df",
    "source_hash": "a8950c61",
    "execution_start": 1676921771695,
    "execution_millis": 104,
    "deepnote_to_be_reexecuted": false,
    "deepnote_cell_type": "code",
    "deepnote_cell_height": 1200.3125,
    "deepnote_output_heights": [
     null,
     392,
     392
    ]
   },
   "source": "E1 <- sqldf(\"select   Departamento, Dep, Depmun, Municipio, Superficie, Poblacion\n             from     Municipios\n             where    Dep in ('05','17') and Poblacion > 20000\n             order by Dep asc, Poblacion desc\")\n\nstr(E1)\nhead(E1,n=10)\ntail(E1,n=10)",
   "execution_count": 6,
   "outputs": [
    {
     "name": "stdout",
     "text": "'data.frame':\t66 obs. of  6 variables:\n $ Departamento: chr  \"Antioquia\" \"Antioquia\" \"Antioquia\" \"Antioquia\" ...\n $ Dep         : chr  \"05\" \"05\" \"05\" \"05\" ...\n $ Depmun      : chr  \"05001\" \"05088\" \"05360\" \"05266\" ...\n $ Municipio   : chr  \"Medellín\" \"Bello\" \"Itagui\" \"Envigado\" ...\n $ Superficie  : num  374.8 147.8 19.6 78 195.9 ...\n $ Poblacion   : num  2483545 538527 283794 236114 139553 ...\n",
     "output_type": "stream"
    },
    {
     "data": {
      "text/html": "<table class=\"dataframe\">\n<caption>A data.frame: 10 x 6</caption>\n<thead>\n\t<tr><th></th><th scope=col>Departamento</th><th scope=col>Dep</th><th scope=col>Depmun</th><th scope=col>Municipio</th><th scope=col>Superficie</th><th scope=col>Poblacion</th></tr>\n\t<tr><th></th><th scope=col>&lt;chr&gt;</th><th scope=col>&lt;chr&gt;</th><th scope=col>&lt;chr&gt;</th><th scope=col>&lt;chr&gt;</th><th scope=col>&lt;dbl&gt;</th><th scope=col>&lt;dbl&gt;</th></tr>\n</thead>\n<tbody>\n\t<tr><th scope=row>1</th><td>Antioquia</td><td>05</td><td>05001</td><td>Medellín</td><td> 374.83062</td><td>2483545</td></tr>\n\t<tr><th scope=row>2</th><td>Antioquia</td><td>05</td><td>05088</td><td>Bello   </td><td> 147.75842</td><td> 538527</td></tr>\n\t<tr><th scope=row>3</th><td>Antioquia</td><td>05</td><td>05360</td><td>Itagui  </td><td>  19.64956</td><td> 283794</td></tr>\n\t<tr><th scope=row>4</th><td>Antioquia</td><td>05</td><td>05266</td><td>Envigado</td><td>  77.99670</td><td> 236114</td></tr>\n\t<tr><th scope=row>5</th><td>Antioquia</td><td>05</td><td>05615</td><td>Rionegro</td><td> 195.94015</td><td> 139553</td></tr>\n\t<tr><th scope=row>6</th><td>Antioquia</td><td>05</td><td>05837</td><td>Turbo   </td><td>2919.53533</td><td> 127565</td></tr>\n\t<tr><th scope=row>7</th><td>Antioquia</td><td>05</td><td>05045</td><td>Apartadó</td><td> 535.17238</td><td> 124647</td></tr>\n\t<tr><th scope=row>8</th><td>Antioquia</td><td>05</td><td>05154</td><td>Caucasia</td><td>1429.12198</td><td>  93044</td></tr>\n\t<tr><th scope=row>9</th><td>Antioquia</td><td>05</td><td>05631</td><td>Sabaneta</td><td>  15.83532</td><td>  85484</td></tr>\n\t<tr><th scope=row>10</th><td>Antioquia</td><td>05</td><td>05129</td><td>Caldas  </td><td> 132.75594</td><td>  81658</td></tr>\n</tbody>\n</table>\n",
      "text/markdown": "\nA data.frame: 10 x 6\n\n| <!--/--> | Departamento &lt;chr&gt; | Dep &lt;chr&gt; | Depmun &lt;chr&gt; | Municipio &lt;chr&gt; | Superficie &lt;dbl&gt; | Poblacion &lt;dbl&gt; |\n|---|---|---|---|---|---|---|\n| 1 | Antioquia | 05 | 05001 | Medellín |  374.83062 | 2483545 |\n| 2 | Antioquia | 05 | 05088 | Bello    |  147.75842 |  538527 |\n| 3 | Antioquia | 05 | 05360 | Itagui   |   19.64956 |  283794 |\n| 4 | Antioquia | 05 | 05266 | Envigado |   77.99670 |  236114 |\n| 5 | Antioquia | 05 | 05615 | Rionegro |  195.94015 |  139553 |\n| 6 | Antioquia | 05 | 05837 | Turbo    | 2919.53533 |  127565 |\n| 7 | Antioquia | 05 | 05045 | Apartadó |  535.17238 |  124647 |\n| 8 | Antioquia | 05 | 05154 | Caucasia | 1429.12198 |   93044 |\n| 9 | Antioquia | 05 | 05631 | Sabaneta |   15.83532 |   85484 |\n| 10 | Antioquia | 05 | 05129 | Caldas   |  132.75594 |   81658 |\n\n",
      "text/latex": "A data.frame: 10 x 6\n\\begin{tabular}{r|llllll}\n  & Departamento & Dep & Depmun & Municipio & Superficie & Poblacion\\\\\n  & <chr> & <chr> & <chr> & <chr> & <dbl> & <dbl>\\\\\n\\hline\n\t1 & Antioquia & 05 & 05001 & Medellín &  374.83062 & 2483545\\\\\n\t2 & Antioquia & 05 & 05088 & Bello    &  147.75842 &  538527\\\\\n\t3 & Antioquia & 05 & 05360 & Itagui   &   19.64956 &  283794\\\\\n\t4 & Antioquia & 05 & 05266 & Envigado &   77.99670 &  236114\\\\\n\t5 & Antioquia & 05 & 05615 & Rionegro &  195.94015 &  139553\\\\\n\t6 & Antioquia & 05 & 05837 & Turbo    & 2919.53533 &  127565\\\\\n\t7 & Antioquia & 05 & 05045 & Apartadó &  535.17238 &  124647\\\\\n\t8 & Antioquia & 05 & 05154 & Caucasia & 1429.12198 &   93044\\\\\n\t9 & Antioquia & 05 & 05631 & Sabaneta &   15.83532 &   85484\\\\\n\t10 & Antioquia & 05 & 05129 & Caldas   &  132.75594 &   81658\\\\\n\\end{tabular}\n",
      "text/plain": "   Departamento Dep Depmun Municipio Superficie Poblacion\n1  Antioquia    05  05001  Medellín   374.83062 2483545  \n2  Antioquia    05  05088  Bello      147.75842  538527  \n3  Antioquia    05  05360  Itagui      19.64956  283794  \n4  Antioquia    05  05266  Envigado    77.99670  236114  \n5  Antioquia    05  05615  Rionegro   195.94015  139553  \n6  Antioquia    05  05837  Turbo     2919.53533  127565  \n7  Antioquia    05  05045  Apartadó   535.17238  124647  \n8  Antioquia    05  05154  Caucasia  1429.12198   93044  \n9  Antioquia    05  05631  Sabaneta    15.83532   85484  \n10 Antioquia    05  05129  Caldas     132.75594   81658  "
     },
     "metadata": {},
     "output_type": "display_data"
    },
    {
     "data": {
      "text/html": "<table class=\"dataframe\">\n<caption>A data.frame: 10 x 6</caption>\n<thead>\n\t<tr><th></th><th scope=col>Departamento</th><th scope=col>Dep</th><th scope=col>Depmun</th><th scope=col>Municipio</th><th scope=col>Superficie</th><th scope=col>Poblacion</th></tr>\n\t<tr><th></th><th scope=col>&lt;chr&gt;</th><th scope=col>&lt;chr&gt;</th><th scope=col>&lt;chr&gt;</th><th scope=col>&lt;chr&gt;</th><th scope=col>&lt;dbl&gt;</th><th scope=col>&lt;dbl&gt;</th></tr>\n</thead>\n<tbody>\n\t<tr><th scope=row>57</th><td>Caldas</td><td>17</td><td>17001</td><td>Manizales </td><td>441.0017</td><td>440608</td></tr>\n\t<tr><th scope=row>58</th><td>Caldas</td><td>17</td><td>17380</td><td>La Dorada </td><td>549.2363</td><td> 72972</td></tr>\n\t<tr><th scope=row>59</th><td>Caldas</td><td>17</td><td>17873</td><td>Villamaría</td><td>455.0658</td><td> 66189</td></tr>\n\t<tr><th scope=row>60</th><td>Caldas</td><td>17</td><td>17174</td><td>Chinchiná </td><td>109.3727</td><td> 51773</td></tr>\n\t<tr><th scope=row>61</th><td>Caldas</td><td>17</td><td>17614</td><td>Riosucio  </td><td>384.1695</td><td> 51371</td></tr>\n\t<tr><th scope=row>62</th><td>Caldas</td><td>17</td><td>17042</td><td>Anserma   </td><td>209.1427</td><td> 36405</td></tr>\n\t<tr><th scope=row>63</th><td>Caldas</td><td>17</td><td>17777</td><td>Supía     </td><td>121.6116</td><td> 29021</td></tr>\n\t<tr><th scope=row>64</th><td>Caldas</td><td>17</td><td>17013</td><td>Aguadas   </td><td>475.7327</td><td> 22907</td></tr>\n\t<tr><th scope=row>65</th><td>Caldas</td><td>17</td><td>17486</td><td>Neira     </td><td>369.3428</td><td> 21040</td></tr>\n\t<tr><th scope=row>66</th><td>Caldas</td><td>17</td><td>17662</td><td>Samaná    </td><td>758.1753</td><td> 20116</td></tr>\n</tbody>\n</table>\n",
      "text/markdown": "\nA data.frame: 10 x 6\n\n| <!--/--> | Departamento &lt;chr&gt; | Dep &lt;chr&gt; | Depmun &lt;chr&gt; | Municipio &lt;chr&gt; | Superficie &lt;dbl&gt; | Poblacion &lt;dbl&gt; |\n|---|---|---|---|---|---|---|\n| 57 | Caldas | 17 | 17001 | Manizales  | 441.0017 | 440608 |\n| 58 | Caldas | 17 | 17380 | La Dorada  | 549.2363 |  72972 |\n| 59 | Caldas | 17 | 17873 | Villamaría | 455.0658 |  66189 |\n| 60 | Caldas | 17 | 17174 | Chinchiná  | 109.3727 |  51773 |\n| 61 | Caldas | 17 | 17614 | Riosucio   | 384.1695 |  51371 |\n| 62 | Caldas | 17 | 17042 | Anserma    | 209.1427 |  36405 |\n| 63 | Caldas | 17 | 17777 | Supía      | 121.6116 |  29021 |\n| 64 | Caldas | 17 | 17013 | Aguadas    | 475.7327 |  22907 |\n| 65 | Caldas | 17 | 17486 | Neira      | 369.3428 |  21040 |\n| 66 | Caldas | 17 | 17662 | Samaná     | 758.1753 |  20116 |\n\n",
      "text/latex": "A data.frame: 10 x 6\n\\begin{tabular}{r|llllll}\n  & Departamento & Dep & Depmun & Municipio & Superficie & Poblacion\\\\\n  & <chr> & <chr> & <chr> & <chr> & <dbl> & <dbl>\\\\\n\\hline\n\t57 & Caldas & 17 & 17001 & Manizales  & 441.0017 & 440608\\\\\n\t58 & Caldas & 17 & 17380 & La Dorada  & 549.2363 &  72972\\\\\n\t59 & Caldas & 17 & 17873 & Villamaría & 455.0658 &  66189\\\\\n\t60 & Caldas & 17 & 17174 & Chinchiná  & 109.3727 &  51773\\\\\n\t61 & Caldas & 17 & 17614 & Riosucio   & 384.1695 &  51371\\\\\n\t62 & Caldas & 17 & 17042 & Anserma    & 209.1427 &  36405\\\\\n\t63 & Caldas & 17 & 17777 & Supía      & 121.6116 &  29021\\\\\n\t64 & Caldas & 17 & 17013 & Aguadas    & 475.7327 &  22907\\\\\n\t65 & Caldas & 17 & 17486 & Neira      & 369.3428 &  21040\\\\\n\t66 & Caldas & 17 & 17662 & Samaná     & 758.1753 &  20116\\\\\n\\end{tabular}\n",
      "text/plain": "   Departamento Dep Depmun Municipio  Superficie Poblacion\n57 Caldas       17  17001  Manizales  441.0017   440608   \n58 Caldas       17  17380  La Dorada  549.2363    72972   \n59 Caldas       17  17873  Villamaría 455.0658    66189   \n60 Caldas       17  17174  Chinchiná  109.3727    51773   \n61 Caldas       17  17614  Riosucio   384.1695    51371   \n62 Caldas       17  17042  Anserma    209.1427    36405   \n63 Caldas       17  17777  Supía      121.6116    29021   \n64 Caldas       17  17013  Aguadas    475.7327    22907   \n65 Caldas       17  17486  Neira      369.3428    21040   \n66 Caldas       17  17662  Samaná     758.1753    20116   "
     },
     "metadata": {},
     "output_type": "display_data"
    }
   ]
  },
  {
   "cell_type": "markdown",
   "source": "Conjunto de datos con las variables Departamento, Dep, Depmun, Municipio, Superficie y Poblacion que incluye todos los municipios con superficies menores a 300 \nk\nm\n2\n excepto los de Boyacá y Santander, y que están ordenados por Dep y de mayor a menor por Poblacion. Incluye una variable definida como \"Baja\" para los municipios con denspobl menor a 30, \"Alta\" para los municipios con denspobl mayor a 85, y \"Media\" para los demás.",
   "metadata": {
    "formattedRanges": [],
    "tags": [],
    "cell_id": "df9e6cbdcf9f4376b70771f8084cb290",
    "is_collapsed": false,
    "deepnote_cell_type": "text-cell-p"
   }
  },
  {
   "cell_type": "code",
   "metadata": {
    "tags": [],
    "cell_id": "9e09aa397c0c466d9bc6a1014b64e66c",
    "source_hash": "fc2765cf",
    "execution_start": 1676921771802,
    "execution_millis": 140,
    "deepnote_to_be_reexecuted": false,
    "deepnote_cell_type": "code",
    "deepnote_cell_height": 1078.5,
    "deepnote_output_heights": [
     null,
     276,
     276
    ]
   },
   "source": "E2 <- sqldf(\"select   Departamento, Dep, Depmun, Municipio, Superficie,\n                      Poblacion, case when denspobl < 30 then 'Baja'\n                                      when denspobl > 85 then 'Alta'\n                                      else 'Media'\n                                 end as denspoblC\n             from     Municipios\n             where    Dep not in ('15','68') and Superficie < 300\n             order by Dep asc, Poblacion desc\")\n\nstr(E2)\nhead(E2)\ntail(E2)\n",
   "execution_count": 7,
   "outputs": [
    {
     "name": "stdout",
     "text": "'data.frame':\t412 obs. of  7 variables:\n $ Departamento: chr  \"Antioquia\" \"Antioquia\" \"Antioquia\" \"Antioquia\" ...\n $ Dep         : chr  \"05\" \"05\" \"05\" \"05\" ...\n $ Depmun      : chr  \"05088\" \"05360\" \"05266\" \"05615\" ...\n $ Municipio   : chr  \"Bello\" \"Itagui\" \"Envigado\" \"Rionegro\" ...\n $ Superficie  : num  147.8 19.6 78 195.9 15.8 ...\n $ Poblacion   : num  538527 283794 236114 139553 85484 ...\n $ denspoblC   : chr  \"Alta\" \"Alta\" \"Alta\" \"Alta\" ...\n",
     "output_type": "stream"
    },
    {
     "data": {
      "text/html": "<table class=\"dataframe\">\n<caption>A data.frame: 6 x 7</caption>\n<thead>\n\t<tr><th></th><th scope=col>Departamento</th><th scope=col>Dep</th><th scope=col>Depmun</th><th scope=col>Municipio</th><th scope=col>Superficie</th><th scope=col>Poblacion</th><th scope=col>denspoblC</th></tr>\n\t<tr><th></th><th scope=col>&lt;chr&gt;</th><th scope=col>&lt;chr&gt;</th><th scope=col>&lt;chr&gt;</th><th scope=col>&lt;chr&gt;</th><th scope=col>&lt;dbl&gt;</th><th scope=col>&lt;dbl&gt;</th><th scope=col>&lt;chr&gt;</th></tr>\n</thead>\n<tbody>\n\t<tr><th scope=row>1</th><td>Antioquia</td><td>05</td><td>05088</td><td>Bello   </td><td>147.75842</td><td>538527</td><td>Alta</td></tr>\n\t<tr><th scope=row>2</th><td>Antioquia</td><td>05</td><td>05360</td><td>Itagui  </td><td> 19.64956</td><td>283794</td><td>Alta</td></tr>\n\t<tr><th scope=row>3</th><td>Antioquia</td><td>05</td><td>05266</td><td>Envigado</td><td> 77.99670</td><td>236114</td><td>Alta</td></tr>\n\t<tr><th scope=row>4</th><td>Antioquia</td><td>05</td><td>05615</td><td>Rionegro</td><td>195.94015</td><td>139553</td><td>Alta</td></tr>\n\t<tr><th scope=row>5</th><td>Antioquia</td><td>05</td><td>05631</td><td>Sabaneta</td><td> 15.83532</td><td> 85484</td><td>Alta</td></tr>\n\t<tr><th scope=row>6</th><td>Antioquia</td><td>05</td><td>05129</td><td>Caldas  </td><td>132.75594</td><td> 81658</td><td>Alta</td></tr>\n</tbody>\n</table>\n",
      "text/markdown": "\nA data.frame: 6 x 7\n\n| <!--/--> | Departamento &lt;chr&gt; | Dep &lt;chr&gt; | Depmun &lt;chr&gt; | Municipio &lt;chr&gt; | Superficie &lt;dbl&gt; | Poblacion &lt;dbl&gt; | denspoblC &lt;chr&gt; |\n|---|---|---|---|---|---|---|---|\n| 1 | Antioquia | 05 | 05088 | Bello    | 147.75842 | 538527 | Alta |\n| 2 | Antioquia | 05 | 05360 | Itagui   |  19.64956 | 283794 | Alta |\n| 3 | Antioquia | 05 | 05266 | Envigado |  77.99670 | 236114 | Alta |\n| 4 | Antioquia | 05 | 05615 | Rionegro | 195.94015 | 139553 | Alta |\n| 5 | Antioquia | 05 | 05631 | Sabaneta |  15.83532 |  85484 | Alta |\n| 6 | Antioquia | 05 | 05129 | Caldas   | 132.75594 |  81658 | Alta |\n\n",
      "text/latex": "A data.frame: 6 x 7\n\\begin{tabular}{r|lllllll}\n  & Departamento & Dep & Depmun & Municipio & Superficie & Poblacion & denspoblC\\\\\n  & <chr> & <chr> & <chr> & <chr> & <dbl> & <dbl> & <chr>\\\\\n\\hline\n\t1 & Antioquia & 05 & 05088 & Bello    & 147.75842 & 538527 & Alta\\\\\n\t2 & Antioquia & 05 & 05360 & Itagui   &  19.64956 & 283794 & Alta\\\\\n\t3 & Antioquia & 05 & 05266 & Envigado &  77.99670 & 236114 & Alta\\\\\n\t4 & Antioquia & 05 & 05615 & Rionegro & 195.94015 & 139553 & Alta\\\\\n\t5 & Antioquia & 05 & 05631 & Sabaneta &  15.83532 &  85484 & Alta\\\\\n\t6 & Antioquia & 05 & 05129 & Caldas   & 132.75594 &  81658 & Alta\\\\\n\\end{tabular}\n",
      "text/plain": "  Departamento Dep Depmun Municipio Superficie Poblacion denspoblC\n1 Antioquia    05  05088  Bello     147.75842  538527    Alta     \n2 Antioquia    05  05360  Itagui     19.64956  283794    Alta     \n3 Antioquia    05  05266  Envigado   77.99670  236114    Alta     \n4 Antioquia    05  05615  Rionegro  195.94015  139553    Alta     \n5 Antioquia    05  05631  Sabaneta   15.83532   85484    Alta     \n6 Antioquia    05  05129  Caldas    132.75594   81658    Alta     "
     },
     "metadata": {},
     "output_type": "display_data"
    },
    {
     "data": {
      "text/html": "<table class=\"dataframe\">\n<caption>A data.frame: 6 x 7</caption>\n<thead>\n\t<tr><th></th><th scope=col>Departamento</th><th scope=col>Dep</th><th scope=col>Depmun</th><th scope=col>Municipio</th><th scope=col>Superficie</th><th scope=col>Poblacion</th><th scope=col>denspoblC</th></tr>\n\t<tr><th></th><th scope=col>&lt;chr&gt;</th><th scope=col>&lt;chr&gt;</th><th scope=col>&lt;chr&gt;</th><th scope=col>&lt;chr&gt;</th><th scope=col>&lt;dbl&gt;</th><th scope=col>&lt;dbl&gt;</th><th scope=col>&lt;chr&gt;</th></tr>\n</thead>\n<tbody>\n\t<tr><th scope=row>407</th><td>Casanare  </td><td>85</td><td>85279</td><td>Recetor    </td><td>181.22676</td><td> 1718</td><td>Baja</td></tr>\n\t<tr><th scope=row>408</th><td>Casanare  </td><td>85</td><td>85136</td><td>La Salina  </td><td>199.89428</td><td> 1385</td><td>Baja</td></tr>\n\t<tr><th scope=row>409</th><td>Putumayo  </td><td>86</td><td>86749</td><td>Sibundoy   </td><td> 97.73462</td><td>15217</td><td>Alta</td></tr>\n\t<tr><th scope=row>410</th><td>Putumayo  </td><td>86</td><td>86219</td><td>Colón      </td><td> 64.27462</td><td> 5469</td><td>Alta</td></tr>\n\t<tr><th scope=row>411</th><td>San Andrés</td><td>88</td><td>88001</td><td>San Andrés </td><td> 27.13979</td><td>56358</td><td>Alta</td></tr>\n\t<tr><th scope=row>412</th><td>San Andrés</td><td>88</td><td>88564</td><td>Providencia</td><td> 22.28446</td><td> 6124</td><td>Alta</td></tr>\n</tbody>\n</table>\n",
      "text/markdown": "\nA data.frame: 6 x 7\n\n| <!--/--> | Departamento &lt;chr&gt; | Dep &lt;chr&gt; | Depmun &lt;chr&gt; | Municipio &lt;chr&gt; | Superficie &lt;dbl&gt; | Poblacion &lt;dbl&gt; | denspoblC &lt;chr&gt; |\n|---|---|---|---|---|---|---|---|\n| 407 | Casanare   | 85 | 85279 | Recetor     | 181.22676 |  1718 | Baja |\n| 408 | Casanare   | 85 | 85136 | La Salina   | 199.89428 |  1385 | Baja |\n| 409 | Putumayo   | 86 | 86749 | Sibundoy    |  97.73462 | 15217 | Alta |\n| 410 | Putumayo   | 86 | 86219 | Colón       |  64.27462 |  5469 | Alta |\n| 411 | San Andrés | 88 | 88001 | San Andrés  |  27.13979 | 56358 | Alta |\n| 412 | San Andrés | 88 | 88564 | Providencia |  22.28446 |  6124 | Alta |\n\n",
      "text/latex": "A data.frame: 6 x 7\n\\begin{tabular}{r|lllllll}\n  & Departamento & Dep & Depmun & Municipio & Superficie & Poblacion & denspoblC\\\\\n  & <chr> & <chr> & <chr> & <chr> & <dbl> & <dbl> & <chr>\\\\\n\\hline\n\t407 & Casanare   & 85 & 85279 & Recetor     & 181.22676 &  1718 & Baja\\\\\n\t408 & Casanare   & 85 & 85136 & La Salina   & 199.89428 &  1385 & Baja\\\\\n\t409 & Putumayo   & 86 & 86749 & Sibundoy    &  97.73462 & 15217 & Alta\\\\\n\t410 & Putumayo   & 86 & 86219 & Colón       &  64.27462 &  5469 & Alta\\\\\n\t411 & San Andrés & 88 & 88001 & San Andrés  &  27.13979 & 56358 & Alta\\\\\n\t412 & San Andrés & 88 & 88564 & Providencia &  22.28446 &  6124 & Alta\\\\\n\\end{tabular}\n",
      "text/plain": "    Departamento Dep Depmun Municipio   Superficie Poblacion denspoblC\n407 Casanare     85  85279  Recetor     181.22676   1718     Baja     \n408 Casanare     85  85136  La Salina   199.89428   1385     Baja     \n409 Putumayo     86  86749  Sibundoy     97.73462  15217     Alta     \n410 Putumayo     86  86219  Colón        64.27462   5469     Alta     \n411 San Andrés   88  88001  San Andrés   27.13979  56358     Alta     \n412 San Andrés   88  88564  Providencia  22.28446   6124     Alta     "
     },
     "metadata": {},
     "output_type": "display_data"
    }
   ]
  },
  {
   "cell_type": "markdown",
   "source": "Existen dos o más municipios con el mismo Depmun?",
   "metadata": {
    "formattedRanges": [],
    "tags": [],
    "cell_id": "9c18c308f1e74fcdba65971412c4d389",
    "is_collapsed": false,
    "deepnote_cell_type": "text-cell-p"
   }
  },
  {
   "cell_type": "code",
   "metadata": {
    "tags": [],
    "cell_id": "eddc6f6f126145858943ee9702a11973",
    "source_hash": "942f6d3d",
    "execution_start": 1676921771943,
    "execution_millis": 77,
    "deepnote_to_be_reexecuted": false,
    "deepnote_cell_type": "code",
    "deepnote_cell_height": 464,
    "deepnote_output_heights": [
     102,
     131
    ]
   },
   "source": "sqldf(\"select   Depmun, count(*) as reps\n       from     Municipios\n       group by Depmun \n       having   reps > 1\")\n\nsqldf(\"select count(*) as tot_filas, count(distinct depmun) as tot_depmuns\n       from   Municipios\")",
   "execution_count": 8,
   "outputs": [
    {
     "data": {
      "text/html": "<table class=\"dataframe\">\n<caption>A data.frame: 0 x 2</caption>\n<thead>\n\t<tr><th scope=col>Depmun</th><th scope=col>reps</th></tr>\n\t<tr><th scope=col>&lt;chr&gt;</th><th scope=col>&lt;lgl&gt;</th></tr>\n</thead>\n<tbody>\n</tbody>\n</table>\n",
      "text/markdown": "\nA data.frame: 0 x 2\n\n| Depmun &lt;chr&gt; | reps &lt;lgl&gt; |\n|---|---|\n\n",
      "text/latex": "A data.frame: 0 x 2\n\\begin{tabular}{ll}\n Depmun & reps\\\\\n <chr> & <lgl>\\\\\n\\hline\n\\end{tabular}\n",
      "text/plain": "     Depmun reps"
     },
     "metadata": {},
     "output_type": "display_data"
    },
    {
     "data": {
      "text/html": "<table class=\"dataframe\">\n<caption>A data.frame: 1 x 2</caption>\n<thead>\n\t<tr><th scope=col>tot_filas</th><th scope=col>tot_depmuns</th></tr>\n\t<tr><th scope=col>&lt;int&gt;</th><th scope=col>&lt;int&gt;</th></tr>\n</thead>\n<tbody>\n\t<tr><td>1117</td><td>1117</td></tr>\n</tbody>\n</table>\n",
      "text/markdown": "\nA data.frame: 1 x 2\n\n| tot_filas &lt;int&gt; | tot_depmuns &lt;int&gt; |\n|---|---|\n| 1117 | 1117 |\n\n",
      "text/latex": "A data.frame: 1 x 2\n\\begin{tabular}{ll}\n tot\\_filas & tot\\_depmuns\\\\\n <int> & <int>\\\\\n\\hline\n\t 1117 & 1117\\\\\n\\end{tabular}\n",
      "text/plain": "  tot_filas tot_depmuns\n1 1117      1117       "
     },
     "metadata": {},
     "output_type": "display_data"
    }
   ]
  },
  {
   "cell_type": "markdown",
   "source": "De los departamentos con dos o más municipios cual es el menos homogeneo (de acuerdo al coeficiente de variación) con respecto a la superficie de los municipios que lo componen?",
   "metadata": {
    "formattedRanges": [],
    "tags": [],
    "cell_id": "a1985d0a13484a2087fa4e278601b2b3",
    "is_collapsed": false,
    "deepnote_cell_type": "text-cell-p"
   }
  },
  {
   "cell_type": "markdown",
   "source": "",
   "metadata": {
    "formattedRanges": [],
    "tags": [],
    "cell_id": "f2c0e6f7-4cad-43ca-bb0e-977804eb47c5",
    "is_collapsed": false,
    "deepnote_cell_type": "text-cell-p"
   }
  },
  {
   "cell_type": "markdown",
   "source": "count(*) --> Numero de elementos ",
   "metadata": {
    "formattedRanges": [],
    "tags": [],
    "cell_id": "bdab67ad-bf4b-4e57-b8b4-21e2866bcb48",
    "is_collapsed": false,
    "deepnote_cell_type": "text-cell-p"
   }
  },
  {
   "cell_type": "markdown",
   "source": "limit --> Muestra el numero de lineas",
   "metadata": {
    "formattedRanges": [],
    "tags": [],
    "cell_id": "05515c5c-5d30-4a17-a4d8-9a713e59eb96",
    "is_collapsed": false,
    "deepnote_cell_type": "text-cell-p"
   }
  },
  {
   "cell_type": "markdown",
   "source": "having --> Where para grupos",
   "metadata": {
    "formattedRanges": [],
    "tags": [],
    "cell_id": "d58362e7-4beb-4f82-b8e3-bdd6317886ec",
    "is_collapsed": false,
    "deepnote_cell_type": "text-cell-p"
   }
  },
  {
   "cell_type": "code",
   "metadata": {
    "tags": [],
    "cell_id": "0444390a9e0c49f3a309692770c8f524",
    "source_hash": "61d11050",
    "execution_start": 1676922032245,
    "execution_millis": 33,
    "deepnote_to_be_reexecuted": false,
    "deepnote_cell_type": "code",
    "deepnote_cell_height": 313,
    "deepnote_output_heights": [
     131
    ]
   },
   "source": "sqldf(\"select   Dep, Departamento, stdev(Superficie)/avg(Superficie) as cv\n       from     Municipios \n       group by Dep, Departamento\n       having   count(*) > 1 \n       order by cv desc \n       limit    1\")",
   "execution_count": 16,
   "outputs": [
    {
     "data": {
      "text/html": "<table class=\"dataframe\">\n<caption>A data.frame: 1 x 3</caption>\n<thead>\n\t<tr><th scope=col>Dep</th><th scope=col>Departamento</th><th scope=col>cv</th></tr>\n\t<tr><th scope=col>&lt;chr&gt;</th><th scope=col>&lt;chr&gt;</th><th scope=col>&lt;dbl&gt;</th></tr>\n</thead>\n<tbody>\n\t<tr><td>18</td><td>Caquetá</td><td>1.938698</td></tr>\n</tbody>\n</table>\n",
      "text/markdown": "\nA data.frame: 1 x 3\n\n| Dep &lt;chr&gt; | Departamento &lt;chr&gt; | cv &lt;dbl&gt; |\n|---|---|---|\n| 18 | Caquetá | 1.938698 |\n\n",
      "text/latex": "A data.frame: 1 x 3\n\\begin{tabular}{lll}\n Dep & Departamento & cv\\\\\n <chr> & <chr> & <dbl>\\\\\n\\hline\n\t 18 & Caquetá & 1.938698\\\\\n\\end{tabular}\n",
      "text/plain": "  Dep Departamento cv      \n1 18  Caquetá      1.938698"
     },
     "metadata": {},
     "output_type": "display_data"
    }
   ]
  },
  {
   "cell_type": "markdown",
   "source": "De formas ascendente",
   "metadata": {
    "formattedRanges": [],
    "tags": [],
    "cell_id": "8412e9854608421b8ba138dc92a014ae",
    "is_collapsed": false,
    "deepnote_cell_type": "text-cell-p"
   }
  },
  {
   "cell_type": "code",
   "metadata": {
    "tags": [],
    "cell_id": "d517aa880d48424bad16917544bf155e",
    "source_hash": "4eeae3f6",
    "execution_start": 1676922074520,
    "execution_millis": 28,
    "deepnote_to_be_reexecuted": false,
    "deepnote_cell_type": "code",
    "deepnote_cell_height": 574,
    "deepnote_output_heights": [
     392
    ]
   },
   "source": "sqldf(\"select   Dep, Departamento, stdev(Superficie)/avg(Superficie) as cv\n       from     Municipios \n       group by Dep, Departamento\n       having   count(*) > 1 \n       order by cv \n       limit    10\")",
   "execution_count": 21,
   "outputs": [
    {
     "data": {
      "text/html": "<table class=\"dataframe\">\n<caption>A data.frame: 10 x 3</caption>\n<thead>\n\t<tr><th scope=col>Dep</th><th scope=col>Departamento</th><th scope=col>cv</th></tr>\n\t<tr><th scope=col>&lt;chr&gt;</th><th scope=col>&lt;chr&gt;</th><th scope=col>&lt;dbl&gt;</th></tr>\n</thead>\n<tbody>\n\t<tr><td>88</td><td>San Andrés</td><td>0.1389294</td></tr>\n\t<tr><td>95</td><td>Guaviare  </td><td>0.1419175</td></tr>\n\t<tr><td>91</td><td>Amazonas  </td><td>0.5206209</td></tr>\n\t<tr><td>97</td><td>Vaupés    </td><td>0.5532491</td></tr>\n\t<tr><td>63</td><td>Quindío   </td><td>0.5890213</td></tr>\n\t<tr><td>81</td><td>Arauca    </td><td>0.6049042</td></tr>\n\t<tr><td>08</td><td>Atlántico </td><td>0.6643739</td></tr>\n\t<tr><td>47</td><td>Magdalena </td><td>0.6916424</td></tr>\n\t<tr><td>94</td><td>Guainía   </td><td>0.6926908</td></tr>\n\t<tr><td>17</td><td>Caldas    </td><td>0.6966677</td></tr>\n</tbody>\n</table>\n",
      "text/markdown": "\nA data.frame: 10 x 3\n\n| Dep &lt;chr&gt; | Departamento &lt;chr&gt; | cv &lt;dbl&gt; |\n|---|---|---|\n| 88 | San Andrés | 0.1389294 |\n| 95 | Guaviare   | 0.1419175 |\n| 91 | Amazonas   | 0.5206209 |\n| 97 | Vaupés     | 0.5532491 |\n| 63 | Quindío    | 0.5890213 |\n| 81 | Arauca     | 0.6049042 |\n| 08 | Atlántico  | 0.6643739 |\n| 47 | Magdalena  | 0.6916424 |\n| 94 | Guainía    | 0.6926908 |\n| 17 | Caldas     | 0.6966677 |\n\n",
      "text/latex": "A data.frame: 10 x 3\n\\begin{tabular}{lll}\n Dep & Departamento & cv\\\\\n <chr> & <chr> & <dbl>\\\\\n\\hline\n\t 88 & San Andrés & 0.1389294\\\\\n\t 95 & Guaviare   & 0.1419175\\\\\n\t 91 & Amazonas   & 0.5206209\\\\\n\t 97 & Vaupés     & 0.5532491\\\\\n\t 63 & Quindío    & 0.5890213\\\\\n\t 81 & Arauca     & 0.6049042\\\\\n\t 08 & Atlántico  & 0.6643739\\\\\n\t 47 & Magdalena  & 0.6916424\\\\\n\t 94 & Guainía    & 0.6926908\\\\\n\t 17 & Caldas     & 0.6966677\\\\\n\\end{tabular}\n",
      "text/plain": "   Dep Departamento cv       \n1  88  San Andrés   0.1389294\n2  95  Guaviare     0.1419175\n3  91  Amazonas     0.5206209\n4  97  Vaupés       0.5532491\n5  63  Quindío      0.5890213\n6  81  Arauca       0.6049042\n7  08  Atlántico    0.6643739\n8  47  Magdalena    0.6916424\n9  94  Guainía      0.6926908\n10 17  Caldas       0.6966677"
     },
     "metadata": {},
     "output_type": "display_data"
    }
   ]
  },
  {
   "cell_type": "markdown",
   "source": "Conjunto de datos con todos los departamentos, ordenados de mayor a menor con respecto a su población, que incluye la siguiente información: número de municipios, superficie, población, densidad poblacional, índice de ruralidad promedio ponderado por población, y una variable igual a \"Grande\" para los departamentos con población mayor a 1.5 millones de habitantes, \"Pequeño\" para departamentos con población menor a 300 mil habitantes, y \"Mediano\" para el resto.",
   "metadata": {
    "formattedRanges": [],
    "tags": [],
    "cell_id": "e25096a3ad0f4d16b5ebcb1a9bd42a12",
    "is_collapsed": false,
    "deepnote_cell_type": "text-cell-p"
   }
  },
  {
   "cell_type": "code",
   "metadata": {
    "tags": [],
    "cell_id": "f04921fcb2b44a4d889162dc7e0265f7",
    "source_hash": "8f03db1a",
    "execution_start": 1676922116385,
    "execution_millis": 55,
    "deepnote_to_be_reexecuted": false,
    "deepnote_cell_type": "code",
    "deepnote_cell_height": 1116.6875,
    "deepnote_output_heights": [
     null,
     276,
     276
    ]
   },
   "source": "E6 <- sqldf(\"select   Dep, Departamento, count(*) as nmunicipios, sum(Poblacion) as totpob,\n                      sum(Superficie) as totsup, sum(Poblacion)/sum(Superficie) as denspob,\n                      sum(Irural*Poblacion)/sum(Poblacion) as Irural,\n                      case when sum(Poblacion) > 1500000 then 'Grande'\n                           when sum(Poblacion) < 300000 then 'Pequeño'\n                           else 'Mediano'\n                      end as totpobC\n             from     Municipios\n             group by Dep, Departamento\n             order by totpob desc\")\n\nstr(E6)\nhead(E6)\ntail(E6)",
   "execution_count": 22,
   "outputs": [
    {
     "name": "stdout",
     "text": "'data.frame':\t33 obs. of  8 variables:\n $ Dep         : chr  \"11\" \"05\" \"76\" \"25\" ...\n $ Departamento: chr  \"Bogotá D C\" \"Antioquia\" \"Valle Del Cauca\" \"Cundinamarca\" ...\n $ nmunicipios : int  1 125 42 116 23 87 45 28 64 40 ...\n $ totpob      : num  7592871 6550206 4506768 3085522 2638151 ...\n $ totsup      : num  1623 62805 20666 22370 3316 ...\n $ denspob     : num  4679 104 218 138 796 ...\n $ Irural      : num  6 21.3 22.6 26.5 10.9 ...\n $ totpobC     : chr  \"Grande\" \"Grande\" \"Grande\" \"Grande\" ...\n",
     "output_type": "stream"
    },
    {
     "data": {
      "text/html": "<table class=\"dataframe\">\n<caption>A data.frame: 6 x 8</caption>\n<thead>\n\t<tr><th></th><th scope=col>Dep</th><th scope=col>Departamento</th><th scope=col>nmunicipios</th><th scope=col>totpob</th><th scope=col>totsup</th><th scope=col>denspob</th><th scope=col>Irural</th><th scope=col>totpobC</th></tr>\n\t<tr><th></th><th scope=col>&lt;chr&gt;</th><th scope=col>&lt;chr&gt;</th><th scope=col>&lt;int&gt;</th><th scope=col>&lt;dbl&gt;</th><th scope=col>&lt;dbl&gt;</th><th scope=col>&lt;dbl&gt;</th><th scope=col>&lt;dbl&gt;</th><th scope=col>&lt;chr&gt;</th></tr>\n</thead>\n<tbody>\n\t<tr><th scope=row>1</th><td>11</td><td>Bogotá D C     </td><td>  1</td><td>7592871</td><td> 1622.853</td><td>4678.71881</td><td> 6.00000</td><td>Grande</td></tr>\n\t<tr><th scope=row>2</th><td>05</td><td>Antioquia      </td><td>125</td><td>6550206</td><td>62804.709</td><td> 104.29482</td><td>21.31877</td><td>Grande</td></tr>\n\t<tr><th scope=row>3</th><td>76</td><td>Valle Del Cauca</td><td> 42</td><td>4506768</td><td>20665.545</td><td> 218.08126</td><td>22.57578</td><td>Grande</td></tr>\n\t<tr><th scope=row>4</th><td>25</td><td>Cundinamarca   </td><td>116</td><td>3085522</td><td>22370.489</td><td> 137.92823</td><td>26.53255</td><td>Grande</td></tr>\n\t<tr><th scope=row>5</th><td>08</td><td>Atlántico      </td><td> 23</td><td>2638151</td><td> 3315.752</td><td> 795.64181</td><td>10.92753</td><td>Grande</td></tr>\n\t<tr><th scope=row>6</th><td>68</td><td>Santander      </td><td> 87</td><td>2237587</td><td>30561.498</td><td>  73.21588</td><td>29.39234</td><td>Grande</td></tr>\n</tbody>\n</table>\n",
      "text/markdown": "\nA data.frame: 6 x 8\n\n| <!--/--> | Dep &lt;chr&gt; | Departamento &lt;chr&gt; | nmunicipios &lt;int&gt; | totpob &lt;dbl&gt; | totsup &lt;dbl&gt; | denspob &lt;dbl&gt; | Irural &lt;dbl&gt; | totpobC &lt;chr&gt; |\n|---|---|---|---|---|---|---|---|---|\n| 1 | 11 | Bogotá D C      |   1 | 7592871 |  1622.853 | 4678.71881 |  6.00000 | Grande |\n| 2 | 05 | Antioquia       | 125 | 6550206 | 62804.709 |  104.29482 | 21.31877 | Grande |\n| 3 | 76 | Valle Del Cauca |  42 | 4506768 | 20665.545 |  218.08126 | 22.57578 | Grande |\n| 4 | 25 | Cundinamarca    | 116 | 3085522 | 22370.489 |  137.92823 | 26.53255 | Grande |\n| 5 | 08 | Atlántico       |  23 | 2638151 |  3315.752 |  795.64181 | 10.92753 | Grande |\n| 6 | 68 | Santander       |  87 | 2237587 | 30561.498 |   73.21588 | 29.39234 | Grande |\n\n",
      "text/latex": "A data.frame: 6 x 8\n\\begin{tabular}{r|llllllll}\n  & Dep & Departamento & nmunicipios & totpob & totsup & denspob & Irural & totpobC\\\\\n  & <chr> & <chr> & <int> & <dbl> & <dbl> & <dbl> & <dbl> & <chr>\\\\\n\\hline\n\t1 & 11 & Bogotá D C      &   1 & 7592871 &  1622.853 & 4678.71881 &  6.00000 & Grande\\\\\n\t2 & 05 & Antioquia       & 125 & 6550206 & 62804.709 &  104.29482 & 21.31877 & Grande\\\\\n\t3 & 76 & Valle Del Cauca &  42 & 4506768 & 20665.545 &  218.08126 & 22.57578 & Grande\\\\\n\t4 & 25 & Cundinamarca    & 116 & 3085522 & 22370.489 &  137.92823 & 26.53255 & Grande\\\\\n\t5 & 08 & Atlántico       &  23 & 2638151 &  3315.752 &  795.64181 & 10.92753 & Grande\\\\\n\t6 & 68 & Santander       &  87 & 2237587 & 30561.498 &   73.21588 & 29.39234 & Grande\\\\\n\\end{tabular}\n",
      "text/plain": "  Dep Departamento    nmunicipios totpob  totsup    denspob    Irural   totpobC\n1 11  Bogotá D C        1         7592871  1622.853 4678.71881  6.00000 Grande \n2 05  Antioquia       125         6550206 62804.709  104.29482 21.31877 Grande \n3 76  Valle Del Cauca  42         4506768 20665.545  218.08126 22.57578 Grande \n4 25  Cundinamarca    116         3085522 22370.489  137.92823 26.53255 Grande \n5 08  Atlántico        23         2638151  3315.752  795.64181 10.92753 Grande \n6 68  Santander        87         2237587 30561.498   73.21588 29.39234 Grande "
     },
     "metadata": {},
     "output_type": "display_data"
    },
    {
     "data": {
      "text/html": "<table class=\"dataframe\">\n<caption>A data.frame: 6 x 8</caption>\n<thead>\n\t<tr><th></th><th scope=col>Dep</th><th scope=col>Departamento</th><th scope=col>nmunicipios</th><th scope=col>totpob</th><th scope=col>totsup</th><th scope=col>denspob</th><th scope=col>Irural</th><th scope=col>totpobC</th></tr>\n\t<tr><th></th><th scope=col>&lt;chr&gt;</th><th scope=col>&lt;chr&gt;</th><th scope=col>&lt;int&gt;</th><th scope=col>&lt;dbl&gt;</th><th scope=col>&lt;dbl&gt;</th><th scope=col>&lt;dbl&gt;</th><th scope=col>&lt;dbl&gt;</th><th scope=col>&lt;chr&gt;</th></tr>\n</thead>\n<tbody>\n\t<tr><th scope=row>28</th><td>99</td><td>Vichada   </td><td> 4</td><td>110599</td><td>100063.37060</td><td>   1.1052896</td><td>85.48803</td><td>Pequeño</td></tr>\n\t<tr><th scope=row>29</th><td>95</td><td>Guaviare  </td><td> 4</td><td> 84716</td><td> 55575.23317</td><td>   1.5243481</td><td>73.29899</td><td>Pequeño</td></tr>\n\t<tr><th scope=row>30</th><td>91</td><td>Amazonas  </td><td>11</td><td> 77753</td><td>109497.05379</td><td>   0.7100922</td><td>75.82577</td><td>Pequeño</td></tr>\n\t<tr><th scope=row>31</th><td>88</td><td>San Andrés</td><td> 2</td><td> 62482</td><td>    49.42425</td><td>1264.1972007</td><td>24.76422</td><td>Pequeño</td></tr>\n\t<tr><th scope=row>32</th><td>94</td><td>Guainía   </td><td> 8</td><td> 48425</td><td> 71289.35448</td><td>   0.6792739</td><td>83.77301</td><td>Pequeño</td></tr>\n\t<tr><th scope=row>33</th><td>97</td><td>Vaupés    </td><td> 6</td><td> 42721</td><td> 53299.28001</td><td>   0.8015305</td><td>80.73355</td><td>Pequeño</td></tr>\n</tbody>\n</table>\n",
      "text/markdown": "\nA data.frame: 6 x 8\n\n| <!--/--> | Dep &lt;chr&gt; | Departamento &lt;chr&gt; | nmunicipios &lt;int&gt; | totpob &lt;dbl&gt; | totsup &lt;dbl&gt; | denspob &lt;dbl&gt; | Irural &lt;dbl&gt; | totpobC &lt;chr&gt; |\n|---|---|---|---|---|---|---|---|---|\n| 28 | 99 | Vichada    |  4 | 110599 | 100063.37060 |    1.1052896 | 85.48803 | Pequeño |\n| 29 | 95 | Guaviare   |  4 |  84716 |  55575.23317 |    1.5243481 | 73.29899 | Pequeño |\n| 30 | 91 | Amazonas   | 11 |  77753 | 109497.05379 |    0.7100922 | 75.82577 | Pequeño |\n| 31 | 88 | San Andrés |  2 |  62482 |     49.42425 | 1264.1972007 | 24.76422 | Pequeño |\n| 32 | 94 | Guainía    |  8 |  48425 |  71289.35448 |    0.6792739 | 83.77301 | Pequeño |\n| 33 | 97 | Vaupés     |  6 |  42721 |  53299.28001 |    0.8015305 | 80.73355 | Pequeño |\n\n",
      "text/latex": "A data.frame: 6 x 8\n\\begin{tabular}{r|llllllll}\n  & Dep & Departamento & nmunicipios & totpob & totsup & denspob & Irural & totpobC\\\\\n  & <chr> & <chr> & <int> & <dbl> & <dbl> & <dbl> & <dbl> & <chr>\\\\\n\\hline\n\t28 & 99 & Vichada    &  4 & 110599 & 100063.37060 &    1.1052896 & 85.48803 & Pequeño\\\\\n\t29 & 95 & Guaviare   &  4 &  84716 &  55575.23317 &    1.5243481 & 73.29899 & Pequeño\\\\\n\t30 & 91 & Amazonas   & 11 &  77753 & 109497.05379 &    0.7100922 & 75.82577 & Pequeño\\\\\n\t31 & 88 & San Andrés &  2 &  62482 &     49.42425 & 1264.1972007 & 24.76422 & Pequeño\\\\\n\t32 & 94 & Guainía    &  8 &  48425 &  71289.35448 &    0.6792739 & 83.77301 & Pequeño\\\\\n\t33 & 97 & Vaupés     &  6 &  42721 &  53299.28001 &    0.8015305 & 80.73355 & Pequeño\\\\\n\\end{tabular}\n",
      "text/plain": "   Dep Departamento nmunicipios totpob totsup       denspob      Irural  \n28 99  Vichada       4          110599 100063.37060    1.1052896 85.48803\n29 95  Guaviare      4           84716  55575.23317    1.5243481 73.29899\n30 91  Amazonas     11           77753 109497.05379    0.7100922 75.82577\n31 88  San Andrés    2           62482     49.42425 1264.1972007 24.76422\n32 94  Guainía       8           48425  71289.35448    0.6792739 83.77301\n33 97  Vaupés        6           42721  53299.28001    0.8015305 80.73355\n   totpobC\n28 Pequeño\n29 Pequeño\n30 Pequeño\n31 Pequeño\n32 Pequeño\n33 Pequeño"
     },
     "metadata": {},
     "output_type": "display_data"
    }
   ]
  },
  {
   "cell_type": "markdown",
   "source": "Cual es la región con la mayor superficie?",
   "metadata": {
    "formattedRanges": [],
    "tags": [],
    "cell_id": "d5b48b41aa684a2d83fd2f5c97c5c71a",
    "is_collapsed": false,
    "deepnote_cell_type": "text-cell-p"
   }
  },
  {
   "cell_type": "code",
   "metadata": {
    "tags": [],
    "cell_id": "b4458b00c1044c43bb675a98222dd24a",
    "source_hash": "a3602507",
    "execution_start": 1676924924517,
    "execution_millis": 23,
    "deepnote_to_be_reexecuted": false,
    "deepnote_cell_type": "code"
   },
   "source": "sqldf(\"select   Region, sum(Superficie) as tot_sup\n       from     Municipios\n       group by Region\n       order by tot_sup desc\n       limit    3\")",
   "execution_count": 42,
   "outputs": [
    {
     "data": {
      "text/html": "<table class=\"dataframe\">\n<caption>A data.frame: 3 x 2</caption>\n<thead>\n\t<tr><th scope=col>Region</th><th scope=col>tot_sup</th></tr>\n\t<tr><th scope=col>&lt;chr&gt;</th><th scope=col>&lt;dbl&gt;</th></tr>\n</thead>\n<tbody>\n\t<tr><td>Región Llano     </td><td>434000.0</td></tr>\n\t<tr><td>Región Centro Sur</td><td>267857.4</td></tr>\n\t<tr><td>Región Pacífico  </td><td>131660.4</td></tr>\n</tbody>\n</table>\n",
      "text/markdown": "\nA data.frame: 3 x 2\n\n| Region &lt;chr&gt; | tot_sup &lt;dbl&gt; |\n|---|---|\n| Región Llano      | 434000.0 |\n| Región Centro Sur | 267857.4 |\n| Región Pacífico   | 131660.4 |\n\n",
      "text/latex": "A data.frame: 3 x 2\n\\begin{tabular}{ll}\n Region & tot\\_sup\\\\\n <chr> & <dbl>\\\\\n\\hline\n\t Región Llano      & 434000.0\\\\\n\t Región Centro Sur & 267857.4\\\\\n\t Región Pacífico   & 131660.4\\\\\n\\end{tabular}\n",
      "text/plain": "  Region            tot_sup \n1 Región Llano      434000.0\n2 Región Centro Sur 267857.4\n3 Región Pacífico   131660.4"
     },
     "metadata": {},
     "output_type": "display_data"
    }
   ]
  },
  {
   "cell_type": "markdown",
   "source": "Conjunto de datos con todos los departamentos, ordenados de mayor a menor con respecto a su población, que incluye la siguiente información: número de municipios, superficie, población, densidad poblacional, todo referente a los municipios con índice de ruralidad mayor a 60",
   "metadata": {
    "formattedRanges": [],
    "tags": [],
    "cell_id": "91bc72a714234bb69b34452ddc2dd7b2",
    "is_collapsed": false,
    "deepnote_cell_type": "text-cell-p"
   }
  },
  {
   "cell_type": "markdown",
   "source": "",
   "metadata": {
    "formattedRanges": [],
    "tags": [],
    "cell_id": "ed5c31e1-7072-4d67-8665-91d05ae15889",
    "is_collapsed": false,
    "deepnote_cell_type": "text-cell-p"
   }
  },
  {
   "cell_type": "markdown",
   "source": "where -> restringe a nivel general",
   "metadata": {
    "formattedRanges": [],
    "tags": [],
    "cell_id": "f7208cb6-4aee-485e-9396-7b9e85311dd7",
    "is_collapsed": false,
    "deepnote_cell_type": "text-cell-p"
   }
  },
  {
   "cell_type": "code",
   "metadata": {
    "tags": [],
    "cell_id": "82e01b1a046c42619b6f568fcdfb278f",
    "source_hash": "a8760ebe",
    "execution_start": 1676922848539,
    "execution_millis": 64,
    "deepnote_to_be_reexecuted": false,
    "deepnote_cell_type": "code"
   },
   "source": "E8 <- sqldf(\"select   Dep, Departamento, count(*) as nmunicipios, sum(Poblacion) as totpob,\n                      sum(Superficie) as totsup, sum(Poblacion)/sum(Superficie) as denspob\n             from     Municipios\n             where    Irural > 60\n             group by Dep, Departamento\n             order by totpob desc\")\n\nstr(E8)\nhead(E8)\ntail(E8)",
   "execution_count": 28,
   "outputs": [
    {
     "name": "stdout",
     "text": "'data.frame':\t17 obs. of  6 variables:\n $ Dep         : chr  \"50\" \"27\" \"85\" \"18\" ...\n $ Departamento: chr  \"Meta\" \"Chocó\" \"Casanare\" \"Caquetá\" ...\n $ nmunicipios : int  12 8 12 6 4 4 11 2 3 8 ...\n $ totpob      : num  207857 153096 146548 133736 110599 ...\n $ totsup      : num  74458 26448 37493 78392 100063 ...\n $ denspob     : num  2.79 5.79 3.91 1.71 1.11 ...\n",
     "output_type": "stream"
    },
    {
     "data": {
      "text/html": "<table class=\"dataframe\">\n<caption>A data.frame: 6 x 6</caption>\n<thead>\n\t<tr><th></th><th scope=col>Dep</th><th scope=col>Departamento</th><th scope=col>nmunicipios</th><th scope=col>totpob</th><th scope=col>totsup</th><th scope=col>denspob</th></tr>\n\t<tr><th></th><th scope=col>&lt;chr&gt;</th><th scope=col>&lt;chr&gt;</th><th scope=col>&lt;int&gt;</th><th scope=col>&lt;dbl&gt;</th><th scope=col>&lt;dbl&gt;</th><th scope=col>&lt;dbl&gt;</th></tr>\n</thead>\n<tbody>\n\t<tr><th scope=row>1</th><td>50</td><td>Meta    </td><td>12</td><td>207857</td><td> 74457.93</td><td>2.791603</td></tr>\n\t<tr><th scope=row>2</th><td>27</td><td>Chocó   </td><td> 8</td><td>153096</td><td> 26448.17</td><td>5.788529</td></tr>\n\t<tr><th scope=row>3</th><td>85</td><td>Casanare</td><td>12</td><td>146548</td><td> 37493.09</td><td>3.908667</td></tr>\n\t<tr><th scope=row>4</th><td>18</td><td>Caquetá </td><td> 6</td><td>133736</td><td> 78392.49</td><td>1.705980</td></tr>\n\t<tr><th scope=row>5</th><td>99</td><td>Vichada </td><td> 4</td><td>110599</td><td>100063.37</td><td>1.105290</td></tr>\n\t<tr><th scope=row>6</th><td>95</td><td>Guaviare</td><td> 4</td><td> 84716</td><td> 55575.23</td><td>1.524348</td></tr>\n</tbody>\n</table>\n",
      "text/markdown": "\nA data.frame: 6 x 6\n\n| <!--/--> | Dep &lt;chr&gt; | Departamento &lt;chr&gt; | nmunicipios &lt;int&gt; | totpob &lt;dbl&gt; | totsup &lt;dbl&gt; | denspob &lt;dbl&gt; |\n|---|---|---|---|---|---|---|\n| 1 | 50 | Meta     | 12 | 207857 |  74457.93 | 2.791603 |\n| 2 | 27 | Chocó    |  8 | 153096 |  26448.17 | 5.788529 |\n| 3 | 85 | Casanare | 12 | 146548 |  37493.09 | 3.908667 |\n| 4 | 18 | Caquetá  |  6 | 133736 |  78392.49 | 1.705980 |\n| 5 | 99 | Vichada  |  4 | 110599 | 100063.37 | 1.105290 |\n| 6 | 95 | Guaviare |  4 |  84716 |  55575.23 | 1.524348 |\n\n",
      "text/latex": "A data.frame: 6 x 6\n\\begin{tabular}{r|llllll}\n  & Dep & Departamento & nmunicipios & totpob & totsup & denspob\\\\\n  & <chr> & <chr> & <int> & <dbl> & <dbl> & <dbl>\\\\\n\\hline\n\t1 & 50 & Meta     & 12 & 207857 &  74457.93 & 2.791603\\\\\n\t2 & 27 & Chocó    &  8 & 153096 &  26448.17 & 5.788529\\\\\n\t3 & 85 & Casanare & 12 & 146548 &  37493.09 & 3.908667\\\\\n\t4 & 18 & Caquetá  &  6 & 133736 &  78392.49 & 1.705980\\\\\n\t5 & 99 & Vichada  &  4 & 110599 & 100063.37 & 1.105290\\\\\n\t6 & 95 & Guaviare &  4 &  84716 &  55575.23 & 1.524348\\\\\n\\end{tabular}\n",
      "text/plain": "  Dep Departamento nmunicipios totpob totsup    denspob \n1 50  Meta         12          207857  74457.93 2.791603\n2 27  Chocó         8          153096  26448.17 5.788529\n3 85  Casanare     12          146548  37493.09 3.908667\n4 18  Caquetá       6          133736  78392.49 1.705980\n5 99  Vichada       4          110599 100063.37 1.105290\n6 95  Guaviare      4           84716  55575.23 1.524348"
     },
     "metadata": {},
     "output_type": "display_data"
    },
    {
     "data": {
      "text/html": "<table class=\"dataframe\">\n<caption>A data.frame: 6 x 6</caption>\n<thead>\n\t<tr><th></th><th scope=col>Dep</th><th scope=col>Departamento</th><th scope=col>nmunicipios</th><th scope=col>totpob</th><th scope=col>totsup</th><th scope=col>denspob</th></tr>\n\t<tr><th></th><th scope=col>&lt;chr&gt;</th><th scope=col>&lt;chr&gt;</th><th scope=col>&lt;int&gt;</th><th scope=col>&lt;dbl&gt;</th><th scope=col>&lt;dbl&gt;</th><th scope=col>&lt;dbl&gt;</th></tr>\n</thead>\n<tbody>\n\t<tr><th scope=row>12</th><td>19</td><td>Cauca    </td><td>3</td><td>33119</td><td>8091.6901</td><td> 4.092964</td></tr>\n\t<tr><th scope=row>13</th><td>52</td><td>Nariño   </td><td>1</td><td>25214</td><td>1808.0958</td><td>13.945058</td></tr>\n\t<tr><th scope=row>14</th><td>15</td><td>Boyacá   </td><td>5</td><td>21643</td><td>3352.2763</td><td> 6.456210</td></tr>\n\t<tr><th scope=row>15</th><td>13</td><td>Bolívar  </td><td>1</td><td>17017</td><td>2092.8136</td><td> 8.131159</td></tr>\n\t<tr><th scope=row>16</th><td>05</td><td>Antioquia</td><td>2</td><td>14353</td><td>2928.0543</td><td> 4.901890</td></tr>\n\t<tr><th scope=row>17</th><td>68</td><td>Santander</td><td>1</td><td> 2567</td><td> 400.4327</td><td> 6.410566</td></tr>\n</tbody>\n</table>\n",
      "text/markdown": "\nA data.frame: 6 x 6\n\n| <!--/--> | Dep &lt;chr&gt; | Departamento &lt;chr&gt; | nmunicipios &lt;int&gt; | totpob &lt;dbl&gt; | totsup &lt;dbl&gt; | denspob &lt;dbl&gt; |\n|---|---|---|---|---|---|---|\n| 12 | 19 | Cauca     | 3 | 33119 | 8091.6901 |  4.092964 |\n| 13 | 52 | Nariño    | 1 | 25214 | 1808.0958 | 13.945058 |\n| 14 | 15 | Boyacá    | 5 | 21643 | 3352.2763 |  6.456210 |\n| 15 | 13 | Bolívar   | 1 | 17017 | 2092.8136 |  8.131159 |\n| 16 | 05 | Antioquia | 2 | 14353 | 2928.0543 |  4.901890 |\n| 17 | 68 | Santander | 1 |  2567 |  400.4327 |  6.410566 |\n\n",
      "text/latex": "A data.frame: 6 x 6\n\\begin{tabular}{r|llllll}\n  & Dep & Departamento & nmunicipios & totpob & totsup & denspob\\\\\n  & <chr> & <chr> & <int> & <dbl> & <dbl> & <dbl>\\\\\n\\hline\n\t12 & 19 & Cauca     & 3 & 33119 & 8091.6901 &  4.092964\\\\\n\t13 & 52 & Nariño    & 1 & 25214 & 1808.0958 & 13.945058\\\\\n\t14 & 15 & Boyacá    & 5 & 21643 & 3352.2763 &  6.456210\\\\\n\t15 & 13 & Bolívar   & 1 & 17017 & 2092.8136 &  8.131159\\\\\n\t16 & 05 & Antioquia & 2 & 14353 & 2928.0543 &  4.901890\\\\\n\t17 & 68 & Santander & 1 &  2567 &  400.4327 &  6.410566\\\\\n\\end{tabular}\n",
      "text/plain": "   Dep Departamento nmunicipios totpob totsup    denspob  \n12 19  Cauca        3           33119  8091.6901  4.092964\n13 52  Nariño       1           25214  1808.0958 13.945058\n14 15  Boyacá       5           21643  3352.2763  6.456210\n15 13  Bolívar      1           17017  2092.8136  8.131159\n16 05  Antioquia    2           14353  2928.0543  4.901890\n17 68  Santander    1            2567   400.4327  6.410566"
     },
     "metadata": {},
     "output_type": "display_data"
    }
   ]
  },
  {
   "cell_type": "markdown",
   "source": "Cual es la región con el mayor número de departamentos?",
   "metadata": {
    "formattedRanges": [],
    "tags": [],
    "cell_id": "d9851278df42447f899da926dc8c0a9f",
    "is_collapsed": false,
    "deepnote_cell_type": "text-cell-p"
   }
  },
  {
   "cell_type": "markdown",
   "source": "- * -> Todas las filas",
   "metadata": {
    "formattedRanges": [],
    "tags": [],
    "cell_id": "be7e3c40-7f3c-4ad4-9bc8-cd0df51df3ae",
    "is_collapsed": false,
    "deepnote_cell_type": "text-cell-bullet"
   }
  },
  {
   "cell_type": "markdown",
   "source": "- Dep-> na en esa varivable",
   "metadata": {
    "formattedRanges": [],
    "tags": [],
    "cell_id": "7e81e32e-0169-4f73-807f-d1625cfe4089",
    "is_collapsed": false,
    "deepnote_cell_type": "text-cell-bullet"
   }
  },
  {
   "cell_type": "markdown",
   "source": "- distinct Dep -> diferentes a",
   "metadata": {
    "formattedRanges": [],
    "tags": [],
    "cell_id": "bff51b96-5f3d-4684-9a81-7b8dc8feead8",
    "is_collapsed": false,
    "deepnote_cell_type": "text-cell-bullet"
   }
  },
  {
   "cell_type": "code",
   "metadata": {
    "tags": [],
    "cell_id": "8677f0cc261948828e02ccdea0fa5f18",
    "source_hash": "1a66c4fa",
    "execution_start": 1676923693454,
    "execution_millis": 2,
    "deepnote_to_be_reexecuted": false,
    "deepnote_cell_type": "code"
   },
   "source": "sqldf(\"select   Region,count(distinct Dep) as num_municipios\n       from     Municipios\n       group by Region\n       order by count(distinct Dep) desc\n       limit    1\")",
   "execution_count": 36,
   "outputs": [
    {
     "data": {
      "text/html": "<table class=\"dataframe\">\n<caption>A data.frame: 1 x 2</caption>\n<thead>\n\t<tr><th scope=col>Region</th><th scope=col>num_municipios</th></tr>\n\t<tr><th scope=col>&lt;chr&gt;</th><th scope=col>&lt;int&gt;</th></tr>\n</thead>\n<tbody>\n\t<tr><td>Región Caribe</td><td>8</td></tr>\n</tbody>\n</table>\n",
      "text/markdown": "\nA data.frame: 1 x 2\n\n| Region &lt;chr&gt; | num_municipios &lt;int&gt; |\n|---|---|\n| Región Caribe | 8 |\n\n",
      "text/latex": "A data.frame: 1 x 2\n\\begin{tabular}{ll}\n Region & num\\_municipios\\\\\n <chr> & <int>\\\\\n\\hline\n\t Región Caribe & 8\\\\\n\\end{tabular}\n",
      "text/plain": "  Region        num_municipios\n1 Región Caribe 8             "
     },
     "metadata": {},
     "output_type": "display_data"
    }
   ]
  },
  {
   "cell_type": "markdown",
   "source": "Conjunto de datos con todos los departamentos con al menos 650 mil habitantes y al menos 10 mil \nk\nm\n2\n de superficie, ordenados de mayor a menor con relación a su densidad poblacional, y que incluye la siguiente información: número de municipios, superficie, población y densidad poblacional.",
   "metadata": {
    "formattedRanges": [],
    "tags": [],
    "cell_id": "44f467ec96c94c7f881b6fdf7a056cee",
    "is_collapsed": false,
    "deepnote_cell_type": "text-cell-p"
   }
  },
  {
   "cell_type": "markdown",
   "source": "having --> Restriccion sobre los grupos",
   "metadata": {
    "formattedRanges": [],
    "tags": [],
    "cell_id": "e19477ea-c20d-4bb1-b4fd-b4cc3a37ab97",
    "is_collapsed": false,
    "deepnote_cell_type": "text-cell-p"
   }
  },
  {
   "cell_type": "code",
   "metadata": {
    "tags": [],
    "cell_id": "7e9b66cac25743508c475c3487cc15a3",
    "source_hash": "dba54ce5",
    "execution_start": 1676923866578,
    "execution_millis": 8,
    "deepnote_to_be_reexecuted": false,
    "deepnote_cell_type": "code"
   },
   "source": "E10 <- sqldf(\"select  Dep, Departamento, count(*) as nmunicipios, sum(Poblacion) as totpob, \n                      sum(Superficie) as totsup, sum(Poblacion)/sum(Superficie) as denspob\n             from     Municipios\n             group by Dep, Departamento\n             having   totpob >= 650000 and totsup >= 10000\n             order by denspob desc\")\n\nstr(E10)\nhead(E10)\ntail(E10)",
   "execution_count": 37,
   "outputs": [
    {
     "name": "stdout",
     "text": "'data.frame':\t17 obs. of  6 variables:\n $ Dep         : chr  \"76\" \"25\" \"05\" \"70\" ...\n $ Departamento: chr  \"Valle Del Cauca\" \"Cundinamarca\" \"Antioquia\" \"Sucre\" ...\n $ nmunicipios : int  42 116 125 26 45 87 40 28 37 30 ...\n $ totpob      : num  4506768 3085522 6550206 928984 2120925 ...\n $ totsup      : num  20666 22370 62805 10592 26303 ...\n $ denspob     : num  218.1 137.9 104.3 87.7 80.6 ...\n",
     "output_type": "stream"
    },
    {
     "data": {
      "text/html": "<table class=\"dataframe\">\n<caption>A data.frame: 6 x 6</caption>\n<thead>\n\t<tr><th></th><th scope=col>Dep</th><th scope=col>Departamento</th><th scope=col>nmunicipios</th><th scope=col>totpob</th><th scope=col>totsup</th><th scope=col>denspob</th></tr>\n\t<tr><th></th><th scope=col>&lt;chr&gt;</th><th scope=col>&lt;chr&gt;</th><th scope=col>&lt;int&gt;</th><th scope=col>&lt;dbl&gt;</th><th scope=col>&lt;dbl&gt;</th><th scope=col>&lt;dbl&gt;</th></tr>\n</thead>\n<tbody>\n\t<tr><th scope=row>1</th><td>76</td><td>Valle Del Cauca</td><td> 42</td><td>4506768</td><td>20665.54</td><td>218.08126</td></tr>\n\t<tr><th scope=row>2</th><td>25</td><td>Cundinamarca   </td><td>116</td><td>3085522</td><td>22370.49</td><td>137.92823</td></tr>\n\t<tr><th scope=row>3</th><td>05</td><td>Antioquia      </td><td>125</td><td>6550206</td><td>62804.71</td><td>104.29482</td></tr>\n\t<tr><th scope=row>4</th><td>70</td><td>Sucre          </td><td> 26</td><td> 928984</td><td>10591.85</td><td> 87.70747</td></tr>\n\t<tr><th scope=row>5</th><td>13</td><td>Bolívar        </td><td> 45</td><td>2120925</td><td>26302.81</td><td> 80.63492</td></tr>\n\t<tr><th scope=row>6</th><td>68</td><td>Santander      </td><td> 87</td><td>2237587</td><td>30561.50</td><td> 73.21588</td></tr>\n</tbody>\n</table>\n",
      "text/markdown": "\nA data.frame: 6 x 6\n\n| <!--/--> | Dep &lt;chr&gt; | Departamento &lt;chr&gt; | nmunicipios &lt;int&gt; | totpob &lt;dbl&gt; | totsup &lt;dbl&gt; | denspob &lt;dbl&gt; |\n|---|---|---|---|---|---|---|\n| 1 | 76 | Valle Del Cauca |  42 | 4506768 | 20665.54 | 218.08126 |\n| 2 | 25 | Cundinamarca    | 116 | 3085522 | 22370.49 | 137.92823 |\n| 3 | 05 | Antioquia       | 125 | 6550206 | 62804.71 | 104.29482 |\n| 4 | 70 | Sucre           |  26 |  928984 | 10591.85 |  87.70747 |\n| 5 | 13 | Bolívar         |  45 | 2120925 | 26302.81 |  80.63492 |\n| 6 | 68 | Santander       |  87 | 2237587 | 30561.50 |  73.21588 |\n\n",
      "text/latex": "A data.frame: 6 x 6\n\\begin{tabular}{r|llllll}\n  & Dep & Departamento & nmunicipios & totpob & totsup & denspob\\\\\n  & <chr> & <chr> & <int> & <dbl> & <dbl> & <dbl>\\\\\n\\hline\n\t1 & 76 & Valle Del Cauca &  42 & 4506768 & 20665.54 & 218.08126\\\\\n\t2 & 25 & Cundinamarca    & 116 & 3085522 & 22370.49 & 137.92823\\\\\n\t3 & 05 & Antioquia       & 125 & 6550206 & 62804.71 & 104.29482\\\\\n\t4 & 70 & Sucre           &  26 &  928984 & 10591.85 &  87.70747\\\\\n\t5 & 13 & Bolívar         &  45 & 2120925 & 26302.81 &  80.63492\\\\\n\t6 & 68 & Santander       &  87 & 2237587 & 30561.50 &  73.21588\\\\\n\\end{tabular}\n",
      "text/plain": "  Dep Departamento    nmunicipios totpob  totsup   denspob  \n1 76  Valle Del Cauca  42         4506768 20665.54 218.08126\n2 25  Cundinamarca    116         3085522 22370.49 137.92823\n3 05  Antioquia       125         6550206 62804.71 104.29482\n4 70  Sucre            26          928984 10591.85  87.70747\n5 13  Bolívar          45         2120925 26302.81  80.63492\n6 68  Santander        87         2237587 30561.50  73.21588"
     },
     "metadata": {},
     "output_type": "display_data"
    },
    {
     "data": {
      "text/html": "<table class=\"dataframe\">\n<caption>A data.frame: 6 x 6</caption>\n<thead>\n\t<tr><th></th><th scope=col>Dep</th><th scope=col>Departamento</th><th scope=col>nmunicipios</th><th scope=col>totpob</th><th scope=col>totsup</th><th scope=col>denspob</th></tr>\n\t<tr><th></th><th scope=col>&lt;chr&gt;</th><th scope=col>&lt;chr&gt;</th><th scope=col>&lt;int&gt;</th><th scope=col>&lt;dbl&gt;</th><th scope=col>&lt;dbl&gt;</th><th scope=col>&lt;dbl&gt;</th></tr>\n</thead>\n<tbody>\n\t<tr><th scope=row>12</th><td>73</td><td>Tolima    </td><td> 47</td><td>1335313</td><td>24139.40</td><td>55.31674</td></tr>\n\t<tr><th scope=row>13</th><td>15</td><td>Boyacá    </td><td>123</td><td>1230910</td><td>23138.05</td><td>53.19852</td></tr>\n\t<tr><th scope=row>14</th><td>52</td><td>Nariño    </td><td> 64</td><td>1628981</td><td>31497.57</td><td>51.71767</td></tr>\n\t<tr><th scope=row>15</th><td>19</td><td>Cauca     </td><td> 41</td><td>1458557</td><td>31144.05</td><td>46.83261</td></tr>\n\t<tr><th scope=row>16</th><td>44</td><td>La Guajira</td><td> 15</td><td> 927506</td><td>20621.96</td><td>44.97662</td></tr>\n\t<tr><th scope=row>17</th><td>50</td><td>Meta      </td><td> 29</td><td>1052125</td><td>85527.29</td><td>12.30163</td></tr>\n</tbody>\n</table>\n",
      "text/markdown": "\nA data.frame: 6 x 6\n\n| <!--/--> | Dep &lt;chr&gt; | Departamento &lt;chr&gt; | nmunicipios &lt;int&gt; | totpob &lt;dbl&gt; | totsup &lt;dbl&gt; | denspob &lt;dbl&gt; |\n|---|---|---|---|---|---|---|\n| 12 | 73 | Tolima     |  47 | 1335313 | 24139.40 | 55.31674 |\n| 13 | 15 | Boyacá     | 123 | 1230910 | 23138.05 | 53.19852 |\n| 14 | 52 | Nariño     |  64 | 1628981 | 31497.57 | 51.71767 |\n| 15 | 19 | Cauca      |  41 | 1458557 | 31144.05 | 46.83261 |\n| 16 | 44 | La Guajira |  15 |  927506 | 20621.96 | 44.97662 |\n| 17 | 50 | Meta       |  29 | 1052125 | 85527.29 | 12.30163 |\n\n",
      "text/latex": "A data.frame: 6 x 6\n\\begin{tabular}{r|llllll}\n  & Dep & Departamento & nmunicipios & totpob & totsup & denspob\\\\\n  & <chr> & <chr> & <int> & <dbl> & <dbl> & <dbl>\\\\\n\\hline\n\t12 & 73 & Tolima     &  47 & 1335313 & 24139.40 & 55.31674\\\\\n\t13 & 15 & Boyacá     & 123 & 1230910 & 23138.05 & 53.19852\\\\\n\t14 & 52 & Nariño     &  64 & 1628981 & 31497.57 & 51.71767\\\\\n\t15 & 19 & Cauca      &  41 & 1458557 & 31144.05 & 46.83261\\\\\n\t16 & 44 & La Guajira &  15 &  927506 & 20621.96 & 44.97662\\\\\n\t17 & 50 & Meta       &  29 & 1052125 & 85527.29 & 12.30163\\\\\n\\end{tabular}\n",
      "text/plain": "   Dep Departamento nmunicipios totpob  totsup   denspob \n12 73  Tolima        47         1335313 24139.40 55.31674\n13 15  Boyacá       123         1230910 23138.05 53.19852\n14 52  Nariño        64         1628981 31497.57 51.71767\n15 19  Cauca         41         1458557 31144.05 46.83261\n16 44  La Guajira    15          927506 20621.96 44.97662\n17 50  Meta          29         1052125 85527.29 12.30163"
     },
     "metadata": {},
     "output_type": "display_data"
    }
   ]
  },
  {
   "cell_type": "markdown",
   "source": "Conjunto de datos con todos los departamentos con al menos 650 mil habitantes y al menos 10 mil de superficie, ordenados de mayor a menor con relación a su densidad poblacional, y que incluye la siguiente información: número de municipios, superficie, población, y densidad poblacional, todo referente a municipios con índice de ruralidad mayor a 40.",
   "metadata": {
    "formattedRanges": [],
    "tags": [],
    "cell_id": "cb4e6df23ac14dee835ac32cb2168fb1",
    "is_collapsed": false,
    "deepnote_cell_type": "text-cell-p"
   }
  },
  {
   "cell_type": "code",
   "metadata": {
    "tags": [],
    "cell_id": "77c48d4c80f2403ca90db3f497302b67",
    "source_hash": "a1e2f427",
    "execution_start": 1676923908473,
    "execution_millis": 41,
    "deepnote_to_be_reexecuted": false,
    "deepnote_cell_type": "code"
   },
   "source": "E11 <- sqldf(\"select   Dep, Departamento, count(*) as nmunicipios, sum(Poblacion) as totpob, \n                       sum(Superficie) as totsup, sum(Poblacion)/sum(Superficie) as denspob\n              from     Municipios\n              where    Irural > 40\n              group by Dep, Departamento\n              having   totpob >= 650000 and totsup >= 10000\n              order by denspob desc\")\n\nstr(E11)\nhead(E11)\ntail(E11)",
   "execution_count": 38,
   "outputs": [
    {
     "name": "stdout",
     "text": "'data.frame':\t7 obs. of  6 variables:\n $ Dep         : chr  \"44\" \"23\" \"20\" \"52\" ...\n $ Departamento: chr  \"La Guajira\" \"Córdoba\" \"Cesar\" \"Nariño\" ...\n $ nmunicipios : int  15 18 23 45 34 86 30\n $ totpob      : num  927506 813722 734244 757725 653793 ...\n $ totsup      : num  20622 18778 18304 25475 22520 ...\n $ denspob     : num  45 43.3 40.1 29.7 29 ...\n",
     "output_type": "stream"
    },
    {
     "data": {
      "text/html": "<table class=\"dataframe\">\n<caption>A data.frame: 6 x 6</caption>\n<thead>\n\t<tr><th></th><th scope=col>Dep</th><th scope=col>Departamento</th><th scope=col>nmunicipios</th><th scope=col>totpob</th><th scope=col>totsup</th><th scope=col>denspob</th></tr>\n\t<tr><th></th><th scope=col>&lt;chr&gt;</th><th scope=col>&lt;chr&gt;</th><th scope=col>&lt;int&gt;</th><th scope=col>&lt;dbl&gt;</th><th scope=col>&lt;dbl&gt;</th><th scope=col>&lt;dbl&gt;</th></tr>\n</thead>\n<tbody>\n\t<tr><th scope=row>1</th><td>44</td><td>La Guajira</td><td>15</td><td> 927506</td><td>20621.96</td><td>44.97662</td></tr>\n\t<tr><th scope=row>2</th><td>23</td><td>Córdoba   </td><td>18</td><td> 813722</td><td>18777.92</td><td>43.33398</td></tr>\n\t<tr><th scope=row>3</th><td>20</td><td>Cesar     </td><td>23</td><td> 734244</td><td>18303.55</td><td>40.11485</td></tr>\n\t<tr><th scope=row>4</th><td>52</td><td>Nariño    </td><td>45</td><td> 757725</td><td>25475.11</td><td>29.74374</td></tr>\n\t<tr><th scope=row>5</th><td>13</td><td>Bolívar   </td><td>34</td><td> 653793</td><td>22520.49</td><td>29.03103</td></tr>\n\t<tr><th scope=row>6</th><td>05</td><td>Antioquia </td><td>86</td><td>1591938</td><td>56151.07</td><td>28.35098</td></tr>\n</tbody>\n</table>\n",
      "text/markdown": "\nA data.frame: 6 x 6\n\n| <!--/--> | Dep &lt;chr&gt; | Departamento &lt;chr&gt; | nmunicipios &lt;int&gt; | totpob &lt;dbl&gt; | totsup &lt;dbl&gt; | denspob &lt;dbl&gt; |\n|---|---|---|---|---|---|---|\n| 1 | 44 | La Guajira | 15 |  927506 | 20621.96 | 44.97662 |\n| 2 | 23 | Córdoba    | 18 |  813722 | 18777.92 | 43.33398 |\n| 3 | 20 | Cesar      | 23 |  734244 | 18303.55 | 40.11485 |\n| 4 | 52 | Nariño     | 45 |  757725 | 25475.11 | 29.74374 |\n| 5 | 13 | Bolívar    | 34 |  653793 | 22520.49 | 29.03103 |\n| 6 | 05 | Antioquia  | 86 | 1591938 | 56151.07 | 28.35098 |\n\n",
      "text/latex": "A data.frame: 6 x 6\n\\begin{tabular}{r|llllll}\n  & Dep & Departamento & nmunicipios & totpob & totsup & denspob\\\\\n  & <chr> & <chr> & <int> & <dbl> & <dbl> & <dbl>\\\\\n\\hline\n\t1 & 44 & La Guajira & 15 &  927506 & 20621.96 & 44.97662\\\\\n\t2 & 23 & Córdoba    & 18 &  813722 & 18777.92 & 43.33398\\\\\n\t3 & 20 & Cesar      & 23 &  734244 & 18303.55 & 40.11485\\\\\n\t4 & 52 & Nariño     & 45 &  757725 & 25475.11 & 29.74374\\\\\n\t5 & 13 & Bolívar    & 34 &  653793 & 22520.49 & 29.03103\\\\\n\t6 & 05 & Antioquia  & 86 & 1591938 & 56151.07 & 28.35098\\\\\n\\end{tabular}\n",
      "text/plain": "  Dep Departamento nmunicipios totpob  totsup   denspob \n1 44  La Guajira   15           927506 20621.96 44.97662\n2 23  Córdoba      18           813722 18777.92 43.33398\n3 20  Cesar        23           734244 18303.55 40.11485\n4 52  Nariño       45           757725 25475.11 29.74374\n5 13  Bolívar      34           653793 22520.49 29.03103\n6 05  Antioquia    86          1591938 56151.07 28.35098"
     },
     "metadata": {},
     "output_type": "display_data"
    },
    {
     "data": {
      "text/html": "<table class=\"dataframe\">\n<caption>A data.frame: 6 x 6</caption>\n<thead>\n\t<tr><th></th><th scope=col>Dep</th><th scope=col>Departamento</th><th scope=col>nmunicipios</th><th scope=col>totpob</th><th scope=col>totsup</th><th scope=col>denspob</th></tr>\n\t<tr><th></th><th scope=col>&lt;chr&gt;</th><th scope=col>&lt;chr&gt;</th><th scope=col>&lt;int&gt;</th><th scope=col>&lt;dbl&gt;</th><th scope=col>&lt;dbl&gt;</th><th scope=col>&lt;dbl&gt;</th></tr>\n</thead>\n<tbody>\n\t<tr><th scope=row>2</th><td>23</td><td>Córdoba  </td><td>18</td><td> 813722</td><td>18777.92</td><td>43.33398</td></tr>\n\t<tr><th scope=row>3</th><td>20</td><td>Cesar    </td><td>23</td><td> 734244</td><td>18303.55</td><td>40.11485</td></tr>\n\t<tr><th scope=row>4</th><td>52</td><td>Nariño   </td><td>45</td><td> 757725</td><td>25475.11</td><td>29.74374</td></tr>\n\t<tr><th scope=row>5</th><td>13</td><td>Bolívar  </td><td>34</td><td> 653793</td><td>22520.49</td><td>29.03103</td></tr>\n\t<tr><th scope=row>6</th><td>05</td><td>Antioquia</td><td>86</td><td>1591938</td><td>56151.07</td><td>28.35098</td></tr>\n\t<tr><th scope=row>7</th><td>19</td><td>Cauca    </td><td>30</td><td> 755947</td><td>28285.49</td><td>26.72561</td></tr>\n</tbody>\n</table>\n",
      "text/markdown": "\nA data.frame: 6 x 6\n\n| <!--/--> | Dep &lt;chr&gt; | Departamento &lt;chr&gt; | nmunicipios &lt;int&gt; | totpob &lt;dbl&gt; | totsup &lt;dbl&gt; | denspob &lt;dbl&gt; |\n|---|---|---|---|---|---|---|\n| 2 | 23 | Córdoba   | 18 |  813722 | 18777.92 | 43.33398 |\n| 3 | 20 | Cesar     | 23 |  734244 | 18303.55 | 40.11485 |\n| 4 | 52 | Nariño    | 45 |  757725 | 25475.11 | 29.74374 |\n| 5 | 13 | Bolívar   | 34 |  653793 | 22520.49 | 29.03103 |\n| 6 | 05 | Antioquia | 86 | 1591938 | 56151.07 | 28.35098 |\n| 7 | 19 | Cauca     | 30 |  755947 | 28285.49 | 26.72561 |\n\n",
      "text/latex": "A data.frame: 6 x 6\n\\begin{tabular}{r|llllll}\n  & Dep & Departamento & nmunicipios & totpob & totsup & denspob\\\\\n  & <chr> & <chr> & <int> & <dbl> & <dbl> & <dbl>\\\\\n\\hline\n\t2 & 23 & Córdoba   & 18 &  813722 & 18777.92 & 43.33398\\\\\n\t3 & 20 & Cesar     & 23 &  734244 & 18303.55 & 40.11485\\\\\n\t4 & 52 & Nariño    & 45 &  757725 & 25475.11 & 29.74374\\\\\n\t5 & 13 & Bolívar   & 34 &  653793 & 22520.49 & 29.03103\\\\\n\t6 & 05 & Antioquia & 86 & 1591938 & 56151.07 & 28.35098\\\\\n\t7 & 19 & Cauca     & 30 &  755947 & 28285.49 & 26.72561\\\\\n\\end{tabular}\n",
      "text/plain": "  Dep Departamento nmunicipios totpob  totsup   denspob \n2 23  Córdoba      18           813722 18777.92 43.33398\n3 20  Cesar        23           734244 18303.55 40.11485\n4 52  Nariño       45           757725 25475.11 29.74374\n5 13  Bolívar      34           653793 22520.49 29.03103\n6 05  Antioquia    86          1591938 56151.07 28.35098\n7 19  Cauca        30           755947 28285.49 26.72561"
     },
     "metadata": {},
     "output_type": "display_data"
    }
   ]
  },
  {
   "cell_type": "markdown",
   "source": "Existen dos o más municipios con el mismo nombre? Cuantos? Cuales? En qué departamentos están ubicados?",
   "metadata": {
    "formattedRanges": [],
    "tags": [],
    "cell_id": "5c65f5c2cd434b1791af35bfec12f171",
    "is_collapsed": false,
    "deepnote_cell_type": "text-cell-p"
   }
  },
  {
   "cell_type": "markdown",
   "source": "",
   "metadata": {
    "formattedRanges": [],
    "tags": [],
    "cell_id": "4af37591-90d8-4645-a5c8-3f7273670075",
    "is_collapsed": false,
    "deepnote_cell_type": "text-cell-p"
   }
  },
  {
   "cell_type": "markdown",
   "source": "Suboconsultas",
   "metadata": {
    "formattedRanges": [],
    "tags": [],
    "cell_id": "2cb2a8cd-96cf-440f-9051-0315d8145751",
    "is_collapsed": false,
    "deepnote_cell_type": "text-cell-p"
   }
  },
  {
   "cell_type": "code",
   "metadata": {
    "tags": [],
    "cell_id": "0dc499c6d301449abe4d0d8f579f9fe6",
    "source_hash": "8eef9b1c",
    "execution_start": 1676924124474,
    "execution_millis": 50,
    "deepnote_to_be_reexecuted": false,
    "deepnote_cell_type": "code"
   },
   "source": "Repetidos <- sqldf(\"select   Municipio, count(*) as veces\n                    from     Municipios\n                    group by Municipio\n                    having   veces > 1\n                    order by veces desc\")\n\nstr(Repetidos)\nhead(Repetidos)\ntail(Repetidos)\n     \nE12 <- sqldf(\"select   Municipio, Departamento, Dep, Depmun\n              from     Municipios\n              where    Municipio in (select Municipio \n                                     from   Repetidos)\n              order by Municipio, Departamento\")\n\nstr(E12)\nhead(E12,n=10)\ntail(E12,n=10)",
   "execution_count": 39,
   "outputs": [
    {
     "name": "stdout",
     "text": "'data.frame':\t69 obs. of  2 variables:\n $ Municipio: chr  \"Villanueva\" \"La Unión\" \"Sucre\" \"Santa Bárbara\" ...\n $ veces    : int  4 4 3 3 3 3 3 3 3 3 ...\n",
     "output_type": "stream"
    },
    {
     "data": {
      "text/html": "<table class=\"dataframe\">\n<caption>A data.frame: 6 x 2</caption>\n<thead>\n\t<tr><th></th><th scope=col>Municipio</th><th scope=col>veces</th></tr>\n\t<tr><th></th><th scope=col>&lt;chr&gt;</th><th scope=col>&lt;int&gt;</th></tr>\n</thead>\n<tbody>\n\t<tr><th scope=row>1</th><td>Villanueva   </td><td>4</td></tr>\n\t<tr><th scope=row>2</th><td>La Unión     </td><td>4</td></tr>\n\t<tr><th scope=row>3</th><td>Sucre        </td><td>3</td></tr>\n\t<tr><th scope=row>4</th><td>Santa Bárbara</td><td>3</td></tr>\n\t<tr><th scope=row>5</th><td>San Pedro    </td><td>3</td></tr>\n\t<tr><th scope=row>6</th><td>San Francisco</td><td>3</td></tr>\n</tbody>\n</table>\n",
      "text/markdown": "\nA data.frame: 6 x 2\n\n| <!--/--> | Municipio &lt;chr&gt; | veces &lt;int&gt; |\n|---|---|---|\n| 1 | Villanueva    | 4 |\n| 2 | La Unión      | 4 |\n| 3 | Sucre         | 3 |\n| 4 | Santa Bárbara | 3 |\n| 5 | San Pedro     | 3 |\n| 6 | San Francisco | 3 |\n\n",
      "text/latex": "A data.frame: 6 x 2\n\\begin{tabular}{r|ll}\n  & Municipio & veces\\\\\n  & <chr> & <int>\\\\\n\\hline\n\t1 & Villanueva    & 4\\\\\n\t2 & La Unión      & 4\\\\\n\t3 & Sucre         & 3\\\\\n\t4 & Santa Bárbara & 3\\\\\n\t5 & San Pedro     & 3\\\\\n\t6 & San Francisco & 3\\\\\n\\end{tabular}\n",
      "text/plain": "  Municipio     veces\n1 Villanueva    4    \n2 La Unión      4    \n3 Sucre         3    \n4 Santa Bárbara 3    \n5 San Pedro     3    \n6 San Francisco 3    "
     },
     "metadata": {},
     "output_type": "display_data"
    },
    {
     "data": {
      "text/html": "<table class=\"dataframe\">\n<caption>A data.frame: 6 x 2</caption>\n<thead>\n\t<tr><th></th><th scope=col>Municipio</th><th scope=col>veces</th></tr>\n\t<tr><th></th><th scope=col>&lt;chr&gt;</th><th scope=col>&lt;int&gt;</th></tr>\n</thead>\n<tbody>\n\t<tr><th scope=row>64</th><td>Betulia</td><td>2</td></tr>\n\t<tr><th scope=row>65</th><td>Belén  </td><td>2</td></tr>\n\t<tr><th scope=row>66</th><td>Barbosa</td><td>2</td></tr>\n\t<tr><th scope=row>67</th><td>Balboa </td><td>2</td></tr>\n\t<tr><th scope=row>68</th><td>Armenia</td><td>2</td></tr>\n\t<tr><th scope=row>69</th><td>Albán  </td><td>2</td></tr>\n</tbody>\n</table>\n",
      "text/markdown": "\nA data.frame: 6 x 2\n\n| <!--/--> | Municipio &lt;chr&gt; | veces &lt;int&gt; |\n|---|---|---|\n| 64 | Betulia | 2 |\n| 65 | Belén   | 2 |\n| 66 | Barbosa | 2 |\n| 67 | Balboa  | 2 |\n| 68 | Armenia | 2 |\n| 69 | Albán   | 2 |\n\n",
      "text/latex": "A data.frame: 6 x 2\n\\begin{tabular}{r|ll}\n  & Municipio & veces\\\\\n  & <chr> & <int>\\\\\n\\hline\n\t64 & Betulia & 2\\\\\n\t65 & Belén   & 2\\\\\n\t66 & Barbosa & 2\\\\\n\t67 & Balboa  & 2\\\\\n\t68 & Armenia & 2\\\\\n\t69 & Albán   & 2\\\\\n\\end{tabular}\n",
      "text/plain": "   Municipio veces\n64 Betulia   2    \n65 Belén     2    \n66 Barbosa   2    \n67 Balboa    2    \n68 Armenia   2    \n69 Albán     2    "
     },
     "metadata": {},
     "output_type": "display_data"
    },
    {
     "name": "stdout",
     "text": "'data.frame':\t157 obs. of  4 variables:\n $ Municipio   : chr  \"Albania\" \"Albania\" \"Albania\" \"Albán\" ...\n $ Departamento: chr  \"Caquetá\" \"La Guajira\" \"Santander\" \"Cundinamarca\" ...\n $ Dep         : chr  \"18\" \"44\" \"68\" \"25\" ...\n $ Depmun      : chr  \"18029\" \"44035\" \"68020\" \"25019\" ...\n",
     "output_type": "stream"
    },
    {
     "data": {
      "text/html": "<table class=\"dataframe\">\n<caption>A data.frame: 10 x 4</caption>\n<thead>\n\t<tr><th></th><th scope=col>Municipio</th><th scope=col>Departamento</th><th scope=col>Dep</th><th scope=col>Depmun</th></tr>\n\t<tr><th></th><th scope=col>&lt;chr&gt;</th><th scope=col>&lt;chr&gt;</th><th scope=col>&lt;chr&gt;</th><th scope=col>&lt;chr&gt;</th></tr>\n</thead>\n<tbody>\n\t<tr><th scope=row>1</th><td>Albania</td><td>Caquetá        </td><td>18</td><td>18029</td></tr>\n\t<tr><th scope=row>2</th><td>Albania</td><td>La Guajira     </td><td>44</td><td>44035</td></tr>\n\t<tr><th scope=row>3</th><td>Albania</td><td>Santander      </td><td>68</td><td>68020</td></tr>\n\t<tr><th scope=row>4</th><td>Albán  </td><td>Cundinamarca   </td><td>25</td><td>25019</td></tr>\n\t<tr><th scope=row>5</th><td>Albán  </td><td>Nariño         </td><td>52</td><td>52019</td></tr>\n\t<tr><th scope=row>6</th><td>Argelia</td><td>Antioquia      </td><td>05</td><td>05055</td></tr>\n\t<tr><th scope=row>7</th><td>Argelia</td><td>Cauca          </td><td>19</td><td>19050</td></tr>\n\t<tr><th scope=row>8</th><td>Argelia</td><td>Valle Del Cauca</td><td>76</td><td>76054</td></tr>\n\t<tr><th scope=row>9</th><td>Armenia</td><td>Antioquia      </td><td>05</td><td>05059</td></tr>\n\t<tr><th scope=row>10</th><td>Armenia</td><td>Quindío        </td><td>63</td><td>63001</td></tr>\n</tbody>\n</table>\n",
      "text/markdown": "\nA data.frame: 10 x 4\n\n| <!--/--> | Municipio &lt;chr&gt; | Departamento &lt;chr&gt; | Dep &lt;chr&gt; | Depmun &lt;chr&gt; |\n|---|---|---|---|---|\n| 1 | Albania | Caquetá         | 18 | 18029 |\n| 2 | Albania | La Guajira      | 44 | 44035 |\n| 3 | Albania | Santander       | 68 | 68020 |\n| 4 | Albán   | Cundinamarca    | 25 | 25019 |\n| 5 | Albán   | Nariño          | 52 | 52019 |\n| 6 | Argelia | Antioquia       | 05 | 05055 |\n| 7 | Argelia | Cauca           | 19 | 19050 |\n| 8 | Argelia | Valle Del Cauca | 76 | 76054 |\n| 9 | Armenia | Antioquia       | 05 | 05059 |\n| 10 | Armenia | Quindío         | 63 | 63001 |\n\n",
      "text/latex": "A data.frame: 10 x 4\n\\begin{tabular}{r|llll}\n  & Municipio & Departamento & Dep & Depmun\\\\\n  & <chr> & <chr> & <chr> & <chr>\\\\\n\\hline\n\t1 & Albania & Caquetá         & 18 & 18029\\\\\n\t2 & Albania & La Guajira      & 44 & 44035\\\\\n\t3 & Albania & Santander       & 68 & 68020\\\\\n\t4 & Albán   & Cundinamarca    & 25 & 25019\\\\\n\t5 & Albán   & Nariño          & 52 & 52019\\\\\n\t6 & Argelia & Antioquia       & 05 & 05055\\\\\n\t7 & Argelia & Cauca           & 19 & 19050\\\\\n\t8 & Argelia & Valle Del Cauca & 76 & 76054\\\\\n\t9 & Armenia & Antioquia       & 05 & 05059\\\\\n\t10 & Armenia & Quindío         & 63 & 63001\\\\\n\\end{tabular}\n",
      "text/plain": "   Municipio Departamento    Dep Depmun\n1  Albania   Caquetá         18  18029 \n2  Albania   La Guajira      44  44035 \n3  Albania   Santander       68  68020 \n4  Albán     Cundinamarca    25  25019 \n5  Albán     Nariño          52  52019 \n6  Argelia   Antioquia       05  05055 \n7  Argelia   Cauca           19  19050 \n8  Argelia   Valle Del Cauca 76  76054 \n9  Armenia   Antioquia       05  05059 \n10 Armenia   Quindío         63  63001 "
     },
     "metadata": {},
     "output_type": "display_data"
    },
    {
     "data": {
      "text/html": "<table class=\"dataframe\">\n<caption>A data.frame: 10 x 4</caption>\n<thead>\n\t<tr><th></th><th scope=col>Municipio</th><th scope=col>Departamento</th><th scope=col>Dep</th><th scope=col>Depmun</th></tr>\n\t<tr><th></th><th scope=col>&lt;chr&gt;</th><th scope=col>&lt;chr&gt;</th><th scope=col>&lt;chr&gt;</th><th scope=col>&lt;chr&gt;</th></tr>\n</thead>\n<tbody>\n\t<tr><th scope=row>148</th><td>Toledo    </td><td>Antioquia         </td><td>05</td><td>05819</td></tr>\n\t<tr><th scope=row>149</th><td>Toledo    </td><td>Norte De Santander</td><td>54</td><td>54820</td></tr>\n\t<tr><th scope=row>150</th><td>Valparaíso</td><td>Antioquia         </td><td>05</td><td>05856</td></tr>\n\t<tr><th scope=row>151</th><td>Valparaíso</td><td>Caquetá           </td><td>18</td><td>18860</td></tr>\n\t<tr><th scope=row>152</th><td>Venecia   </td><td>Antioquia         </td><td>05</td><td>05861</td></tr>\n\t<tr><th scope=row>153</th><td>Venecia   </td><td>Cundinamarca      </td><td>25</td><td>25506</td></tr>\n\t<tr><th scope=row>154</th><td>Villanueva</td><td>Bolívar           </td><td>13</td><td>13873</td></tr>\n\t<tr><th scope=row>155</th><td>Villanueva</td><td>Casanare          </td><td>85</td><td>85440</td></tr>\n\t<tr><th scope=row>156</th><td>Villanueva</td><td>La Guajira        </td><td>44</td><td>44874</td></tr>\n\t<tr><th scope=row>157</th><td>Villanueva</td><td>Santander         </td><td>68</td><td>68872</td></tr>\n</tbody>\n</table>\n",
      "text/markdown": "\nA data.frame: 10 x 4\n\n| <!--/--> | Municipio &lt;chr&gt; | Departamento &lt;chr&gt; | Dep &lt;chr&gt; | Depmun &lt;chr&gt; |\n|---|---|---|---|---|\n| 148 | Toledo     | Antioquia          | 05 | 05819 |\n| 149 | Toledo     | Norte De Santander | 54 | 54820 |\n| 150 | Valparaíso | Antioquia          | 05 | 05856 |\n| 151 | Valparaíso | Caquetá            | 18 | 18860 |\n| 152 | Venecia    | Antioquia          | 05 | 05861 |\n| 153 | Venecia    | Cundinamarca       | 25 | 25506 |\n| 154 | Villanueva | Bolívar            | 13 | 13873 |\n| 155 | Villanueva | Casanare           | 85 | 85440 |\n| 156 | Villanueva | La Guajira         | 44 | 44874 |\n| 157 | Villanueva | Santander          | 68 | 68872 |\n\n",
      "text/latex": "A data.frame: 10 x 4\n\\begin{tabular}{r|llll}\n  & Municipio & Departamento & Dep & Depmun\\\\\n  & <chr> & <chr> & <chr> & <chr>\\\\\n\\hline\n\t148 & Toledo     & Antioquia          & 05 & 05819\\\\\n\t149 & Toledo     & Norte De Santander & 54 & 54820\\\\\n\t150 & Valparaíso & Antioquia          & 05 & 05856\\\\\n\t151 & Valparaíso & Caquetá            & 18 & 18860\\\\\n\t152 & Venecia    & Antioquia          & 05 & 05861\\\\\n\t153 & Venecia    & Cundinamarca       & 25 & 25506\\\\\n\t154 & Villanueva & Bolívar            & 13 & 13873\\\\\n\t155 & Villanueva & Casanare           & 85 & 85440\\\\\n\t156 & Villanueva & La Guajira         & 44 & 44874\\\\\n\t157 & Villanueva & Santander          & 68 & 68872\\\\\n\\end{tabular}\n",
      "text/plain": "    Municipio  Departamento       Dep Depmun\n148 Toledo     Antioquia          05  05819 \n149 Toledo     Norte De Santander 54  54820 \n150 Valparaíso Antioquia          05  05856 \n151 Valparaíso Caquetá            18  18860 \n152 Venecia    Antioquia          05  05861 \n153 Venecia    Cundinamarca       25  25506 \n154 Villanueva Bolívar            13  13873 \n155 Villanueva Casanare           85  85440 \n156 Villanueva La Guajira         44  44874 \n157 Villanueva Santander          68  68872 "
     },
     "metadata": {},
     "output_type": "display_data"
    }
   ]
  },
  {
   "cell_type": "markdown",
   "source": "Todo lo anterior en un solo paso",
   "metadata": {
    "formattedRanges": [],
    "tags": [],
    "cell_id": "88fdcb2e09ae43d0adcd690aa8fb4430",
    "is_collapsed": false,
    "deepnote_cell_type": "text-cell-p"
   }
  },
  {
   "cell_type": "markdown",
   "source": "where ... in (un vector con las opciones)",
   "metadata": {
    "formattedRanges": [
     {
      "type": "marks",
      "marks": {
       "bold": true
      },
      "toCodePoint": 12,
      "fromCodePoint": 0
     }
    ],
    "tags": [],
    "cell_id": "e702514e-ea61-4c69-a353-39cb8f48eaba",
    "is_collapsed": false,
    "deepnote_cell_type": "text-cell-p"
   }
  },
  {
   "cell_type": "code",
   "metadata": {
    "tags": [],
    "cell_id": "e5b060faa9dd4ae2abcfce79680ca96b",
    "source_hash": "39831874",
    "execution_start": 1676925068078,
    "execution_millis": 3,
    "deepnote_to_be_reexecuted": false,
    "deepnote_cell_type": "code"
   },
   "source": "E12a <- sqldf(\"select   Municipio, Departamento, Dep, Depmun\n               from     Municipios\n               where    Municipio in (select   Municipio\n                                      from     Municipios\n                                      group by Municipio\n                                      having   count(*) > 1)\n               order by Municipio, Departamento\")\n\nall.equal(E12,E12a)",
   "execution_count": 46,
   "outputs": [
    {
     "data": {
      "text/html": "TRUE",
      "text/markdown": "TRUE",
      "text/latex": "TRUE",
      "text/plain": "[1] TRUE"
     },
     "metadata": {},
     "output_type": "display_data"
    }
   ]
  },
  {
   "cell_type": "markdown",
   "source": "olo la region Caribe",
   "metadata": {
    "formattedRanges": [],
    "tags": [],
    "cell_id": "b0525d2e9df34adfa53d50f831c6f534",
    "is_collapsed": false,
    "deepnote_cell_type": "text-cell-p"
   }
  },
  {
   "cell_type": "code",
   "metadata": {
    "tags": [],
    "cell_id": "a065642996984674a9e66d49609f0d44",
    "source_hash": "a124ace5",
    "execution_start": 1676925072753,
    "execution_millis": 36,
    "deepnote_to_be_reexecuted": false,
    "deepnote_cell_type": "code"
   },
   "source": "E12a <- sqldf(\"select   Municipio, Departamento, Dep, Depmun\n               from     Municipios\n               where    Municipio in (select   Municipio\n                                      from     Municipios\n                                      group by Municipio\n                                      having   count(*) > 1) and Region = 'Región Caribe'\n               order by Municipio, Departamento\")\n\nE12a",
   "execution_count": 47,
   "outputs": [
    {
     "data": {
      "text/html": "<table class=\"dataframe\">\n<caption>A data.frame: 28 x 4</caption>\n<thead>\n\t<tr><th scope=col>Municipio</th><th scope=col>Departamento</th><th scope=col>Dep</th><th scope=col>Depmun</th></tr>\n\t<tr><th scope=col>&lt;chr&gt;</th><th scope=col>&lt;chr&gt;</th><th scope=col>&lt;chr&gt;</th><th scope=col>&lt;chr&gt;</th></tr>\n</thead>\n<tbody>\n\t<tr><td>Albania            </td><td>La Guajira</td><td>44</td><td>44035</td></tr>\n\t<tr><td>Buenavista         </td><td>Córdoba   </td><td>23</td><td>23079</td></tr>\n\t<tr><td>Buenavista         </td><td>Sucre     </td><td>70</td><td>70110</td></tr>\n\t<tr><td>Calamar            </td><td>Bolívar   </td><td>13</td><td>13140</td></tr>\n\t<tr><td>Candelaria         </td><td>Atlántico </td><td>08</td><td>08141</td></tr>\n\t<tr><td>Chimá              </td><td>Córdoba   </td><td>23</td><td>23168</td></tr>\n\t<tr><td>Concordia          </td><td>Magdalena </td><td>47</td><td>47205</td></tr>\n\t<tr><td>Córdoba            </td><td>Bolívar   </td><td>13</td><td>13212</td></tr>\n\t<tr><td>El Peñón           </td><td>Bolívar   </td><td>13</td><td>13268</td></tr>\n\t<tr><td>Guamal             </td><td>Magdalena </td><td>47</td><td>47318</td></tr>\n\t<tr><td>La Paz             </td><td>Cesar     </td><td>20</td><td>20621</td></tr>\n\t<tr><td>La Unión           </td><td>Sucre     </td><td>70</td><td>70400</td></tr>\n\t<tr><td>Manaure            </td><td>Cesar     </td><td>20</td><td>20443</td></tr>\n\t<tr><td>Manaure            </td><td>La Guajira</td><td>44</td><td>44560</td></tr>\n\t<tr><td>Morales            </td><td>Bolívar   </td><td>13</td><td>13473</td></tr>\n\t<tr><td>Providencia        </td><td>San Andrés</td><td>88</td><td>88564</td></tr>\n\t<tr><td>Puerto Colombia    </td><td>Atlántico </td><td>08</td><td>08573</td></tr>\n\t<tr><td>Sabanalarga        </td><td>Atlántico </td><td>08</td><td>08638</td></tr>\n\t<tr><td>Salamina           </td><td>Magdalena </td><td>47</td><td>47675</td></tr>\n\t<tr><td>San Andrés         </td><td>San Andrés</td><td>88</td><td>88001</td></tr>\n\t<tr><td>San Carlos         </td><td>Córdoba   </td><td>23</td><td>23678</td></tr>\n\t<tr><td>San Martín         </td><td>Cesar     </td><td>20</td><td>20770</td></tr>\n\t<tr><td>San Pablo De Borbur</td><td>Bolívar   </td><td>13</td><td>13670</td></tr>\n\t<tr><td>San Pedro          </td><td>Sucre     </td><td>70</td><td>70717</td></tr>\n\t<tr><td>Santa Rosa         </td><td>Bolívar   </td><td>13</td><td>13683</td></tr>\n\t<tr><td>Sucre              </td><td>Sucre     </td><td>70</td><td>70771</td></tr>\n\t<tr><td>Villanueva         </td><td>Bolívar   </td><td>13</td><td>13873</td></tr>\n\t<tr><td>Villanueva         </td><td>La Guajira</td><td>44</td><td>44874</td></tr>\n</tbody>\n</table>\n",
      "text/markdown": "\nA data.frame: 28 x 4\n\n| Municipio &lt;chr&gt; | Departamento &lt;chr&gt; | Dep &lt;chr&gt; | Depmun &lt;chr&gt; |\n|---|---|---|---|\n| Albania             | La Guajira | 44 | 44035 |\n| Buenavista          | Córdoba    | 23 | 23079 |\n| Buenavista          | Sucre      | 70 | 70110 |\n| Calamar             | Bolívar    | 13 | 13140 |\n| Candelaria          | Atlántico  | 08 | 08141 |\n| Chimá               | Córdoba    | 23 | 23168 |\n| Concordia           | Magdalena  | 47 | 47205 |\n| Córdoba             | Bolívar    | 13 | 13212 |\n| El Peñón            | Bolívar    | 13 | 13268 |\n| Guamal              | Magdalena  | 47 | 47318 |\n| La Paz              | Cesar      | 20 | 20621 |\n| La Unión            | Sucre      | 70 | 70400 |\n| Manaure             | Cesar      | 20 | 20443 |\n| Manaure             | La Guajira | 44 | 44560 |\n| Morales             | Bolívar    | 13 | 13473 |\n| Providencia         | San Andrés | 88 | 88564 |\n| Puerto Colombia     | Atlántico  | 08 | 08573 |\n| Sabanalarga         | Atlántico  | 08 | 08638 |\n| Salamina            | Magdalena  | 47 | 47675 |\n| San Andrés          | San Andrés | 88 | 88001 |\n| San Carlos          | Córdoba    | 23 | 23678 |\n| San Martín          | Cesar      | 20 | 20770 |\n| San Pablo De Borbur | Bolívar    | 13 | 13670 |\n| San Pedro           | Sucre      | 70 | 70717 |\n| Santa Rosa          | Bolívar    | 13 | 13683 |\n| Sucre               | Sucre      | 70 | 70771 |\n| Villanueva          | Bolívar    | 13 | 13873 |\n| Villanueva          | La Guajira | 44 | 44874 |\n\n",
      "text/latex": "A data.frame: 28 x 4\n\\begin{tabular}{llll}\n Municipio & Departamento & Dep & Depmun\\\\\n <chr> & <chr> & <chr> & <chr>\\\\\n\\hline\n\t Albania             & La Guajira & 44 & 44035\\\\\n\t Buenavista          & Córdoba    & 23 & 23079\\\\\n\t Buenavista          & Sucre      & 70 & 70110\\\\\n\t Calamar             & Bolívar    & 13 & 13140\\\\\n\t Candelaria          & Atlántico  & 08 & 08141\\\\\n\t Chimá               & Córdoba    & 23 & 23168\\\\\n\t Concordia           & Magdalena  & 47 & 47205\\\\\n\t Córdoba             & Bolívar    & 13 & 13212\\\\\n\t El Peñón            & Bolívar    & 13 & 13268\\\\\n\t Guamal              & Magdalena  & 47 & 47318\\\\\n\t La Paz              & Cesar      & 20 & 20621\\\\\n\t La Unión            & Sucre      & 70 & 70400\\\\\n\t Manaure             & Cesar      & 20 & 20443\\\\\n\t Manaure             & La Guajira & 44 & 44560\\\\\n\t Morales             & Bolívar    & 13 & 13473\\\\\n\t Providencia         & San Andrés & 88 & 88564\\\\\n\t Puerto Colombia     & Atlántico  & 08 & 08573\\\\\n\t Sabanalarga         & Atlántico  & 08 & 08638\\\\\n\t Salamina            & Magdalena  & 47 & 47675\\\\\n\t San Andrés          & San Andrés & 88 & 88001\\\\\n\t San Carlos          & Córdoba    & 23 & 23678\\\\\n\t San Martín          & Cesar      & 20 & 20770\\\\\n\t San Pablo De Borbur & Bolívar    & 13 & 13670\\\\\n\t San Pedro           & Sucre      & 70 & 70717\\\\\n\t Santa Rosa          & Bolívar    & 13 & 13683\\\\\n\t Sucre               & Sucre      & 70 & 70771\\\\\n\t Villanueva          & Bolívar    & 13 & 13873\\\\\n\t Villanueva          & La Guajira & 44 & 44874\\\\\n\\end{tabular}\n",
      "text/plain": "   Municipio           Departamento Dep Depmun\n1  Albania             La Guajira   44  44035 \n2  Buenavista          Córdoba      23  23079 \n3  Buenavista          Sucre        70  70110 \n4  Calamar             Bolívar      13  13140 \n5  Candelaria          Atlántico    08  08141 \n6  Chimá               Córdoba      23  23168 \n7  Concordia           Magdalena    47  47205 \n8  Córdoba             Bolívar      13  13212 \n9  El Peñón            Bolívar      13  13268 \n10 Guamal              Magdalena    47  47318 \n11 La Paz              Cesar        20  20621 \n12 La Unión            Sucre        70  70400 \n13 Manaure             Cesar        20  20443 \n14 Manaure             La Guajira   44  44560 \n15 Morales             Bolívar      13  13473 \n16 Providencia         San Andrés   88  88564 \n17 Puerto Colombia     Atlántico    08  08573 \n18 Sabanalarga         Atlántico    08  08638 \n19 Salamina            Magdalena    47  47675 \n20 San Andrés          San Andrés   88  88001 \n21 San Carlos          Córdoba      23  23678 \n22 San Martín          Cesar        20  20770 \n23 San Pablo De Borbur Bolívar      13  13670 \n24 San Pedro           Sucre        70  70717 \n25 Santa Rosa          Bolívar      13  13683 \n26 Sucre               Sucre        70  70771 \n27 Villanueva          Bolívar      13  13873 \n28 Villanueva          La Guajira   44  44874 "
     },
     "metadata": {},
     "output_type": "display_data"
    }
   ]
  },
  {
   "cell_type": "markdown",
   "source": "Existen dos o más municipios con el mismo nombre que hacen parte de la misma región? Cuantos? Cuales?",
   "metadata": {
    "formattedRanges": [],
    "tags": [],
    "cell_id": "855695e6093c4b8984d4c8d66123b87a",
    "is_collapsed": false,
    "deepnote_cell_type": "text-cell-p"
   }
  },
  {
   "cell_type": "markdown",
   "source": "Convertir un problema de dos variables a olo",
   "metadata": {
    "formattedRanges": [],
    "tags": [],
    "cell_id": "18c1e7aa-8879-4a4f-b588-137c196b0e96",
    "is_collapsed": false,
    "deepnote_cell_type": "text-cell-p"
   }
  },
  {
   "cell_type": "markdown",
   "source": "||''|| ---> Concatenacion",
   "metadata": {
    "formattedRanges": [],
    "tags": [],
    "cell_id": "6c304b4a-56e6-47b6-be48-151d92291708",
    "is_collapsed": false,
    "deepnote_cell_type": "text-cell-p"
   }
  },
  {
   "cell_type": "code",
   "metadata": {
    "tags": [],
    "cell_id": "a448b3d8a7f54ddab657b6c550eeeb7a",
    "source_hash": "279991e8",
    "execution_start": 1676925100848,
    "execution_millis": 126,
    "deepnote_to_be_reexecuted": false,
    "deepnote_cell_type": "code"
   },
   "source": "Repetidos <- sqldf(\"select   Region, Municipio, count(*) as veces\n                    from     Municipios\n                    group by Region, Municipio\n                    having   veces > 1\n                    order by veces desc\")\n\nstr(Repetidos)\nhead(Repetidos)\ntail(Repetidos)\n\nE13 <- sqldf(\"select   Municipio, Region, Departamento, Dep, Depmun\n              from     Municipios\n              where    Region||''||Municipio in (select Region||''||Municipio\n                                                 from   Repetidos)\n              order by Municipio asc, Region asc\")\n\nstr(E13)\nhead(E13,n=10)\ntail(E13,n=10)",
   "execution_count": 48,
   "outputs": [
    {
     "name": "stdout",
     "text": "'data.frame':\t11 obs. of  3 variables:\n $ Region   : chr  \"Región Caribe\" \"Región Caribe\" \"Región Caribe\" \"Región Centro Oriente\" ...\n $ Municipio: chr  \"Buenavista\" \"Manaure\" \"Villanueva\" \"Cabrera\" ...\n $ veces    : int  2 2 2 2 2 2 2 2 2 2 ...\n",
     "output_type": "stream"
    },
    {
     "data": {
      "text/html": "<table class=\"dataframe\">\n<caption>A data.frame: 6 x 3</caption>\n<thead>\n\t<tr><th></th><th scope=col>Region</th><th scope=col>Municipio</th><th scope=col>veces</th></tr>\n\t<tr><th></th><th scope=col>&lt;chr&gt;</th><th scope=col>&lt;chr&gt;</th><th scope=col>&lt;int&gt;</th></tr>\n</thead>\n<tbody>\n\t<tr><th scope=row>1</th><td>Región Caribe        </td><td>Buenavista  </td><td>2</td></tr>\n\t<tr><th scope=row>2</th><td>Región Caribe        </td><td>Manaure     </td><td>2</td></tr>\n\t<tr><th scope=row>3</th><td>Región Caribe        </td><td>Villanueva  </td><td>2</td></tr>\n\t<tr><th scope=row>4</th><td>Región Centro Oriente</td><td>Cabrera     </td><td>2</td></tr>\n\t<tr><th scope=row>5</th><td>Región Centro Oriente</td><td>El Peñón    </td><td>2</td></tr>\n\t<tr><th scope=row>6</th><td>Región Centro Oriente</td><td>San Cayetano</td><td>2</td></tr>\n</tbody>\n</table>\n",
      "text/markdown": "\nA data.frame: 6 x 3\n\n| <!--/--> | Region &lt;chr&gt; | Municipio &lt;chr&gt; | veces &lt;int&gt; |\n|---|---|---|---|\n| 1 | Región Caribe         | Buenavista   | 2 |\n| 2 | Región Caribe         | Manaure      | 2 |\n| 3 | Región Caribe         | Villanueva   | 2 |\n| 4 | Región Centro Oriente | Cabrera      | 2 |\n| 5 | Región Centro Oriente | El Peñón     | 2 |\n| 6 | Región Centro Oriente | San Cayetano | 2 |\n\n",
      "text/latex": "A data.frame: 6 x 3\n\\begin{tabular}{r|lll}\n  & Region & Municipio & veces\\\\\n  & <chr> & <chr> & <int>\\\\\n\\hline\n\t1 & Región Caribe         & Buenavista   & 2\\\\\n\t2 & Región Caribe         & Manaure      & 2\\\\\n\t3 & Región Caribe         & Villanueva   & 2\\\\\n\t4 & Región Centro Oriente & Cabrera      & 2\\\\\n\t5 & Región Centro Oriente & El Peñón     & 2\\\\\n\t6 & Región Centro Oriente & San Cayetano & 2\\\\\n\\end{tabular}\n",
      "text/plain": "  Region                Municipio    veces\n1 Región Caribe         Buenavista   2    \n2 Región Caribe         Manaure      2    \n3 Región Caribe         Villanueva   2    \n4 Región Centro Oriente Cabrera      2    \n5 Región Centro Oriente El Peñón     2    \n6 Región Centro Oriente San Cayetano 2    "
     },
     "metadata": {},
     "output_type": "display_data"
    },
    {
     "data": {
      "text/html": "<table class=\"dataframe\">\n<caption>A data.frame: 6 x 3</caption>\n<thead>\n\t<tr><th></th><th scope=col>Region</th><th scope=col>Municipio</th><th scope=col>veces</th></tr>\n\t<tr><th></th><th scope=col>&lt;chr&gt;</th><th scope=col>&lt;chr&gt;</th><th scope=col>&lt;int&gt;</th></tr>\n</thead>\n<tbody>\n\t<tr><th scope=row>6</th><td>Región Centro Oriente</td><td>San Cayetano</td><td>2</td></tr>\n\t<tr><th scope=row>7</th><td>Región Eje Cafetero  </td><td>Armenia     </td><td>2</td></tr>\n\t<tr><th scope=row>8</th><td>Región Pacífico      </td><td>Argelia     </td><td>2</td></tr>\n\t<tr><th scope=row>9</th><td>Región Pacífico      </td><td>Bolívar     </td><td>2</td></tr>\n\t<tr><th scope=row>10</th><td>Región Pacífico      </td><td>El Tambo    </td><td>2</td></tr>\n\t<tr><th scope=row>11</th><td>Región Pacífico      </td><td>La Unión    </td><td>2</td></tr>\n</tbody>\n</table>\n",
      "text/markdown": "\nA data.frame: 6 x 3\n\n| <!--/--> | Region &lt;chr&gt; | Municipio &lt;chr&gt; | veces &lt;int&gt; |\n|---|---|---|---|\n| 6 | Región Centro Oriente | San Cayetano | 2 |\n| 7 | Región Eje Cafetero   | Armenia      | 2 |\n| 8 | Región Pacífico       | Argelia      | 2 |\n| 9 | Región Pacífico       | Bolívar      | 2 |\n| 10 | Región Pacífico       | El Tambo     | 2 |\n| 11 | Región Pacífico       | La Unión     | 2 |\n\n",
      "text/latex": "A data.frame: 6 x 3\n\\begin{tabular}{r|lll}\n  & Region & Municipio & veces\\\\\n  & <chr> & <chr> & <int>\\\\\n\\hline\n\t6 & Región Centro Oriente & San Cayetano & 2\\\\\n\t7 & Región Eje Cafetero   & Armenia      & 2\\\\\n\t8 & Región Pacífico       & Argelia      & 2\\\\\n\t9 & Región Pacífico       & Bolívar      & 2\\\\\n\t10 & Región Pacífico       & El Tambo     & 2\\\\\n\t11 & Región Pacífico       & La Unión     & 2\\\\\n\\end{tabular}\n",
      "text/plain": "   Region                Municipio    veces\n6  Región Centro Oriente San Cayetano 2    \n7  Región Eje Cafetero   Armenia      2    \n8  Región Pacífico       Argelia      2    \n9  Región Pacífico       Bolívar      2    \n10 Región Pacífico       El Tambo     2    \n11 Región Pacífico       La Unión     2    "
     },
     "metadata": {},
     "output_type": "display_data"
    },
    {
     "name": "stdout",
     "text": "'data.frame':\t22 obs. of  5 variables:\n $ Municipio   : chr  \"Argelia\" \"Argelia\" \"Armenia\" \"Armenia\" ...\n $ Region      : chr  \"Región Pacífico\" \"Región Pacífico\" \"Región Eje Cafetero\" \"Región Eje Cafetero\" ...\n $ Departamento: chr  \"Cauca\" \"Valle Del Cauca\" \"Antioquia\" \"Quindío\" ...\n $ Dep         : chr  \"19\" \"76\" \"05\" \"63\" ...\n $ Depmun      : chr  \"19050\" \"76054\" \"05059\" \"63001\" ...\n",
     "output_type": "stream"
    },
    {
     "data": {
      "text/html": "<table class=\"dataframe\">\n<caption>A data.frame: 10 x 5</caption>\n<thead>\n\t<tr><th></th><th scope=col>Municipio</th><th scope=col>Region</th><th scope=col>Departamento</th><th scope=col>Dep</th><th scope=col>Depmun</th></tr>\n\t<tr><th></th><th scope=col>&lt;chr&gt;</th><th scope=col>&lt;chr&gt;</th><th scope=col>&lt;chr&gt;</th><th scope=col>&lt;chr&gt;</th><th scope=col>&lt;chr&gt;</th></tr>\n</thead>\n<tbody>\n\t<tr><th scope=row>1</th><td>Argelia   </td><td>Región Pacífico      </td><td>Cauca          </td><td>19</td><td>19050</td></tr>\n\t<tr><th scope=row>2</th><td>Argelia   </td><td>Región Pacífico      </td><td>Valle Del Cauca</td><td>76</td><td>76054</td></tr>\n\t<tr><th scope=row>3</th><td>Armenia   </td><td>Región Eje Cafetero  </td><td>Antioquia      </td><td>05</td><td>05059</td></tr>\n\t<tr><th scope=row>4</th><td>Armenia   </td><td>Región Eje Cafetero  </td><td>Quindío        </td><td>63</td><td>63001</td></tr>\n\t<tr><th scope=row>5</th><td>Bolívar   </td><td>Región Pacífico      </td><td>Cauca          </td><td>19</td><td>19100</td></tr>\n\t<tr><th scope=row>6</th><td>Bolívar   </td><td>Región Pacífico      </td><td>Valle Del Cauca</td><td>76</td><td>76100</td></tr>\n\t<tr><th scope=row>7</th><td>Buenavista</td><td>Región Caribe        </td><td>Córdoba        </td><td>23</td><td>23079</td></tr>\n\t<tr><th scope=row>8</th><td>Buenavista</td><td>Región Caribe        </td><td>Sucre          </td><td>70</td><td>70110</td></tr>\n\t<tr><th scope=row>9</th><td>Cabrera   </td><td>Región Centro Oriente</td><td>Cundinamarca   </td><td>25</td><td>25120</td></tr>\n\t<tr><th scope=row>10</th><td>Cabrera   </td><td>Región Centro Oriente</td><td>Santander      </td><td>68</td><td>68121</td></tr>\n</tbody>\n</table>\n",
      "text/markdown": "\nA data.frame: 10 x 5\n\n| <!--/--> | Municipio &lt;chr&gt; | Region &lt;chr&gt; | Departamento &lt;chr&gt; | Dep &lt;chr&gt; | Depmun &lt;chr&gt; |\n|---|---|---|---|---|---|\n| 1 | Argelia    | Región Pacífico       | Cauca           | 19 | 19050 |\n| 2 | Argelia    | Región Pacífico       | Valle Del Cauca | 76 | 76054 |\n| 3 | Armenia    | Región Eje Cafetero   | Antioquia       | 05 | 05059 |\n| 4 | Armenia    | Región Eje Cafetero   | Quindío         | 63 | 63001 |\n| 5 | Bolívar    | Región Pacífico       | Cauca           | 19 | 19100 |\n| 6 | Bolívar    | Región Pacífico       | Valle Del Cauca | 76 | 76100 |\n| 7 | Buenavista | Región Caribe         | Córdoba         | 23 | 23079 |\n| 8 | Buenavista | Región Caribe         | Sucre           | 70 | 70110 |\n| 9 | Cabrera    | Región Centro Oriente | Cundinamarca    | 25 | 25120 |\n| 10 | Cabrera    | Región Centro Oriente | Santander       | 68 | 68121 |\n\n",
      "text/latex": "A data.frame: 10 x 5\n\\begin{tabular}{r|lllll}\n  & Municipio & Region & Departamento & Dep & Depmun\\\\\n  & <chr> & <chr> & <chr> & <chr> & <chr>\\\\\n\\hline\n\t1 & Argelia    & Región Pacífico       & Cauca           & 19 & 19050\\\\\n\t2 & Argelia    & Región Pacífico       & Valle Del Cauca & 76 & 76054\\\\\n\t3 & Armenia    & Región Eje Cafetero   & Antioquia       & 05 & 05059\\\\\n\t4 & Armenia    & Región Eje Cafetero   & Quindío         & 63 & 63001\\\\\n\t5 & Bolívar    & Región Pacífico       & Cauca           & 19 & 19100\\\\\n\t6 & Bolívar    & Región Pacífico       & Valle Del Cauca & 76 & 76100\\\\\n\t7 & Buenavista & Región Caribe         & Córdoba         & 23 & 23079\\\\\n\t8 & Buenavista & Región Caribe         & Sucre           & 70 & 70110\\\\\n\t9 & Cabrera    & Región Centro Oriente & Cundinamarca    & 25 & 25120\\\\\n\t10 & Cabrera    & Región Centro Oriente & Santander       & 68 & 68121\\\\\n\\end{tabular}\n",
      "text/plain": "   Municipio  Region                Departamento    Dep Depmun\n1  Argelia    Región Pacífico       Cauca           19  19050 \n2  Argelia    Región Pacífico       Valle Del Cauca 76  76054 \n3  Armenia    Región Eje Cafetero   Antioquia       05  05059 \n4  Armenia    Región Eje Cafetero   Quindío         63  63001 \n5  Bolívar    Región Pacífico       Cauca           19  19100 \n6  Bolívar    Región Pacífico       Valle Del Cauca 76  76100 \n7  Buenavista Región Caribe         Córdoba         23  23079 \n8  Buenavista Región Caribe         Sucre           70  70110 \n9  Cabrera    Región Centro Oriente Cundinamarca    25  25120 \n10 Cabrera    Región Centro Oriente Santander       68  68121 "
     },
     "metadata": {},
     "output_type": "display_data"
    },
    {
     "data": {
      "text/html": "<table class=\"dataframe\">\n<caption>A data.frame: 10 x 5</caption>\n<thead>\n\t<tr><th></th><th scope=col>Municipio</th><th scope=col>Region</th><th scope=col>Departamento</th><th scope=col>Dep</th><th scope=col>Depmun</th></tr>\n\t<tr><th></th><th scope=col>&lt;chr&gt;</th><th scope=col>&lt;chr&gt;</th><th scope=col>&lt;chr&gt;</th><th scope=col>&lt;chr&gt;</th><th scope=col>&lt;chr&gt;</th></tr>\n</thead>\n<tbody>\n\t<tr><th scope=row>13</th><td>El Tambo    </td><td>Región Pacífico      </td><td>Cauca             </td><td>19</td><td>19256</td></tr>\n\t<tr><th scope=row>14</th><td>El Tambo    </td><td>Región Pacífico      </td><td>Nariño            </td><td>52</td><td>52260</td></tr>\n\t<tr><th scope=row>15</th><td>La Unión    </td><td>Región Pacífico      </td><td>Nariño            </td><td>52</td><td>52399</td></tr>\n\t<tr><th scope=row>16</th><td>La Unión    </td><td>Región Pacífico      </td><td>Valle Del Cauca   </td><td>76</td><td>76400</td></tr>\n\t<tr><th scope=row>17</th><td>Manaure     </td><td>Región Caribe        </td><td>Cesar             </td><td>20</td><td>20443</td></tr>\n\t<tr><th scope=row>18</th><td>Manaure     </td><td>Región Caribe        </td><td>La Guajira        </td><td>44</td><td>44560</td></tr>\n\t<tr><th scope=row>19</th><td>San Cayetano</td><td>Región Centro Oriente</td><td>Cundinamarca      </td><td>25</td><td>25653</td></tr>\n\t<tr><th scope=row>20</th><td>San Cayetano</td><td>Región Centro Oriente</td><td>Norte De Santander</td><td>54</td><td>54673</td></tr>\n\t<tr><th scope=row>21</th><td>Villanueva  </td><td>Región Caribe        </td><td>Bolívar           </td><td>13</td><td>13873</td></tr>\n\t<tr><th scope=row>22</th><td>Villanueva  </td><td>Región Caribe        </td><td>La Guajira        </td><td>44</td><td>44874</td></tr>\n</tbody>\n</table>\n",
      "text/markdown": "\nA data.frame: 10 x 5\n\n| <!--/--> | Municipio &lt;chr&gt; | Region &lt;chr&gt; | Departamento &lt;chr&gt; | Dep &lt;chr&gt; | Depmun &lt;chr&gt; |\n|---|---|---|---|---|---|\n| 13 | El Tambo     | Región Pacífico       | Cauca              | 19 | 19256 |\n| 14 | El Tambo     | Región Pacífico       | Nariño             | 52 | 52260 |\n| 15 | La Unión     | Región Pacífico       | Nariño             | 52 | 52399 |\n| 16 | La Unión     | Región Pacífico       | Valle Del Cauca    | 76 | 76400 |\n| 17 | Manaure      | Región Caribe         | Cesar              | 20 | 20443 |\n| 18 | Manaure      | Región Caribe         | La Guajira         | 44 | 44560 |\n| 19 | San Cayetano | Región Centro Oriente | Cundinamarca       | 25 | 25653 |\n| 20 | San Cayetano | Región Centro Oriente | Norte De Santander | 54 | 54673 |\n| 21 | Villanueva   | Región Caribe         | Bolívar            | 13 | 13873 |\n| 22 | Villanueva   | Región Caribe         | La Guajira         | 44 | 44874 |\n\n",
      "text/latex": "A data.frame: 10 x 5\n\\begin{tabular}{r|lllll}\n  & Municipio & Region & Departamento & Dep & Depmun\\\\\n  & <chr> & <chr> & <chr> & <chr> & <chr>\\\\\n\\hline\n\t13 & El Tambo     & Región Pacífico       & Cauca              & 19 & 19256\\\\\n\t14 & El Tambo     & Región Pacífico       & Nariño             & 52 & 52260\\\\\n\t15 & La Unión     & Región Pacífico       & Nariño             & 52 & 52399\\\\\n\t16 & La Unión     & Región Pacífico       & Valle Del Cauca    & 76 & 76400\\\\\n\t17 & Manaure      & Región Caribe         & Cesar              & 20 & 20443\\\\\n\t18 & Manaure      & Región Caribe         & La Guajira         & 44 & 44560\\\\\n\t19 & San Cayetano & Región Centro Oriente & Cundinamarca       & 25 & 25653\\\\\n\t20 & San Cayetano & Región Centro Oriente & Norte De Santander & 54 & 54673\\\\\n\t21 & Villanueva   & Región Caribe         & Bolívar            & 13 & 13873\\\\\n\t22 & Villanueva   & Región Caribe         & La Guajira         & 44 & 44874\\\\\n\\end{tabular}\n",
      "text/plain": "   Municipio    Region                Departamento       Dep Depmun\n13 El Tambo     Región Pacífico       Cauca              19  19256 \n14 El Tambo     Región Pacífico       Nariño             52  52260 \n15 La Unión     Región Pacífico       Nariño             52  52399 \n16 La Unión     Región Pacífico       Valle Del Cauca    76  76400 \n17 Manaure      Región Caribe         Cesar              20  20443 \n18 Manaure      Región Caribe         La Guajira         44  44560 \n19 San Cayetano Región Centro Oriente Cundinamarca       25  25653 \n20 San Cayetano Región Centro Oriente Norte De Santander 54  54673 \n21 Villanueva   Región Caribe         Bolívar            13  13873 \n22 Villanueva   Región Caribe         La Guajira         44  44874 "
     },
     "metadata": {},
     "output_type": "display_data"
    }
   ]
  },
  {
   "cell_type": "markdown",
   "source": "Lo mismo pero en una sola query",
   "metadata": {
    "formattedRanges": [],
    "tags": [],
    "cell_id": "49dea549a2614213b649e4056eeb3af8",
    "is_collapsed": false,
    "deepnote_cell_type": "text-cell-p"
   }
  },
  {
   "cell_type": "code",
   "metadata": {
    "tags": [],
    "cell_id": "de1f2d97ff7b4df3a4d9f1bfb0782b58",
    "source_hash": "faeb1d8f",
    "execution_start": 1676926041658,
    "execution_millis": 2,
    "deepnote_to_be_reexecuted": false,
    "deepnote_cell_type": "code"
   },
   "source": "E13a <- sqldf(\"select   Municipio, Region, Departamento, Dep, Depmun\n               from     Municipios\n               where    Region||''||Municipio in (select   Region||''||Municipio\n                                                  from     Municipios\n                                                  group by Region, Municipio\n                                                  having   count(*) > 1)\n               order by Municipio asc, Region asc\")\n\nall.equal(E13,E13a)",
   "execution_count": 53,
   "outputs": [
    {
     "data": {
      "text/html": "TRUE",
      "text/markdown": "TRUE",
      "text/latex": "TRUE",
      "text/plain": "[1] TRUE"
     },
     "metadata": {},
     "output_type": "display_data"
    }
   ]
  },
  {
   "cell_type": "markdown",
   "source": "Conjunto de datos con los municipios cuyos nombres inician con \"A\" o terminan con \"o\", no importa si llevan tilde o no.",
   "metadata": {
    "formattedRanges": [],
    "tags": [],
    "cell_id": "0f2cf5ff477d495999edcf38be55c893",
    "is_collapsed": false,
    "deepnote_cell_type": "text-cell-p"
   }
  },
  {
   "cell_type": "code",
   "metadata": {
    "tags": [],
    "cell_id": "327945f71b964324bcba641cf09844c3",
    "source_hash": "bd255aec",
    "execution_start": 1676926077307,
    "execution_millis": 46,
    "deepnote_to_be_reexecuted": false,
    "deepnote_cell_type": "code"
   },
   "source": "E14 <- sqldf(\"select   Dep, Departamento, Municipio, Depmun\n              from     Municipios\n              where    Municipio like 'A%' or\n                       Municipio like 'Á%' or \n                       Municipio like '%o' or\n                       Municipio like '%ó'\n              order by Depmun\")\n\nstr(E14)\nhead(E14)\ntail(E14)",
   "execution_count": 54,
   "outputs": [
    {
     "name": "stdout",
     "text": "'data.frame':\t308 obs. of  4 variables:\n $ Dep         : chr  \"05\" \"05\" \"05\" \"05\" ...\n $ Departamento: chr  \"Antioquia\" \"Antioquia\" \"Antioquia\" \"Antioquia\" ...\n $ Municipio   : chr  \"Abejorral\" \"Abriaquí\" \"Alejandría\" \"Amagá\" ...\n $ Depmun      : chr  \"05002\" \"05004\" \"05021\" \"05030\" ...\n",
     "output_type": "stream"
    },
    {
     "data": {
      "text/html": "<table class=\"dataframe\">\n<caption>A data.frame: 6 x 4</caption>\n<thead>\n\t<tr><th></th><th scope=col>Dep</th><th scope=col>Departamento</th><th scope=col>Municipio</th><th scope=col>Depmun</th></tr>\n\t<tr><th></th><th scope=col>&lt;chr&gt;</th><th scope=col>&lt;chr&gt;</th><th scope=col>&lt;chr&gt;</th><th scope=col>&lt;chr&gt;</th></tr>\n</thead>\n<tbody>\n\t<tr><th scope=row>1</th><td>05</td><td>Antioquia</td><td>Abejorral </td><td>05002</td></tr>\n\t<tr><th scope=row>2</th><td>05</td><td>Antioquia</td><td>Abriaquí  </td><td>05004</td></tr>\n\t<tr><th scope=row>3</th><td>05</td><td>Antioquia</td><td>Alejandría</td><td>05021</td></tr>\n\t<tr><th scope=row>4</th><td>05</td><td>Antioquia</td><td>Amagá     </td><td>05030</td></tr>\n\t<tr><th scope=row>5</th><td>05</td><td>Antioquia</td><td>Amalfi    </td><td>05031</td></tr>\n\t<tr><th scope=row>6</th><td>05</td><td>Antioquia</td><td>Andes     </td><td>05034</td></tr>\n</tbody>\n</table>\n",
      "text/markdown": "\nA data.frame: 6 x 4\n\n| <!--/--> | Dep &lt;chr&gt; | Departamento &lt;chr&gt; | Municipio &lt;chr&gt; | Depmun &lt;chr&gt; |\n|---|---|---|---|---|\n| 1 | 05 | Antioquia | Abejorral  | 05002 |\n| 2 | 05 | Antioquia | Abriaquí   | 05004 |\n| 3 | 05 | Antioquia | Alejandría | 05021 |\n| 4 | 05 | Antioquia | Amagá      | 05030 |\n| 5 | 05 | Antioquia | Amalfi     | 05031 |\n| 6 | 05 | Antioquia | Andes      | 05034 |\n\n",
      "text/latex": "A data.frame: 6 x 4\n\\begin{tabular}{r|llll}\n  & Dep & Departamento & Municipio & Depmun\\\\\n  & <chr> & <chr> & <chr> & <chr>\\\\\n\\hline\n\t1 & 05 & Antioquia & Abejorral  & 05002\\\\\n\t2 & 05 & Antioquia & Abriaquí   & 05004\\\\\n\t3 & 05 & Antioquia & Alejandría & 05021\\\\\n\t4 & 05 & Antioquia & Amagá      & 05030\\\\\n\t5 & 05 & Antioquia & Amalfi     & 05031\\\\\n\t6 & 05 & Antioquia & Andes      & 05034\\\\\n\\end{tabular}\n",
      "text/plain": "  Dep Departamento Municipio  Depmun\n1 05  Antioquia    Abejorral  05002 \n2 05  Antioquia    Abriaquí   05004 \n3 05  Antioquia    Alejandría 05021 \n4 05  Antioquia    Amagá      05030 \n5 05  Antioquia    Amalfi     05031 \n6 05  Antioquia    Andes      05034 "
     },
     "metadata": {},
     "output_type": "display_data"
    },
    {
     "data": {
      "text/html": "<table class=\"dataframe\">\n<caption>A data.frame: 6 x 4</caption>\n<thead>\n\t<tr><th></th><th scope=col>Dep</th><th scope=col>Departamento</th><th scope=col>Municipio</th><th scope=col>Depmun</th></tr>\n\t<tr><th></th><th scope=col>&lt;chr&gt;</th><th scope=col>&lt;chr&gt;</th><th scope=col>&lt;chr&gt;</th><th scope=col>&lt;chr&gt;</th></tr>\n</thead>\n<tbody>\n\t<tr><th scope=row>303</th><td>86</td><td>Putumayo</td><td>Santiago      </td><td>86760</td></tr>\n\t<tr><th scope=row>304</th><td>91</td><td>Amazonas</td><td>El Encanto    </td><td>91263</td></tr>\n\t<tr><th scope=row>305</th><td>91</td><td>Amazonas</td><td>Puerto Nariño </td><td>91540</td></tr>\n\t<tr><th scope=row>306</th><td>95</td><td>Guaviare</td><td>El Retorno    </td><td>95025</td></tr>\n\t<tr><th scope=row>307</th><td>99</td><td>Vichada </td><td>Puerto Carreño</td><td>99001</td></tr>\n\t<tr><th scope=row>308</th><td>99</td><td>Vichada </td><td>Cumaribo      </td><td>99773</td></tr>\n</tbody>\n</table>\n",
      "text/markdown": "\nA data.frame: 6 x 4\n\n| <!--/--> | Dep &lt;chr&gt; | Departamento &lt;chr&gt; | Municipio &lt;chr&gt; | Depmun &lt;chr&gt; |\n|---|---|---|---|---|\n| 303 | 86 | Putumayo | Santiago       | 86760 |\n| 304 | 91 | Amazonas | El Encanto     | 91263 |\n| 305 | 91 | Amazonas | Puerto Nariño  | 91540 |\n| 306 | 95 | Guaviare | El Retorno     | 95025 |\n| 307 | 99 | Vichada  | Puerto Carreño | 99001 |\n| 308 | 99 | Vichada  | Cumaribo       | 99773 |\n\n",
      "text/latex": "A data.frame: 6 x 4\n\\begin{tabular}{r|llll}\n  & Dep & Departamento & Municipio & Depmun\\\\\n  & <chr> & <chr> & <chr> & <chr>\\\\\n\\hline\n\t303 & 86 & Putumayo & Santiago       & 86760\\\\\n\t304 & 91 & Amazonas & El Encanto     & 91263\\\\\n\t305 & 91 & Amazonas & Puerto Nariño  & 91540\\\\\n\t306 & 95 & Guaviare & El Retorno     & 95025\\\\\n\t307 & 99 & Vichada  & Puerto Carreño & 99001\\\\\n\t308 & 99 & Vichada  & Cumaribo       & 99773\\\\\n\\end{tabular}\n",
      "text/plain": "    Dep Departamento Municipio      Depmun\n303 86  Putumayo     Santiago       86760 \n304 91  Amazonas     El Encanto     91263 \n305 91  Amazonas     Puerto Nariño  91540 \n306 95  Guaviare     El Retorno     95025 \n307 99  Vichada      Puerto Carreño 99001 \n308 99  Vichada      Cumaribo       99773 "
     },
     "metadata": {},
     "output_type": "display_data"
    }
   ]
  },
  {
   "cell_type": "markdown",
   "source": "Conjunto de datos con los municipios cuyos nombres inician con \"A\" y terminan con \"o\", no importa si llevan tilde o no.",
   "metadata": {
    "formattedRanges": [],
    "tags": [],
    "cell_id": "09f6999dd05847849525f71d683ea464",
    "is_collapsed": false,
    "deepnote_cell_type": "text-cell-p"
   }
  },
  {
   "cell_type": "code",
   "metadata": {
    "tags": [],
    "cell_id": "fa4651eb21da472a9d4ba3e3e3bd8ad8",
    "source_hash": "f9ff16de",
    "execution_start": 1676926135808,
    "execution_millis": 2,
    "deepnote_to_be_reexecuted": false,
    "deepnote_cell_type": "code"
   },
   "source": "E15 <- sqldf(\"select   Dep, Departamento, Municipio, Depmun\n              from     Municipios\n              where    Municipio like 'A%o' or\n                       Municipio like 'A%ó' or\n                       Municipio like 'Á%o'\n              order by Depmun\")\n\nstr(E15)\nhead(E15)\ntail(E15)",
   "execution_count": 55,
   "outputs": [
    {
     "name": "stdout",
     "text": "'data.frame':\t15 obs. of  4 variables:\n $ Dep         : chr  \"05\" \"13\" \"13\" \"15\" ...\n $ Departamento: chr  \"Antioquia\" \"Bolívar\" \"Bolívar\" \"Boyacá\" ...\n $ Municipio   : chr  \"Apartadó\" \"Altos Del Rosario\" \"Arroyohondo\" \"Arcabuco\" ...\n $ Depmun      : chr  \"05045\" \"13030\" \"13062\" \"15051\" ...\n",
     "output_type": "stream"
    },
    {
     "data": {
      "text/html": "<table class=\"dataframe\">\n<caption>A data.frame: 6 x 4</caption>\n<thead>\n\t<tr><th></th><th scope=col>Dep</th><th scope=col>Departamento</th><th scope=col>Municipio</th><th scope=col>Depmun</th></tr>\n\t<tr><th></th><th scope=col>&lt;chr&gt;</th><th scope=col>&lt;chr&gt;</th><th scope=col>&lt;chr&gt;</th><th scope=col>&lt;chr&gt;</th></tr>\n</thead>\n<tbody>\n\t<tr><th scope=row>1</th><td>05</td><td>Antioquia   </td><td>Apartadó         </td><td>05045</td></tr>\n\t<tr><th scope=row>2</th><td>13</td><td>Bolívar     </td><td>Altos Del Rosario</td><td>13030</td></tr>\n\t<tr><th scope=row>3</th><td>13</td><td>Bolívar     </td><td>Arroyohondo      </td><td>13062</td></tr>\n\t<tr><th scope=row>4</th><td>15</td><td>Boyacá      </td><td>Arcabuco         </td><td>15051</td></tr>\n\t<tr><th scope=row>5</th><td>25</td><td>Cundinamarca</td><td>Apulo            </td><td>25599</td></tr>\n\t<tr><th scope=row>6</th><td>27</td><td>Chocó       </td><td>Alto Baudo       </td><td>27025</td></tr>\n</tbody>\n</table>\n",
      "text/markdown": "\nA data.frame: 6 x 4\n\n| <!--/--> | Dep &lt;chr&gt; | Departamento &lt;chr&gt; | Municipio &lt;chr&gt; | Depmun &lt;chr&gt; |\n|---|---|---|---|---|\n| 1 | 05 | Antioquia    | Apartadó          | 05045 |\n| 2 | 13 | Bolívar      | Altos Del Rosario | 13030 |\n| 3 | 13 | Bolívar      | Arroyohondo       | 13062 |\n| 4 | 15 | Boyacá       | Arcabuco          | 15051 |\n| 5 | 25 | Cundinamarca | Apulo             | 25599 |\n| 6 | 27 | Chocó        | Alto Baudo        | 27025 |\n\n",
      "text/latex": "A data.frame: 6 x 4\n\\begin{tabular}{r|llll}\n  & Dep & Departamento & Municipio & Depmun\\\\\n  & <chr> & <chr> & <chr> & <chr>\\\\\n\\hline\n\t1 & 05 & Antioquia    & Apartadó          & 05045\\\\\n\t2 & 13 & Bolívar      & Altos Del Rosario & 13030\\\\\n\t3 & 13 & Bolívar      & Arroyohondo       & 13062\\\\\n\t4 & 15 & Boyacá       & Arcabuco          & 15051\\\\\n\t5 & 25 & Cundinamarca & Apulo             & 25599\\\\\n\t6 & 27 & Chocó        & Alto Baudo        & 27025\\\\\n\\end{tabular}\n",
      "text/plain": "  Dep Departamento Municipio         Depmun\n1 05  Antioquia    Apartadó          05045 \n2 13  Bolívar      Altos Del Rosario 13030 \n3 13  Bolívar      Arroyohondo       13062 \n4 15  Boyacá       Arcabuco          15051 \n5 25  Cundinamarca Apulo             25599 \n6 27  Chocó        Alto Baudo        27025 "
     },
     "metadata": {},
     "output_type": "display_data"
    },
    {
     "data": {
      "text/html": "<table class=\"dataframe\">\n<caption>A data.frame: 6 x 4</caption>\n<thead>\n\t<tr><th></th><th scope=col>Dep</th><th scope=col>Departamento</th><th scope=col>Municipio</th><th scope=col>Depmun</th></tr>\n\t<tr><th></th><th scope=col>&lt;chr&gt;</th><th scope=col>&lt;chr&gt;</th><th scope=col>&lt;chr&gt;</th><th scope=col>&lt;chr&gt;</th></tr>\n</thead>\n<tbody>\n\t<tr><th scope=row>10</th><td>47</td><td>Magdalena         </td><td>Algarrobo   </td><td>47030</td></tr>\n\t<tr><th scope=row>11</th><td>54</td><td>Norte De Santander</td><td>Abrego      </td><td>54003</td></tr>\n\t<tr><th scope=row>12</th><td>73</td><td>Tolima            </td><td>Alvarado    </td><td>73026</td></tr>\n\t<tr><th scope=row>13</th><td>73</td><td>Tolima            </td><td>Armero      </td><td>73055</td></tr>\n\t<tr><th scope=row>14</th><td>73</td><td>Tolima            </td><td>Ataco       </td><td>73067</td></tr>\n\t<tr><th scope=row>15</th><td>76</td><td>Valle Del Cauca   </td><td>Ansermanuevo</td><td>76041</td></tr>\n</tbody>\n</table>\n",
      "text/markdown": "\nA data.frame: 6 x 4\n\n| <!--/--> | Dep &lt;chr&gt; | Departamento &lt;chr&gt; | Municipio &lt;chr&gt; | Depmun &lt;chr&gt; |\n|---|---|---|---|---|\n| 10 | 47 | Magdalena          | Algarrobo    | 47030 |\n| 11 | 54 | Norte De Santander | Abrego       | 54003 |\n| 12 | 73 | Tolima             | Alvarado     | 73026 |\n| 13 | 73 | Tolima             | Armero       | 73055 |\n| 14 | 73 | Tolima             | Ataco        | 73067 |\n| 15 | 76 | Valle Del Cauca    | Ansermanuevo | 76041 |\n\n",
      "text/latex": "A data.frame: 6 x 4\n\\begin{tabular}{r|llll}\n  & Dep & Departamento & Municipio & Depmun\\\\\n  & <chr> & <chr> & <chr> & <chr>\\\\\n\\hline\n\t10 & 47 & Magdalena          & Algarrobo    & 47030\\\\\n\t11 & 54 & Norte De Santander & Abrego       & 54003\\\\\n\t12 & 73 & Tolima             & Alvarado     & 73026\\\\\n\t13 & 73 & Tolima             & Armero       & 73055\\\\\n\t14 & 73 & Tolima             & Ataco        & 73067\\\\\n\t15 & 76 & Valle Del Cauca    & Ansermanuevo & 76041\\\\\n\\end{tabular}\n",
      "text/plain": "   Dep Departamento       Municipio    Depmun\n10 47  Magdalena          Algarrobo    47030 \n11 54  Norte De Santander Abrego       54003 \n12 73  Tolima             Alvarado     73026 \n13 73  Tolima             Armero       73055 \n14 73  Tolima             Ataco        73067 \n15 76  Valle Del Cauca    Ansermanuevo 76041 "
     },
     "metadata": {},
     "output_type": "display_data"
    }
   ]
  },
  {
   "cell_type": "markdown",
   "source": "Conjunto de datos con los municipios cuyo nombre tiene a la letra \"e\" en las posiciones 2 y 4, no importa si llevan tilde o no.",
   "metadata": {
    "formattedRanges": [],
    "tags": [],
    "cell_id": "97f7dcbf54d94b748745aa5274ba6f70",
    "is_collapsed": false,
    "deepnote_cell_type": "text-cell-p"
   }
  },
  {
   "cell_type": "markdown",
   "source": "'_' ---> Posición del caracter",
   "metadata": {
    "formattedRanges": [],
    "tags": [],
    "cell_id": "8e8d6fce-6c3b-4b1a-a4f8-242d67b5c436",
    "is_collapsed": false,
    "deepnote_cell_type": "text-cell-p"
   }
  },
  {
   "cell_type": "code",
   "metadata": {
    "tags": [],
    "cell_id": "56da47c61d7744f2beeb8b6662e2895a",
    "source_hash": "ae29804d",
    "execution_start": 1676926229238,
    "execution_millis": 2,
    "deepnote_to_be_reexecuted": false,
    "deepnote_cell_type": "code"
   },
   "source": "E16 <- sqldf(\"select   Dep, Departamento, Municipio, Depmun\n              from     Municipios\n              where    Municipio like '_e_e%' or \n                       Municipio like '_é_e%' or\n                       Municipio like '_e_é%'\n              order by Depmun\")\n\nstr(E16)\nhead(E16)\ntail(E16)",
   "execution_count": 56,
   "outputs": [
    {
     "name": "stdout",
     "text": "'data.frame':\t18 obs. of  4 variables:\n $ Dep         : chr  \"05\" \"05\" \"05\" \"08\" ...\n $ Departamento: chr  \"Antioquia\" \"Antioquia\" \"Antioquia\" \"Atlántico\" ...\n $ Municipio   : chr  \"Medellín\" \"Remedios\" \"Venecia\" \"Repelón\" ...\n $ Depmun      : chr  \"05001\" \"05604\" \"05861\" \"08606\" ...\n",
     "output_type": "stream"
    },
    {
     "data": {
      "text/html": "<table class=\"dataframe\">\n<caption>A data.frame: 6 x 4</caption>\n<thead>\n\t<tr><th></th><th scope=col>Dep</th><th scope=col>Departamento</th><th scope=col>Municipio</th><th scope=col>Depmun</th></tr>\n\t<tr><th></th><th scope=col>&lt;chr&gt;</th><th scope=col>&lt;chr&gt;</th><th scope=col>&lt;chr&gt;</th><th scope=col>&lt;chr&gt;</th></tr>\n</thead>\n<tbody>\n\t<tr><th scope=row>1</th><td>05</td><td>Antioquia</td><td>Medellín </td><td>05001</td></tr>\n\t<tr><th scope=row>2</th><td>05</td><td>Antioquia</td><td>Remedios </td><td>05604</td></tr>\n\t<tr><th scope=row>3</th><td>05</td><td>Antioquia</td><td>Venecia  </td><td>05861</td></tr>\n\t<tr><th scope=row>4</th><td>08</td><td>Atlántico</td><td>Repelón  </td><td>08606</td></tr>\n\t<tr><th scope=row>5</th><td>15</td><td>Boyacá   </td><td>Belén    </td><td>15087</td></tr>\n\t<tr><th scope=row>6</th><td>15</td><td>Boyacá   </td><td>Betéitiva</td><td>15092</td></tr>\n</tbody>\n</table>\n",
      "text/markdown": "\nA data.frame: 6 x 4\n\n| <!--/--> | Dep &lt;chr&gt; | Departamento &lt;chr&gt; | Municipio &lt;chr&gt; | Depmun &lt;chr&gt; |\n|---|---|---|---|---|\n| 1 | 05 | Antioquia | Medellín  | 05001 |\n| 2 | 05 | Antioquia | Remedios  | 05604 |\n| 3 | 05 | Antioquia | Venecia   | 05861 |\n| 4 | 08 | Atlántico | Repelón   | 08606 |\n| 5 | 15 | Boyacá    | Belén     | 15087 |\n| 6 | 15 | Boyacá    | Betéitiva | 15092 |\n\n",
      "text/latex": "A data.frame: 6 x 4\n\\begin{tabular}{r|llll}\n  & Dep & Departamento & Municipio & Depmun\\\\\n  & <chr> & <chr> & <chr> & <chr>\\\\\n\\hline\n\t1 & 05 & Antioquia & Medellín  & 05001\\\\\n\t2 & 05 & Antioquia & Remedios  & 05604\\\\\n\t3 & 05 & Antioquia & Venecia   & 05861\\\\\n\t4 & 08 & Atlántico & Repelón   & 08606\\\\\n\t5 & 15 & Boyacá    & Belén     & 15087\\\\\n\t6 & 15 & Boyacá    & Betéitiva & 15092\\\\\n\\end{tabular}\n",
      "text/plain": "  Dep Departamento Municipio Depmun\n1 05  Antioquia    Medellín  05001 \n2 05  Antioquia    Remedios  05604 \n3 05  Antioquia    Venecia   05861 \n4 08  Atlántico    Repelón   08606 \n5 15  Boyacá       Belén     15087 \n6 15  Boyacá       Betéitiva 15092 "
     },
     "metadata": {},
     "output_type": "display_data"
    },
    {
     "data": {
      "text/html": "<table class=\"dataframe\">\n<caption>A data.frame: 6 x 4</caption>\n<thead>\n\t<tr><th></th><th scope=col>Dep</th><th scope=col>Departamento</th><th scope=col>Municipio</th><th scope=col>Depmun</th></tr>\n\t<tr><th></th><th scope=col>&lt;chr&gt;</th><th scope=col>&lt;chr&gt;</th><th scope=col>&lt;chr&gt;</th><th scope=col>&lt;chr&gt;</th></tr>\n</thead>\n<tbody>\n\t<tr><th scope=row>13</th><td>50</td><td>Meta     </td><td>Mesetas        </td><td>50330</td></tr>\n\t<tr><th scope=row>14</th><td>52</td><td>Nariño   </td><td>Belén          </td><td>52083</td></tr>\n\t<tr><th scope=row>15</th><td>66</td><td>Risaralda</td><td>Pereira        </td><td>66001</td></tr>\n\t<tr><th scope=row>16</th><td>66</td><td>Risaralda</td><td>Belén De Umbría</td><td>66088</td></tr>\n\t<tr><th scope=row>17</th><td>68</td><td>Santander</td><td>Vélez          </td><td>68861</td></tr>\n\t<tr><th scope=row>18</th><td>85</td><td>Casanare </td><td>Recetor        </td><td>85279</td></tr>\n</tbody>\n</table>\n",
      "text/markdown": "\nA data.frame: 6 x 4\n\n| <!--/--> | Dep &lt;chr&gt; | Departamento &lt;chr&gt; | Municipio &lt;chr&gt; | Depmun &lt;chr&gt; |\n|---|---|---|---|---|\n| 13 | 50 | Meta      | Mesetas         | 50330 |\n| 14 | 52 | Nariño    | Belén           | 52083 |\n| 15 | 66 | Risaralda | Pereira         | 66001 |\n| 16 | 66 | Risaralda | Belén De Umbría | 66088 |\n| 17 | 68 | Santander | Vélez           | 68861 |\n| 18 | 85 | Casanare  | Recetor         | 85279 |\n\n",
      "text/latex": "A data.frame: 6 x 4\n\\begin{tabular}{r|llll}\n  & Dep & Departamento & Municipio & Depmun\\\\\n  & <chr> & <chr> & <chr> & <chr>\\\\\n\\hline\n\t13 & 50 & Meta      & Mesetas         & 50330\\\\\n\t14 & 52 & Nariño    & Belén           & 52083\\\\\n\t15 & 66 & Risaralda & Pereira         & 66001\\\\\n\t16 & 66 & Risaralda & Belén De Umbría & 66088\\\\\n\t17 & 68 & Santander & Vélez           & 68861\\\\\n\t18 & 85 & Casanare  & Recetor         & 85279\\\\\n\\end{tabular}\n",
      "text/plain": "   Dep Departamento Municipio       Depmun\n13 50  Meta         Mesetas         50330 \n14 52  Nariño       Belén           52083 \n15 66  Risaralda    Pereira         66001 \n16 66  Risaralda    Belén De Umbría 66088 \n17 68  Santander    Vélez           68861 \n18 85  Casanare     Recetor         85279 "
     },
     "metadata": {},
     "output_type": "display_data"
    }
   ]
  },
  {
   "cell_type": "markdown",
   "source": "Conjunto de datos con los municipios cuyos nombres constan de más de una palabra.",
   "metadata": {
    "formattedRanges": [],
    "tags": [],
    "cell_id": "a3abdd511da94c07a414f9f588233376",
    "is_collapsed": false,
    "deepnote_cell_type": "text-cell-p"
   }
  },
  {
   "cell_type": "code",
   "metadata": {
    "tags": [],
    "cell_id": "df384a7cfc4d40aca369f648fc93c748",
    "source_hash": "ba876b94",
    "execution_start": 1676926309543,
    "execution_millis": 129,
    "deepnote_to_be_reexecuted": false,
    "deepnote_cell_type": "code"
   },
   "source": "E17 <- sqldf(\"select   Dep, Departamento, Municipio, Depmun\n              from     Municipios\n              where    Municipio like '% %'\n              order by Depmun\")\n\nstr(E17)\nhead(E17)\ntail(E17)",
   "execution_count": 57,
   "outputs": [
    {
     "name": "stdout",
     "text": "'data.frame':\t307 obs. of  4 variables:\n $ Dep         : chr  \"05\" \"05\" \"05\" \"05\" ...\n $ Departamento: chr  \"Antioquia\" \"Antioquia\" \"Antioquia\" \"Antioquia\" ...\n $ Municipio   : chr  \"Santafé De Antioquia\" \"Ciudad Bolívar\" \"El Carmen De Viboral\" \"Don Matías\" ...\n $ Depmun      : chr  \"05042\" \"05101\" \"05148\" \"05237\" ...\n",
     "output_type": "stream"
    },
    {
     "data": {
      "text/html": "<table class=\"dataframe\">\n<caption>A data.frame: 6 x 4</caption>\n<thead>\n\t<tr><th></th><th scope=col>Dep</th><th scope=col>Departamento</th><th scope=col>Municipio</th><th scope=col>Depmun</th></tr>\n\t<tr><th></th><th scope=col>&lt;chr&gt;</th><th scope=col>&lt;chr&gt;</th><th scope=col>&lt;chr&gt;</th><th scope=col>&lt;chr&gt;</th></tr>\n</thead>\n<tbody>\n\t<tr><th scope=row>1</th><td>05</td><td>Antioquia</td><td>Santafé De Antioquia</td><td>05042</td></tr>\n\t<tr><th scope=row>2</th><td>05</td><td>Antioquia</td><td>Ciudad Bolívar      </td><td>05101</td></tr>\n\t<tr><th scope=row>3</th><td>05</td><td>Antioquia</td><td>El Carmen De Viboral</td><td>05148</td></tr>\n\t<tr><th scope=row>4</th><td>05</td><td>Antioquia</td><td>Don Matías          </td><td>05237</td></tr>\n\t<tr><th scope=row>5</th><td>05</td><td>Antioquia</td><td>El Bagre            </td><td>05250</td></tr>\n\t<tr><th scope=row>6</th><td>05</td><td>Antioquia</td><td>Gómez Plata         </td><td>05310</td></tr>\n</tbody>\n</table>\n",
      "text/markdown": "\nA data.frame: 6 x 4\n\n| <!--/--> | Dep &lt;chr&gt; | Departamento &lt;chr&gt; | Municipio &lt;chr&gt; | Depmun &lt;chr&gt; |\n|---|---|---|---|---|\n| 1 | 05 | Antioquia | Santafé De Antioquia | 05042 |\n| 2 | 05 | Antioquia | Ciudad Bolívar       | 05101 |\n| 3 | 05 | Antioquia | El Carmen De Viboral | 05148 |\n| 4 | 05 | Antioquia | Don Matías           | 05237 |\n| 5 | 05 | Antioquia | El Bagre             | 05250 |\n| 6 | 05 | Antioquia | Gómez Plata          | 05310 |\n\n",
      "text/latex": "A data.frame: 6 x 4\n\\begin{tabular}{r|llll}\n  & Dep & Departamento & Municipio & Depmun\\\\\n  & <chr> & <chr> & <chr> & <chr>\\\\\n\\hline\n\t1 & 05 & Antioquia & Santafé De Antioquia & 05042\\\\\n\t2 & 05 & Antioquia & Ciudad Bolívar       & 05101\\\\\n\t3 & 05 & Antioquia & El Carmen De Viboral & 05148\\\\\n\t4 & 05 & Antioquia & Don Matías           & 05237\\\\\n\t5 & 05 & Antioquia & El Bagre             & 05250\\\\\n\t6 & 05 & Antioquia & Gómez Plata          & 05310\\\\\n\\end{tabular}\n",
      "text/plain": "  Dep Departamento Municipio            Depmun\n1 05  Antioquia    Santafé De Antioquia 05042 \n2 05  Antioquia    Ciudad Bolívar       05101 \n3 05  Antioquia    El Carmen De Viboral 05148 \n4 05  Antioquia    Don Matías           05237 \n5 05  Antioquia    El Bagre             05250 \n6 05  Antioquia    Gómez Plata          05310 "
     },
     "metadata": {},
     "output_type": "display_data"
    },
    {
     "data": {
      "text/html": "<table class=\"dataframe\">\n<caption>A data.frame: 6 x 4</caption>\n<thead>\n\t<tr><th></th><th scope=col>Dep</th><th scope=col>Departamento</th><th scope=col>Municipio</th><th scope=col>Depmun</th></tr>\n\t<tr><th></th><th scope=col>&lt;chr&gt;</th><th scope=col>&lt;chr&gt;</th><th scope=col>&lt;chr&gt;</th><th scope=col>&lt;chr&gt;</th></tr>\n</thead>\n<tbody>\n\t<tr><th scope=row>302</th><td>94</td><td>Guainía </td><td>Pana Pana            </td><td>94887</td></tr>\n\t<tr><th scope=row>303</th><td>95</td><td>Guaviare</td><td>San José Del Guaviare</td><td>95001</td></tr>\n\t<tr><th scope=row>304</th><td>95</td><td>Guaviare</td><td>El Retorno           </td><td>95025</td></tr>\n\t<tr><th scope=row>305</th><td>99</td><td>Vichada </td><td>Puerto Carreño       </td><td>99001</td></tr>\n\t<tr><th scope=row>306</th><td>99</td><td>Vichada </td><td>La Primavera         </td><td>99524</td></tr>\n\t<tr><th scope=row>307</th><td>99</td><td>Vichada </td><td>Santa Rosalía        </td><td>99624</td></tr>\n</tbody>\n</table>\n",
      "text/markdown": "\nA data.frame: 6 x 4\n\n| <!--/--> | Dep &lt;chr&gt; | Departamento &lt;chr&gt; | Municipio &lt;chr&gt; | Depmun &lt;chr&gt; |\n|---|---|---|---|---|\n| 302 | 94 | Guainía  | Pana Pana             | 94887 |\n| 303 | 95 | Guaviare | San José Del Guaviare | 95001 |\n| 304 | 95 | Guaviare | El Retorno            | 95025 |\n| 305 | 99 | Vichada  | Puerto Carreño        | 99001 |\n| 306 | 99 | Vichada  | La Primavera          | 99524 |\n| 307 | 99 | Vichada  | Santa Rosalía         | 99624 |\n\n",
      "text/latex": "A data.frame: 6 x 4\n\\begin{tabular}{r|llll}\n  & Dep & Departamento & Municipio & Depmun\\\\\n  & <chr> & <chr> & <chr> & <chr>\\\\\n\\hline\n\t302 & 94 & Guainía  & Pana Pana             & 94887\\\\\n\t303 & 95 & Guaviare & San José Del Guaviare & 95001\\\\\n\t304 & 95 & Guaviare & El Retorno            & 95025\\\\\n\t305 & 99 & Vichada  & Puerto Carreño        & 99001\\\\\n\t306 & 99 & Vichada  & La Primavera          & 99524\\\\\n\t307 & 99 & Vichada  & Santa Rosalía         & 99624\\\\\n\\end{tabular}\n",
      "text/plain": "    Dep Departamento Municipio             Depmun\n302 94  Guainía      Pana Pana             94887 \n303 95  Guaviare     San José Del Guaviare 95001 \n304 95  Guaviare     El Retorno            95025 \n305 99  Vichada      Puerto Carreño        99001 \n306 99  Vichada      La Primavera          99524 \n307 99  Vichada      Santa Rosalía         99624 "
     },
     "metadata": {},
     "output_type": "display_data"
    }
   ]
  },
  {
   "cell_type": "markdown",
   "source": "<a style='text-decoration:none;line-height:16px;display:flex;color:#5B5B62;padding:10px;justify-content:end;' href='https://deepnote.com?utm_source=created-in-deepnote-cell&projectId=cd2fca3f-dc64-4c71-8bd4-adda531fa911' target=\"_blank\">\n<img alt='Created in deepnote.com' style='display:inline;max-height:16px;margin:0px;margin-right:7.5px;' src='data:image/svg+xml;base64,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' > </img>\nCreated in <span style='font-weight:600;margin-left:4px;'>Deepnote</span></a>",
   "metadata": {
    "tags": [],
    "created_in_deepnote_cell": true,
    "deepnote_cell_type": "markdown"
   }
  }
 ],
 "nbformat": 4,
 "nbformat_minor": 0,
 "metadata": {
  "deepnote": {},
  "orig_nbformat": 2,
  "deepnote_notebook_id": "20982e33dead48b58c151be4d88992bb",
  "deepnote_execution_queue": []
 }
}