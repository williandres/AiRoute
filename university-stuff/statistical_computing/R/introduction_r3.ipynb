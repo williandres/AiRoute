{
 "cells": [
  {
   "cell_type": "markdown",
   "source": "# Clase 13/2",
   "metadata": {
    "formattedRanges": [],
    "tags": [],
    "cell_id": "d323e51f455346e8ac889e6a5cf098d6",
    "is_collapsed": false,
    "deepnote_cell_type": "text-cell-h1"
   }
  },
  {
   "cell_type": "markdown",
   "source": "https://r2022.netlify.app/",
   "metadata": {
    "is_collapsed": false,
    "tags": [],
    "cell_id": "9eef24a32cb94e51868bbefb538fb20d",
    "formattedRanges": [
     {
      "type": "link",
      "url": "https://r2022.netlify.app/",
      "fromCodePoint": 0,
      "toCodePoint": 26,
      "ranges": []
     }
    ],
    "deepnote_cell_type": "text-cell-p"
   }
  },
  {
   "cell_type": "code",
   "source": "",
   "metadata": {
    "tags": [],
    "cell_id": "e52a6772-4072-4ac0-ba7f-af9f86a45d7e",
    "source_hash": "4b971e68",
    "execution_start": 1676390990671,
    "execution_millis": 7867,
    "deepnote_to_be_reexecuted": false,
    "deepnote_cell_type": "code"
   },
   "execution_count": 1,
   "outputs": []
  },
  {
   "cell_type": "code",
   "metadata": {
    "tags": [],
    "cell_id": "f83aa39a81964dfd875412e2955b1ab6",
    "source_hash": "e3fca432",
    "execution_start": 1676390998562,
    "execution_millis": 69,
    "deepnote_to_be_reexecuted": false,
    "deepnote_cell_type": "code",
    "deepnote_cell_height": 94
   },
   "source": "name <- \"/work/AiRoute/university-stuff/statistical_computing/sources/Municipios.xlsx\"\nmunicipiosDf <- read_excel(name)",
   "execution_count": 2,
   "outputs": []
  },
  {
   "cell_type": "markdown",
   "source": "## Arreglando el conjunto de datos",
   "metadata": {
    "formattedRanges": [],
    "tags": [],
    "cell_id": "a5aebd263b164afe82121cbc50bc457f",
    "is_collapsed": false,
    "deepnote_cell_type": "text-cell-h2"
   }
  },
  {
   "cell_type": "code",
   "metadata": {
    "tags": [],
    "cell_id": "763d4a2c563f475380f1d9e72da54885",
    "source_hash": "3240dba3",
    "execution_start": 1676390998632,
    "execution_millis": 131,
    "deepnote_to_be_reexecuted": false,
    "deepnote_cell_type": "code",
    "deepnote_cell_height": 811,
    "deepnote_output_heights": [
     606
    ]
   },
   "source": "municipiosDf <- within(municipiosDf, {\n                Municipio2 <- str_to_lower(Municipio)\n                Municipio2 <- str_replace_all(Municipio2,\"[^a-záéíóúüñ ]\",\"\")# \"^\" Todo lo que no sea del listado\n                Municipio2 <- str_squish(Municipio2)\n                Municipio2 <- str_to_title(Municipio2)\n})\nmunicipiosDf",
   "execution_count": 3,
   "outputs": [
    {
     "data": {
      "text/html": "<table class=\"dataframe\">\n<caption>A tibble: 1118 x 9</caption>\n<thead>\n\t<tr><th scope=col>Departamento</th><th scope=col>Dep</th><th scope=col>Municipio</th><th scope=col>Depmun</th><th scope=col>Superficie</th><th scope=col>Poblacion</th><th scope=col>Irural</th><th scope=col>Region</th><th scope=col>Municipio2</th></tr>\n\t<tr><th scope=col>&lt;chr&gt;</th><th scope=col>&lt;chr&gt;</th><th scope=col>&lt;chr&gt;</th><th scope=col>&lt;chr&gt;</th><th scope=col>&lt;dbl&gt;</th><th scope=col>&lt;dbl&gt;</th><th scope=col>&lt;dbl&gt;</th><th scope=col>&lt;chr&gt;</th><th scope=col>&lt;chr&gt;</th></tr>\n</thead>\n<tbody>\n\t<tr><td>Ant%ioqUia </td><td>05</td><td><span style=white-space:pre-wrap>Mede&amp;l'lín              </span></td><td>05001</td><td> 374.83062</td><td>2483545</td><td> 5</td><td>Región Eje Cafetero</td><td><span style=white-space:pre-wrap>Medellín            </span></td></tr>\n\t<tr><td>Ant%ioquia </td><td>05</td><td><span style=white-space:pre-wrap>Abej!&amp;orr*al            </span></td><td>05002</td><td> 507.13411</td><td><span style=white-space:pre-wrap>  20258</span></td><td>45</td><td>Región Eje Cafetero</td><td><span style=white-space:pre-wrap>Abejorral           </span></td></tr>\n\t<tr><td>Ant%ioquia </td><td>05</td><td><span style=white-space:pre-wrap>A?br'&amp;iaquí             </span></td><td>05004</td><td> 296.95598</td><td><span style=white-space:pre-wrap>   2710</span></td><td>58</td><td>Región Eje Cafetero</td><td><span style=white-space:pre-wrap>Abriaquí            </span></td></tr>\n\t<tr><td>Ant%io&gt;qUia</td><td>05</td><td><span style=white-space:pre-wrap>Alej#andr&amp;'ía           </span></td><td>05021</td><td> 128.93215</td><td><span style=white-space:pre-wrap>   4669</span></td><td>48</td><td>Región Eje Cafetero</td><td><span style=white-space:pre-wrap>Alejandría          </span></td></tr>\n\t<tr><td><span style=white-space:pre-wrap>Antioquia  </span></td><td>05</td><td><span style=white-space:pre-wrap>Am#a?&amp;'*gá              </span></td><td>05030</td><td><span style=white-space:pre-wrap>  84.13248</span></td><td><span style=white-space:pre-wrap>  30777</span></td><td>28</td><td>Región Eje Cafetero</td><td><span style=white-space:pre-wrap>Amagá               </span></td></tr>\n\t<tr><td>AntioqUia  </td><td>05</td><td>Am?al#'*fi              </td><td>05031</td><td>1209.12687</td><td>  26552</td><td>54</td><td>Región Eje Cafetero</td><td>Amalfi              </td></tr>\n\t<tr><td>AntioqUia  </td><td>05</td><td>Andes*!                 </td><td>05034</td><td> 402.50256</td><td>  43713</td><td>38</td><td>Región Eje Cafetero</td><td>Andes               </td></tr>\n\t<tr><td>Ant%ioquia </td><td>05</td><td><span style=white-space:pre-wrap>&amp;# Angelópoli?s         </span></td><td>05036</td><td><span style=white-space:pre-wrap>  81.87630</span></td><td><span style=white-space:pre-wrap>   5790</span></td><td>37</td><td>Región Eje Cafetero</td><td><span style=white-space:pre-wrap>Angelópolis         </span></td></tr>\n\t<tr><td>Antioq&gt;Uia </td><td>05</td><td><span style=white-space:pre-wrap>Ang#'ostura             </span></td><td>05038</td><td> 338.66648</td><td><span style=white-space:pre-wrap>  11462</span></td><td>47</td><td>Región Eje Cafetero</td><td><span style=white-space:pre-wrap>Angostura           </span></td></tr>\n\t<tr><td>Ant%ioquia </td><td>05</td><td>An*'#?orí               </td><td>05040</td><td>1413.77390</td><td>  18737</td><td>58</td><td>Región Eje Cafetero</td><td>Anorí               </td></tr>\n\t<tr><td><span style=white-space:pre-wrap>Antioquia  </span></td><td>05</td><td>San'!tafé de Antioqu&amp;*ia</td><td>05042</td><td> 525.60137</td><td><span style=white-space:pre-wrap>  26598</span></td><td>45</td><td>Región Eje Cafetero</td><td>Santafé De Antioquia</td></tr>\n\t<tr><td>Ant%ioquia </td><td>05</td><td><span style=white-space:pre-wrap>!An*?&amp;za                </span></td><td>05044</td><td> 255.92331</td><td><span style=white-space:pre-wrap>   7085</span></td><td>48</td><td>Región Eje Cafetero</td><td><span style=white-space:pre-wrap>Anza                </span></td></tr>\n\t<tr><td>Antioq&gt;uia </td><td>05</td><td><span style=white-space:pre-wrap>A?pa&amp;r't#adó            </span></td><td>05045</td><td> 535.17238</td><td> 124647</td><td>34</td><td>Región Eje Cafetero</td><td><span style=white-space:pre-wrap>Apartadó            </span></td></tr>\n\t<tr><td>Antioq&gt;Uia </td><td>05</td><td><span style=white-space:pre-wrap>Arbo&amp;le!'tes            </span></td><td>05051</td><td> 754.25190</td><td><span style=white-space:pre-wrap>  29942</span></td><td>48</td><td>Región Eje Cafetero</td><td><span style=white-space:pre-wrap>Arboletes           </span></td></tr>\n\t<tr><td>Ant%ioqUia </td><td>05</td><td><span style=white-space:pre-wrap># Argel!&amp;ia             </span></td><td>05055</td><td> 245.34178</td><td><span style=white-space:pre-wrap>   7577</span></td><td>46</td><td>Región Eje Cafetero</td><td><span style=white-space:pre-wrap>Argelia             </span></td></tr>\n\t<tr><td>Antioquia  </td><td>05</td><td>Arme'ni!a               </td><td>05059</td><td> 110.43497</td><td>   5085</td><td>43</td><td>Región Eje Cafetero</td><td>Armenia             </td></tr>\n\t<tr><td>Ant%ioq&gt;uia</td><td>05</td><td><span style=white-space:pre-wrap>Bar#b*?&amp;osa             </span></td><td>05079</td><td> 205.66617</td><td><span style=white-space:pre-wrap>  53242</span></td><td>32</td><td>Región Eje Cafetero</td><td><span style=white-space:pre-wrap>Barbosa             </span></td></tr>\n\t<tr><td>Ant%ioquia </td><td>05</td><td><span style=white-space:pre-wrap>&amp;B'elmi!ra              </span></td><td>05086</td><td> 296.15317</td><td><span style=white-space:pre-wrap>   6054</span></td><td>51</td><td>Región Eje Cafetero</td><td><span style=white-space:pre-wrap>Belmira             </span></td></tr>\n\t<tr><td>Ant%ioquia </td><td>05</td><td><span style=white-space:pre-wrap>B'el&amp;lo                 </span></td><td>05088</td><td> 147.75842</td><td> 538527</td><td>12</td><td>Región Eje Cafetero</td><td><span style=white-space:pre-wrap>Bello               </span></td></tr>\n\t<tr><td><span style=white-space:pre-wrap>Antioquia  </span></td><td>05</td><td><span style=white-space:pre-wrap>'#  &amp;Beta!?nia          </span></td><td>05091</td><td> 180.52599</td><td><span style=white-space:pre-wrap>  10274</span></td><td>42</td><td>Región Eje Cafetero</td><td><span style=white-space:pre-wrap>Betania             </span></td></tr>\n\t<tr><td>Ant%ioqUia </td><td>05</td><td>Betulia                 </td><td>05093</td><td> 262.36750</td><td>  15736</td><td>42</td><td>Región Eje Cafetero</td><td>Betulia             </td></tr>\n\t<tr><td>Ant%ioqUia </td><td>05</td><td>Ciudad? Bolívar         </td><td>05101</td><td> 260.44611</td><td>  26160</td><td>38</td><td>Región Eje Cafetero</td><td>Ciudad Bolívar      </td></tr>\n\t<tr><td>Ant%ioqUia </td><td>05</td><td>Briceño                 </td><td>05107</td><td> 376.34676</td><td>   8065</td><td>52</td><td>Región Eje Cafetero</td><td>Briceño             </td></tr>\n\t<tr><td>Ant%ioquia </td><td>05</td><td>B'*ur!iticá             </td><td>05113</td><td> 355.21026</td><td>   9502</td><td>52</td><td>Región Eje Cafetero</td><td>Buriticá            </td></tr>\n\t<tr><td>AntioqUia  </td><td>05</td><td>'  !C*áceres            </td><td>05120</td><td>1873.80283</td><td>  29716</td><td>56</td><td>Región Eje Cafetero</td><td>Cáceres             </td></tr>\n\t<tr><td><span style=white-space:pre-wrap>AntioqUia  </span></td><td>05</td><td><span style=white-space:pre-wrap>C#?&amp;aicedo              </span></td><td>05125</td><td> 200.12988</td><td><span style=white-space:pre-wrap>   8420</span></td><td>46</td><td>Región Eje Cafetero</td><td><span style=white-space:pre-wrap>Caicedo             </span></td></tr>\n\t<tr><td>Antioquia  </td><td>05</td><td># C!a*?ldas             </td><td>05129</td><td> 132.75594</td><td>  81658</td><td>24</td><td>Región Eje Cafetero</td><td>Caldas              </td></tr>\n\t<tr><td>Ant%io&gt;quia</td><td>05</td><td><span style=white-space:pre-wrap>C'am#p*a&amp;mento          </span></td><td>05134</td><td> 206.34335</td><td><span style=white-space:pre-wrap>   9202</span></td><td>46</td><td>Región Eje Cafetero</td><td><span style=white-space:pre-wrap>Campamento          </span></td></tr>\n\t<tr><td><span style=white-space:pre-wrap>AntioqUia  </span></td><td>05</td><td><span style=white-space:pre-wrap>Ca&amp;ñasgord?as           </span></td><td>05138</td><td> 364.83123</td><td><span style=white-space:pre-wrap>  15490</span></td><td>46</td><td>Región Eje Cafetero</td><td><span style=white-space:pre-wrap>Cañasgordas         </span></td></tr>\n\t<tr><td>Antioq&gt;Uia </td><td>05</td><td><span style=white-space:pre-wrap>Car&amp;'aco?lí             </span></td><td>05142</td><td> 262.79878</td><td><span style=white-space:pre-wrap>   4537</span></td><td>53</td><td>Región Eje Cafetero</td><td><span style=white-space:pre-wrap>Caracolí            </span></td></tr>\n\t<tr><td>...</td><td>...</td><td>...</td><td>...</td><td>...</td><td>...</td><td>...</td><td>...</td><td>...</td></tr>\n\t<tr><td><span style=white-space:pre-wrap>Amazonas  </span></td><td>91</td><td><span style=white-space:pre-wrap>La   ?Vict!ori'&amp;#a      </span></td><td>91430.0</td><td> 1432.795</td><td><span style=white-space:pre-wrap>  652</span></td><td> 85</td><td>Región Centro Sur</td><td><span style=white-space:pre-wrap>La Victoria          </span></td></tr>\n\t<tr><td>Ama%zonas </td><td>91</td><td>Mirit#i Par?aná         </td><td>91460.0</td><td>16867.533</td><td> 1860</td><td>100</td><td>Región Centro Sur</td><td>Miriti Paraná        </td></tr>\n\t<tr><td>Amazo&gt;nas </td><td>91</td><td><span style=white-space:pre-wrap>Pu?erto !Alegr*ía       </span></td><td>91530.0</td><td> 8494.182</td><td><span style=white-space:pre-wrap>  759</span></td><td> 96</td><td>Región Centro Sur</td><td><span style=white-space:pre-wrap>Puerto Alegría       </span></td></tr>\n\t<tr><td>Ama%zo&gt;nas</td><td>91</td><td><span style=white-space:pre-wrap>P#&amp;u'erto Arica         </span></td><td>91536.0</td><td>13791.327</td><td> 1027</td><td>100</td><td>Región Centro Sur</td><td><span style=white-space:pre-wrap>Puerto Arica         </span></td></tr>\n\t<tr><td>Ama%zo&gt;nas</td><td>91</td><td><span style=white-space:pre-wrap>Puer*to #Na?riño        </span></td><td>91540.0</td><td> 1509.204</td><td> 9997</td><td> 72</td><td>Región Centro Sur</td><td><span style=white-space:pre-wrap>Puerto Nariño        </span></td></tr>\n\t<tr><td>Ama%zonas </td><td>91</td><td><span style=white-space:pre-wrap>P#u!e*rto &amp;  Santander ?</span></td><td>91669.0</td><td>14731.088</td><td> 1765</td><td> 96</td><td>Región Centro Sur</td><td><span style=white-space:pre-wrap>Puerto Santander     </span></td></tr>\n\t<tr><td>Amazonas  </td><td>91</td><td>Tara?pa'cá              </td><td>91798.0</td><td> 9195.878</td><td> 3869</td><td> 90</td><td>Región Centro Sur</td><td>Tarapacá             </td></tr>\n\t<tr><td><span style=white-space:pre-wrap>Guain&gt;ía  </span></td><td>94</td><td><span style=white-space:pre-wrap>I?nírid#a               </span></td><td>94001.0</td><td>15970.199</td><td>32673</td><td> 81</td><td><span style=white-space:pre-wrap>Región Llano     </span></td><td><span style=white-space:pre-wrap>Inírida              </span></td></tr>\n\t<tr><td><span style=white-space:pre-wrap>Guainía   </span></td><td>94</td><td><span style=white-space:pre-wrap>?B*arr#anco Min&amp;'as     </span></td><td>94343.0</td><td>14395.678</td><td> 8042</td><td> 87</td><td><span style=white-space:pre-wrap>Región Llano     </span></td><td><span style=white-space:pre-wrap>Barranco Minas       </span></td></tr>\n\t<tr><td><span style=white-space:pre-wrap>Guai&gt;nía  </span></td><td>94</td><td><span style=white-space:pre-wrap>Mapiri!?p&amp;ana           </span></td><td>94663.0</td><td><span style=white-space:pre-wrap>       NA</span></td><td> 1048</td><td> 84</td><td><span style=white-space:pre-wrap>Región Llano     </span></td><td><span style=white-space:pre-wrap>Mapiripana           </span></td></tr>\n\t<tr><td>GU%ai&gt;nía </td><td>94</td><td><span style=white-space:pre-wrap>San'   Fe&amp;lipe          </span></td><td>94883.0</td><td> 2926.365</td><td> 1706</td><td> 89</td><td><span style=white-space:pre-wrap>Región Llano     </span></td><td><span style=white-space:pre-wrap>San Felipe           </span></td></tr>\n\t<tr><td><span style=white-space:pre-wrap>Guain&gt;ía  </span></td><td>94</td><td><span style=white-space:pre-wrap>Puert'o  ! Colombia     </span></td><td>94884.0</td><td>15700.713</td><td> 1934</td><td> 93</td><td><span style=white-space:pre-wrap>Región Llano     </span></td><td><span style=white-space:pre-wrap>Puerto Colombia      </span></td></tr>\n\t<tr><td>GU%ainía  </td><td>94</td><td>La   Guadalu!pe         </td><td>94885.0</td><td> 1178.871</td><td>  288</td><td> 96</td><td>Región Llano     </td><td>La Guadalupe         </td></tr>\n\t<tr><td>GU%ainía  </td><td>94</td><td>Cacah!ual               </td><td>94886.0</td><td> 2335.325</td><td>  886</td><td> 85</td><td>Región Llano     </td><td>Cacahual             </td></tr>\n\t<tr><td><span style=white-space:pre-wrap>GUainía   </span></td><td>94</td><td><span style=white-space:pre-wrap>Pana ? &amp; Pana #         </span></td><td>94887.0</td><td>10227.147</td><td> 1959</td><td> 93</td><td><span style=white-space:pre-wrap>Región Llano     </span></td><td><span style=white-space:pre-wrap>Pana Pana            </span></td></tr>\n\t<tr><td><span style=white-space:pre-wrap>GU%ainía  </span></td><td>94</td><td><span style=white-space:pre-wrap>&amp;  Mo#richal            </span></td><td>94888.0</td><td> 8555.058</td><td><span style=white-space:pre-wrap>  937</span></td><td>100</td><td><span style=white-space:pre-wrap>Región Llano     </span></td><td><span style=white-space:pre-wrap>Morichal             </span></td></tr>\n\t<tr><td>GUavi&gt;are </td><td>95</td><td><span style=white-space:pre-wrap>San&amp; José del Guaviare  </span></td><td>95001.0</td><td>16768.515</td><td>54333</td><td> 70</td><td><span style=white-space:pre-wrap>Región Llano     </span></td><td>San José Del Guaviare</td></tr>\n\t<tr><td><span style=white-space:pre-wrap>Guaviare  </span></td><td>95</td><td><span style=white-space:pre-wrap>C'alam?&amp;a!r             </span></td><td>95015.0</td><td>13556.415</td><td> 9801</td><td> 81</td><td><span style=white-space:pre-wrap>Región Llano     </span></td><td><span style=white-space:pre-wrap>Calamar              </span></td></tr>\n\t<tr><td>GUaviare  </td><td>95</td><td>El  *? Retorno          </td><td>95025.0</td><td>12442.226</td><td>13684</td><td> 77</td><td>Región Llano     </td><td>El Retorno           </td></tr>\n\t<tr><td>GUa%viare </td><td>95</td><td><span style=white-space:pre-wrap>Mi&amp;!rafl'?or*es         </span></td><td>95200.0</td><td>12808.077</td><td> 6898</td><td> 81</td><td><span style=white-space:pre-wrap>Región Llano     </span></td><td><span style=white-space:pre-wrap>Miraflores           </span></td></tr>\n\t<tr><td>Vaupés    </td><td>97</td><td>M*it!ú                  </td><td>97001.0</td><td>16215.737</td><td>31302</td><td> 77</td><td>Región Llano     </td><td>Mitú                 </td></tr>\n\t<tr><td><span style=white-space:pre-wrap>Va%Up&gt;és  </span></td><td>97</td><td><span style=white-space:pre-wrap>C!a*#ruru               </span></td><td>97161.0</td><td> 6368.486</td><td> 3056</td><td> 85</td><td><span style=white-space:pre-wrap>Región Llano     </span></td><td><span style=white-space:pre-wrap>Caruru               </span></td></tr>\n\t<tr><td><span style=white-space:pre-wrap>Vaup&gt;és   </span></td><td>97</td><td><span style=white-space:pre-wrap>P*a!coa                 </span></td><td>97511.0</td><td>13993.251</td><td> 4229</td><td> 91</td><td><span style=white-space:pre-wrap>Región Llano     </span></td><td><span style=white-space:pre-wrap>Pacoa                </span></td></tr>\n\t<tr><td><span style=white-space:pre-wrap>Vaupés    </span></td><td>97</td><td><span style=white-space:pre-wrap>Tara#?ir&amp;*a'            </span></td><td>97666.0</td><td> 6510.247</td><td> 2318</td><td> 97</td><td><span style=white-space:pre-wrap>Región Llano     </span></td><td><span style=white-space:pre-wrap>Taraira              </span></td></tr>\n\t<tr><td>Va%Upés   </td><td>97</td><td>Papuna!ua               </td><td>97777.0</td><td> 5551.154</td><td>  749</td><td> 95</td><td>Región Llano     </td><td>Papunaua             </td></tr>\n\t<tr><td><span style=white-space:pre-wrap>Vaup&gt;és   </span></td><td>97</td><td><span style=white-space:pre-wrap>Y#*ava'ra?t!é           </span></td><td>97889.0</td><td> 4660.406</td><td> 1067</td><td> 92</td><td><span style=white-space:pre-wrap>Región Llano     </span></td><td><span style=white-space:pre-wrap>Yavaraté             </span></td></tr>\n\t<tr><td>Vi%ch&gt;ada </td><td>99</td><td><span style=white-space:pre-wrap>Puerto   Carr#eño'      </span></td><td>99001.0</td><td>12204.951</td><td>20474</td><td> 81</td><td><span style=white-space:pre-wrap>Región Llano     </span></td><td><span style=white-space:pre-wrap>Puerto Carreño       </span></td></tr>\n\t<tr><td><span style=white-space:pre-wrap>Vichada   </span></td><td>99</td><td><span style=white-space:pre-wrap>La Prima&amp;*'!ve#ra       </span></td><td>99524.0</td><td>18569.338</td><td> 9799</td><td> 85</td><td><span style=white-space:pre-wrap>Región Llano     </span></td><td><span style=white-space:pre-wrap>La Primavera         </span></td></tr>\n\t<tr><td>Vi%ch&gt;ada </td><td>99</td><td><span style=white-space:pre-wrap>Santa   ?Rosalía        </span></td><td>99624.0</td><td> 3691.869</td><td> 4130</td><td> 81</td><td><span style=white-space:pre-wrap>Región Llano     </span></td><td><span style=white-space:pre-wrap>Santa Rosalía        </span></td></tr>\n\t<tr><td>Vichada   </td><td>99</td><td>C#u'?mar!ibo            </td><td>99773.0</td><td>65597.212</td><td>76196</td><td> 87</td><td>Región Llano     </td><td>Cumaribo             </td></tr>\n</tbody>\n</table>\n",
      "text/markdown": "\nA tibble: 1118 x 9\n\n| Departamento &lt;chr&gt; | Dep &lt;chr&gt; | Municipio &lt;chr&gt; | Depmun &lt;chr&gt; | Superficie &lt;dbl&gt; | Poblacion &lt;dbl&gt; | Irural &lt;dbl&gt; | Region &lt;chr&gt; | Municipio2 &lt;chr&gt; |\n|---|---|---|---|---|---|---|---|---|\n| Ant%ioqUia  | 05 | Mede&amp;l'lín               | 05001 |  374.83062 | 2483545 |  5 | Región Eje Cafetero | Medellín             |\n| Ant%ioquia  | 05 | Abej!&amp;orr*al             | 05002 |  507.13411 |   20258 | 45 | Región Eje Cafetero | Abejorral            |\n| Ant%ioquia  | 05 | A?br'&amp;iaquí              | 05004 |  296.95598 |    2710 | 58 | Región Eje Cafetero | Abriaquí             |\n| Ant%io&gt;qUia | 05 | Alej#andr&amp;'ía            | 05021 |  128.93215 |    4669 | 48 | Región Eje Cafetero | Alejandría           |\n| Antioquia   | 05 | Am#a?&amp;'*gá               | 05030 |   84.13248 |   30777 | 28 | Región Eje Cafetero | Amagá                |\n| AntioqUia   | 05 | Am?al#'*fi               | 05031 | 1209.12687 |   26552 | 54 | Región Eje Cafetero | Amalfi               |\n| AntioqUia   | 05 | Andes*!                  | 05034 |  402.50256 |   43713 | 38 | Región Eje Cafetero | Andes                |\n| Ant%ioquia  | 05 | &amp;# Angelópoli?s          | 05036 |   81.87630 |    5790 | 37 | Región Eje Cafetero | Angelópolis          |\n| Antioq&gt;Uia  | 05 | Ang#'ostura              | 05038 |  338.66648 |   11462 | 47 | Región Eje Cafetero | Angostura            |\n| Ant%ioquia  | 05 | An*'#?orí                | 05040 | 1413.77390 |   18737 | 58 | Región Eje Cafetero | Anorí                |\n| Antioquia   | 05 | San'!tafé de Antioqu&amp;*ia | 05042 |  525.60137 |   26598 | 45 | Región Eje Cafetero | Santafé De Antioquia |\n| Ant%ioquia  | 05 | !An*?&amp;za                 | 05044 |  255.92331 |    7085 | 48 | Región Eje Cafetero | Anza                 |\n| Antioq&gt;uia  | 05 | A?pa&amp;r't#adó             | 05045 |  535.17238 |  124647 | 34 | Región Eje Cafetero | Apartadó             |\n| Antioq&gt;Uia  | 05 | Arbo&amp;le!'tes             | 05051 |  754.25190 |   29942 | 48 | Región Eje Cafetero | Arboletes            |\n| Ant%ioqUia  | 05 | # Argel!&amp;ia              | 05055 |  245.34178 |    7577 | 46 | Región Eje Cafetero | Argelia              |\n| Antioquia   | 05 | Arme'ni!a                | 05059 |  110.43497 |    5085 | 43 | Región Eje Cafetero | Armenia              |\n| Ant%ioq&gt;uia | 05 | Bar#b*?&amp;osa              | 05079 |  205.66617 |   53242 | 32 | Región Eje Cafetero | Barbosa              |\n| Ant%ioquia  | 05 | &amp;B'elmi!ra               | 05086 |  296.15317 |    6054 | 51 | Región Eje Cafetero | Belmira              |\n| Ant%ioquia  | 05 | B'el&amp;lo                  | 05088 |  147.75842 |  538527 | 12 | Región Eje Cafetero | Bello                |\n| Antioquia   | 05 | '#  &amp;Beta!?nia           | 05091 |  180.52599 |   10274 | 42 | Región Eje Cafetero | Betania              |\n| Ant%ioqUia  | 05 | Betulia                  | 05093 |  262.36750 |   15736 | 42 | Región Eje Cafetero | Betulia              |\n| Ant%ioqUia  | 05 | Ciudad? Bolívar          | 05101 |  260.44611 |   26160 | 38 | Región Eje Cafetero | Ciudad Bolívar       |\n| Ant%ioqUia  | 05 | Briceño                  | 05107 |  376.34676 |    8065 | 52 | Región Eje Cafetero | Briceño              |\n| Ant%ioquia  | 05 | B'*ur!iticá              | 05113 |  355.21026 |    9502 | 52 | Región Eje Cafetero | Buriticá             |\n| AntioqUia   | 05 | '  !C*áceres             | 05120 | 1873.80283 |   29716 | 56 | Región Eje Cafetero | Cáceres              |\n| AntioqUia   | 05 | C#?&amp;aicedo               | 05125 |  200.12988 |    8420 | 46 | Región Eje Cafetero | Caicedo              |\n| Antioquia   | 05 | # C!a*?ldas              | 05129 |  132.75594 |   81658 | 24 | Región Eje Cafetero | Caldas               |\n| Ant%io&gt;quia | 05 | C'am#p*a&amp;mento           | 05134 |  206.34335 |    9202 | 46 | Región Eje Cafetero | Campamento           |\n| AntioqUia   | 05 | Ca&amp;ñasgord?as            | 05138 |  364.83123 |   15490 | 46 | Región Eje Cafetero | Cañasgordas          |\n| Antioq&gt;Uia  | 05 | Car&amp;'aco?lí              | 05142 |  262.79878 |    4537 | 53 | Región Eje Cafetero | Caracolí             |\n| ... | ... | ... | ... | ... | ... | ... | ... | ... |\n| Amazonas   | 91 | La   ?Vict!ori'&amp;#a       | 91430.0 |  1432.795 |   652 |  85 | Región Centro Sur | La Victoria           |\n| Ama%zonas  | 91 | Mirit#i Par?aná          | 91460.0 | 16867.533 |  1860 | 100 | Región Centro Sur | Miriti Paraná         |\n| Amazo&gt;nas  | 91 | Pu?erto !Alegr*ía        | 91530.0 |  8494.182 |   759 |  96 | Región Centro Sur | Puerto Alegría        |\n| Ama%zo&gt;nas | 91 | P#&amp;u'erto Arica          | 91536.0 | 13791.327 |  1027 | 100 | Región Centro Sur | Puerto Arica          |\n| Ama%zo&gt;nas | 91 | Puer*to #Na?riño         | 91540.0 |  1509.204 |  9997 |  72 | Región Centro Sur | Puerto Nariño         |\n| Ama%zonas  | 91 | P#u!e*rto &amp;  Santander ? | 91669.0 | 14731.088 |  1765 |  96 | Región Centro Sur | Puerto Santander      |\n| Amazonas   | 91 | Tara?pa'cá               | 91798.0 |  9195.878 |  3869 |  90 | Región Centro Sur | Tarapacá              |\n| Guain&gt;ía   | 94 | I?nírid#a                | 94001.0 | 15970.199 | 32673 |  81 | Región Llano      | Inírida               |\n| Guainía    | 94 | ?B*arr#anco Min&amp;'as      | 94343.0 | 14395.678 |  8042 |  87 | Región Llano      | Barranco Minas        |\n| Guai&gt;nía   | 94 | Mapiri!?p&amp;ana            | 94663.0 |        NA |  1048 |  84 | Región Llano      | Mapiripana            |\n| GU%ai&gt;nía  | 94 | San'   Fe&amp;lipe           | 94883.0 |  2926.365 |  1706 |  89 | Región Llano      | San Felipe            |\n| Guain&gt;ía   | 94 | Puert'o  ! Colombia      | 94884.0 | 15700.713 |  1934 |  93 | Región Llano      | Puerto Colombia       |\n| GU%ainía   | 94 | La   Guadalu!pe          | 94885.0 |  1178.871 |   288 |  96 | Región Llano      | La Guadalupe          |\n| GU%ainía   | 94 | Cacah!ual                | 94886.0 |  2335.325 |   886 |  85 | Región Llano      | Cacahual              |\n| GUainía    | 94 | Pana ? &amp; Pana #          | 94887.0 | 10227.147 |  1959 |  93 | Región Llano      | Pana Pana             |\n| GU%ainía   | 94 | &amp;  Mo#richal             | 94888.0 |  8555.058 |   937 | 100 | Región Llano      | Morichal              |\n| GUavi&gt;are  | 95 | San&amp; José del Guaviare   | 95001.0 | 16768.515 | 54333 |  70 | Región Llano      | San José Del Guaviare |\n| Guaviare   | 95 | C'alam?&amp;a!r              | 95015.0 | 13556.415 |  9801 |  81 | Región Llano      | Calamar               |\n| GUaviare   | 95 | El  *? Retorno           | 95025.0 | 12442.226 | 13684 |  77 | Región Llano      | El Retorno            |\n| GUa%viare  | 95 | Mi&amp;!rafl'?or*es          | 95200.0 | 12808.077 |  6898 |  81 | Región Llano      | Miraflores            |\n| Vaupés     | 97 | M*it!ú                   | 97001.0 | 16215.737 | 31302 |  77 | Región Llano      | Mitú                  |\n| Va%Up&gt;és   | 97 | C!a*#ruru                | 97161.0 |  6368.486 |  3056 |  85 | Región Llano      | Caruru                |\n| Vaup&gt;és    | 97 | P*a!coa                  | 97511.0 | 13993.251 |  4229 |  91 | Región Llano      | Pacoa                 |\n| Vaupés     | 97 | Tara#?ir&amp;*a'             | 97666.0 |  6510.247 |  2318 |  97 | Región Llano      | Taraira               |\n| Va%Upés    | 97 | Papuna!ua                | 97777.0 |  5551.154 |   749 |  95 | Región Llano      | Papunaua              |\n| Vaup&gt;és    | 97 | Y#*ava'ra?t!é            | 97889.0 |  4660.406 |  1067 |  92 | Región Llano      | Yavaraté              |\n| Vi%ch&gt;ada  | 99 | Puerto   Carr#eño'       | 99001.0 | 12204.951 | 20474 |  81 | Región Llano      | Puerto Carreño        |\n| Vichada    | 99 | La Prima&amp;*'!ve#ra        | 99524.0 | 18569.338 |  9799 |  85 | Región Llano      | La Primavera          |\n| Vi%ch&gt;ada  | 99 | Santa   ?Rosalía         | 99624.0 |  3691.869 |  4130 |  81 | Región Llano      | Santa Rosalía         |\n| Vichada    | 99 | C#u'?mar!ibo             | 99773.0 | 65597.212 | 76196 |  87 | Región Llano      | Cumaribo              |\n\n",
      "text/latex": "A tibble: 1118 x 9\n\\begin{tabular}{lllllllll}\n Departamento & Dep & Municipio & Depmun & Superficie & Poblacion & Irural & Region & Municipio2\\\\\n <chr> & <chr> & <chr> & <chr> & <dbl> & <dbl> & <dbl> & <chr> & <chr>\\\\\n\\hline\n\t Ant\\%ioqUia  & 05 & Mede\\&l'lín               & 05001 &  374.83062 & 2483545 &  5 & Región Eje Cafetero & Medellín            \\\\\n\t Ant\\%ioquia  & 05 & Abej!\\&orr*al             & 05002 &  507.13411 &   20258 & 45 & Región Eje Cafetero & Abejorral           \\\\\n\t Ant\\%ioquia  & 05 & A?br'\\&iaquí              & 05004 &  296.95598 &    2710 & 58 & Región Eje Cafetero & Abriaquí            \\\\\n\t Ant\\%io>qUia & 05 & Alej\\#andr\\&'ía            & 05021 &  128.93215 &    4669 & 48 & Región Eje Cafetero & Alejandría          \\\\\n\t Antioquia   & 05 & Am\\#a?\\&'*gá               & 05030 &   84.13248 &   30777 & 28 & Región Eje Cafetero & Amagá               \\\\\n\t AntioqUia   & 05 & Am?al\\#'*fi               & 05031 & 1209.12687 &   26552 & 54 & Región Eje Cafetero & Amalfi              \\\\\n\t AntioqUia   & 05 & Andes*!                  & 05034 &  402.50256 &   43713 & 38 & Región Eje Cafetero & Andes               \\\\\n\t Ant\\%ioquia  & 05 & \\&\\# Angelópoli?s          & 05036 &   81.87630 &    5790 & 37 & Región Eje Cafetero & Angelópolis         \\\\\n\t Antioq>Uia  & 05 & Ang\\#'ostura              & 05038 &  338.66648 &   11462 & 47 & Región Eje Cafetero & Angostura           \\\\\n\t Ant\\%ioquia  & 05 & An*'\\#?orí                & 05040 & 1413.77390 &   18737 & 58 & Región Eje Cafetero & Anorí               \\\\\n\t Antioquia   & 05 & San'!tafé de Antioqu\\&*ia & 05042 &  525.60137 &   26598 & 45 & Región Eje Cafetero & Santafé De Antioquia\\\\\n\t Ant\\%ioquia  & 05 & !An*?\\&za                 & 05044 &  255.92331 &    7085 & 48 & Región Eje Cafetero & Anza                \\\\\n\t Antioq>uia  & 05 & A?pa\\&r't\\#adó             & 05045 &  535.17238 &  124647 & 34 & Región Eje Cafetero & Apartadó            \\\\\n\t Antioq>Uia  & 05 & Arbo\\&le!'tes             & 05051 &  754.25190 &   29942 & 48 & Región Eje Cafetero & Arboletes           \\\\\n\t Ant\\%ioqUia  & 05 & \\# Argel!\\&ia              & 05055 &  245.34178 &    7577 & 46 & Región Eje Cafetero & Argelia             \\\\\n\t Antioquia   & 05 & Arme'ni!a                & 05059 &  110.43497 &    5085 & 43 & Región Eje Cafetero & Armenia             \\\\\n\t Ant\\%ioq>uia & 05 & Bar\\#b*?\\&osa              & 05079 &  205.66617 &   53242 & 32 & Región Eje Cafetero & Barbosa             \\\\\n\t Ant\\%ioquia  & 05 & \\&B'elmi!ra               & 05086 &  296.15317 &    6054 & 51 & Región Eje Cafetero & Belmira             \\\\\n\t Ant\\%ioquia  & 05 & B'el\\&lo                  & 05088 &  147.75842 &  538527 & 12 & Región Eje Cafetero & Bello               \\\\\n\t Antioquia   & 05 & '\\#  \\&Beta!?nia           & 05091 &  180.52599 &   10274 & 42 & Región Eje Cafetero & Betania             \\\\\n\t Ant\\%ioqUia  & 05 & Betulia                  & 05093 &  262.36750 &   15736 & 42 & Región Eje Cafetero & Betulia             \\\\\n\t Ant\\%ioqUia  & 05 & Ciudad? Bolívar          & 05101 &  260.44611 &   26160 & 38 & Región Eje Cafetero & Ciudad Bolívar      \\\\\n\t Ant\\%ioqUia  & 05 & Briceño                  & 05107 &  376.34676 &    8065 & 52 & Región Eje Cafetero & Briceño             \\\\\n\t Ant\\%ioquia  & 05 & B'*ur!iticá              & 05113 &  355.21026 &    9502 & 52 & Región Eje Cafetero & Buriticá            \\\\\n\t AntioqUia   & 05 & '  !C*áceres             & 05120 & 1873.80283 &   29716 & 56 & Región Eje Cafetero & Cáceres             \\\\\n\t AntioqUia   & 05 & C\\#?\\&aicedo               & 05125 &  200.12988 &    8420 & 46 & Región Eje Cafetero & Caicedo             \\\\\n\t Antioquia   & 05 & \\# C!a*?ldas              & 05129 &  132.75594 &   81658 & 24 & Región Eje Cafetero & Caldas              \\\\\n\t Ant\\%io>quia & 05 & C'am\\#p*a\\&mento           & 05134 &  206.34335 &    9202 & 46 & Región Eje Cafetero & Campamento          \\\\\n\t AntioqUia   & 05 & Ca\\&ñasgord?as            & 05138 &  364.83123 &   15490 & 46 & Región Eje Cafetero & Cañasgordas         \\\\\n\t Antioq>Uia  & 05 & Car\\&'aco?lí              & 05142 &  262.79878 &    4537 & 53 & Región Eje Cafetero & Caracolí            \\\\\n\t ... & ... & ... & ... & ... & ... & ... & ... & ...\\\\\n\t Amazonas   & 91 & La   ?Vict!ori'\\&\\#a       & 91430.0 &  1432.795 &   652 &  85 & Región Centro Sur & La Victoria          \\\\\n\t Ama\\%zonas  & 91 & Mirit\\#i Par?aná          & 91460.0 & 16867.533 &  1860 & 100 & Región Centro Sur & Miriti Paraná        \\\\\n\t Amazo>nas  & 91 & Pu?erto !Alegr*ía        & 91530.0 &  8494.182 &   759 &  96 & Región Centro Sur & Puerto Alegría       \\\\\n\t Ama\\%zo>nas & 91 & P\\#\\&u'erto Arica          & 91536.0 & 13791.327 &  1027 & 100 & Región Centro Sur & Puerto Arica         \\\\\n\t Ama\\%zo>nas & 91 & Puer*to \\#Na?riño         & 91540.0 &  1509.204 &  9997 &  72 & Región Centro Sur & Puerto Nariño        \\\\\n\t Ama\\%zonas  & 91 & P\\#u!e*rto \\&  Santander ? & 91669.0 & 14731.088 &  1765 &  96 & Región Centro Sur & Puerto Santander     \\\\\n\t Amazonas   & 91 & Tara?pa'cá               & 91798.0 &  9195.878 &  3869 &  90 & Región Centro Sur & Tarapacá             \\\\\n\t Guain>ía   & 94 & I?nírid\\#a                & 94001.0 & 15970.199 & 32673 &  81 & Región Llano      & Inírida              \\\\\n\t Guainía    & 94 & ?B*arr\\#anco Min\\&'as      & 94343.0 & 14395.678 &  8042 &  87 & Región Llano      & Barranco Minas       \\\\\n\t Guai>nía   & 94 & Mapiri!?p\\&ana            & 94663.0 &        NA &  1048 &  84 & Región Llano      & Mapiripana           \\\\\n\t GU\\%ai>nía  & 94 & San'   Fe\\&lipe           & 94883.0 &  2926.365 &  1706 &  89 & Región Llano      & San Felipe           \\\\\n\t Guain>ía   & 94 & Puert'o  ! Colombia      & 94884.0 & 15700.713 &  1934 &  93 & Región Llano      & Puerto Colombia      \\\\\n\t GU\\%ainía   & 94 & La   Guadalu!pe          & 94885.0 &  1178.871 &   288 &  96 & Región Llano      & La Guadalupe         \\\\\n\t GU\\%ainía   & 94 & Cacah!ual                & 94886.0 &  2335.325 &   886 &  85 & Región Llano      & Cacahual             \\\\\n\t GUainía    & 94 & Pana ? \\& Pana \\#          & 94887.0 & 10227.147 &  1959 &  93 & Región Llano      & Pana Pana            \\\\\n\t GU\\%ainía   & 94 & \\&  Mo\\#richal             & 94888.0 &  8555.058 &   937 & 100 & Región Llano      & Morichal             \\\\\n\t GUavi>are  & 95 & San\\& José del Guaviare   & 95001.0 & 16768.515 & 54333 &  70 & Región Llano      & San José Del Guaviare\\\\\n\t Guaviare   & 95 & C'alam?\\&a!r              & 95015.0 & 13556.415 &  9801 &  81 & Región Llano      & Calamar              \\\\\n\t GUaviare   & 95 & El  *? Retorno           & 95025.0 & 12442.226 & 13684 &  77 & Región Llano      & El Retorno           \\\\\n\t GUa\\%viare  & 95 & Mi\\&!rafl'?or*es          & 95200.0 & 12808.077 &  6898 &  81 & Región Llano      & Miraflores           \\\\\n\t Vaupés     & 97 & M*it!ú                   & 97001.0 & 16215.737 & 31302 &  77 & Región Llano      & Mitú                 \\\\\n\t Va\\%Up>és   & 97 & C!a*\\#ruru                & 97161.0 &  6368.486 &  3056 &  85 & Región Llano      & Caruru               \\\\\n\t Vaup>és    & 97 & P*a!coa                  & 97511.0 & 13993.251 &  4229 &  91 & Región Llano      & Pacoa                \\\\\n\t Vaupés     & 97 & Tara\\#?ir\\&*a'             & 97666.0 &  6510.247 &  2318 &  97 & Región Llano      & Taraira              \\\\\n\t Va\\%Upés    & 97 & Papuna!ua                & 97777.0 &  5551.154 &   749 &  95 & Región Llano      & Papunaua             \\\\\n\t Vaup>és    & 97 & Y\\#*ava'ra?t!é            & 97889.0 &  4660.406 &  1067 &  92 & Región Llano      & Yavaraté             \\\\\n\t Vi\\%ch>ada  & 99 & Puerto   Carr\\#eño'       & 99001.0 & 12204.951 & 20474 &  81 & Región Llano      & Puerto Carreño       \\\\\n\t Vichada    & 99 & La Prima\\&*'!ve\\#ra        & 99524.0 & 18569.338 &  9799 &  85 & Región Llano      & La Primavera         \\\\\n\t Vi\\%ch>ada  & 99 & Santa   ?Rosalía         & 99624.0 &  3691.869 &  4130 &  81 & Región Llano      & Santa Rosalía        \\\\\n\t Vichada    & 99 & C\\#u'?mar!ibo             & 99773.0 & 65597.212 & 76196 &  87 & Región Llano      & Cumaribo             \\\\\n\\end{tabular}\n",
      "text/plain": "     Departamento Dep Municipio                Depmun  Superficie Poblacion\n1    Ant%ioqUia   05  Mede&l'lín               05001    374.83062 2483545  \n2    Ant%ioquia   05  Abej!&orr*al             05002    507.13411   20258  \n3    Ant%ioquia   05  A?br'&iaquí              05004    296.95598    2710  \n4    Ant%io>qUia  05  Alej#andr&'ía            05021    128.93215    4669  \n5    Antioquia    05  Am#a?&'*gá               05030     84.13248   30777  \n6    AntioqUia    05  Am?al#'*fi               05031   1209.12687   26552  \n7    AntioqUia    05  Andes*!                  05034    402.50256   43713  \n8    Ant%ioquia   05  &# Angelópoli?s          05036     81.87630    5790  \n9    Antioq>Uia   05  Ang#'ostura              05038    338.66648   11462  \n10   Ant%ioquia   05  An*'#?orí                05040   1413.77390   18737  \n11   Antioquia    05  San'!tafé de Antioqu&*ia 05042    525.60137   26598  \n12   Ant%ioquia   05  !An*?&za                 05044    255.92331    7085  \n13   Antioq>uia   05  A?pa&r't#adó             05045    535.17238  124647  \n14   Antioq>Uia   05  Arbo&le!'tes             05051    754.25190   29942  \n15   Ant%ioqUia   05  # Argel!&ia              05055    245.34178    7577  \n16   Antioquia    05  Arme'ni!a                05059    110.43497    5085  \n17   Ant%ioq>uia  05  Bar#b*?&osa              05079    205.66617   53242  \n18   Ant%ioquia   05  &B'elmi!ra               05086    296.15317    6054  \n19   Ant%ioquia   05  B'el&lo                  05088    147.75842  538527  \n20   Antioquia    05  '#  &Beta!?nia           05091    180.52599   10274  \n21   Ant%ioqUia   05  Betulia                  05093    262.36750   15736  \n22   Ant%ioqUia   05  Ciudad? Bolívar          05101    260.44611   26160  \n23   Ant%ioqUia   05  Briceño                  05107    376.34676    8065  \n24   Ant%ioquia   05  B'*ur!iticá              05113    355.21026    9502  \n25   AntioqUia    05  '  !C*áceres             05120   1873.80283   29716  \n26   AntioqUia    05  C#?&aicedo               05125    200.12988    8420  \n27   Antioquia    05  # C!a*?ldas              05129    132.75594   81658  \n28   Ant%io>quia  05  C'am#p*a&mento           05134    206.34335    9202  \n29   AntioqUia    05  Ca&ñasgord?as            05138    364.83123   15490  \n30   Antioq>Uia   05  Car&'aco?lí              05142    262.79878    4537  \n...  ...          ... ...                      ...     ...        ...      \n1089 Amazonas     91  La   ?Vict!ori'&#a       91430.0  1432.795    652    \n1090 Ama%zonas    91  Mirit#i Par?aná          91460.0 16867.533   1860    \n1091 Amazo>nas    91  Pu?erto !Alegr*ía        91530.0  8494.182    759    \n1092 Ama%zo>nas   91  P#&u'erto Arica          91536.0 13791.327   1027    \n1093 Ama%zo>nas   91  Puer*to #Na?riño         91540.0  1509.204   9997    \n1094 Ama%zonas    91  P#u!e*rto &  Santander ? 91669.0 14731.088   1765    \n1095 Amazonas     91  Tara?pa'cá               91798.0  9195.878   3869    \n1096 Guain>ía     94  I?nírid#a                94001.0 15970.199  32673    \n1097 Guainía      94  ?B*arr#anco Min&'as      94343.0 14395.678   8042    \n1098 Guai>nía     94  Mapiri!?p&ana            94663.0        NA   1048    \n1099 GU%ai>nía    94  San'   Fe&lipe           94883.0  2926.365   1706    \n1100 Guain>ía     94  Puert'o  ! Colombia      94884.0 15700.713   1934    \n1101 GU%ainía     94  La   Guadalu!pe          94885.0  1178.871    288    \n1102 GU%ainía     94  Cacah!ual                94886.0  2335.325    886    \n1103 GUainía      94  Pana ? & Pana #          94887.0 10227.147   1959    \n1104 GU%ainía     94  &  Mo#richal             94888.0  8555.058    937    \n1105 GUavi>are    95  San& José del Guaviare   95001.0 16768.515  54333    \n1106 Guaviare     95  C'alam?&a!r              95015.0 13556.415   9801    \n1107 GUaviare     95  El  *? Retorno           95025.0 12442.226  13684    \n1108 GUa%viare    95  Mi&!rafl'?or*es          95200.0 12808.077   6898    \n1109 Vaupés       97  M*it!ú                   97001.0 16215.737  31302    \n1110 Va%Up>és     97  C!a*#ruru                97161.0  6368.486   3056    \n1111 Vaup>és      97  P*a!coa                  97511.0 13993.251   4229    \n1112 Vaupés       97  Tara#?ir&*a'             97666.0  6510.247   2318    \n1113 Va%Upés      97  Papuna!ua                97777.0  5551.154    749    \n1114 Vaup>és      97  Y#*ava'ra?t!é            97889.0  4660.406   1067    \n1115 Vi%ch>ada    99  Puerto   Carr#eño'       99001.0 12204.951  20474    \n1116 Vichada      99  La Prima&*'!ve#ra        99524.0 18569.338   9799    \n1117 Vi%ch>ada    99  Santa   ?Rosalía         99624.0  3691.869   4130    \n1118 Vichada      99  C#u'?mar!ibo             99773.0 65597.212  76196    \n     Irural Region              Municipio2           \n1     5     Región Eje Cafetero Medellín             \n2    45     Región Eje Cafetero Abejorral            \n3    58     Región Eje Cafetero Abriaquí             \n4    48     Región Eje Cafetero Alejandría           \n5    28     Región Eje Cafetero Amagá                \n6    54     Región Eje Cafetero Amalfi               \n7    38     Región Eje Cafetero Andes                \n8    37     Región Eje Cafetero Angelópolis          \n9    47     Región Eje Cafetero Angostura            \n10   58     Región Eje Cafetero Anorí                \n11   45     Región Eje Cafetero Santafé De Antioquia \n12   48     Región Eje Cafetero Anza                 \n13   34     Región Eje Cafetero Apartadó             \n14   48     Región Eje Cafetero Arboletes            \n15   46     Región Eje Cafetero Argelia              \n16   43     Región Eje Cafetero Armenia              \n17   32     Región Eje Cafetero Barbosa              \n18   51     Región Eje Cafetero Belmira              \n19   12     Región Eje Cafetero Bello                \n20   42     Región Eje Cafetero Betania              \n21   42     Región Eje Cafetero Betulia              \n22   38     Región Eje Cafetero Ciudad Bolívar       \n23   52     Región Eje Cafetero Briceño              \n24   52     Región Eje Cafetero Buriticá             \n25   56     Región Eje Cafetero Cáceres              \n26   46     Región Eje Cafetero Caicedo              \n27   24     Región Eje Cafetero Caldas               \n28   46     Región Eje Cafetero Campamento           \n29   46     Región Eje Cafetero Cañasgordas          \n30   53     Región Eje Cafetero Caracolí             \n...  ...    ...                 ...                  \n1089  85    Región Centro Sur   La Victoria          \n1090 100    Región Centro Sur   Miriti Paraná        \n1091  96    Región Centro Sur   Puerto Alegría       \n1092 100    Región Centro Sur   Puerto Arica         \n1093  72    Región Centro Sur   Puerto Nariño        \n1094  96    Región Centro Sur   Puerto Santander     \n1095  90    Región Centro Sur   Tarapacá             \n1096  81    Región Llano        Inírida              \n1097  87    Región Llano        Barranco Minas       \n1098  84    Región Llano        Mapiripana           \n1099  89    Región Llano        San Felipe           \n1100  93    Región Llano        Puerto Colombia      \n1101  96    Región Llano        La Guadalupe         \n1102  85    Región Llano        Cacahual             \n1103  93    Región Llano        Pana Pana            \n1104 100    Región Llano        Morichal             \n1105  70    Región Llano        San José Del Guaviare\n1106  81    Región Llano        Calamar              \n1107  77    Región Llano        El Retorno           \n1108  81    Región Llano        Miraflores           \n1109  77    Región Llano        Mitú                 \n1110  85    Región Llano        Caruru               \n1111  91    Región Llano        Pacoa                \n1112  97    Región Llano        Taraira              \n1113  95    Región Llano        Papunaua             \n1114  92    Región Llano        Yavaraté             \n1115  81    Región Llano        Puerto Carreño       \n1116  85    Región Llano        La Primavera         \n1117  81    Región Llano        Santa Rosalía        \n1118  87    Región Llano        Cumaribo             "
     },
     "metadata": {},
     "output_type": "display_data"
    }
   ]
  },
  {
   "cell_type": "code",
   "metadata": {
    "tags": [],
    "cell_id": "799847e3b7d142fa9876b86653ee54c8",
    "source_hash": "b4a9f0a7",
    "execution_start": 1676390998759,
    "execution_millis": 0,
    "deepnote_to_be_reexecuted": false,
    "deepnote_cell_type": "code",
    "deepnote_cell_height": 130
   },
   "source": "municipiosDf <- within(municipiosDf,{\n                    Municipio <- Municipio2\n                    rm(Municipio2)\n                    })",
   "execution_count": 4,
   "outputs": []
  },
  {
   "cell_type": "code",
   "metadata": {
    "tags": [],
    "cell_id": "5d6a08b537e74fadb4ea32a0a0bcfc2e",
    "source_hash": "d66b3c8d",
    "execution_start": 1676390998762,
    "execution_millis": 6,
    "deepnote_to_be_reexecuted": false,
    "deepnote_cell_type": "code",
    "deepnote_cell_height": 682,
    "deepnote_output_heights": [
     392
    ]
   },
   "source": "municipiosDf <- within(municipiosDf,{\n                    Departamento2 <- str_to_lower(Departamento)\n                    Departamento2 <- str_replace_all(Departamento2,\"[^a-záéíóúüñ ]\",\"\")\n                    Departamento2 <- str_squish(Departamento2)\n                    Departamento2 <- str_to_title(Departamento2)\n                    })\nhead(municipiosDf[,c(\"Departamento\",\"Departamento2\")],n=10)\n\nmunicipiosDf <- within(municipiosDf,{\n                    Departamento <- Departamento2\n                    rm(Departamento2)\n                    })",
   "execution_count": 5,
   "outputs": [
    {
     "data": {
      "text/html": "<table class=\"dataframe\">\n<caption>A tibble: 10 x 2</caption>\n<thead>\n\t<tr><th scope=col>Departamento</th><th scope=col>Departamento2</th></tr>\n\t<tr><th scope=col>&lt;chr&gt;</th><th scope=col>&lt;chr&gt;</th></tr>\n</thead>\n<tbody>\n\t<tr><td>Ant%ioqUia </td><td>Antioquia</td></tr>\n\t<tr><td>Ant%ioquia </td><td>Antioquia</td></tr>\n\t<tr><td>Ant%ioquia </td><td>Antioquia</td></tr>\n\t<tr><td>Ant%io&gt;qUia</td><td>Antioquia</td></tr>\n\t<tr><td>Antioquia  </td><td>Antioquia</td></tr>\n\t<tr><td>AntioqUia  </td><td>Antioquia</td></tr>\n\t<tr><td>AntioqUia  </td><td>Antioquia</td></tr>\n\t<tr><td>Ant%ioquia </td><td>Antioquia</td></tr>\n\t<tr><td>Antioq&gt;Uia </td><td>Antioquia</td></tr>\n\t<tr><td>Ant%ioquia </td><td>Antioquia</td></tr>\n</tbody>\n</table>\n",
      "text/markdown": "\nA tibble: 10 x 2\n\n| Departamento &lt;chr&gt; | Departamento2 &lt;chr&gt; |\n|---|---|\n| Ant%ioqUia  | Antioquia |\n| Ant%ioquia  | Antioquia |\n| Ant%ioquia  | Antioquia |\n| Ant%io&gt;qUia | Antioquia |\n| Antioquia   | Antioquia |\n| AntioqUia   | Antioquia |\n| AntioqUia   | Antioquia |\n| Ant%ioquia  | Antioquia |\n| Antioq&gt;Uia  | Antioquia |\n| Ant%ioquia  | Antioquia |\n\n",
      "text/latex": "A tibble: 10 x 2\n\\begin{tabular}{ll}\n Departamento & Departamento2\\\\\n <chr> & <chr>\\\\\n\\hline\n\t Ant\\%ioqUia  & Antioquia\\\\\n\t Ant\\%ioquia  & Antioquia\\\\\n\t Ant\\%ioquia  & Antioquia\\\\\n\t Ant\\%io>qUia & Antioquia\\\\\n\t Antioquia   & Antioquia\\\\\n\t AntioqUia   & Antioquia\\\\\n\t AntioqUia   & Antioquia\\\\\n\t Ant\\%ioquia  & Antioquia\\\\\n\t Antioq>Uia  & Antioquia\\\\\n\t Ant\\%ioquia  & Antioquia\\\\\n\\end{tabular}\n",
      "text/plain": "   Departamento Departamento2\n1  Ant%ioqUia   Antioquia    \n2  Ant%ioquia   Antioquia    \n3  Ant%ioquia   Antioquia    \n4  Ant%io>qUia  Antioquia    \n5  Antioquia    Antioquia    \n6  AntioqUia    Antioquia    \n7  AntioqUia    Antioquia    \n8  Ant%ioquia   Antioquia    \n9  Antioq>Uia   Antioquia    \n10 Ant%ioquia   Antioquia    "
     },
     "metadata": {},
     "output_type": "display_data"
    }
   ]
  },
  {
   "cell_type": "code",
   "metadata": {
    "tags": [],
    "cell_id": "e9dc2355d2424e368f0f2faae5a1204a",
    "source_hash": "73eb6d50",
    "execution_start": 1676390998769,
    "execution_millis": 53,
    "deepnote_to_be_reexecuted": false,
    "deepnote_cell_type": "code",
    "deepnote_cell_height": 610,
    "deepnote_output_heights": [
     392
    ]
   },
   "source": "municipiosDf <- within(municipiosDf,{\n                    Region <- str_to_lower(Region)\n                    Region <- str_replace_all(Region,\"[^a-záéíóúüñ ]\",\"\")\n                    Region <- str_squish(Region)\n                    Region <- str_to_title(Region)\n                    })\nhead(municipiosDf,n=10)\n",
   "execution_count": 6,
   "outputs": [
    {
     "data": {
      "text/html": "<table class=\"dataframe\">\n<caption>A tibble: 10 x 8</caption>\n<thead>\n\t<tr><th scope=col>Departamento</th><th scope=col>Dep</th><th scope=col>Municipio</th><th scope=col>Depmun</th><th scope=col>Superficie</th><th scope=col>Poblacion</th><th scope=col>Irural</th><th scope=col>Region</th></tr>\n\t<tr><th scope=col>&lt;chr&gt;</th><th scope=col>&lt;chr&gt;</th><th scope=col>&lt;chr&gt;</th><th scope=col>&lt;chr&gt;</th><th scope=col>&lt;dbl&gt;</th><th scope=col>&lt;dbl&gt;</th><th scope=col>&lt;dbl&gt;</th><th scope=col>&lt;chr&gt;</th></tr>\n</thead>\n<tbody>\n\t<tr><td>Antioquia</td><td>05</td><td>Medellín   </td><td>05001</td><td> 374.83062</td><td>2483545</td><td> 5</td><td>Región Eje Cafetero</td></tr>\n\t<tr><td>Antioquia</td><td>05</td><td>Abejorral  </td><td>05002</td><td> 507.13411</td><td>  20258</td><td>45</td><td>Región Eje Cafetero</td></tr>\n\t<tr><td>Antioquia</td><td>05</td><td>Abriaquí   </td><td>05004</td><td> 296.95598</td><td>   2710</td><td>58</td><td>Región Eje Cafetero</td></tr>\n\t<tr><td>Antioquia</td><td>05</td><td>Alejandría </td><td>05021</td><td> 128.93215</td><td>   4669</td><td>48</td><td>Región Eje Cafetero</td></tr>\n\t<tr><td>Antioquia</td><td>05</td><td>Amagá      </td><td>05030</td><td>  84.13248</td><td>  30777</td><td>28</td><td>Región Eje Cafetero</td></tr>\n\t<tr><td>Antioquia</td><td>05</td><td>Amalfi     </td><td>05031</td><td>1209.12687</td><td>  26552</td><td>54</td><td>Región Eje Cafetero</td></tr>\n\t<tr><td>Antioquia</td><td>05</td><td>Andes      </td><td>05034</td><td> 402.50256</td><td>  43713</td><td>38</td><td>Región Eje Cafetero</td></tr>\n\t<tr><td>Antioquia</td><td>05</td><td>Angelópolis</td><td>05036</td><td>  81.87630</td><td>   5790</td><td>37</td><td>Región Eje Cafetero</td></tr>\n\t<tr><td>Antioquia</td><td>05</td><td>Angostura  </td><td>05038</td><td> 338.66648</td><td>  11462</td><td>47</td><td>Región Eje Cafetero</td></tr>\n\t<tr><td>Antioquia</td><td>05</td><td>Anorí      </td><td>05040</td><td>1413.77390</td><td>  18737</td><td>58</td><td>Región Eje Cafetero</td></tr>\n</tbody>\n</table>\n",
      "text/markdown": "\nA tibble: 10 x 8\n\n| Departamento &lt;chr&gt; | Dep &lt;chr&gt; | Municipio &lt;chr&gt; | Depmun &lt;chr&gt; | Superficie &lt;dbl&gt; | Poblacion &lt;dbl&gt; | Irural &lt;dbl&gt; | Region &lt;chr&gt; |\n|---|---|---|---|---|---|---|---|\n| Antioquia | 05 | Medellín    | 05001 |  374.83062 | 2483545 |  5 | Región Eje Cafetero |\n| Antioquia | 05 | Abejorral   | 05002 |  507.13411 |   20258 | 45 | Región Eje Cafetero |\n| Antioquia | 05 | Abriaquí    | 05004 |  296.95598 |    2710 | 58 | Región Eje Cafetero |\n| Antioquia | 05 | Alejandría  | 05021 |  128.93215 |    4669 | 48 | Región Eje Cafetero |\n| Antioquia | 05 | Amagá       | 05030 |   84.13248 |   30777 | 28 | Región Eje Cafetero |\n| Antioquia | 05 | Amalfi      | 05031 | 1209.12687 |   26552 | 54 | Región Eje Cafetero |\n| Antioquia | 05 | Andes       | 05034 |  402.50256 |   43713 | 38 | Región Eje Cafetero |\n| Antioquia | 05 | Angelópolis | 05036 |   81.87630 |    5790 | 37 | Región Eje Cafetero |\n| Antioquia | 05 | Angostura   | 05038 |  338.66648 |   11462 | 47 | Región Eje Cafetero |\n| Antioquia | 05 | Anorí       | 05040 | 1413.77390 |   18737 | 58 | Región Eje Cafetero |\n\n",
      "text/latex": "A tibble: 10 x 8\n\\begin{tabular}{llllllll}\n Departamento & Dep & Municipio & Depmun & Superficie & Poblacion & Irural & Region\\\\\n <chr> & <chr> & <chr> & <chr> & <dbl> & <dbl> & <dbl> & <chr>\\\\\n\\hline\n\t Antioquia & 05 & Medellín    & 05001 &  374.83062 & 2483545 &  5 & Región Eje Cafetero\\\\\n\t Antioquia & 05 & Abejorral   & 05002 &  507.13411 &   20258 & 45 & Región Eje Cafetero\\\\\n\t Antioquia & 05 & Abriaquí    & 05004 &  296.95598 &    2710 & 58 & Región Eje Cafetero\\\\\n\t Antioquia & 05 & Alejandría  & 05021 &  128.93215 &    4669 & 48 & Región Eje Cafetero\\\\\n\t Antioquia & 05 & Amagá       & 05030 &   84.13248 &   30777 & 28 & Región Eje Cafetero\\\\\n\t Antioquia & 05 & Amalfi      & 05031 & 1209.12687 &   26552 & 54 & Región Eje Cafetero\\\\\n\t Antioquia & 05 & Andes       & 05034 &  402.50256 &   43713 & 38 & Región Eje Cafetero\\\\\n\t Antioquia & 05 & Angelópolis & 05036 &   81.87630 &    5790 & 37 & Región Eje Cafetero\\\\\n\t Antioquia & 05 & Angostura   & 05038 &  338.66648 &   11462 & 47 & Región Eje Cafetero\\\\\n\t Antioquia & 05 & Anorí       & 05040 & 1413.77390 &   18737 & 58 & Región Eje Cafetero\\\\\n\\end{tabular}\n",
      "text/plain": "   Departamento Dep Municipio   Depmun Superficie Poblacion Irural\n1  Antioquia    05  Medellín    05001   374.83062 2483545    5    \n2  Antioquia    05  Abejorral   05002   507.13411   20258   45    \n3  Antioquia    05  Abriaquí    05004   296.95598    2710   58    \n4  Antioquia    05  Alejandría  05021   128.93215    4669   48    \n5  Antioquia    05  Amagá       05030    84.13248   30777   28    \n6  Antioquia    05  Amalfi      05031  1209.12687   26552   54    \n7  Antioquia    05  Andes       05034   402.50256   43713   38    \n8  Antioquia    05  Angelópolis 05036    81.87630    5790   37    \n9  Antioquia    05  Angostura   05038   338.66648   11462   47    \n10 Antioquia    05  Anorí       05040  1413.77390   18737   58    \n   Region             \n1  Región Eje Cafetero\n2  Región Eje Cafetero\n3  Región Eje Cafetero\n4  Región Eje Cafetero\n5  Región Eje Cafetero\n6  Región Eje Cafetero\n7  Región Eje Cafetero\n8  Región Eje Cafetero\n9  Región Eje Cafetero\n10 Región Eje Cafetero"
     },
     "metadata": {},
     "output_type": "display_data"
    }
   ]
  },
  {
   "cell_type": "code",
   "metadata": {
    "tags": [],
    "cell_id": "9cacd92d894045afbe1a3e7ef333db95",
    "source_hash": "579e5e69",
    "execution_start": 1676390998845,
    "execution_millis": 13,
    "deepnote_to_be_reexecuted": false,
    "deepnote_cell_type": "code",
    "deepnote_cell_height": 556,
    "deepnote_output_heights": [
     392
    ]
   },
   "source": "test_municipiosDf <- within(municipiosDf,{\n                    Region <- str_replace_all(Region,\"Región\",\"\")\n\n                    })\nhead(test_municipiosDf,n=10)",
   "execution_count": 7,
   "outputs": [
    {
     "data": {
      "text/html": "<table class=\"dataframe\">\n<caption>A tibble: 10 x 8</caption>\n<thead>\n\t<tr><th scope=col>Departamento</th><th scope=col>Dep</th><th scope=col>Municipio</th><th scope=col>Depmun</th><th scope=col>Superficie</th><th scope=col>Poblacion</th><th scope=col>Irural</th><th scope=col>Region</th></tr>\n\t<tr><th scope=col>&lt;chr&gt;</th><th scope=col>&lt;chr&gt;</th><th scope=col>&lt;chr&gt;</th><th scope=col>&lt;chr&gt;</th><th scope=col>&lt;dbl&gt;</th><th scope=col>&lt;dbl&gt;</th><th scope=col>&lt;dbl&gt;</th><th scope=col>&lt;chr&gt;</th></tr>\n</thead>\n<tbody>\n\t<tr><td>Antioquia</td><td>05</td><td>Medellín   </td><td>05001</td><td> 374.83062</td><td>2483545</td><td> 5</td><td> Eje Cafetero</td></tr>\n\t<tr><td>Antioquia</td><td>05</td><td>Abejorral  </td><td>05002</td><td> 507.13411</td><td>  20258</td><td>45</td><td> Eje Cafetero</td></tr>\n\t<tr><td>Antioquia</td><td>05</td><td>Abriaquí   </td><td>05004</td><td> 296.95598</td><td>   2710</td><td>58</td><td> Eje Cafetero</td></tr>\n\t<tr><td>Antioquia</td><td>05</td><td>Alejandría </td><td>05021</td><td> 128.93215</td><td>   4669</td><td>48</td><td> Eje Cafetero</td></tr>\n\t<tr><td>Antioquia</td><td>05</td><td>Amagá      </td><td>05030</td><td>  84.13248</td><td>  30777</td><td>28</td><td> Eje Cafetero</td></tr>\n\t<tr><td>Antioquia</td><td>05</td><td>Amalfi     </td><td>05031</td><td>1209.12687</td><td>  26552</td><td>54</td><td> Eje Cafetero</td></tr>\n\t<tr><td>Antioquia</td><td>05</td><td>Andes      </td><td>05034</td><td> 402.50256</td><td>  43713</td><td>38</td><td> Eje Cafetero</td></tr>\n\t<tr><td>Antioquia</td><td>05</td><td>Angelópolis</td><td>05036</td><td>  81.87630</td><td>   5790</td><td>37</td><td> Eje Cafetero</td></tr>\n\t<tr><td>Antioquia</td><td>05</td><td>Angostura  </td><td>05038</td><td> 338.66648</td><td>  11462</td><td>47</td><td> Eje Cafetero</td></tr>\n\t<tr><td>Antioquia</td><td>05</td><td>Anorí      </td><td>05040</td><td>1413.77390</td><td>  18737</td><td>58</td><td> Eje Cafetero</td></tr>\n</tbody>\n</table>\n",
      "text/markdown": "\nA tibble: 10 x 8\n\n| Departamento &lt;chr&gt; | Dep &lt;chr&gt; | Municipio &lt;chr&gt; | Depmun &lt;chr&gt; | Superficie &lt;dbl&gt; | Poblacion &lt;dbl&gt; | Irural &lt;dbl&gt; | Region &lt;chr&gt; |\n|---|---|---|---|---|---|---|---|\n| Antioquia | 05 | Medellín    | 05001 |  374.83062 | 2483545 |  5 |  Eje Cafetero |\n| Antioquia | 05 | Abejorral   | 05002 |  507.13411 |   20258 | 45 |  Eje Cafetero |\n| Antioquia | 05 | Abriaquí    | 05004 |  296.95598 |    2710 | 58 |  Eje Cafetero |\n| Antioquia | 05 | Alejandría  | 05021 |  128.93215 |    4669 | 48 |  Eje Cafetero |\n| Antioquia | 05 | Amagá       | 05030 |   84.13248 |   30777 | 28 |  Eje Cafetero |\n| Antioquia | 05 | Amalfi      | 05031 | 1209.12687 |   26552 | 54 |  Eje Cafetero |\n| Antioquia | 05 | Andes       | 05034 |  402.50256 |   43713 | 38 |  Eje Cafetero |\n| Antioquia | 05 | Angelópolis | 05036 |   81.87630 |    5790 | 37 |  Eje Cafetero |\n| Antioquia | 05 | Angostura   | 05038 |  338.66648 |   11462 | 47 |  Eje Cafetero |\n| Antioquia | 05 | Anorí       | 05040 | 1413.77390 |   18737 | 58 |  Eje Cafetero |\n\n",
      "text/latex": "A tibble: 10 x 8\n\\begin{tabular}{llllllll}\n Departamento & Dep & Municipio & Depmun & Superficie & Poblacion & Irural & Region\\\\\n <chr> & <chr> & <chr> & <chr> & <dbl> & <dbl> & <dbl> & <chr>\\\\\n\\hline\n\t Antioquia & 05 & Medellín    & 05001 &  374.83062 & 2483545 &  5 &  Eje Cafetero\\\\\n\t Antioquia & 05 & Abejorral   & 05002 &  507.13411 &   20258 & 45 &  Eje Cafetero\\\\\n\t Antioquia & 05 & Abriaquí    & 05004 &  296.95598 &    2710 & 58 &  Eje Cafetero\\\\\n\t Antioquia & 05 & Alejandría  & 05021 &  128.93215 &    4669 & 48 &  Eje Cafetero\\\\\n\t Antioquia & 05 & Amagá       & 05030 &   84.13248 &   30777 & 28 &  Eje Cafetero\\\\\n\t Antioquia & 05 & Amalfi      & 05031 & 1209.12687 &   26552 & 54 &  Eje Cafetero\\\\\n\t Antioquia & 05 & Andes       & 05034 &  402.50256 &   43713 & 38 &  Eje Cafetero\\\\\n\t Antioquia & 05 & Angelópolis & 05036 &   81.87630 &    5790 & 37 &  Eje Cafetero\\\\\n\t Antioquia & 05 & Angostura   & 05038 &  338.66648 &   11462 & 47 &  Eje Cafetero\\\\\n\t Antioquia & 05 & Anorí       & 05040 & 1413.77390 &   18737 & 58 &  Eje Cafetero\\\\\n\\end{tabular}\n",
      "text/plain": "   Departamento Dep Municipio   Depmun Superficie Poblacion Irural\n1  Antioquia    05  Medellín    05001   374.83062 2483545    5    \n2  Antioquia    05  Abejorral   05002   507.13411   20258   45    \n3  Antioquia    05  Abriaquí    05004   296.95598    2710   58    \n4  Antioquia    05  Alejandría  05021   128.93215    4669   48    \n5  Antioquia    05  Amagá       05030    84.13248   30777   28    \n6  Antioquia    05  Amalfi      05031  1209.12687   26552   54    \n7  Antioquia    05  Andes       05034   402.50256   43713   38    \n8  Antioquia    05  Angelópolis 05036    81.87630    5790   37    \n9  Antioquia    05  Angostura   05038   338.66648   11462   47    \n10 Antioquia    05  Anorí       05040  1413.77390   18737   58    \n   Region       \n1   Eje Cafetero\n2   Eje Cafetero\n3   Eje Cafetero\n4   Eje Cafetero\n5   Eje Cafetero\n6   Eje Cafetero\n7   Eje Cafetero\n8   Eje Cafetero\n9   Eje Cafetero\n10  Eje Cafetero"
     },
     "metadata": {},
     "output_type": "display_data"
    }
   ]
  },
  {
   "cell_type": "markdown",
   "source": "## Crear y modificar",
   "metadata": {
    "formattedRanges": [],
    "tags": [],
    "cell_id": "200be3ee1db147b39535dd9730a552c9",
    "is_collapsed": false,
    "deepnote_cell_type": "text-cell-h2"
   }
  },
  {
   "cell_type": "code",
   "metadata": {
    "tags": [],
    "cell_id": "b86f1582d54944d681e19316a6480ec2",
    "source_hash": "c59dd18",
    "execution_start": 1676390998846,
    "execution_millis": 11,
    "deepnote_to_be_reexecuted": false,
    "deepnote_cell_type": "code",
    "deepnote_cell_height": 76
   },
   "source": "Municipios <- municipiosDf",
   "execution_count": 8,
   "outputs": []
  },
  {
   "cell_type": "code",
   "metadata": {
    "tags": [],
    "cell_id": "0c82d0ee598e4ff6b33088413c35a43b",
    "source_hash": "b3324512",
    "execution_start": 1676390998860,
    "execution_millis": 103,
    "deepnote_to_be_reexecuted": false,
    "deepnote_cell_type": "code",
    "deepnote_cell_height": 698,
    "deepnote_output_heights": [
     606
    ]
   },
   "source": "Municipios",
   "execution_count": 9,
   "outputs": [
    {
     "data": {
      "text/html": "<table class=\"dataframe\">\n<caption>A tibble: 1118 x 8</caption>\n<thead>\n\t<tr><th scope=col>Departamento</th><th scope=col>Dep</th><th scope=col>Municipio</th><th scope=col>Depmun</th><th scope=col>Superficie</th><th scope=col>Poblacion</th><th scope=col>Irural</th><th scope=col>Region</th></tr>\n\t<tr><th scope=col>&lt;chr&gt;</th><th scope=col>&lt;chr&gt;</th><th scope=col>&lt;chr&gt;</th><th scope=col>&lt;chr&gt;</th><th scope=col>&lt;dbl&gt;</th><th scope=col>&lt;dbl&gt;</th><th scope=col>&lt;dbl&gt;</th><th scope=col>&lt;chr&gt;</th></tr>\n</thead>\n<tbody>\n\t<tr><td>Antioquia</td><td>05</td><td>Medellín            </td><td>05001</td><td> 374.83062</td><td>2483545</td><td> 5</td><td>Región Eje Cafetero</td></tr>\n\t<tr><td>Antioquia</td><td>05</td><td>Abejorral           </td><td>05002</td><td> 507.13411</td><td>  20258</td><td>45</td><td>Región Eje Cafetero</td></tr>\n\t<tr><td>Antioquia</td><td>05</td><td>Abriaquí            </td><td>05004</td><td> 296.95598</td><td>   2710</td><td>58</td><td>Región Eje Cafetero</td></tr>\n\t<tr><td>Antioquia</td><td>05</td><td>Alejandría          </td><td>05021</td><td> 128.93215</td><td>   4669</td><td>48</td><td>Región Eje Cafetero</td></tr>\n\t<tr><td>Antioquia</td><td>05</td><td>Amagá               </td><td>05030</td><td>  84.13248</td><td>  30777</td><td>28</td><td>Región Eje Cafetero</td></tr>\n\t<tr><td>Antioquia</td><td>05</td><td>Amalfi              </td><td>05031</td><td>1209.12687</td><td>  26552</td><td>54</td><td>Región Eje Cafetero</td></tr>\n\t<tr><td>Antioquia</td><td>05</td><td>Andes               </td><td>05034</td><td> 402.50256</td><td>  43713</td><td>38</td><td>Región Eje Cafetero</td></tr>\n\t<tr><td>Antioquia</td><td>05</td><td>Angelópolis         </td><td>05036</td><td>  81.87630</td><td>   5790</td><td>37</td><td>Región Eje Cafetero</td></tr>\n\t<tr><td>Antioquia</td><td>05</td><td>Angostura           </td><td>05038</td><td> 338.66648</td><td>  11462</td><td>47</td><td>Región Eje Cafetero</td></tr>\n\t<tr><td>Antioquia</td><td>05</td><td>Anorí               </td><td>05040</td><td>1413.77390</td><td>  18737</td><td>58</td><td>Región Eje Cafetero</td></tr>\n\t<tr><td>Antioquia</td><td>05</td><td>Santafé De Antioquia</td><td>05042</td><td> 525.60137</td><td>  26598</td><td>45</td><td>Región Eje Cafetero</td></tr>\n\t<tr><td>Antioquia</td><td>05</td><td>Anza                </td><td>05044</td><td> 255.92331</td><td>   7085</td><td>48</td><td>Región Eje Cafetero</td></tr>\n\t<tr><td>Antioquia</td><td>05</td><td>Apartadó            </td><td>05045</td><td> 535.17238</td><td> 124647</td><td>34</td><td>Región Eje Cafetero</td></tr>\n\t<tr><td>Antioquia</td><td>05</td><td>Arboletes           </td><td>05051</td><td> 754.25190</td><td>  29942</td><td>48</td><td>Región Eje Cafetero</td></tr>\n\t<tr><td>Antioquia</td><td>05</td><td>Argelia             </td><td>05055</td><td> 245.34178</td><td>   7577</td><td>46</td><td>Región Eje Cafetero</td></tr>\n\t<tr><td>Antioquia</td><td>05</td><td>Armenia             </td><td>05059</td><td> 110.43497</td><td>   5085</td><td>43</td><td>Región Eje Cafetero</td></tr>\n\t<tr><td>Antioquia</td><td>05</td><td>Barbosa             </td><td>05079</td><td> 205.66617</td><td>  53242</td><td>32</td><td>Región Eje Cafetero</td></tr>\n\t<tr><td>Antioquia</td><td>05</td><td>Belmira             </td><td>05086</td><td> 296.15317</td><td>   6054</td><td>51</td><td>Región Eje Cafetero</td></tr>\n\t<tr><td>Antioquia</td><td>05</td><td>Bello               </td><td>05088</td><td> 147.75842</td><td> 538527</td><td>12</td><td>Región Eje Cafetero</td></tr>\n\t<tr><td>Antioquia</td><td>05</td><td>Betania             </td><td>05091</td><td> 180.52599</td><td>  10274</td><td>42</td><td>Región Eje Cafetero</td></tr>\n\t<tr><td>Antioquia</td><td>05</td><td>Betulia             </td><td>05093</td><td> 262.36750</td><td>  15736</td><td>42</td><td>Región Eje Cafetero</td></tr>\n\t<tr><td>Antioquia</td><td>05</td><td>Ciudad Bolívar      </td><td>05101</td><td> 260.44611</td><td>  26160</td><td>38</td><td>Región Eje Cafetero</td></tr>\n\t<tr><td>Antioquia</td><td>05</td><td>Briceño             </td><td>05107</td><td> 376.34676</td><td>   8065</td><td>52</td><td>Región Eje Cafetero</td></tr>\n\t<tr><td>Antioquia</td><td>05</td><td>Buriticá            </td><td>05113</td><td> 355.21026</td><td>   9502</td><td>52</td><td>Región Eje Cafetero</td></tr>\n\t<tr><td>Antioquia</td><td>05</td><td>Cáceres             </td><td>05120</td><td>1873.80283</td><td>  29716</td><td>56</td><td>Región Eje Cafetero</td></tr>\n\t<tr><td>Antioquia</td><td>05</td><td>Caicedo             </td><td>05125</td><td> 200.12988</td><td>   8420</td><td>46</td><td>Región Eje Cafetero</td></tr>\n\t<tr><td>Antioquia</td><td>05</td><td>Caldas              </td><td>05129</td><td> 132.75594</td><td>  81658</td><td>24</td><td>Región Eje Cafetero</td></tr>\n\t<tr><td>Antioquia</td><td>05</td><td>Campamento          </td><td>05134</td><td> 206.34335</td><td>   9202</td><td>46</td><td>Región Eje Cafetero</td></tr>\n\t<tr><td>Antioquia</td><td>05</td><td>Cañasgordas         </td><td>05138</td><td> 364.83123</td><td>  15490</td><td>46</td><td>Región Eje Cafetero</td></tr>\n\t<tr><td>Antioquia</td><td>05</td><td>Caracolí            </td><td>05142</td><td> 262.79878</td><td>   4537</td><td>53</td><td>Región Eje Cafetero</td></tr>\n\t<tr><td>...</td><td>...</td><td>...</td><td>...</td><td>...</td><td>...</td><td>...</td><td>...</td></tr>\n\t<tr><td>Amazonas</td><td>91</td><td>La Victoria          </td><td>91430.0</td><td> 1432.795</td><td>  652</td><td> 85</td><td>Región Centro Sur</td></tr>\n\t<tr><td>Amazonas</td><td>91</td><td>Miriti Paraná        </td><td>91460.0</td><td>16867.533</td><td> 1860</td><td>100</td><td>Región Centro Sur</td></tr>\n\t<tr><td>Amazonas</td><td>91</td><td>Puerto Alegría       </td><td>91530.0</td><td> 8494.182</td><td>  759</td><td> 96</td><td>Región Centro Sur</td></tr>\n\t<tr><td>Amazonas</td><td>91</td><td>Puerto Arica         </td><td>91536.0</td><td>13791.327</td><td> 1027</td><td>100</td><td>Región Centro Sur</td></tr>\n\t<tr><td>Amazonas</td><td>91</td><td>Puerto Nariño        </td><td>91540.0</td><td> 1509.204</td><td> 9997</td><td> 72</td><td>Región Centro Sur</td></tr>\n\t<tr><td>Amazonas</td><td>91</td><td>Puerto Santander     </td><td>91669.0</td><td>14731.088</td><td> 1765</td><td> 96</td><td>Región Centro Sur</td></tr>\n\t<tr><td>Amazonas</td><td>91</td><td>Tarapacá             </td><td>91798.0</td><td> 9195.878</td><td> 3869</td><td> 90</td><td>Región Centro Sur</td></tr>\n\t<tr><td>Guainía </td><td>94</td><td>Inírida              </td><td>94001.0</td><td>15970.199</td><td>32673</td><td> 81</td><td>Región Llano     </td></tr>\n\t<tr><td>Guainía </td><td>94</td><td>Barranco Minas       </td><td>94343.0</td><td>14395.678</td><td> 8042</td><td> 87</td><td>Región Llano     </td></tr>\n\t<tr><td>Guainía </td><td>94</td><td>Mapiripana           </td><td>94663.0</td><td>       NA</td><td> 1048</td><td> 84</td><td>Región Llano     </td></tr>\n\t<tr><td>Guainía </td><td>94</td><td>San Felipe           </td><td>94883.0</td><td> 2926.365</td><td> 1706</td><td> 89</td><td>Región Llano     </td></tr>\n\t<tr><td>Guainía </td><td>94</td><td>Puerto Colombia      </td><td>94884.0</td><td>15700.713</td><td> 1934</td><td> 93</td><td>Región Llano     </td></tr>\n\t<tr><td>Guainía </td><td>94</td><td>La Guadalupe         </td><td>94885.0</td><td> 1178.871</td><td>  288</td><td> 96</td><td>Región Llano     </td></tr>\n\t<tr><td>Guainía </td><td>94</td><td>Cacahual             </td><td>94886.0</td><td> 2335.325</td><td>  886</td><td> 85</td><td>Región Llano     </td></tr>\n\t<tr><td>Guainía </td><td>94</td><td>Pana Pana            </td><td>94887.0</td><td>10227.147</td><td> 1959</td><td> 93</td><td>Región Llano     </td></tr>\n\t<tr><td>Guainía </td><td>94</td><td>Morichal             </td><td>94888.0</td><td> 8555.058</td><td>  937</td><td>100</td><td>Región Llano     </td></tr>\n\t<tr><td>Guaviare</td><td>95</td><td>San José Del Guaviare</td><td>95001.0</td><td>16768.515</td><td>54333</td><td> 70</td><td>Región Llano     </td></tr>\n\t<tr><td>Guaviare</td><td>95</td><td>Calamar              </td><td>95015.0</td><td>13556.415</td><td> 9801</td><td> 81</td><td>Región Llano     </td></tr>\n\t<tr><td>Guaviare</td><td>95</td><td>El Retorno           </td><td>95025.0</td><td>12442.226</td><td>13684</td><td> 77</td><td>Región Llano     </td></tr>\n\t<tr><td>Guaviare</td><td>95</td><td>Miraflores           </td><td>95200.0</td><td>12808.077</td><td> 6898</td><td> 81</td><td>Región Llano     </td></tr>\n\t<tr><td>Vaupés  </td><td>97</td><td>Mitú                 </td><td>97001.0</td><td>16215.737</td><td>31302</td><td> 77</td><td>Región Llano     </td></tr>\n\t<tr><td>Vaupés  </td><td>97</td><td>Caruru               </td><td>97161.0</td><td> 6368.486</td><td> 3056</td><td> 85</td><td>Región Llano     </td></tr>\n\t<tr><td>Vaupés  </td><td>97</td><td>Pacoa                </td><td>97511.0</td><td>13993.251</td><td> 4229</td><td> 91</td><td>Región Llano     </td></tr>\n\t<tr><td>Vaupés  </td><td>97</td><td>Taraira              </td><td>97666.0</td><td> 6510.247</td><td> 2318</td><td> 97</td><td>Región Llano     </td></tr>\n\t<tr><td>Vaupés  </td><td>97</td><td>Papunaua             </td><td>97777.0</td><td> 5551.154</td><td>  749</td><td> 95</td><td>Región Llano     </td></tr>\n\t<tr><td>Vaupés  </td><td>97</td><td>Yavaraté             </td><td>97889.0</td><td> 4660.406</td><td> 1067</td><td> 92</td><td>Región Llano     </td></tr>\n\t<tr><td>Vichada </td><td>99</td><td>Puerto Carreño       </td><td>99001.0</td><td>12204.951</td><td>20474</td><td> 81</td><td>Región Llano     </td></tr>\n\t<tr><td>Vichada </td><td>99</td><td>La Primavera         </td><td>99524.0</td><td>18569.338</td><td> 9799</td><td> 85</td><td>Región Llano     </td></tr>\n\t<tr><td>Vichada </td><td>99</td><td>Santa Rosalía        </td><td>99624.0</td><td> 3691.869</td><td> 4130</td><td> 81</td><td>Región Llano     </td></tr>\n\t<tr><td>Vichada </td><td>99</td><td>Cumaribo             </td><td>99773.0</td><td>65597.212</td><td>76196</td><td> 87</td><td>Región Llano     </td></tr>\n</tbody>\n</table>\n",
      "text/markdown": "\nA tibble: 1118 x 8\n\n| Departamento &lt;chr&gt; | Dep &lt;chr&gt; | Municipio &lt;chr&gt; | Depmun &lt;chr&gt; | Superficie &lt;dbl&gt; | Poblacion &lt;dbl&gt; | Irural &lt;dbl&gt; | Region &lt;chr&gt; |\n|---|---|---|---|---|---|---|---|\n| Antioquia | 05 | Medellín             | 05001 |  374.83062 | 2483545 |  5 | Región Eje Cafetero |\n| Antioquia | 05 | Abejorral            | 05002 |  507.13411 |   20258 | 45 | Región Eje Cafetero |\n| Antioquia | 05 | Abriaquí             | 05004 |  296.95598 |    2710 | 58 | Región Eje Cafetero |\n| Antioquia | 05 | Alejandría           | 05021 |  128.93215 |    4669 | 48 | Región Eje Cafetero |\n| Antioquia | 05 | Amagá                | 05030 |   84.13248 |   30777 | 28 | Región Eje Cafetero |\n| Antioquia | 05 | Amalfi               | 05031 | 1209.12687 |   26552 | 54 | Región Eje Cafetero |\n| Antioquia | 05 | Andes                | 05034 |  402.50256 |   43713 | 38 | Región Eje Cafetero |\n| Antioquia | 05 | Angelópolis          | 05036 |   81.87630 |    5790 | 37 | Región Eje Cafetero |\n| Antioquia | 05 | Angostura            | 05038 |  338.66648 |   11462 | 47 | Región Eje Cafetero |\n| Antioquia | 05 | Anorí                | 05040 | 1413.77390 |   18737 | 58 | Región Eje Cafetero |\n| Antioquia | 05 | Santafé De Antioquia | 05042 |  525.60137 |   26598 | 45 | Región Eje Cafetero |\n| Antioquia | 05 | Anza                 | 05044 |  255.92331 |    7085 | 48 | Región Eje Cafetero |\n| Antioquia | 05 | Apartadó             | 05045 |  535.17238 |  124647 | 34 | Región Eje Cafetero |\n| Antioquia | 05 | Arboletes            | 05051 |  754.25190 |   29942 | 48 | Región Eje Cafetero |\n| Antioquia | 05 | Argelia              | 05055 |  245.34178 |    7577 | 46 | Región Eje Cafetero |\n| Antioquia | 05 | Armenia              | 05059 |  110.43497 |    5085 | 43 | Región Eje Cafetero |\n| Antioquia | 05 | Barbosa              | 05079 |  205.66617 |   53242 | 32 | Región Eje Cafetero |\n| Antioquia | 05 | Belmira              | 05086 |  296.15317 |    6054 | 51 | Región Eje Cafetero |\n| Antioquia | 05 | Bello                | 05088 |  147.75842 |  538527 | 12 | Región Eje Cafetero |\n| Antioquia | 05 | Betania              | 05091 |  180.52599 |   10274 | 42 | Región Eje Cafetero |\n| Antioquia | 05 | Betulia              | 05093 |  262.36750 |   15736 | 42 | Región Eje Cafetero |\n| Antioquia | 05 | Ciudad Bolívar       | 05101 |  260.44611 |   26160 | 38 | Región Eje Cafetero |\n| Antioquia | 05 | Briceño              | 05107 |  376.34676 |    8065 | 52 | Región Eje Cafetero |\n| Antioquia | 05 | Buriticá             | 05113 |  355.21026 |    9502 | 52 | Región Eje Cafetero |\n| Antioquia | 05 | Cáceres              | 05120 | 1873.80283 |   29716 | 56 | Región Eje Cafetero |\n| Antioquia | 05 | Caicedo              | 05125 |  200.12988 |    8420 | 46 | Región Eje Cafetero |\n| Antioquia | 05 | Caldas               | 05129 |  132.75594 |   81658 | 24 | Región Eje Cafetero |\n| Antioquia | 05 | Campamento           | 05134 |  206.34335 |    9202 | 46 | Región Eje Cafetero |\n| Antioquia | 05 | Cañasgordas          | 05138 |  364.83123 |   15490 | 46 | Región Eje Cafetero |\n| Antioquia | 05 | Caracolí             | 05142 |  262.79878 |    4537 | 53 | Región Eje Cafetero |\n| ... | ... | ... | ... | ... | ... | ... | ... |\n| Amazonas | 91 | La Victoria           | 91430.0 |  1432.795 |   652 |  85 | Región Centro Sur |\n| Amazonas | 91 | Miriti Paraná         | 91460.0 | 16867.533 |  1860 | 100 | Región Centro Sur |\n| Amazonas | 91 | Puerto Alegría        | 91530.0 |  8494.182 |   759 |  96 | Región Centro Sur |\n| Amazonas | 91 | Puerto Arica          | 91536.0 | 13791.327 |  1027 | 100 | Región Centro Sur |\n| Amazonas | 91 | Puerto Nariño         | 91540.0 |  1509.204 |  9997 |  72 | Región Centro Sur |\n| Amazonas | 91 | Puerto Santander      | 91669.0 | 14731.088 |  1765 |  96 | Región Centro Sur |\n| Amazonas | 91 | Tarapacá              | 91798.0 |  9195.878 |  3869 |  90 | Región Centro Sur |\n| Guainía  | 94 | Inírida               | 94001.0 | 15970.199 | 32673 |  81 | Región Llano      |\n| Guainía  | 94 | Barranco Minas        | 94343.0 | 14395.678 |  8042 |  87 | Región Llano      |\n| Guainía  | 94 | Mapiripana            | 94663.0 |        NA |  1048 |  84 | Región Llano      |\n| Guainía  | 94 | San Felipe            | 94883.0 |  2926.365 |  1706 |  89 | Región Llano      |\n| Guainía  | 94 | Puerto Colombia       | 94884.0 | 15700.713 |  1934 |  93 | Región Llano      |\n| Guainía  | 94 | La Guadalupe          | 94885.0 |  1178.871 |   288 |  96 | Región Llano      |\n| Guainía  | 94 | Cacahual              | 94886.0 |  2335.325 |   886 |  85 | Región Llano      |\n| Guainía  | 94 | Pana Pana             | 94887.0 | 10227.147 |  1959 |  93 | Región Llano      |\n| Guainía  | 94 | Morichal              | 94888.0 |  8555.058 |   937 | 100 | Región Llano      |\n| Guaviare | 95 | San José Del Guaviare | 95001.0 | 16768.515 | 54333 |  70 | Región Llano      |\n| Guaviare | 95 | Calamar               | 95015.0 | 13556.415 |  9801 |  81 | Región Llano      |\n| Guaviare | 95 | El Retorno            | 95025.0 | 12442.226 | 13684 |  77 | Región Llano      |\n| Guaviare | 95 | Miraflores            | 95200.0 | 12808.077 |  6898 |  81 | Región Llano      |\n| Vaupés   | 97 | Mitú                  | 97001.0 | 16215.737 | 31302 |  77 | Región Llano      |\n| Vaupés   | 97 | Caruru                | 97161.0 |  6368.486 |  3056 |  85 | Región Llano      |\n| Vaupés   | 97 | Pacoa                 | 97511.0 | 13993.251 |  4229 |  91 | Región Llano      |\n| Vaupés   | 97 | Taraira               | 97666.0 |  6510.247 |  2318 |  97 | Región Llano      |\n| Vaupés   | 97 | Papunaua              | 97777.0 |  5551.154 |   749 |  95 | Región Llano      |\n| Vaupés   | 97 | Yavaraté              | 97889.0 |  4660.406 |  1067 |  92 | Región Llano      |\n| Vichada  | 99 | Puerto Carreño        | 99001.0 | 12204.951 | 20474 |  81 | Región Llano      |\n| Vichada  | 99 | La Primavera          | 99524.0 | 18569.338 |  9799 |  85 | Región Llano      |\n| Vichada  | 99 | Santa Rosalía         | 99624.0 |  3691.869 |  4130 |  81 | Región Llano      |\n| Vichada  | 99 | Cumaribo              | 99773.0 | 65597.212 | 76196 |  87 | Región Llano      |\n\n",
      "text/latex": "A tibble: 1118 x 8\n\\begin{tabular}{llllllll}\n Departamento & Dep & Municipio & Depmun & Superficie & Poblacion & Irural & Region\\\\\n <chr> & <chr> & <chr> & <chr> & <dbl> & <dbl> & <dbl> & <chr>\\\\\n\\hline\n\t Antioquia & 05 & Medellín             & 05001 &  374.83062 & 2483545 &  5 & Región Eje Cafetero\\\\\n\t Antioquia & 05 & Abejorral            & 05002 &  507.13411 &   20258 & 45 & Región Eje Cafetero\\\\\n\t Antioquia & 05 & Abriaquí             & 05004 &  296.95598 &    2710 & 58 & Región Eje Cafetero\\\\\n\t Antioquia & 05 & Alejandría           & 05021 &  128.93215 &    4669 & 48 & Región Eje Cafetero\\\\\n\t Antioquia & 05 & Amagá                & 05030 &   84.13248 &   30777 & 28 & Región Eje Cafetero\\\\\n\t Antioquia & 05 & Amalfi               & 05031 & 1209.12687 &   26552 & 54 & Región Eje Cafetero\\\\\n\t Antioquia & 05 & Andes                & 05034 &  402.50256 &   43713 & 38 & Región Eje Cafetero\\\\\n\t Antioquia & 05 & Angelópolis          & 05036 &   81.87630 &    5790 & 37 & Región Eje Cafetero\\\\\n\t Antioquia & 05 & Angostura            & 05038 &  338.66648 &   11462 & 47 & Región Eje Cafetero\\\\\n\t Antioquia & 05 & Anorí                & 05040 & 1413.77390 &   18737 & 58 & Región Eje Cafetero\\\\\n\t Antioquia & 05 & Santafé De Antioquia & 05042 &  525.60137 &   26598 & 45 & Región Eje Cafetero\\\\\n\t Antioquia & 05 & Anza                 & 05044 &  255.92331 &    7085 & 48 & Región Eje Cafetero\\\\\n\t Antioquia & 05 & Apartadó             & 05045 &  535.17238 &  124647 & 34 & Región Eje Cafetero\\\\\n\t Antioquia & 05 & Arboletes            & 05051 &  754.25190 &   29942 & 48 & Región Eje Cafetero\\\\\n\t Antioquia & 05 & Argelia              & 05055 &  245.34178 &    7577 & 46 & Región Eje Cafetero\\\\\n\t Antioquia & 05 & Armenia              & 05059 &  110.43497 &    5085 & 43 & Región Eje Cafetero\\\\\n\t Antioquia & 05 & Barbosa              & 05079 &  205.66617 &   53242 & 32 & Región Eje Cafetero\\\\\n\t Antioquia & 05 & Belmira              & 05086 &  296.15317 &    6054 & 51 & Región Eje Cafetero\\\\\n\t Antioquia & 05 & Bello                & 05088 &  147.75842 &  538527 & 12 & Región Eje Cafetero\\\\\n\t Antioquia & 05 & Betania              & 05091 &  180.52599 &   10274 & 42 & Región Eje Cafetero\\\\\n\t Antioquia & 05 & Betulia              & 05093 &  262.36750 &   15736 & 42 & Región Eje Cafetero\\\\\n\t Antioquia & 05 & Ciudad Bolívar       & 05101 &  260.44611 &   26160 & 38 & Región Eje Cafetero\\\\\n\t Antioquia & 05 & Briceño              & 05107 &  376.34676 &    8065 & 52 & Región Eje Cafetero\\\\\n\t Antioquia & 05 & Buriticá             & 05113 &  355.21026 &    9502 & 52 & Región Eje Cafetero\\\\\n\t Antioquia & 05 & Cáceres              & 05120 & 1873.80283 &   29716 & 56 & Región Eje Cafetero\\\\\n\t Antioquia & 05 & Caicedo              & 05125 &  200.12988 &    8420 & 46 & Región Eje Cafetero\\\\\n\t Antioquia & 05 & Caldas               & 05129 &  132.75594 &   81658 & 24 & Región Eje Cafetero\\\\\n\t Antioquia & 05 & Campamento           & 05134 &  206.34335 &    9202 & 46 & Región Eje Cafetero\\\\\n\t Antioquia & 05 & Cañasgordas          & 05138 &  364.83123 &   15490 & 46 & Región Eje Cafetero\\\\\n\t Antioquia & 05 & Caracolí             & 05142 &  262.79878 &    4537 & 53 & Región Eje Cafetero\\\\\n\t ... & ... & ... & ... & ... & ... & ... & ...\\\\\n\t Amazonas & 91 & La Victoria           & 91430.0 &  1432.795 &   652 &  85 & Región Centro Sur\\\\\n\t Amazonas & 91 & Miriti Paraná         & 91460.0 & 16867.533 &  1860 & 100 & Región Centro Sur\\\\\n\t Amazonas & 91 & Puerto Alegría        & 91530.0 &  8494.182 &   759 &  96 & Región Centro Sur\\\\\n\t Amazonas & 91 & Puerto Arica          & 91536.0 & 13791.327 &  1027 & 100 & Región Centro Sur\\\\\n\t Amazonas & 91 & Puerto Nariño         & 91540.0 &  1509.204 &  9997 &  72 & Región Centro Sur\\\\\n\t Amazonas & 91 & Puerto Santander      & 91669.0 & 14731.088 &  1765 &  96 & Región Centro Sur\\\\\n\t Amazonas & 91 & Tarapacá              & 91798.0 &  9195.878 &  3869 &  90 & Región Centro Sur\\\\\n\t Guainía  & 94 & Inírida               & 94001.0 & 15970.199 & 32673 &  81 & Región Llano     \\\\\n\t Guainía  & 94 & Barranco Minas        & 94343.0 & 14395.678 &  8042 &  87 & Región Llano     \\\\\n\t Guainía  & 94 & Mapiripana            & 94663.0 &        NA &  1048 &  84 & Región Llano     \\\\\n\t Guainía  & 94 & San Felipe            & 94883.0 &  2926.365 &  1706 &  89 & Región Llano     \\\\\n\t Guainía  & 94 & Puerto Colombia       & 94884.0 & 15700.713 &  1934 &  93 & Región Llano     \\\\\n\t Guainía  & 94 & La Guadalupe          & 94885.0 &  1178.871 &   288 &  96 & Región Llano     \\\\\n\t Guainía  & 94 & Cacahual              & 94886.0 &  2335.325 &   886 &  85 & Región Llano     \\\\\n\t Guainía  & 94 & Pana Pana             & 94887.0 & 10227.147 &  1959 &  93 & Región Llano     \\\\\n\t Guainía  & 94 & Morichal              & 94888.0 &  8555.058 &   937 & 100 & Región Llano     \\\\\n\t Guaviare & 95 & San José Del Guaviare & 95001.0 & 16768.515 & 54333 &  70 & Región Llano     \\\\\n\t Guaviare & 95 & Calamar               & 95015.0 & 13556.415 &  9801 &  81 & Región Llano     \\\\\n\t Guaviare & 95 & El Retorno            & 95025.0 & 12442.226 & 13684 &  77 & Región Llano     \\\\\n\t Guaviare & 95 & Miraflores            & 95200.0 & 12808.077 &  6898 &  81 & Región Llano     \\\\\n\t Vaupés   & 97 & Mitú                  & 97001.0 & 16215.737 & 31302 &  77 & Región Llano     \\\\\n\t Vaupés   & 97 & Caruru                & 97161.0 &  6368.486 &  3056 &  85 & Región Llano     \\\\\n\t Vaupés   & 97 & Pacoa                 & 97511.0 & 13993.251 &  4229 &  91 & Región Llano     \\\\\n\t Vaupés   & 97 & Taraira               & 97666.0 &  6510.247 &  2318 &  97 & Región Llano     \\\\\n\t Vaupés   & 97 & Papunaua              & 97777.0 &  5551.154 &   749 &  95 & Región Llano     \\\\\n\t Vaupés   & 97 & Yavaraté              & 97889.0 &  4660.406 &  1067 &  92 & Región Llano     \\\\\n\t Vichada  & 99 & Puerto Carreño        & 99001.0 & 12204.951 & 20474 &  81 & Región Llano     \\\\\n\t Vichada  & 99 & La Primavera          & 99524.0 & 18569.338 &  9799 &  85 & Región Llano     \\\\\n\t Vichada  & 99 & Santa Rosalía         & 99624.0 &  3691.869 &  4130 &  81 & Región Llano     \\\\\n\t Vichada  & 99 & Cumaribo              & 99773.0 & 65597.212 & 76196 &  87 & Región Llano     \\\\\n\\end{tabular}\n",
      "text/plain": "     Departamento Dep Municipio             Depmun  Superficie Poblacion Irural\n1    Antioquia    05  Medellín              05001    374.83062 2483545    5    \n2    Antioquia    05  Abejorral             05002    507.13411   20258   45    \n3    Antioquia    05  Abriaquí              05004    296.95598    2710   58    \n4    Antioquia    05  Alejandría            05021    128.93215    4669   48    \n5    Antioquia    05  Amagá                 05030     84.13248   30777   28    \n6    Antioquia    05  Amalfi                05031   1209.12687   26552   54    \n7    Antioquia    05  Andes                 05034    402.50256   43713   38    \n8    Antioquia    05  Angelópolis           05036     81.87630    5790   37    \n9    Antioquia    05  Angostura             05038    338.66648   11462   47    \n10   Antioquia    05  Anorí                 05040   1413.77390   18737   58    \n11   Antioquia    05  Santafé De Antioquia  05042    525.60137   26598   45    \n12   Antioquia    05  Anza                  05044    255.92331    7085   48    \n13   Antioquia    05  Apartadó              05045    535.17238  124647   34    \n14   Antioquia    05  Arboletes             05051    754.25190   29942   48    \n15   Antioquia    05  Argelia               05055    245.34178    7577   46    \n16   Antioquia    05  Armenia               05059    110.43497    5085   43    \n17   Antioquia    05  Barbosa               05079    205.66617   53242   32    \n18   Antioquia    05  Belmira               05086    296.15317    6054   51    \n19   Antioquia    05  Bello                 05088    147.75842  538527   12    \n20   Antioquia    05  Betania               05091    180.52599   10274   42    \n21   Antioquia    05  Betulia               05093    262.36750   15736   42    \n22   Antioquia    05  Ciudad Bolívar        05101    260.44611   26160   38    \n23   Antioquia    05  Briceño               05107    376.34676    8065   52    \n24   Antioquia    05  Buriticá              05113    355.21026    9502   52    \n25   Antioquia    05  Cáceres               05120   1873.80283   29716   56    \n26   Antioquia    05  Caicedo               05125    200.12988    8420   46    \n27   Antioquia    05  Caldas                05129    132.75594   81658   24    \n28   Antioquia    05  Campamento            05134    206.34335    9202   46    \n29   Antioquia    05  Cañasgordas           05138    364.83123   15490   46    \n30   Antioquia    05  Caracolí              05142    262.79878    4537   53    \n...  ...          ... ...                   ...     ...        ...       ...   \n1089 Amazonas     91  La Victoria           91430.0  1432.795    652      85   \n1090 Amazonas     91  Miriti Paraná         91460.0 16867.533   1860     100   \n1091 Amazonas     91  Puerto Alegría        91530.0  8494.182    759      96   \n1092 Amazonas     91  Puerto Arica          91536.0 13791.327   1027     100   \n1093 Amazonas     91  Puerto Nariño         91540.0  1509.204   9997      72   \n1094 Amazonas     91  Puerto Santander      91669.0 14731.088   1765      96   \n1095 Amazonas     91  Tarapacá              91798.0  9195.878   3869      90   \n1096 Guainía      94  Inírida               94001.0 15970.199  32673      81   \n1097 Guainía      94  Barranco Minas        94343.0 14395.678   8042      87   \n1098 Guainía      94  Mapiripana            94663.0        NA   1048      84   \n1099 Guainía      94  San Felipe            94883.0  2926.365   1706      89   \n1100 Guainía      94  Puerto Colombia       94884.0 15700.713   1934      93   \n1101 Guainía      94  La Guadalupe          94885.0  1178.871    288      96   \n1102 Guainía      94  Cacahual              94886.0  2335.325    886      85   \n1103 Guainía      94  Pana Pana             94887.0 10227.147   1959      93   \n1104 Guainía      94  Morichal              94888.0  8555.058    937     100   \n1105 Guaviare     95  San José Del Guaviare 95001.0 16768.515  54333      70   \n1106 Guaviare     95  Calamar               95015.0 13556.415   9801      81   \n1107 Guaviare     95  El Retorno            95025.0 12442.226  13684      77   \n1108 Guaviare     95  Miraflores            95200.0 12808.077   6898      81   \n1109 Vaupés       97  Mitú                  97001.0 16215.737  31302      77   \n1110 Vaupés       97  Caruru                97161.0  6368.486   3056      85   \n1111 Vaupés       97  Pacoa                 97511.0 13993.251   4229      91   \n1112 Vaupés       97  Taraira               97666.0  6510.247   2318      97   \n1113 Vaupés       97  Papunaua              97777.0  5551.154    749      95   \n1114 Vaupés       97  Yavaraté              97889.0  4660.406   1067      92   \n1115 Vichada      99  Puerto Carreño        99001.0 12204.951  20474      81   \n1116 Vichada      99  La Primavera          99524.0 18569.338   9799      85   \n1117 Vichada      99  Santa Rosalía         99624.0  3691.869   4130      81   \n1118 Vichada      99  Cumaribo              99773.0 65597.212  76196      87   \n     Region             \n1    Región Eje Cafetero\n2    Región Eje Cafetero\n3    Región Eje Cafetero\n4    Región Eje Cafetero\n5    Región Eje Cafetero\n6    Región Eje Cafetero\n7    Región Eje Cafetero\n8    Región Eje Cafetero\n9    Región Eje Cafetero\n10   Región Eje Cafetero\n11   Región Eje Cafetero\n12   Región Eje Cafetero\n13   Región Eje Cafetero\n14   Región Eje Cafetero\n15   Región Eje Cafetero\n16   Región Eje Cafetero\n17   Región Eje Cafetero\n18   Región Eje Cafetero\n19   Región Eje Cafetero\n20   Región Eje Cafetero\n21   Región Eje Cafetero\n22   Región Eje Cafetero\n23   Región Eje Cafetero\n24   Región Eje Cafetero\n25   Región Eje Cafetero\n26   Región Eje Cafetero\n27   Región Eje Cafetero\n28   Región Eje Cafetero\n29   Región Eje Cafetero\n30   Región Eje Cafetero\n...  ...                \n1089 Región Centro Sur  \n1090 Región Centro Sur  \n1091 Región Centro Sur  \n1092 Región Centro Sur  \n1093 Región Centro Sur  \n1094 Región Centro Sur  \n1095 Región Centro Sur  \n1096 Región Llano       \n1097 Región Llano       \n1098 Región Llano       \n1099 Región Llano       \n1100 Región Llano       \n1101 Región Llano       \n1102 Región Llano       \n1103 Región Llano       \n1104 Región Llano       \n1105 Región Llano       \n1106 Región Llano       \n1107 Región Llano       \n1108 Región Llano       \n1109 Región Llano       \n1110 Región Llano       \n1111 Región Llano       \n1112 Región Llano       \n1113 Región Llano       \n1114 Región Llano       \n1115 Región Llano       \n1116 Región Llano       \n1117 Región Llano       \n1118 Región Llano       "
     },
     "metadata": {},
     "output_type": "display_data"
    }
   ]
  },
  {
   "cell_type": "markdown",
   "source": "- str_sub(\"string\", initial_index, end_index) Substrings",
   "metadata": {
    "formattedRanges": [
     {
      "type": "marks",
      "marks": {
       "bold": true
      },
      "toCodePoint": 54,
      "fromCodePoint": 44
     }
    ],
    "tags": [],
    "cell_id": "555976306dc2437a8233b16a7b4fde1a",
    "is_collapsed": false,
    "deepnote_cell_type": "text-cell-bullet"
   }
  },
  {
   "cell_type": "markdown",
   "source": "- ifelse(operadores logicos, condicional_True, condicional_False) Condicionales",
   "metadata": {
    "formattedRanges": [
     {
      "type": "marks",
      "marks": {
       "bold": true
      },
      "toCodePoint": 77,
      "fromCodePoint": 64
     }
    ],
    "tags": [],
    "cell_id": "90542b3f-385b-4206-85b5-574c4a86d629",
    "is_collapsed": false,
    "deepnote_cell_type": "text-cell-bullet"
   }
  },
  {
   "cell_type": "markdown",
   "source": "- str_c(\"string\", \"a-concatenar\") Concatenar",
   "metadata": {
    "formattedRanges": [
     {
      "type": "marks",
      "marks": {
       "bold": true
      },
      "toCodePoint": 42,
      "fromCodePoint": 32
     }
    ],
    "tags": [],
    "cell_id": "2982dfc1-bdf5-4725-b967-662625903c19",
    "is_collapsed": false,
    "deepnote_cell_type": "text-cell-bullet"
   }
  },
  {
   "cell_type": "code",
   "metadata": {
    "tags": [],
    "cell_id": "1860f75d6155484cbf2893e1bb101e1c",
    "source_hash": "4c476760",
    "execution_start": 1676390999006,
    "execution_millis": 30,
    "deepnote_to_be_reexecuted": false,
    "deepnote_cell_type": "code",
    "deepnote_cell_height": 1069,
    "deepnote_output_heights": [
     392,
     392
    ]
   },
   "source": "municipiosDf <- within(municipiosDf,{\n                    Depmun <- str_sub(Depmun,1,5) #Omitir lo\n                    Tipo <- ifelse(str_sub(Depmun,3,5)==\"001\",\"Capital\",\"Otro\")\n                    Tipo2 <- ifelse(str_c(Dep,\"001\")==Depmun,\"Capital\",\"Otro\")\n                    if(all(Tipo==Tipo2)) rm(Tipo2)\n                    Tipo <- ifelse(Depmun==\"25001\",\"Otro\",Tipo)\n                    })\n\nhead(municipiosDf[,c(\"Depmun\",\"Tipo\")],n=10)\ntail(municipiosDf[,c(\"Depmun\",\"Tipo\")],n=10)",
   "execution_count": 10,
   "outputs": [
    {
     "data": {
      "text/html": "<table class=\"dataframe\">\n<caption>A tibble: 10 x 2</caption>\n<thead>\n\t<tr><th scope=col>Depmun</th><th scope=col>Tipo</th></tr>\n\t<tr><th scope=col>&lt;chr&gt;</th><th scope=col>&lt;chr&gt;</th></tr>\n</thead>\n<tbody>\n\t<tr><td>05001</td><td>Capital</td></tr>\n\t<tr><td>05002</td><td>Otro   </td></tr>\n\t<tr><td>05004</td><td>Otro   </td></tr>\n\t<tr><td>05021</td><td>Otro   </td></tr>\n\t<tr><td>05030</td><td>Otro   </td></tr>\n\t<tr><td>05031</td><td>Otro   </td></tr>\n\t<tr><td>05034</td><td>Otro   </td></tr>\n\t<tr><td>05036</td><td>Otro   </td></tr>\n\t<tr><td>05038</td><td>Otro   </td></tr>\n\t<tr><td>05040</td><td>Otro   </td></tr>\n</tbody>\n</table>\n",
      "text/markdown": "\nA tibble: 10 x 2\n\n| Depmun &lt;chr&gt; | Tipo &lt;chr&gt; |\n|---|---|\n| 05001 | Capital |\n| 05002 | Otro    |\n| 05004 | Otro    |\n| 05021 | Otro    |\n| 05030 | Otro    |\n| 05031 | Otro    |\n| 05034 | Otro    |\n| 05036 | Otro    |\n| 05038 | Otro    |\n| 05040 | Otro    |\n\n",
      "text/latex": "A tibble: 10 x 2\n\\begin{tabular}{ll}\n Depmun & Tipo\\\\\n <chr> & <chr>\\\\\n\\hline\n\t 05001 & Capital\\\\\n\t 05002 & Otro   \\\\\n\t 05004 & Otro   \\\\\n\t 05021 & Otro   \\\\\n\t 05030 & Otro   \\\\\n\t 05031 & Otro   \\\\\n\t 05034 & Otro   \\\\\n\t 05036 & Otro   \\\\\n\t 05038 & Otro   \\\\\n\t 05040 & Otro   \\\\\n\\end{tabular}\n",
      "text/plain": "   Depmun Tipo   \n1  05001  Capital\n2  05002  Otro   \n3  05004  Otro   \n4  05021  Otro   \n5  05030  Otro   \n6  05031  Otro   \n7  05034  Otro   \n8  05036  Otro   \n9  05038  Otro   \n10 05040  Otro   "
     },
     "metadata": {},
     "output_type": "display_data"
    },
    {
     "data": {
      "text/html": "<table class=\"dataframe\">\n<caption>A tibble: 10 x 2</caption>\n<thead>\n\t<tr><th scope=col>Depmun</th><th scope=col>Tipo</th></tr>\n\t<tr><th scope=col>&lt;chr&gt;</th><th scope=col>&lt;chr&gt;</th></tr>\n</thead>\n<tbody>\n\t<tr><td>97001</td><td>Capital</td></tr>\n\t<tr><td>97161</td><td>Otro   </td></tr>\n\t<tr><td>97511</td><td>Otro   </td></tr>\n\t<tr><td>97666</td><td>Otro   </td></tr>\n\t<tr><td>97777</td><td>Otro   </td></tr>\n\t<tr><td>97889</td><td>Otro   </td></tr>\n\t<tr><td>99001</td><td>Capital</td></tr>\n\t<tr><td>99524</td><td>Otro   </td></tr>\n\t<tr><td>99624</td><td>Otro   </td></tr>\n\t<tr><td>99773</td><td>Otro   </td></tr>\n</tbody>\n</table>\n",
      "text/markdown": "\nA tibble: 10 x 2\n\n| Depmun &lt;chr&gt; | Tipo &lt;chr&gt; |\n|---|---|\n| 97001 | Capital |\n| 97161 | Otro    |\n| 97511 | Otro    |\n| 97666 | Otro    |\n| 97777 | Otro    |\n| 97889 | Otro    |\n| 99001 | Capital |\n| 99524 | Otro    |\n| 99624 | Otro    |\n| 99773 | Otro    |\n\n",
      "text/latex": "A tibble: 10 x 2\n\\begin{tabular}{ll}\n Depmun & Tipo\\\\\n <chr> & <chr>\\\\\n\\hline\n\t 97001 & Capital\\\\\n\t 97161 & Otro   \\\\\n\t 97511 & Otro   \\\\\n\t 97666 & Otro   \\\\\n\t 97777 & Otro   \\\\\n\t 97889 & Otro   \\\\\n\t 99001 & Capital\\\\\n\t 99524 & Otro   \\\\\n\t 99624 & Otro   \\\\\n\t 99773 & Otro   \\\\\n\\end{tabular}\n",
      "text/plain": "   Depmun Tipo   \n1  97001  Capital\n2  97161  Otro   \n3  97511  Otro   \n4  97666  Otro   \n5  97777  Otro   \n6  97889  Otro   \n7  99001  Capital\n8  99524  Otro   \n9  99624  Otro   \n10 99773  Otro   "
     },
     "metadata": {},
     "output_type": "display_data"
    }
   ]
  },
  {
   "cell_type": "code",
   "metadata": {
    "tags": [],
    "cell_id": "22b7cd33f9ce4ef2b13b5863f37d56f5",
    "source_hash": "43944dc6",
    "execution_start": 1676390999034,
    "execution_millis": 1,
    "deepnote_to_be_reexecuted": false,
    "deepnote_cell_type": "code",
    "deepnote_cell_height": 363.75
   },
   "source": "\"\"\"\nSe crea la variable denspobl definida como el cociente entre Poblacion y Superficie. \nSe crea también la variable Zona igual a \"Urbano\" cuando Irural <=40 y \"Rural\" cuando Irural > 40\n.\"\"\"\nMunicipios <- within(Municipios,{\n              denspobl <- Poblacion/Superficie\n              Zona <- ifelse(Irural <= 40,\"Urbano\",\"Rural\")\n              })\n\nwith(Municipios,table(Zona))",
   "execution_count": 11,
   "outputs": [
    {
     "output_type": "error",
     "ename": "ERROR",
     "evalue": "Error in parse(text = x, srcfile = src): <text>:1:3: unexpected string constant\n2: Se crea la variable denspobl definida como el cociente entre Poblacion y Superficie. \n3: Se crea también la variable Zona igual a \"\n     ^\n",
     "traceback": [
      "Error in parse(text = x, srcfile = src): <text>:1:3: unexpected string constant\n2: Se crea la variable denspobl definida como el cociente entre Poblacion y Superficie. \n3: Se crea también la variable Zona igual a \"\n     ^\nTraceback:\n"
     ]
    }
   ]
  },
  {
   "cell_type": "markdown",
   "source": "### Caracteristicas",
   "metadata": {
    "formattedRanges": [],
    "tags": [],
    "cell_id": "a18b2e084be241cb8a3a57f78964114b",
    "is_collapsed": false,
    "deepnote_cell_type": "text-cell-h3"
   }
  },
  {
   "cell_type": "code",
   "metadata": {
    "tags": [],
    "cell_id": "3413abf64970442ba4f62e3d259ba4c5",
    "source_hash": "abd8e12e",
    "execution_start": 1676317423922,
    "execution_millis": 2,
    "deepnote_to_be_reexecuted": true,
    "deepnote_cell_type": "code",
    "deepnote_cell_height": 131.375,
    "deepnote_output_heights": [
     39.375
    ]
   },
   "source": "with(Municipios,summary(denspobl)) #Estadistica descriptiva",
   "execution_count": 28,
   "outputs": [
    {
     "data": {
      "text/plain": "     Min.   1st Qu.    Median      Mean   3rd Qu.      Max.      NA's \n    0.074    21.430    44.887   165.338    93.368 14442.770         1 "
     },
     "metadata": {},
     "output_type": "display_data"
    }
   ]
  },
  {
   "cell_type": "code",
   "metadata": {
    "tags": [],
    "cell_id": "ad0d4aee534147c38f05a9cd8dff0478",
    "source_hash": "98b8c16a",
    "execution_start": 1676317199537,
    "execution_millis": 14,
    "deepnote_to_be_reexecuted": true,
    "deepnote_cell_type": "code",
    "deepnote_cell_height": 112.1875,
    "deepnote_output_heights": [
     20.1875
    ]
   },
   "source": "length(colnames(Municipios))",
   "execution_count": 26,
   "outputs": [
    {
     "data": {
      "text/html": "11",
      "text/markdown": "11",
      "text/latex": "11",
      "text/plain": "[1] 11"
     },
     "metadata": {},
     "output_type": "display_data"
    }
   ]
  },
  {
   "cell_type": "code",
   "metadata": {
    "tags": [],
    "cell_id": "e92418b7db24413a9ede388a269237b2",
    "source_hash": "af0b23f3",
    "execution_start": 1676317352755,
    "execution_millis": 13,
    "deepnote_to_be_reexecuted": true,
    "deepnote_cell_type": "code",
    "deepnote_cell_height": 112.1875,
    "deepnote_output_heights": [
     20.1875
    ]
   },
   "source": "nrow(Municipios)",
   "execution_count": 27,
   "outputs": [
    {
     "data": {
      "text/html": "1118",
      "text/markdown": "1118",
      "text/latex": "1118",
      "text/plain": "[1] 1118"
     },
     "metadata": {},
     "output_type": "display_data"
    }
   ]
  },
  {
   "cell_type": "markdown",
   "source": "### Subconjuntos",
   "metadata": {
    "formattedRanges": [],
    "tags": [],
    "cell_id": "2cadcbe87ce744449c52324fcb31ebc8",
    "is_collapsed": false,
    "deepnote_cell_type": "text-cell-h3"
   }
  },
  {
   "cell_type": "markdown",
   "source": "subset()",
   "metadata": {
    "formattedRanges": [
     {
      "type": "marks",
      "marks": {
       "bold": true
      },
      "toCodePoint": 8,
      "fromCodePoint": 0
     }
    ],
    "tags": [],
    "cell_id": "679c57d269964f2e8b69295fff884d72",
    "is_collapsed": false,
    "deepnote_cell_type": "text-cell-p"
   }
  },
  {
   "cell_type": "markdown",
   "source": "str_detect()",
   "metadata": {
    "formattedRanges": [
     {
      "type": "marks",
      "marks": {
       "bold": true
      },
      "toCodePoint": 12,
      "fromCodePoint": 0
     }
    ],
    "tags": [],
    "cell_id": "9180464c-0a4f-4e94-b0f3-414b051a87aa",
    "is_collapsed": false,
    "deepnote_cell_type": "text-cell-p"
   }
  },
  {
   "cell_type": "markdown",
   "source": "Expresiones regulares: https://web.mit.edu/hackl/www/lab/turkshop/slides/regex-cheatsheet.pdf",
   "metadata": {
    "formattedRanges": [
     {
      "type": "marks",
      "marks": {
       "bold": true
      },
      "toCodePoint": 23,
      "fromCodePoint": 0
     },
     {
      "url": "https://web.mit.edu/hackl/www/lab/turkshop/slides/regex-cheatsheet.pdf",
      "type": "link",
      "ranges": [],
      "toCodePoint": 93,
      "fromCodePoint": 23
     }
    ],
    "tags": [],
    "cell_id": "f3479805-c9b2-491d-bd0a-b1c5228a869a",
    "is_collapsed": false,
    "deepnote_cell_type": "text-cell-p"
   }
  },
  {
   "cell_type": "code",
   "metadata": {
    "tags": [],
    "cell_id": "322e80977b5a477e8991a2e81c420293",
    "source_hash": "410465db",
    "execution_start": 1676317471421,
    "execution_millis": 25,
    "deepnote_to_be_reexecuted": true,
    "deepnote_cell_type": "code",
    "deepnote_cell_height": 368,
    "deepnote_output_heights": [
     276
    ]
   },
   "source": "head(Municipios)",
   "execution_count": 29,
   "outputs": [
    {
     "data": {
      "text/html": "<table class=\"dataframe\">\n<caption>A tibble: 6 x 11</caption>\n<thead>\n\t<tr><th scope=col>Departamento</th><th scope=col>Dep</th><th scope=col>Municipio</th><th scope=col>Depmun</th><th scope=col>Superficie</th><th scope=col>Poblacion</th><th scope=col>Irural</th><th scope=col>Region</th><th scope=col>Tipo</th><th scope=col>Zona</th><th scope=col>denspobl</th></tr>\n\t<tr><th scope=col>&lt;chr&gt;</th><th scope=col>&lt;chr&gt;</th><th scope=col>&lt;chr&gt;</th><th scope=col>&lt;chr&gt;</th><th scope=col>&lt;dbl&gt;</th><th scope=col>&lt;dbl&gt;</th><th scope=col>&lt;dbl&gt;</th><th scope=col>&lt;chr&gt;</th><th scope=col>&lt;chr&gt;</th><th scope=col>&lt;chr&gt;</th><th scope=col>&lt;dbl&gt;</th></tr>\n</thead>\n<tbody>\n\t<tr><td>Antioquia</td><td>05</td><td>Medellín  </td><td>05001</td><td> 374.83062</td><td>2483545</td><td> 5</td><td>Región Eje Cafetero</td><td>Capital</td><td>Urbano</td><td>6625.779315</td></tr>\n\t<tr><td>Antioquia</td><td>05</td><td>Abejorral </td><td>05002</td><td> 507.13411</td><td>  20258</td><td>45</td><td>Región Eje Cafetero</td><td>Otro   </td><td>Rural </td><td>  39.946041</td></tr>\n\t<tr><td>Antioquia</td><td>05</td><td>Abriaquí  </td><td>05004</td><td> 296.95598</td><td>   2710</td><td>58</td><td>Región Eje Cafetero</td><td>Otro   </td><td>Rural </td><td>   9.125932</td></tr>\n\t<tr><td>Antioquia</td><td>05</td><td>Alejandría</td><td>05021</td><td> 128.93215</td><td>   4669</td><td>48</td><td>Región Eje Cafetero</td><td>Otro   </td><td>Rural </td><td>  36.212844</td></tr>\n\t<tr><td>Antioquia</td><td>05</td><td>Amagá     </td><td>05030</td><td>  84.13248</td><td>  30777</td><td>28</td><td>Región Eje Cafetero</td><td>Otro   </td><td>Urbano</td><td> 365.815927</td></tr>\n\t<tr><td>Antioquia</td><td>05</td><td>Amalfi    </td><td>05031</td><td>1209.12687</td><td>  26552</td><td>54</td><td>Región Eje Cafetero</td><td>Otro   </td><td>Rural </td><td>  21.959648</td></tr>\n</tbody>\n</table>\n",
      "text/markdown": "\nA tibble: 6 x 11\n\n| Departamento &lt;chr&gt; | Dep &lt;chr&gt; | Municipio &lt;chr&gt; | Depmun &lt;chr&gt; | Superficie &lt;dbl&gt; | Poblacion &lt;dbl&gt; | Irural &lt;dbl&gt; | Region &lt;chr&gt; | Tipo &lt;chr&gt; | Zona &lt;chr&gt; | denspobl &lt;dbl&gt; |\n|---|---|---|---|---|---|---|---|---|---|---|\n| Antioquia | 05 | Medellín   | 05001 |  374.83062 | 2483545 |  5 | Región Eje Cafetero | Capital | Urbano | 6625.779315 |\n| Antioquia | 05 | Abejorral  | 05002 |  507.13411 |   20258 | 45 | Región Eje Cafetero | Otro    | Rural  |   39.946041 |\n| Antioquia | 05 | Abriaquí   | 05004 |  296.95598 |    2710 | 58 | Región Eje Cafetero | Otro    | Rural  |    9.125932 |\n| Antioquia | 05 | Alejandría | 05021 |  128.93215 |    4669 | 48 | Región Eje Cafetero | Otro    | Rural  |   36.212844 |\n| Antioquia | 05 | Amagá      | 05030 |   84.13248 |   30777 | 28 | Región Eje Cafetero | Otro    | Urbano |  365.815927 |\n| Antioquia | 05 | Amalfi     | 05031 | 1209.12687 |   26552 | 54 | Región Eje Cafetero | Otro    | Rural  |   21.959648 |\n\n",
      "text/latex": "A tibble: 6 x 11\n\\begin{tabular}{lllllllllll}\n Departamento & Dep & Municipio & Depmun & Superficie & Poblacion & Irural & Region & Tipo & Zona & denspobl\\\\\n <chr> & <chr> & <chr> & <chr> & <dbl> & <dbl> & <dbl> & <chr> & <chr> & <chr> & <dbl>\\\\\n\\hline\n\t Antioquia & 05 & Medellín   & 05001 &  374.83062 & 2483545 &  5 & Región Eje Cafetero & Capital & Urbano & 6625.779315\\\\\n\t Antioquia & 05 & Abejorral  & 05002 &  507.13411 &   20258 & 45 & Región Eje Cafetero & Otro    & Rural  &   39.946041\\\\\n\t Antioquia & 05 & Abriaquí   & 05004 &  296.95598 &    2710 & 58 & Región Eje Cafetero & Otro    & Rural  &    9.125932\\\\\n\t Antioquia & 05 & Alejandría & 05021 &  128.93215 &    4669 & 48 & Región Eje Cafetero & Otro    & Rural  &   36.212844\\\\\n\t Antioquia & 05 & Amagá      & 05030 &   84.13248 &   30777 & 28 & Región Eje Cafetero & Otro    & Urbano &  365.815927\\\\\n\t Antioquia & 05 & Amalfi     & 05031 & 1209.12687 &   26552 & 54 & Región Eje Cafetero & Otro    & Rural  &   21.959648\\\\\n\\end{tabular}\n",
      "text/plain": "  Departamento Dep Municipio  Depmun Superficie Poblacion Irural\n1 Antioquia    05  Medellín   05001   374.83062 2483545    5    \n2 Antioquia    05  Abejorral  05002   507.13411   20258   45    \n3 Antioquia    05  Abriaquí   05004   296.95598    2710   58    \n4 Antioquia    05  Alejandría 05021   128.93215    4669   48    \n5 Antioquia    05  Amagá      05030    84.13248   30777   28    \n6 Antioquia    05  Amalfi     05031  1209.12687   26552   54    \n  Region              Tipo    Zona   denspobl   \n1 Región Eje Cafetero Capital Urbano 6625.779315\n2 Región Eje Cafetero Otro    Rural    39.946041\n3 Región Eje Cafetero Otro    Rural     9.125932\n4 Región Eje Cafetero Otro    Rural    36.212844\n5 Región Eje Cafetero Otro    Urbano  365.815927\n6 Región Eje Cafetero Otro    Rural    21.959648"
     },
     "metadata": {},
     "output_type": "display_data"
    }
   ]
  },
  {
   "cell_type": "markdown",
   "source": "### Expresiones regulares I",
   "metadata": {
    "formattedRanges": [],
    "tags": [],
    "cell_id": "e590d2d53e4c45628529cf855fe70355",
    "is_collapsed": false,
    "deepnote_cell_type": "text-cell-h3"
   }
  },
  {
   "cell_type": "code",
   "metadata": {
    "tags": [],
    "cell_id": "974f6ff1c2434cdb9b6ffe983f830e04",
    "source_hash": "7432de4f",
    "execution_start": 1676317926504,
    "execution_millis": 28,
    "deepnote_to_be_reexecuted": true,
    "deepnote_cell_type": "code",
    "deepnote_cell_height": 813.75,
    "deepnote_output_heights": [
     null,
     247,
     247
    ]
   },
   "source": "Santos <- subset(Municipios,str_detect(Municipio,\"(^| )San( |ta |to )\"),\n                 select=c(Departamento,Depmun,Municipio))\n\nstr(Santos)\nhead(Santos,n=5)\ntail(Santos,n=5)",
   "execution_count": 33,
   "outputs": [
    {
     "name": "stdout",
     "text": "tibble [111 × 3] (S3: tbl_df/tbl/data.frame)\n $ Departamento: chr [1:111] \"Antioquia\" \"Antioquia\" \"Antioquia\" \"Antioquia\" ...\n $ Depmun      : chr [1:111] \"05647\" \"05649\" \"05652\" \"05656\" ...\n $ Municipio   : chr [1:111] \"San Andrés De Cuerquía\" \"San Carlos\" \"San Francisco\" \"San Jerónimo\" ...\n",
     "output_type": "stream"
    },
    {
     "data": {
      "text/html": "<table class=\"dataframe\">\n<caption>A tibble: 5 x 3</caption>\n<thead>\n\t<tr><th scope=col>Departamento</th><th scope=col>Depmun</th><th scope=col>Municipio</th></tr>\n\t<tr><th scope=col>&lt;chr&gt;</th><th scope=col>&lt;chr&gt;</th><th scope=col>&lt;chr&gt;</th></tr>\n</thead>\n<tbody>\n\t<tr><td>Antioquia</td><td>05647</td><td>San Andrés De Cuerquía</td></tr>\n\t<tr><td>Antioquia</td><td>05649</td><td>San Carlos            </td></tr>\n\t<tr><td>Antioquia</td><td>05652</td><td>San Francisco         </td></tr>\n\t<tr><td>Antioquia</td><td>05656</td><td>San Jerónimo          </td></tr>\n\t<tr><td>Antioquia</td><td>05658</td><td>San José De La Montaña</td></tr>\n</tbody>\n</table>\n",
      "text/markdown": "\nA tibble: 5 x 3\n\n| Departamento &lt;chr&gt; | Depmun &lt;chr&gt; | Municipio &lt;chr&gt; |\n|---|---|---|\n| Antioquia | 05647 | San Andrés De Cuerquía |\n| Antioquia | 05649 | San Carlos             |\n| Antioquia | 05652 | San Francisco          |\n| Antioquia | 05656 | San Jerónimo           |\n| Antioquia | 05658 | San José De La Montaña |\n\n",
      "text/latex": "A tibble: 5 x 3\n\\begin{tabular}{lll}\n Departamento & Depmun & Municipio\\\\\n <chr> & <chr> & <chr>\\\\\n\\hline\n\t Antioquia & 05647 & San Andrés De Cuerquía\\\\\n\t Antioquia & 05649 & San Carlos            \\\\\n\t Antioquia & 05652 & San Francisco         \\\\\n\t Antioquia & 05656 & San Jerónimo          \\\\\n\t Antioquia & 05658 & San José De La Montaña\\\\\n\\end{tabular}\n",
      "text/plain": "  Departamento Depmun Municipio             \n1 Antioquia    05647  San Andrés De Cuerquía\n2 Antioquia    05649  San Carlos            \n3 Antioquia    05652  San Francisco         \n4 Antioquia    05656  San Jerónimo          \n5 Antioquia    05658  San José De La Montaña"
     },
     "metadata": {},
     "output_type": "display_data"
    },
    {
     "data": {
      "text/html": "<table class=\"dataframe\">\n<caption>A tibble: 5 x 3</caption>\n<thead>\n\t<tr><th scope=col>Departamento</th><th scope=col>Depmun</th><th scope=col>Municipio</th></tr>\n\t<tr><th scope=col>&lt;chr&gt;</th><th scope=col>&lt;chr&gt;</th><th scope=col>&lt;chr&gt;</th></tr>\n</thead>\n<tbody>\n\t<tr><td>Putumayo  </td><td>86757</td><td>San Miguel           </td></tr>\n\t<tr><td>San Andrés</td><td>88001</td><td>San Andrés           </td></tr>\n\t<tr><td>Guainía   </td><td>94883</td><td>San Felipe           </td></tr>\n\t<tr><td>Guaviare  </td><td>95001</td><td>San José Del Guaviare</td></tr>\n\t<tr><td>Vichada   </td><td>99624</td><td>Santa Rosalía        </td></tr>\n</tbody>\n</table>\n",
      "text/markdown": "\nA tibble: 5 x 3\n\n| Departamento &lt;chr&gt; | Depmun &lt;chr&gt; | Municipio &lt;chr&gt; |\n|---|---|---|\n| Putumayo   | 86757 | San Miguel            |\n| San Andrés | 88001 | San Andrés            |\n| Guainía    | 94883 | San Felipe            |\n| Guaviare   | 95001 | San José Del Guaviare |\n| Vichada    | 99624 | Santa Rosalía         |\n\n",
      "text/latex": "A tibble: 5 x 3\n\\begin{tabular}{lll}\n Departamento & Depmun & Municipio\\\\\n <chr> & <chr> & <chr>\\\\\n\\hline\n\t Putumayo   & 86757 & San Miguel           \\\\\n\t San Andrés & 88001 & San Andrés           \\\\\n\t Guainía    & 94883 & San Felipe           \\\\\n\t Guaviare   & 95001 & San José Del Guaviare\\\\\n\t Vichada    & 99624 & Santa Rosalía        \\\\\n\\end{tabular}\n",
      "text/plain": "  Departamento Depmun Municipio            \n1 Putumayo     86757  San Miguel           \n2 San Andrés   88001  San Andrés           \n3 Guainía      94883  San Felipe           \n4 Guaviare     95001  San José Del Guaviare\n5 Vichada      99624  Santa Rosalía        "
     },
     "metadata": {},
     "output_type": "display_data"
    }
   ]
  },
  {
   "cell_type": "code",
   "metadata": {
    "tags": [],
    "cell_id": "950699100df6434a8008de87d7dd50d3",
    "source_hash": "e7a06921",
    "execution_start": 1676318190236,
    "execution_millis": 43,
    "deepnote_to_be_reexecuted": true,
    "deepnote_cell_type": "code",
    "deepnote_cell_height": 894.5,
    "deepnote_output_heights": [
     null,
     247,
     247
    ]
   },
   "source": "Santos2 <- subset(Municipios,str_detect(Municipio,\"(^| )San( |ta |to )\"),\n                  select=-c(Region,Irural,Poblacion,Superficie))\n\nstr(Santos2)\nhead(Santos2,n=5)\ntail(Santos2,n=5)",
   "execution_count": 35,
   "outputs": [
    {
     "name": "stdout",
     "text": "tibble [111 × 7] (S3: tbl_df/tbl/data.frame)\n $ Departamento: chr [1:111] \"Antioquia\" \"Antioquia\" \"Antioquia\" \"Antioquia\" ...\n $ Dep         : chr [1:111] \"05\" \"05\" \"05\" \"05\" ...\n $ Municipio   : chr [1:111] \"San Andrés De Cuerquía\" \"San Carlos\" \"San Francisco\" \"San Jerónimo\" ...\n $ Depmun      : chr [1:111] \"05647\" \"05649\" \"05652\" \"05656\" ...\n $ Tipo        : chr [1:111] \"Otro\" \"Otro\" \"Otro\" \"Otro\" ...\n $ Zona        : chr [1:111] \"Rural\" \"Rural\" \"Rural\" \"Urbano\" ...\n $ denspobl    : num [1:111] 33.1 22.2 16.2 97.4 29.4 ...\n",
     "output_type": "stream"
    },
    {
     "data": {
      "text/html": "<table class=\"dataframe\">\n<caption>A tibble: 5 x 7</caption>\n<thead>\n\t<tr><th scope=col>Departamento</th><th scope=col>Dep</th><th scope=col>Municipio</th><th scope=col>Depmun</th><th scope=col>Tipo</th><th scope=col>Zona</th><th scope=col>denspobl</th></tr>\n\t<tr><th scope=col>&lt;chr&gt;</th><th scope=col>&lt;chr&gt;</th><th scope=col>&lt;chr&gt;</th><th scope=col>&lt;chr&gt;</th><th scope=col>&lt;chr&gt;</th><th scope=col>&lt;chr&gt;</th><th scope=col>&lt;dbl&gt;</th></tr>\n</thead>\n<tbody>\n\t<tr><td>Antioquia</td><td>05</td><td>San Andrés De Cuerquía</td><td>05647</td><td>Otro</td><td>Rural </td><td>33.10068</td></tr>\n\t<tr><td>Antioquia</td><td>05</td><td>San Carlos            </td><td>05649</td><td>Otro</td><td>Rural </td><td>22.20629</td></tr>\n\t<tr><td>Antioquia</td><td>05</td><td>San Francisco         </td><td>05652</td><td>Otro</td><td>Rural </td><td>16.20928</td></tr>\n\t<tr><td>Antioquia</td><td>05</td><td>San Jerónimo          </td><td>05656</td><td>Otro</td><td>Urbano</td><td>97.41686</td></tr>\n\t<tr><td>Antioquia</td><td>05</td><td>San José De La Montaña</td><td>05658</td><td>Otro</td><td>Rural </td><td>29.39553</td></tr>\n</tbody>\n</table>\n",
      "text/markdown": "\nA tibble: 5 x 7\n\n| Departamento &lt;chr&gt; | Dep &lt;chr&gt; | Municipio &lt;chr&gt; | Depmun &lt;chr&gt; | Tipo &lt;chr&gt; | Zona &lt;chr&gt; | denspobl &lt;dbl&gt; |\n|---|---|---|---|---|---|---|\n| Antioquia | 05 | San Andrés De Cuerquía | 05647 | Otro | Rural  | 33.10068 |\n| Antioquia | 05 | San Carlos             | 05649 | Otro | Rural  | 22.20629 |\n| Antioquia | 05 | San Francisco          | 05652 | Otro | Rural  | 16.20928 |\n| Antioquia | 05 | San Jerónimo           | 05656 | Otro | Urbano | 97.41686 |\n| Antioquia | 05 | San José De La Montaña | 05658 | Otro | Rural  | 29.39553 |\n\n",
      "text/latex": "A tibble: 5 x 7\n\\begin{tabular}{lllllll}\n Departamento & Dep & Municipio & Depmun & Tipo & Zona & denspobl\\\\\n <chr> & <chr> & <chr> & <chr> & <chr> & <chr> & <dbl>\\\\\n\\hline\n\t Antioquia & 05 & San Andrés De Cuerquía & 05647 & Otro & Rural  & 33.10068\\\\\n\t Antioquia & 05 & San Carlos             & 05649 & Otro & Rural  & 22.20629\\\\\n\t Antioquia & 05 & San Francisco          & 05652 & Otro & Rural  & 16.20928\\\\\n\t Antioquia & 05 & San Jerónimo           & 05656 & Otro & Urbano & 97.41686\\\\\n\t Antioquia & 05 & San José De La Montaña & 05658 & Otro & Rural  & 29.39553\\\\\n\\end{tabular}\n",
      "text/plain": "  Departamento Dep Municipio              Depmun Tipo Zona   denspobl\n1 Antioquia    05  San Andrés De Cuerquía 05647  Otro Rural  33.10068\n2 Antioquia    05  San Carlos             05649  Otro Rural  22.20629\n3 Antioquia    05  San Francisco          05652  Otro Rural  16.20928\n4 Antioquia    05  San Jerónimo           05656  Otro Urbano 97.41686\n5 Antioquia    05  San José De La Montaña 05658  Otro Rural  29.39553"
     },
     "metadata": {},
     "output_type": "display_data"
    },
    {
     "data": {
      "text/html": "<table class=\"dataframe\">\n<caption>A tibble: 5 x 7</caption>\n<thead>\n\t<tr><th scope=col>Departamento</th><th scope=col>Dep</th><th scope=col>Municipio</th><th scope=col>Depmun</th><th scope=col>Tipo</th><th scope=col>Zona</th><th scope=col>denspobl</th></tr>\n\t<tr><th scope=col>&lt;chr&gt;</th><th scope=col>&lt;chr&gt;</th><th scope=col>&lt;chr&gt;</th><th scope=col>&lt;chr&gt;</th><th scope=col>&lt;chr&gt;</th><th scope=col>&lt;chr&gt;</th><th scope=col>&lt;dbl&gt;</th></tr>\n</thead>\n<tbody>\n\t<tr><td>Putumayo  </td><td>86</td><td>San Miguel           </td><td>86757</td><td>Otro   </td><td>Rural </td><td>  50.3473235</td></tr>\n\t<tr><td>San Andrés</td><td>88</td><td>San Andrés           </td><td>88001</td><td>Capital</td><td>Urbano</td><td>2076.5818110</td></tr>\n\t<tr><td>Guainía   </td><td>94</td><td>San Felipe           </td><td>94883</td><td>Otro   </td><td>Rural </td><td>   0.5829758</td></tr>\n\t<tr><td>Guaviare  </td><td>95</td><td>San José Del Guaviare</td><td>95001</td><td>Capital</td><td>Rural </td><td>   3.2401796</td></tr>\n\t<tr><td>Vichada   </td><td>99</td><td>Santa Rosalía        </td><td>99624</td><td>Otro   </td><td>Rural </td><td>   1.1186745</td></tr>\n</tbody>\n</table>\n",
      "text/markdown": "\nA tibble: 5 x 7\n\n| Departamento &lt;chr&gt; | Dep &lt;chr&gt; | Municipio &lt;chr&gt; | Depmun &lt;chr&gt; | Tipo &lt;chr&gt; | Zona &lt;chr&gt; | denspobl &lt;dbl&gt; |\n|---|---|---|---|---|---|---|\n| Putumayo   | 86 | San Miguel            | 86757 | Otro    | Rural  |   50.3473235 |\n| San Andrés | 88 | San Andrés            | 88001 | Capital | Urbano | 2076.5818110 |\n| Guainía    | 94 | San Felipe            | 94883 | Otro    | Rural  |    0.5829758 |\n| Guaviare   | 95 | San José Del Guaviare | 95001 | Capital | Rural  |    3.2401796 |\n| Vichada    | 99 | Santa Rosalía         | 99624 | Otro    | Rural  |    1.1186745 |\n\n",
      "text/latex": "A tibble: 5 x 7\n\\begin{tabular}{lllllll}\n Departamento & Dep & Municipio & Depmun & Tipo & Zona & denspobl\\\\\n <chr> & <chr> & <chr> & <chr> & <chr> & <chr> & <dbl>\\\\\n\\hline\n\t Putumayo   & 86 & San Miguel            & 86757 & Otro    & Rural  &   50.3473235\\\\\n\t San Andrés & 88 & San Andrés            & 88001 & Capital & Urbano & 2076.5818110\\\\\n\t Guainía    & 94 & San Felipe            & 94883 & Otro    & Rural  &    0.5829758\\\\\n\t Guaviare   & 95 & San José Del Guaviare & 95001 & Capital & Rural  &    3.2401796\\\\\n\t Vichada    & 99 & Santa Rosalía         & 99624 & Otro    & Rural  &    1.1186745\\\\\n\\end{tabular}\n",
      "text/plain": "  Departamento Dep Municipio             Depmun Tipo    Zona   denspobl    \n1 Putumayo     86  San Miguel            86757  Otro    Rural    50.3473235\n2 San Andrés   88  San Andrés            88001  Capital Urbano 2076.5818110\n3 Guainía      94  San Felipe            94883  Otro    Rural     0.5829758\n4 Guaviare     95  San José Del Guaviare 95001  Capital Rural     3.2401796\n5 Vichada      99  Santa Rosalía         99624  Otro    Rural     1.1186745"
     },
     "metadata": {},
     "output_type": "display_data"
    }
   ]
  },
  {
   "cell_type": "markdown",
   "source": "### Expresiones regulares II",
   "metadata": {
    "formattedRanges": [],
    "tags": [],
    "cell_id": "072f8d7f90034df59a03b682f26785cf",
    "is_collapsed": false,
    "deepnote_cell_type": "text-cell-h3"
   }
  },
  {
   "cell_type": "markdown",
   "source": "chartr() Reemplazar caracteres",
   "metadata": {
    "formattedRanges": [
     {
      "type": "marks",
      "marks": {
       "bold": true
      },
      "toCodePoint": 30,
      "fromCodePoint": 9
     }
    ],
    "tags": [],
    "cell_id": "8e2c7c904b204fdd93870023557d535b",
    "is_collapsed": false,
    "deepnote_cell_type": "text-cell-p"
   }
  },
  {
   "cell_type": "markdown",
   "source": "'&' ---> \"and\"",
   "metadata": {
    "formattedRanges": [
     {
      "type": "marks",
      "marks": {
       "bold": true
      },
      "toCodePoint": 14,
      "fromCodePoint": 4
     }
    ],
    "tags": [],
    "cell_id": "322e0869-a65d-4487-a28c-ffb5d8401d3c",
    "is_collapsed": false,
    "deepnote_cell_type": "text-cell-p"
   }
  },
  {
   "cell_type": "markdown",
   "source": "'|' ---> \"or\"",
   "metadata": {
    "formattedRanges": [
     {
      "type": "marks",
      "marks": {
       "bold": true
      },
      "toCodePoint": 13,
      "fromCodePoint": 3
     }
    ],
    "tags": [],
    "cell_id": "f99ade24-9745-4a94-879e-e642128f24ea",
    "is_collapsed": false,
    "deepnote_cell_type": "text-cell-p"
   }
  },
  {
   "cell_type": "code",
   "metadata": {
    "tags": [],
    "cell_id": "0bed38494ffe43a9957358d965558ea7",
    "source_hash": "9276702b",
    "execution_start": 1676318503604,
    "execution_millis": 39,
    "deepnote_to_be_reexecuted": true,
    "deepnote_cell_type": "code",
    "deepnote_cell_height": 1128.9375,
    "deepnote_output_heights": [
     null,
     392,
     392
    ]
   },
   "source": "vocales <- subset(Municipios,\n           str_detect(chartr(\"áéíóú\",\"aeiou\",str_to_lower(Municipio)),\"^a.*a$|^e.*e$|^i.*i$|^o.*o$|^u.*u$\"),\n           select=c(Dep,Departamento,Depmun,Municipio))\nstr(vocales)\nhead(vocales,n=10)\ntail(vocales,n=10)",
   "execution_count": 38,
   "outputs": [
    {
     "name": "stdout",
     "text": "tibble [39 × 4] (S3: tbl_df/tbl/data.frame)\n $ Dep         : chr [1:39] \"05\" \"05\" \"05\" \"05\" ...\n $ Departamento: chr [1:39] \"Antioquia\" \"Antioquia\" \"Antioquia\" \"Antioquia\" ...\n $ Depmun      : chr [1:39] \"05021\" \"05030\" \"05038\" \"05044\" ...\n $ Municipio   : chr [1:39] \"Alejandría\" \"Amagá\" \"Angostura\" \"Anza\" ...\n",
     "output_type": "stream"
    },
    {
     "data": {
      "text/html": "<table class=\"dataframe\">\n<caption>A tibble: 10 x 4</caption>\n<thead>\n\t<tr><th scope=col>Dep</th><th scope=col>Departamento</th><th scope=col>Depmun</th><th scope=col>Municipio</th></tr>\n\t<tr><th scope=col>&lt;chr&gt;</th><th scope=col>&lt;chr&gt;</th><th scope=col>&lt;chr&gt;</th><th scope=col>&lt;chr&gt;</th></tr>\n</thead>\n<tbody>\n\t<tr><td>05</td><td>Antioquia</td><td>05021</td><td>Alejandría</td></tr>\n\t<tr><td>05</td><td>Antioquia</td><td>05030</td><td>Amagá     </td></tr>\n\t<tr><td>05</td><td>Antioquia</td><td>05038</td><td>Angostura </td></tr>\n\t<tr><td>05</td><td>Antioquia</td><td>05044</td><td>Anza      </td></tr>\n\t<tr><td>05</td><td>Antioquia</td><td>05055</td><td>Argelia   </td></tr>\n\t<tr><td>05</td><td>Antioquia</td><td>05059</td><td>Armenia   </td></tr>\n\t<tr><td>05</td><td>Antioquia</td><td>05250</td><td>El Bagre  </td></tr>\n\t<tr><td>05</td><td>Antioquia</td><td>05360</td><td>Itagui    </td></tr>\n\t<tr><td>13</td><td>Bolívar  </td><td>13052</td><td>Arjona    </td></tr>\n\t<tr><td>15</td><td>Boyacá   </td><td>15022</td><td>Almeida   </td></tr>\n</tbody>\n</table>\n",
      "text/markdown": "\nA tibble: 10 x 4\n\n| Dep &lt;chr&gt; | Departamento &lt;chr&gt; | Depmun &lt;chr&gt; | Municipio &lt;chr&gt; |\n|---|---|---|---|\n| 05 | Antioquia | 05021 | Alejandría |\n| 05 | Antioquia | 05030 | Amagá      |\n| 05 | Antioquia | 05038 | Angostura  |\n| 05 | Antioquia | 05044 | Anza       |\n| 05 | Antioquia | 05055 | Argelia    |\n| 05 | Antioquia | 05059 | Armenia    |\n| 05 | Antioquia | 05250 | El Bagre   |\n| 05 | Antioquia | 05360 | Itagui     |\n| 13 | Bolívar   | 13052 | Arjona     |\n| 15 | Boyacá    | 15022 | Almeida    |\n\n",
      "text/latex": "A tibble: 10 x 4\n\\begin{tabular}{llll}\n Dep & Departamento & Depmun & Municipio\\\\\n <chr> & <chr> & <chr> & <chr>\\\\\n\\hline\n\t 05 & Antioquia & 05021 & Alejandría\\\\\n\t 05 & Antioquia & 05030 & Amagá     \\\\\n\t 05 & Antioquia & 05038 & Angostura \\\\\n\t 05 & Antioquia & 05044 & Anza      \\\\\n\t 05 & Antioquia & 05055 & Argelia   \\\\\n\t 05 & Antioquia & 05059 & Armenia   \\\\\n\t 05 & Antioquia & 05250 & El Bagre  \\\\\n\t 05 & Antioquia & 05360 & Itagui    \\\\\n\t 13 & Bolívar   & 13052 & Arjona    \\\\\n\t 15 & Boyacá    & 15022 & Almeida   \\\\\n\\end{tabular}\n",
      "text/plain": "   Dep Departamento Depmun Municipio \n1  05  Antioquia    05021  Alejandría\n2  05  Antioquia    05030  Amagá     \n3  05  Antioquia    05038  Angostura \n4  05  Antioquia    05044  Anza      \n5  05  Antioquia    05055  Argelia   \n6  05  Antioquia    05059  Armenia   \n7  05  Antioquia    05250  El Bagre  \n8  05  Antioquia    05360  Itagui    \n9  13  Bolívar      13052  Arjona    \n10 15  Boyacá       15022  Almeida   "
     },
     "metadata": {},
     "output_type": "display_data"
    },
    {
     "data": {
      "text/html": "<table class=\"dataframe\">\n<caption>A tibble: 10 x 4</caption>\n<thead>\n\t<tr><th scope=col>Dep</th><th scope=col>Departamento</th><th scope=col>Depmun</th><th scope=col>Municipio</th></tr>\n\t<tr><th scope=col>&lt;chr&gt;</th><th scope=col>&lt;chr&gt;</th><th scope=col>&lt;chr&gt;</th><th scope=col>&lt;chr&gt;</th></tr>\n</thead>\n<tbody>\n\t<tr><td>70</td><td>Sucre          </td><td>70233</td><td>El Roble </td></tr>\n\t<tr><td>73</td><td>Tolima         </td><td>73024</td><td>Alpujarra</td></tr>\n\t<tr><td>73</td><td>Tolima         </td><td>73030</td><td>Ambalema </td></tr>\n\t<tr><td>76</td><td>Valle Del Cauca</td><td>76020</td><td>Alcalá   </td></tr>\n\t<tr><td>76</td><td>Valle Del Cauca</td><td>76036</td><td>Andalucía</td></tr>\n\t<tr><td>76</td><td>Valle Del Cauca</td><td>76054</td><td>Argelia  </td></tr>\n\t<tr><td>76</td><td>Valle Del Cauca</td><td>76497</td><td>Obando   </td></tr>\n\t<tr><td>81</td><td>Arauca         </td><td>81001</td><td>Arauca   </td></tr>\n\t<tr><td>81</td><td>Arauca         </td><td>81065</td><td>Arauquita</td></tr>\n\t<tr><td>86</td><td>Putumayo       </td><td>86320</td><td>Orito    </td></tr>\n</tbody>\n</table>\n",
      "text/markdown": "\nA tibble: 10 x 4\n\n| Dep &lt;chr&gt; | Departamento &lt;chr&gt; | Depmun &lt;chr&gt; | Municipio &lt;chr&gt; |\n|---|---|---|---|\n| 70 | Sucre           | 70233 | El Roble  |\n| 73 | Tolima          | 73024 | Alpujarra |\n| 73 | Tolima          | 73030 | Ambalema  |\n| 76 | Valle Del Cauca | 76020 | Alcalá    |\n| 76 | Valle Del Cauca | 76036 | Andalucía |\n| 76 | Valle Del Cauca | 76054 | Argelia   |\n| 76 | Valle Del Cauca | 76497 | Obando    |\n| 81 | Arauca          | 81001 | Arauca    |\n| 81 | Arauca          | 81065 | Arauquita |\n| 86 | Putumayo        | 86320 | Orito     |\n\n",
      "text/latex": "A tibble: 10 x 4\n\\begin{tabular}{llll}\n Dep & Departamento & Depmun & Municipio\\\\\n <chr> & <chr> & <chr> & <chr>\\\\\n\\hline\n\t 70 & Sucre           & 70233 & El Roble \\\\\n\t 73 & Tolima          & 73024 & Alpujarra\\\\\n\t 73 & Tolima          & 73030 & Ambalema \\\\\n\t 76 & Valle Del Cauca & 76020 & Alcalá   \\\\\n\t 76 & Valle Del Cauca & 76036 & Andalucía\\\\\n\t 76 & Valle Del Cauca & 76054 & Argelia  \\\\\n\t 76 & Valle Del Cauca & 76497 & Obando   \\\\\n\t 81 & Arauca          & 81001 & Arauca   \\\\\n\t 81 & Arauca          & 81065 & Arauquita\\\\\n\t 86 & Putumayo        & 86320 & Orito    \\\\\n\\end{tabular}\n",
      "text/plain": "   Dep Departamento    Depmun Municipio\n1  70  Sucre           70233  El Roble \n2  73  Tolima          73024  Alpujarra\n3  73  Tolima          73030  Ambalema \n4  76  Valle Del Cauca 76020  Alcalá   \n5  76  Valle Del Cauca 76036  Andalucía\n6  76  Valle Del Cauca 76054  Argelia  \n7  76  Valle Del Cauca 76497  Obando   \n8  81  Arauca          81001  Arauca   \n9  81  Arauca          81065  Arauquita\n10 86  Putumayo        86320  Orito    "
     },
     "metadata": {},
     "output_type": "display_data"
    }
   ]
  },
  {
   "cell_type": "code",
   "metadata": {
    "tags": [],
    "cell_id": "06410c41c7e7458780427fb1a839bd07",
    "source_hash": "8342a20e",
    "execution_start": 1676319593762,
    "execution_millis": 30,
    "deepnote_to_be_reexecuted": true,
    "deepnote_cell_type": "code",
    "deepnote_cell_height": 1128.9375,
    "deepnote_output_heights": [
     null,
     392,
     392
    ]
   },
   "source": "consonantes <- subset(Municipios,str_sub(str_to_lower(Municipio),1,1)==str_sub(Municipio,-1,-1) & \n                                 str_detect(Municipio,\"(a|á)$|(e|é)$|(i|í)$|(o|ó)$|(u|ú)$\",negate=TRUE),\n                                 select=c(Dep,Departamento,Depmun,Municipio))\nstr(consonantes)\nhead(consonantes,n=10)\ntail(consonantes,n=10)",
   "execution_count": 47,
   "outputs": [
    {
     "name": "stdout",
     "text": "tibble [17 × 4] (S3: tbl_df/tbl/data.frame)\n $ Dep         : chr [1:17] \"05\" \"05\" \"05\" \"08\" ...\n $ Departamento: chr [1:17] \"Antioquia\" \"Antioquia\" \"Antioquia\" \"Atlántico\" ...\n $ Depmun      : chr [1:17] \"05649\" \"05660\" \"05686\" \"08685\" ...\n $ Municipio   : chr [1:17] \"San Carlos\" \"San Luis\" \"Santa Rosa De Osos\" \"Santo Tomás\" ...\n",
     "output_type": "stream"
    },
    {
     "data": {
      "text/html": "<table class=\"dataframe\">\n<caption>A tibble: 10 x 4</caption>\n<thead>\n\t<tr><th scope=col>Dep</th><th scope=col>Departamento</th><th scope=col>Depmun</th><th scope=col>Municipio</th></tr>\n\t<tr><th scope=col>&lt;chr&gt;</th><th scope=col>&lt;chr&gt;</th><th scope=col>&lt;chr&gt;</th><th scope=col>&lt;chr&gt;</th></tr>\n</thead>\n<tbody>\n\t<tr><td>05</td><td>Antioquia         </td><td>05649</td><td>San Carlos        </td></tr>\n\t<tr><td>05</td><td>Antioquia         </td><td>05660</td><td>San Luis          </td></tr>\n\t<tr><td>05</td><td>Antioquia         </td><td>05686</td><td>Santa Rosa De Osos</td></tr>\n\t<tr><td>08</td><td>Atlántico         </td><td>08685</td><td>Santo Tomás       </td></tr>\n\t<tr><td>13</td><td>Bolívar           </td><td>13580</td><td>Regidor           </td></tr>\n\t<tr><td>15</td><td>Boyacá            </td><td>15494</td><td>Nuevo Colón       </td></tr>\n\t<tr><td>23</td><td>Córdoba           </td><td>23678</td><td>San Carlos        </td></tr>\n\t<tr><td>25</td><td>Cundinamarca      </td><td>25486</td><td>Nemocón           </td></tr>\n\t<tr><td>52</td><td>Nariño            </td><td>52720</td><td>Sapuyes           </td></tr>\n\t<tr><td>54</td><td>Norte De Santander</td><td>54743</td><td>Silos             </td></tr>\n</tbody>\n</table>\n",
      "text/markdown": "\nA tibble: 10 x 4\n\n| Dep &lt;chr&gt; | Departamento &lt;chr&gt; | Depmun &lt;chr&gt; | Municipio &lt;chr&gt; |\n|---|---|---|---|\n| 05 | Antioquia          | 05649 | San Carlos         |\n| 05 | Antioquia          | 05660 | San Luis           |\n| 05 | Antioquia          | 05686 | Santa Rosa De Osos |\n| 08 | Atlántico          | 08685 | Santo Tomás        |\n| 13 | Bolívar            | 13580 | Regidor            |\n| 15 | Boyacá             | 15494 | Nuevo Colón        |\n| 23 | Córdoba            | 23678 | San Carlos         |\n| 25 | Cundinamarca       | 25486 | Nemocón            |\n| 52 | Nariño             | 52720 | Sapuyes            |\n| 54 | Norte De Santander | 54743 | Silos              |\n\n",
      "text/latex": "A tibble: 10 x 4\n\\begin{tabular}{llll}\n Dep & Departamento & Depmun & Municipio\\\\\n <chr> & <chr> & <chr> & <chr>\\\\\n\\hline\n\t 05 & Antioquia          & 05649 & San Carlos        \\\\\n\t 05 & Antioquia          & 05660 & San Luis          \\\\\n\t 05 & Antioquia          & 05686 & Santa Rosa De Osos\\\\\n\t 08 & Atlántico          & 08685 & Santo Tomás       \\\\\n\t 13 & Bolívar            & 13580 & Regidor           \\\\\n\t 15 & Boyacá             & 15494 & Nuevo Colón       \\\\\n\t 23 & Córdoba            & 23678 & San Carlos        \\\\\n\t 25 & Cundinamarca       & 25486 & Nemocón           \\\\\n\t 52 & Nariño             & 52720 & Sapuyes           \\\\\n\t 54 & Norte De Santander & 54743 & Silos             \\\\\n\\end{tabular}\n",
      "text/plain": "   Dep Departamento       Depmun Municipio         \n1  05  Antioquia          05649  San Carlos        \n2  05  Antioquia          05660  San Luis          \n3  05  Antioquia          05686  Santa Rosa De Osos\n4  08  Atlántico          08685  Santo Tomás       \n5  13  Bolívar            13580  Regidor           \n6  15  Boyacá             15494  Nuevo Colón       \n7  23  Córdoba            23678  San Carlos        \n8  25  Cundinamarca       25486  Nemocón           \n9  52  Nariño             52720  Sapuyes           \n10 54  Norte De Santander 54743  Silos             "
     },
     "metadata": {},
     "output_type": "display_data"
    },
    {
     "data": {
      "text/html": "<table class=\"dataframe\">\n<caption>A tibble: 10 x 4</caption>\n<thead>\n\t<tr><th scope=col>Dep</th><th scope=col>Departamento</th><th scope=col>Depmun</th><th scope=col>Municipio</th></tr>\n\t<tr><th scope=col>&lt;chr&gt;</th><th scope=col>&lt;chr&gt;</th><th scope=col>&lt;chr&gt;</th><th scope=col>&lt;chr&gt;</th></tr>\n</thead>\n<tbody>\n\t<tr><td>25</td><td>Cundinamarca      </td><td>25486</td><td>Nemocón         </td></tr>\n\t<tr><td>52</td><td>Nariño            </td><td>52720</td><td>Sapuyes         </td></tr>\n\t<tr><td>54</td><td>Norte De Santander</td><td>54743</td><td>Silos           </td></tr>\n\t<tr><td>68</td><td>Santander         </td><td>68655</td><td>Sabana De Torres</td></tr>\n\t<tr><td>68</td><td>Santander         </td><td>68669</td><td>San Andrés      </td></tr>\n\t<tr><td>70</td><td>Sucre             </td><td>70670</td><td>Sampués         </td></tr>\n\t<tr><td>70</td><td>Sucre             </td><td>70708</td><td>San Marcos      </td></tr>\n\t<tr><td>73</td><td>Tolima            </td><td>73678</td><td>San Luis        </td></tr>\n\t<tr><td>85</td><td>Casanare          </td><td>85279</td><td>Recetor         </td></tr>\n\t<tr><td>88</td><td>San Andrés        </td><td>88001</td><td>San Andrés      </td></tr>\n</tbody>\n</table>\n",
      "text/markdown": "\nA tibble: 10 x 4\n\n| Dep &lt;chr&gt; | Departamento &lt;chr&gt; | Depmun &lt;chr&gt; | Municipio &lt;chr&gt; |\n|---|---|---|---|\n| 25 | Cundinamarca       | 25486 | Nemocón          |\n| 52 | Nariño             | 52720 | Sapuyes          |\n| 54 | Norte De Santander | 54743 | Silos            |\n| 68 | Santander          | 68655 | Sabana De Torres |\n| 68 | Santander          | 68669 | San Andrés       |\n| 70 | Sucre              | 70670 | Sampués          |\n| 70 | Sucre              | 70708 | San Marcos       |\n| 73 | Tolima             | 73678 | San Luis         |\n| 85 | Casanare           | 85279 | Recetor          |\n| 88 | San Andrés         | 88001 | San Andrés       |\n\n",
      "text/latex": "A tibble: 10 x 4\n\\begin{tabular}{llll}\n Dep & Departamento & Depmun & Municipio\\\\\n <chr> & <chr> & <chr> & <chr>\\\\\n\\hline\n\t 25 & Cundinamarca       & 25486 & Nemocón         \\\\\n\t 52 & Nariño             & 52720 & Sapuyes         \\\\\n\t 54 & Norte De Santander & 54743 & Silos           \\\\\n\t 68 & Santander          & 68655 & Sabana De Torres\\\\\n\t 68 & Santander          & 68669 & San Andrés      \\\\\n\t 70 & Sucre              & 70670 & Sampués         \\\\\n\t 70 & Sucre              & 70708 & San Marcos      \\\\\n\t 73 & Tolima             & 73678 & San Luis        \\\\\n\t 85 & Casanare           & 85279 & Recetor         \\\\\n\t 88 & San Andrés         & 88001 & San Andrés      \\\\\n\\end{tabular}\n",
      "text/plain": "   Dep Departamento       Depmun Municipio       \n1  25  Cundinamarca       25486  Nemocón         \n2  52  Nariño             52720  Sapuyes         \n3  54  Norte De Santander 54743  Silos           \n4  68  Santander          68655  Sabana De Torres\n5  68  Santander          68669  San Andrés      \n6  70  Sucre              70670  Sampués         \n7  70  Sucre              70708  San Marcos      \n8  73  Tolima             73678  San Luis        \n9  85  Casanare           85279  Recetor         \n10 88  San Andrés         88001  San Andrés      "
     },
     "metadata": {},
     "output_type": "display_data"
    }
   ]
  },
  {
   "cell_type": "markdown",
   "source": "### Expresiones regulares III",
   "metadata": {
    "formattedRanges": [],
    "tags": [],
    "cell_id": "44aafc2d3f874f2eb1d82da930675cd0",
    "is_collapsed": false,
    "deepnote_cell_type": "text-cell-h3"
   }
  },
  {
   "cell_type": "code",
   "metadata": {
    "tags": [],
    "cell_id": "c597747257b54bfeb3c64213c726a76b",
    "source_hash": "33928203",
    "execution_start": 1676319647718,
    "execution_millis": 5,
    "deepnote_to_be_reexecuted": true,
    "deepnote_cell_type": "code",
    "deepnote_cell_height": 1204.6875,
    "deepnote_output_heights": [
     null,
     392,
     392
    ]
   },
   "source": "Aes <- subset(Municipios,str_detect(Municipio,\"^(A|Á)..(e|é).*\"),\n                         select=-c(Poblacion,Superficie,Irural))\n\nstr(Aes)\nhead(Aes,n=10)\ntail(Aes,n=10)",
   "execution_count": 49,
   "outputs": [
    {
     "name": "stdout",
     "text": "tibble [15 × 8] (S3: tbl_df/tbl/data.frame)\n $ Departamento: chr [1:15] \"Antioquia\" \"Antioquia\" \"Antioquia\" \"Antioquia\" ...\n $ Dep         : chr [1:15] \"05\" \"05\" \"05\" \"05\" ...\n $ Municipio   : chr [1:15] \"Andes\" \"Angelópolis\" \"Argelia\" \"Armenia\" ...\n $ Depmun      : chr [1:15] \"05034\" \"05036\" \"05055\" \"05059\" ...\n $ Region      : chr [1:15] \"Región Eje Cafetero\" \"Región Eje Cafetero\" \"Región Eje Cafetero\" \"Región Eje Cafetero\" ...\n $ Tipo        : chr [1:15] \"Otro\" \"Otro\" \"Otro\" \"Otro\" ...\n $ Zona        : chr [1:15] \"Urbano\" \"Urbano\" \"Rural\" \"Rural\" ...\n $ denspobl    : num [1:15] 108.6 70.7 30.9 46 32 ...\n",
     "output_type": "stream"
    },
    {
     "data": {
      "text/html": "<table class=\"dataframe\">\n<caption>A tibble: 10 x 8</caption>\n<thead>\n\t<tr><th scope=col>Departamento</th><th scope=col>Dep</th><th scope=col>Municipio</th><th scope=col>Depmun</th><th scope=col>Region</th><th scope=col>Tipo</th><th scope=col>Zona</th><th scope=col>denspobl</th></tr>\n\t<tr><th scope=col>&lt;chr&gt;</th><th scope=col>&lt;chr&gt;</th><th scope=col>&lt;chr&gt;</th><th scope=col>&lt;chr&gt;</th><th scope=col>&lt;chr&gt;</th><th scope=col>&lt;chr&gt;</th><th scope=col>&lt;chr&gt;</th><th scope=col>&lt;dbl&gt;</th></tr>\n</thead>\n<tbody>\n\t<tr><td>Antioquia   </td><td>05</td><td>Andes      </td><td>05034</td><td>Región Eje Cafetero  </td><td>Otro</td><td>Urbano</td><td>108.60304</td></tr>\n\t<tr><td>Antioquia   </td><td>05</td><td>Angelópolis</td><td>05036</td><td>Región Eje Cafetero  </td><td>Otro</td><td>Urbano</td><td> 70.71643</td></tr>\n\t<tr><td>Antioquia   </td><td>05</td><td>Argelia    </td><td>05055</td><td>Región Eje Cafetero  </td><td>Otro</td><td>Rural </td><td> 30.88345</td></tr>\n\t<tr><td>Antioquia   </td><td>05</td><td>Armenia    </td><td>05059</td><td>Región Eje Cafetero  </td><td>Otro</td><td>Rural </td><td> 46.04520</td></tr>\n\t<tr><td>Boyacá      </td><td>15</td><td>Almeida    </td><td>15022</td><td>Región Centro Oriente</td><td>Otro</td><td>Rural </td><td> 31.99119</td></tr>\n\t<tr><td>Caldas      </td><td>17</td><td>Anserma    </td><td>17042</td><td>Región Eje Cafetero  </td><td>Otro</td><td>Urbano</td><td>174.06777</td></tr>\n\t<tr><td>Cauca       </td><td>19</td><td>Argelia    </td><td>19050</td><td>Región Pacífico      </td><td>Otro</td><td>Rural </td><td> 33.99899</td></tr>\n\t<tr><td>Cundinamarca</td><td>25</td><td>Arbeláez   </td><td>25053</td><td>Región Centro Oriente</td><td>Otro</td><td>Urbano</td><td> 75.98626</td></tr>\n\t<tr><td>Huila       </td><td>41</td><td>Aipe       </td><td>41016</td><td>Región Centro Sur    </td><td>Otro</td><td>Rural </td><td> 20.56356</td></tr>\n\t<tr><td>Huila       </td><td>41</td><td>Algeciras  </td><td>41020</td><td>Región Centro Sur    </td><td>Otro</td><td>Rural </td><td> 38.15232</td></tr>\n</tbody>\n</table>\n",
      "text/markdown": "\nA tibble: 10 x 8\n\n| Departamento &lt;chr&gt; | Dep &lt;chr&gt; | Municipio &lt;chr&gt; | Depmun &lt;chr&gt; | Region &lt;chr&gt; | Tipo &lt;chr&gt; | Zona &lt;chr&gt; | denspobl &lt;dbl&gt; |\n|---|---|---|---|---|---|---|---|\n| Antioquia    | 05 | Andes       | 05034 | Región Eje Cafetero   | Otro | Urbano | 108.60304 |\n| Antioquia    | 05 | Angelópolis | 05036 | Región Eje Cafetero   | Otro | Urbano |  70.71643 |\n| Antioquia    | 05 | Argelia     | 05055 | Región Eje Cafetero   | Otro | Rural  |  30.88345 |\n| Antioquia    | 05 | Armenia     | 05059 | Región Eje Cafetero   | Otro | Rural  |  46.04520 |\n| Boyacá       | 15 | Almeida     | 15022 | Región Centro Oriente | Otro | Rural  |  31.99119 |\n| Caldas       | 17 | Anserma     | 17042 | Región Eje Cafetero   | Otro | Urbano | 174.06777 |\n| Cauca        | 19 | Argelia     | 19050 | Región Pacífico       | Otro | Rural  |  33.99899 |\n| Cundinamarca | 25 | Arbeláez    | 25053 | Región Centro Oriente | Otro | Urbano |  75.98626 |\n| Huila        | 41 | Aipe        | 41016 | Región Centro Sur     | Otro | Rural  |  20.56356 |\n| Huila        | 41 | Algeciras   | 41020 | Región Centro Sur     | Otro | Rural  |  38.15232 |\n\n",
      "text/latex": "A tibble: 10 x 8\n\\begin{tabular}{llllllll}\n Departamento & Dep & Municipio & Depmun & Region & Tipo & Zona & denspobl\\\\\n <chr> & <chr> & <chr> & <chr> & <chr> & <chr> & <chr> & <dbl>\\\\\n\\hline\n\t Antioquia    & 05 & Andes       & 05034 & Región Eje Cafetero   & Otro & Urbano & 108.60304\\\\\n\t Antioquia    & 05 & Angelópolis & 05036 & Región Eje Cafetero   & Otro & Urbano &  70.71643\\\\\n\t Antioquia    & 05 & Argelia     & 05055 & Región Eje Cafetero   & Otro & Rural  &  30.88345\\\\\n\t Antioquia    & 05 & Armenia     & 05059 & Región Eje Cafetero   & Otro & Rural  &  46.04520\\\\\n\t Boyacá       & 15 & Almeida     & 15022 & Región Centro Oriente & Otro & Rural  &  31.99119\\\\\n\t Caldas       & 17 & Anserma     & 17042 & Región Eje Cafetero   & Otro & Urbano & 174.06777\\\\\n\t Cauca        & 19 & Argelia     & 19050 & Región Pacífico       & Otro & Rural  &  33.99899\\\\\n\t Cundinamarca & 25 & Arbeláez    & 25053 & Región Centro Oriente & Otro & Urbano &  75.98626\\\\\n\t Huila        & 41 & Aipe        & 41016 & Región Centro Sur     & Otro & Rural  &  20.56356\\\\\n\t Huila        & 41 & Algeciras   & 41020 & Región Centro Sur     & Otro & Rural  &  38.15232\\\\\n\\end{tabular}\n",
      "text/plain": "   Departamento Dep Municipio   Depmun Region                Tipo Zona  \n1  Antioquia    05  Andes       05034  Región Eje Cafetero   Otro Urbano\n2  Antioquia    05  Angelópolis 05036  Región Eje Cafetero   Otro Urbano\n3  Antioquia    05  Argelia     05055  Región Eje Cafetero   Otro Rural \n4  Antioquia    05  Armenia     05059  Región Eje Cafetero   Otro Rural \n5  Boyacá       15  Almeida     15022  Región Centro Oriente Otro Rural \n6  Caldas       17  Anserma     17042  Región Eje Cafetero   Otro Urbano\n7  Cauca        19  Argelia     19050  Región Pacífico       Otro Rural \n8  Cundinamarca 25  Arbeláez    25053  Región Centro Oriente Otro Urbano\n9  Huila        41  Aipe        41016  Región Centro Sur     Otro Rural \n10 Huila        41  Algeciras   41020  Región Centro Sur     Otro Rural \n   denspobl \n1  108.60304\n2   70.71643\n3   30.88345\n4   46.04520\n5   31.99119\n6  174.06777\n7   33.99899\n8   75.98626\n9   20.56356\n10  38.15232"
     },
     "metadata": {},
     "output_type": "display_data"
    },
    {
     "data": {
      "text/html": "<table class=\"dataframe\">\n<caption>A tibble: 10 x 8</caption>\n<thead>\n\t<tr><th scope=col>Departamento</th><th scope=col>Dep</th><th scope=col>Municipio</th><th scope=col>Depmun</th><th scope=col>Region</th><th scope=col>Tipo</th><th scope=col>Zona</th><th scope=col>denspobl</th></tr>\n\t<tr><th scope=col>&lt;chr&gt;</th><th scope=col>&lt;chr&gt;</th><th scope=col>&lt;chr&gt;</th><th scope=col>&lt;chr&gt;</th><th scope=col>&lt;chr&gt;</th><th scope=col>&lt;chr&gt;</th><th scope=col>&lt;chr&gt;</th><th scope=col>&lt;dbl&gt;</th></tr>\n</thead>\n<tbody>\n\t<tr><td>Caldas            </td><td>17</td><td>Anserma     </td><td>17042</td><td>Región Eje Cafetero  </td><td>Otro   </td><td>Urbano</td><td> 174.06777</td></tr>\n\t<tr><td>Cauca             </td><td>19</td><td>Argelia     </td><td>19050</td><td>Región Pacífico      </td><td>Otro   </td><td>Rural </td><td>  33.99899</td></tr>\n\t<tr><td>Cundinamarca      </td><td>25</td><td>Arbeláez    </td><td>25053</td><td>Región Centro Oriente</td><td>Otro   </td><td>Urbano</td><td>  75.98626</td></tr>\n\t<tr><td>Huila             </td><td>41</td><td>Aipe        </td><td>41016</td><td>Región Centro Sur    </td><td>Otro   </td><td>Rural </td><td>  20.56356</td></tr>\n\t<tr><td>Huila             </td><td>41</td><td>Algeciras   </td><td>41020</td><td>Región Centro Sur    </td><td>Otro   </td><td>Rural </td><td>  38.15232</td></tr>\n\t<tr><td>Norte De Santander</td><td>54</td><td>Abrego      </td><td>54003</td><td>Región Centro Oriente</td><td>Otro   </td><td>Rural </td><td>  23.87284</td></tr>\n\t<tr><td>Quindío           </td><td>63</td><td>Armenia     </td><td>63001</td><td>Región Eje Cafetero  </td><td>Capital</td><td>Urbano</td><td>2468.34713</td></tr>\n\t<tr><td>Tolima            </td><td>73</td><td>Armero      </td><td>73055</td><td>Región Centro Sur    </td><td>Otro   </td><td>Rural </td><td>  27.99395</td></tr>\n\t<tr><td>Valle Del Cauca   </td><td>76</td><td>Ansermanuevo</td><td>76041</td><td>Región Pacífico      </td><td>Otro   </td><td>Rural </td><td>  56.79468</td></tr>\n\t<tr><td>Valle Del Cauca   </td><td>76</td><td>Argelia     </td><td>76054</td><td>Región Pacífico      </td><td>Otro   </td><td>Rural </td><td>  57.91001</td></tr>\n</tbody>\n</table>\n",
      "text/markdown": "\nA tibble: 10 x 8\n\n| Departamento &lt;chr&gt; | Dep &lt;chr&gt; | Municipio &lt;chr&gt; | Depmun &lt;chr&gt; | Region &lt;chr&gt; | Tipo &lt;chr&gt; | Zona &lt;chr&gt; | denspobl &lt;dbl&gt; |\n|---|---|---|---|---|---|---|---|\n| Caldas             | 17 | Anserma      | 17042 | Región Eje Cafetero   | Otro    | Urbano |  174.06777 |\n| Cauca              | 19 | Argelia      | 19050 | Región Pacífico       | Otro    | Rural  |   33.99899 |\n| Cundinamarca       | 25 | Arbeláez     | 25053 | Región Centro Oriente | Otro    | Urbano |   75.98626 |\n| Huila              | 41 | Aipe         | 41016 | Región Centro Sur     | Otro    | Rural  |   20.56356 |\n| Huila              | 41 | Algeciras    | 41020 | Región Centro Sur     | Otro    | Rural  |   38.15232 |\n| Norte De Santander | 54 | Abrego       | 54003 | Región Centro Oriente | Otro    | Rural  |   23.87284 |\n| Quindío            | 63 | Armenia      | 63001 | Región Eje Cafetero   | Capital | Urbano | 2468.34713 |\n| Tolima             | 73 | Armero       | 73055 | Región Centro Sur     | Otro    | Rural  |   27.99395 |\n| Valle Del Cauca    | 76 | Ansermanuevo | 76041 | Región Pacífico       | Otro    | Rural  |   56.79468 |\n| Valle Del Cauca    | 76 | Argelia      | 76054 | Región Pacífico       | Otro    | Rural  |   57.91001 |\n\n",
      "text/latex": "A tibble: 10 x 8\n\\begin{tabular}{llllllll}\n Departamento & Dep & Municipio & Depmun & Region & Tipo & Zona & denspobl\\\\\n <chr> & <chr> & <chr> & <chr> & <chr> & <chr> & <chr> & <dbl>\\\\\n\\hline\n\t Caldas             & 17 & Anserma      & 17042 & Región Eje Cafetero   & Otro    & Urbano &  174.06777\\\\\n\t Cauca              & 19 & Argelia      & 19050 & Región Pacífico       & Otro    & Rural  &   33.99899\\\\\n\t Cundinamarca       & 25 & Arbeláez     & 25053 & Región Centro Oriente & Otro    & Urbano &   75.98626\\\\\n\t Huila              & 41 & Aipe         & 41016 & Región Centro Sur     & Otro    & Rural  &   20.56356\\\\\n\t Huila              & 41 & Algeciras    & 41020 & Región Centro Sur     & Otro    & Rural  &   38.15232\\\\\n\t Norte De Santander & 54 & Abrego       & 54003 & Región Centro Oriente & Otro    & Rural  &   23.87284\\\\\n\t Quindío            & 63 & Armenia      & 63001 & Región Eje Cafetero   & Capital & Urbano & 2468.34713\\\\\n\t Tolima             & 73 & Armero       & 73055 & Región Centro Sur     & Otro    & Rural  &   27.99395\\\\\n\t Valle Del Cauca    & 76 & Ansermanuevo & 76041 & Región Pacífico       & Otro    & Rural  &   56.79468\\\\\n\t Valle Del Cauca    & 76 & Argelia      & 76054 & Región Pacífico       & Otro    & Rural  &   57.91001\\\\\n\\end{tabular}\n",
      "text/plain": "   Departamento       Dep Municipio    Depmun Region                Tipo   \n1  Caldas             17  Anserma      17042  Región Eje Cafetero   Otro   \n2  Cauca              19  Argelia      19050  Región Pacífico       Otro   \n3  Cundinamarca       25  Arbeláez     25053  Región Centro Oriente Otro   \n4  Huila              41  Aipe         41016  Región Centro Sur     Otro   \n5  Huila              41  Algeciras    41020  Región Centro Sur     Otro   \n6  Norte De Santander 54  Abrego       54003  Región Centro Oriente Otro   \n7  Quindío            63  Armenia      63001  Región Eje Cafetero   Capital\n8  Tolima             73  Armero       73055  Región Centro Sur     Otro   \n9  Valle Del Cauca    76  Ansermanuevo 76041  Región Pacífico       Otro   \n10 Valle Del Cauca    76  Argelia      76054  Región Pacífico       Otro   \n   Zona   denspobl  \n1  Urbano  174.06777\n2  Rural    33.99899\n3  Urbano   75.98626\n4  Rural    20.56356\n5  Rural    38.15232\n6  Rural    23.87284\n7  Urbano 2468.34713\n8  Rural    27.99395\n9  Rural    56.79468\n10 Rural    57.91001"
     },
     "metadata": {},
     "output_type": "display_data"
    }
   ]
  },
  {
   "cell_type": "markdown",
   "source": "### String functions",
   "metadata": {
    "formattedRanges": [],
    "tags": [],
    "cell_id": "ee868097d19c45fd93ff51eb0cab2273",
    "is_collapsed": false,
    "deepnote_cell_type": "text-cell-h3"
   }
  },
  {
   "cell_type": "markdown",
   "source": "str_length() ---> numero de caracteres",
   "metadata": {
    "formattedRanges": [],
    "tags": [],
    "cell_id": "c754e87b22bb4cee9cfec391c8bc2a20",
    "is_collapsed": false,
    "deepnote_cell_type": "text-cell-p"
   }
  },
  {
   "cell_type": "markdown",
   "source": "quantile() ---> quantiles",
   "metadata": {
    "formattedRanges": [],
    "tags": [],
    "cell_id": "e4b9211e-0b75-4d94-a4ae-5a41959e4876",
    "is_collapsed": false,
    "deepnote_cell_type": "text-cell-p"
   }
  },
  {
   "cell_type": "code",
   "metadata": {
    "tags": [],
    "cell_id": "c5c4c79f6cef4912a983276f9c9fffea",
    "source_hash": "63b93321",
    "execution_start": 1676319962258,
    "execution_millis": 3,
    "deepnote_to_be_reexecuted": true,
    "deepnote_cell_type": "code",
    "deepnote_cell_height": 875.75,
    "deepnote_output_heights": [
     null,
     276,
     276
    ]
   },
   "source": "Largos <- subset(Municipios,str_length(Municipio) >= quantile(str_length(Municipio),0.99),\n                            select=c(Departamento,Depmun,Municipio))\n\nstr(Largos)\nhead(Largos)\ntail(Largos)",
   "execution_count": 50,
   "outputs": [
    {
     "name": "stdout",
     "text": "tibble [13 × 3] (S3: tbl_df/tbl/data.frame)\n $ Departamento: chr [1:13] \"Antioquia\" \"Antioquia\" \"Caquetá\" \"Caquetá\" ...\n $ Depmun      : chr [1:13] \"05647\" \"05658\" \"18094\" \"18753\" ...\n $ Municipio   : chr [1:13] \"San Andrés De Cuerquía\" \"San José De La Montaña\" \"Belén De Los Andaquies\" \"San Vicente Del Caguán\" ...\n",
     "output_type": "stream"
    },
    {
     "data": {
      "text/html": "<table class=\"dataframe\">\n<caption>A tibble: 6 x 3</caption>\n<thead>\n\t<tr><th scope=col>Departamento</th><th scope=col>Depmun</th><th scope=col>Municipio</th></tr>\n\t<tr><th scope=col>&lt;chr&gt;</th><th scope=col>&lt;chr&gt;</th><th scope=col>&lt;chr&gt;</th></tr>\n</thead>\n<tbody>\n\t<tr><td>Antioquia</td><td>05647</td><td>San Andrés De Cuerquía </td></tr>\n\t<tr><td>Antioquia</td><td>05658</td><td>San José De La Montaña </td></tr>\n\t<tr><td>Caquetá  </td><td>18094</td><td>Belén De Los Andaquies </td></tr>\n\t<tr><td>Caquetá  </td><td>18753</td><td>San Vicente Del Caguán </td></tr>\n\t<tr><td>Cauca    </td><td>19698</td><td>Santander De Quilichao </td></tr>\n\t<tr><td>Córdoba  </td><td>23675</td><td>San Bernardo Del Viento</td></tr>\n</tbody>\n</table>\n",
      "text/markdown": "\nA tibble: 6 x 3\n\n| Departamento &lt;chr&gt; | Depmun &lt;chr&gt; | Municipio &lt;chr&gt; |\n|---|---|---|\n| Antioquia | 05647 | San Andrés De Cuerquía  |\n| Antioquia | 05658 | San José De La Montaña  |\n| Caquetá   | 18094 | Belén De Los Andaquies  |\n| Caquetá   | 18753 | San Vicente Del Caguán  |\n| Cauca     | 19698 | Santander De Quilichao  |\n| Córdoba   | 23675 | San Bernardo Del Viento |\n\n",
      "text/latex": "A tibble: 6 x 3\n\\begin{tabular}{lll}\n Departamento & Depmun & Municipio\\\\\n <chr> & <chr> & <chr>\\\\\n\\hline\n\t Antioquia & 05647 & San Andrés De Cuerquía \\\\\n\t Antioquia & 05658 & San José De La Montaña \\\\\n\t Caquetá   & 18094 & Belén De Los Andaquies \\\\\n\t Caquetá   & 18753 & San Vicente Del Caguán \\\\\n\t Cauca     & 19698 & Santander De Quilichao \\\\\n\t Córdoba   & 23675 & San Bernardo Del Viento\\\\\n\\end{tabular}\n",
      "text/plain": "  Departamento Depmun Municipio              \n1 Antioquia    05647  San Andrés De Cuerquía \n2 Antioquia    05658  San José De La Montaña \n3 Caquetá      18094  Belén De Los Andaquies \n4 Caquetá      18753  San Vicente Del Caguán \n5 Cauca        19698  Santander De Quilichao \n6 Córdoba      23675  San Bernardo Del Viento"
     },
     "metadata": {},
     "output_type": "display_data"
    },
    {
     "data": {
      "text/html": "<table class=\"dataframe\">\n<caption>A tibble: 6 x 3</caption>\n<thead>\n\t<tr><th scope=col>Departamento</th><th scope=col>Depmun</th><th scope=col>Municipio</th></tr>\n\t<tr><th scope=col>&lt;chr&gt;</th><th scope=col>&lt;chr&gt;</th><th scope=col>&lt;chr&gt;</th></tr>\n</thead>\n<tbody>\n\t<tr><td>Cundinamarca</td><td>25843</td><td>Villa De San Diego De Ubate</td></tr>\n\t<tr><td>Chocó       </td><td>27135</td><td>El Cantón Del San Pablo    </td></tr>\n\t<tr><td>Chocó       </td><td>27250</td><td>El Litoral Del San Juan    </td></tr>\n\t<tr><td>Magdalena   </td><td>47692</td><td>San Sebastián De Buenavista</td></tr>\n\t<tr><td>Magdalena   </td><td>47720</td><td>Santa Bárbara De Pinto     </td></tr>\n\t<tr><td>Santander   </td><td>68689</td><td>San Vicente De Chucurí     </td></tr>\n</tbody>\n</table>\n",
      "text/markdown": "\nA tibble: 6 x 3\n\n| Departamento &lt;chr&gt; | Depmun &lt;chr&gt; | Municipio &lt;chr&gt; |\n|---|---|---|\n| Cundinamarca | 25843 | Villa De San Diego De Ubate |\n| Chocó        | 27135 | El Cantón Del San Pablo     |\n| Chocó        | 27250 | El Litoral Del San Juan     |\n| Magdalena    | 47692 | San Sebastián De Buenavista |\n| Magdalena    | 47720 | Santa Bárbara De Pinto      |\n| Santander    | 68689 | San Vicente De Chucurí      |\n\n",
      "text/latex": "A tibble: 6 x 3\n\\begin{tabular}{lll}\n Departamento & Depmun & Municipio\\\\\n <chr> & <chr> & <chr>\\\\\n\\hline\n\t Cundinamarca & 25843 & Villa De San Diego De Ubate\\\\\n\t Chocó        & 27135 & El Cantón Del San Pablo    \\\\\n\t Chocó        & 27250 & El Litoral Del San Juan    \\\\\n\t Magdalena    & 47692 & San Sebastián De Buenavista\\\\\n\t Magdalena    & 47720 & Santa Bárbara De Pinto     \\\\\n\t Santander    & 68689 & San Vicente De Chucurí     \\\\\n\\end{tabular}\n",
      "text/plain": "  Departamento Depmun Municipio                  \n1 Cundinamarca 25843  Villa De San Diego De Ubate\n2 Chocó        27135  El Cantón Del San Pablo    \n3 Chocó        27250  El Litoral Del San Juan    \n4 Magdalena    47692  San Sebastián De Buenavista\n5 Magdalena    47720  Santa Bárbara De Pinto     \n6 Santander    68689  San Vicente De Chucurí     "
     },
     "metadata": {},
     "output_type": "display_data"
    }
   ]
  },
  {
   "cell_type": "code",
   "metadata": {
    "tags": [],
    "cell_id": "a6ed8d3bf83c4c24ad31b22a9b782d80",
    "source_hash": "553c5c82",
    "execution_start": 1676320077610,
    "execution_millis": 2,
    "deepnote_to_be_reexecuted": true,
    "deepnote_cell_type": "code",
    "deepnote_cell_height": 871.75,
    "deepnote_output_heights": [
     null,
     276,
     276
    ]
   },
   "source": "Cortos <- subset(Municipios,str_length(Municipio) <= quantile(str_length(Municipio),0.01),\n                            select=c(Departamento,Depmun,Municipio))\n\nstr(Cortos)\nhead(Cortos)\ntail(Cortos)",
   "execution_count": 53,
   "outputs": [
    {
     "name": "stdout",
     "text": "tibble [39 × 3] (S3: tbl_df/tbl/data.frame)\n $ Departamento: chr [1:39] \"Antioquia\" \"Antioquia\" \"Atlántico\" \"Bolívar\" ...\n $ Depmun      : chr [1:39] \"05044\" \"05885\" \"08770\" \"13006\" ...\n $ Municipio   : chr [1:39] \"Anza\" \"Yalí\" \"Suan\" \"Achí\" ...\n",
     "output_type": "stream"
    },
    {
     "data": {
      "text/html": "<table class=\"dataframe\">\n<caption>A tibble: 6 x 3</caption>\n<thead>\n\t<tr><th scope=col>Departamento</th><th scope=col>Depmun</th><th scope=col>Municipio</th></tr>\n\t<tr><th scope=col>&lt;chr&gt;</th><th scope=col>&lt;chr&gt;</th><th scope=col>&lt;chr&gt;</th></tr>\n</thead>\n<tbody>\n\t<tr><td>Antioquia</td><td>05044</td><td>Anza</td></tr>\n\t<tr><td>Antioquia</td><td>05885</td><td>Yalí</td></tr>\n\t<tr><td>Atlántico</td><td>08770</td><td>Suan</td></tr>\n\t<tr><td>Bolívar  </td><td>13006</td><td>Achí</td></tr>\n\t<tr><td>Boyacá   </td><td>15362</td><td>Iza </td></tr>\n\t<tr><td>Boyacá   </td><td>15480</td><td>Muzo</td></tr>\n</tbody>\n</table>\n",
      "text/markdown": "\nA tibble: 6 x 3\n\n| Departamento &lt;chr&gt; | Depmun &lt;chr&gt; | Municipio &lt;chr&gt; |\n|---|---|---|\n| Antioquia | 05044 | Anza |\n| Antioquia | 05885 | Yalí |\n| Atlántico | 08770 | Suan |\n| Bolívar   | 13006 | Achí |\n| Boyacá    | 15362 | Iza  |\n| Boyacá    | 15480 | Muzo |\n\n",
      "text/latex": "A tibble: 6 x 3\n\\begin{tabular}{lll}\n Departamento & Depmun & Municipio\\\\\n <chr> & <chr> & <chr>\\\\\n\\hline\n\t Antioquia & 05044 & Anza\\\\\n\t Antioquia & 05885 & Yalí\\\\\n\t Atlántico & 08770 & Suan\\\\\n\t Bolívar   & 13006 & Achí\\\\\n\t Boyacá    & 15362 & Iza \\\\\n\t Boyacá    & 15480 & Muzo\\\\\n\\end{tabular}\n",
      "text/plain": "  Departamento Depmun Municipio\n1 Antioquia    05044  Anza     \n2 Antioquia    05885  Yalí     \n3 Atlántico    08770  Suan     \n4 Bolívar      13006  Achí     \n5 Boyacá       15362  Iza      \n6 Boyacá       15480  Muzo     "
     },
     "metadata": {},
     "output_type": "display_data"
    },
    {
     "data": {
      "text/html": "<table class=\"dataframe\">\n<caption>A tibble: 6 x 3</caption>\n<thead>\n\t<tr><th scope=col>Departamento</th><th scope=col>Depmun</th><th scope=col>Municipio</th></tr>\n\t<tr><th scope=col>&lt;chr&gt;</th><th scope=col>&lt;chr&gt;</th><th scope=col>&lt;chr&gt;</th></tr>\n</thead>\n<tbody>\n\t<tr><td>Valle Del Cauca</td><td>76001</td><td>Cali</td></tr>\n\t<tr><td>Valle Del Cauca</td><td>76823</td><td>Toro</td></tr>\n\t<tr><td>Arauca         </td><td>81794</td><td>Tame</td></tr>\n\t<tr><td>Casanare       </td><td>85139</td><td>Maní</td></tr>\n\t<tr><td>Casanare       </td><td>85263</td><td>Pore</td></tr>\n\t<tr><td>Vaupés         </td><td>97001</td><td>Mitú</td></tr>\n</tbody>\n</table>\n",
      "text/markdown": "\nA tibble: 6 x 3\n\n| Departamento &lt;chr&gt; | Depmun &lt;chr&gt; | Municipio &lt;chr&gt; |\n|---|---|---|\n| Valle Del Cauca | 76001 | Cali |\n| Valle Del Cauca | 76823 | Toro |\n| Arauca          | 81794 | Tame |\n| Casanare        | 85139 | Maní |\n| Casanare        | 85263 | Pore |\n| Vaupés          | 97001 | Mitú |\n\n",
      "text/latex": "A tibble: 6 x 3\n\\begin{tabular}{lll}\n Departamento & Depmun & Municipio\\\\\n <chr> & <chr> & <chr>\\\\\n\\hline\n\t Valle Del Cauca & 76001 & Cali\\\\\n\t Valle Del Cauca & 76823 & Toro\\\\\n\t Arauca          & 81794 & Tame\\\\\n\t Casanare        & 85139 & Maní\\\\\n\t Casanare        & 85263 & Pore\\\\\n\t Vaupés          & 97001 & Mitú\\\\\n\\end{tabular}\n",
      "text/plain": "  Departamento    Depmun Municipio\n1 Valle Del Cauca 76001  Cali     \n2 Valle Del Cauca 76823  Toro     \n3 Arauca          81794  Tame     \n4 Casanare        85139  Maní     \n5 Casanare        85263  Pore     \n6 Vaupés          97001  Mitú     "
     },
     "metadata": {},
     "output_type": "display_data"
    }
   ]
  },
  {
   "cell_type": "code",
   "metadata": {
    "tags": [],
    "cell_id": "d78d09e0bee54c90896aef40e71eee75",
    "source_hash": "6f0df68a",
    "execution_start": 1676320142362,
    "execution_millis": 2,
    "deepnote_to_be_reexecuted": true,
    "deepnote_cell_type": "code",
    "deepnote_cell_height": 168.5625,
    "deepnote_output_heights": [
     58.5625
    ]
   },
   "source": "vocales <- with(Municipios,str_count(str_to_lower(Municipio),\"[aeiouáéíóúü]\"))\ntable(vocales)",
   "execution_count": 54,
   "outputs": [
    {
     "data": {
      "text/plain": "vocales\n  2   3   4   5   6   7   8   9  10  11 \n122 367 331 158  76  37  15   8   1   3 "
     },
     "metadata": {},
     "output_type": "display_data"
    }
   ]
  },
  {
   "cell_type": "code",
   "metadata": {
    "tags": [],
    "cell_id": "019b88f5d3954010b8f5447eb55826eb",
    "source_hash": "37d6976b",
    "execution_start": 1676320434957,
    "execution_millis": 26,
    "deepnote_to_be_reexecuted": true,
    "deepnote_cell_type": "code",
    "deepnote_cell_height": 426,
    "deepnote_output_heights": [
     334
    ]
   },
   "source": "Municipios[vocales==9,]",
   "execution_count": 56,
   "outputs": [
    {
     "data": {
      "text/html": "<table class=\"dataframe\">\n<caption>A tibble: 8 x 11</caption>\n<thead>\n\t<tr><th scope=col>Departamento</th><th scope=col>Dep</th><th scope=col>Municipio</th><th scope=col>Depmun</th><th scope=col>Superficie</th><th scope=col>Poblacion</th><th scope=col>Irural</th><th scope=col>Region</th><th scope=col>Tipo</th><th scope=col>Zona</th><th scope=col>denspobl</th></tr>\n\t<tr><th scope=col>&lt;chr&gt;</th><th scope=col>&lt;chr&gt;</th><th scope=col>&lt;chr&gt;</th><th scope=col>&lt;chr&gt;</th><th scope=col>&lt;dbl&gt;</th><th scope=col>&lt;dbl&gt;</th><th scope=col>&lt;dbl&gt;</th><th scope=col>&lt;chr&gt;</th><th scope=col>&lt;chr&gt;</th><th scope=col>&lt;chr&gt;</th><th scope=col>&lt;dbl&gt;</th></tr>\n</thead>\n<tbody>\n\t<tr><td>Antioquia      </td><td>05</td><td>San Andrés De Cuerquía</td><td>05647</td><td>  218.72661</td><td>  7240</td><td>48</td><td>Región Eje Cafetero  </td><td>Otro   </td><td>Rural </td><td> 33.10068</td></tr>\n\t<tr><td>Caquetá        </td><td>18</td><td>Belén De Los Andaquies</td><td>18094</td><td> 1191.61857</td><td> 11102</td><td>60</td><td>Región Centro Sur    </td><td>Otro   </td><td>Rural </td><td>  9.31674</td></tr>\n\t<tr><td>Cauca          </td><td>19</td><td>Santander De Quilichao</td><td>19698</td><td>  518.19748</td><td>111789</td><td>36</td><td>Región Pacífico      </td><td>Otro   </td><td>Urbano</td><td>215.72664</td></tr>\n\t<tr><td>Cesar          </td><td>20</td><td>La Jagua De Ibirico   </td><td>20400</td><td>  755.90676</td><td> 49052</td><td>51</td><td>Región Caribe        </td><td>Otro   </td><td>Rural </td><td> 64.89160</td></tr>\n\t<tr><td>Cundinamarca   </td><td>25</td><td>Guayabal De Siquima   </td><td>25328</td><td>   61.87345</td><td>  4587</td><td>42</td><td>Región Centro Oriente</td><td>Otro   </td><td>Rural </td><td> 74.13519</td></tr>\n\t<tr><td>Chocó          </td><td>27</td><td>Unión Panamericana    </td><td>27810</td><td>  177.75984</td><td>  6909</td><td>47</td><td>Región Pacífico      </td><td>Otro   </td><td>Rural </td><td> 38.86705</td></tr>\n\t<tr><td>Valle Del Cauca</td><td>76</td><td>Guadalajara De Buga   </td><td>76111</td><td>  825.87725</td><td>128316</td><td>34</td><td>Región Pacífico      </td><td>Otro   </td><td>Urbano</td><td>155.36934</td></tr>\n\t<tr><td>Guaviare       </td><td>95</td><td>San José Del Guaviare </td><td>95001</td><td>16768.51512</td><td> 54333</td><td>70</td><td>Región Llano         </td><td>Capital</td><td>Rural </td><td>  3.24018</td></tr>\n</tbody>\n</table>\n",
      "text/markdown": "\nA tibble: 8 x 11\n\n| Departamento &lt;chr&gt; | Dep &lt;chr&gt; | Municipio &lt;chr&gt; | Depmun &lt;chr&gt; | Superficie &lt;dbl&gt; | Poblacion &lt;dbl&gt; | Irural &lt;dbl&gt; | Region &lt;chr&gt; | Tipo &lt;chr&gt; | Zona &lt;chr&gt; | denspobl &lt;dbl&gt; |\n|---|---|---|---|---|---|---|---|---|---|---|\n| Antioquia       | 05 | San Andrés De Cuerquía | 05647 |   218.72661 |   7240 | 48 | Región Eje Cafetero   | Otro    | Rural  |  33.10068 |\n| Caquetá         | 18 | Belén De Los Andaquies | 18094 |  1191.61857 |  11102 | 60 | Región Centro Sur     | Otro    | Rural  |   9.31674 |\n| Cauca           | 19 | Santander De Quilichao | 19698 |   518.19748 | 111789 | 36 | Región Pacífico       | Otro    | Urbano | 215.72664 |\n| Cesar           | 20 | La Jagua De Ibirico    | 20400 |   755.90676 |  49052 | 51 | Región Caribe         | Otro    | Rural  |  64.89160 |\n| Cundinamarca    | 25 | Guayabal De Siquima    | 25328 |    61.87345 |   4587 | 42 | Región Centro Oriente | Otro    | Rural  |  74.13519 |\n| Chocó           | 27 | Unión Panamericana     | 27810 |   177.75984 |   6909 | 47 | Región Pacífico       | Otro    | Rural  |  38.86705 |\n| Valle Del Cauca | 76 | Guadalajara De Buga    | 76111 |   825.87725 | 128316 | 34 | Región Pacífico       | Otro    | Urbano | 155.36934 |\n| Guaviare        | 95 | San José Del Guaviare  | 95001 | 16768.51512 |  54333 | 70 | Región Llano          | Capital | Rural  |   3.24018 |\n\n",
      "text/latex": "A tibble: 8 x 11\n\\begin{tabular}{lllllllllll}\n Departamento & Dep & Municipio & Depmun & Superficie & Poblacion & Irural & Region & Tipo & Zona & denspobl\\\\\n <chr> & <chr> & <chr> & <chr> & <dbl> & <dbl> & <dbl> & <chr> & <chr> & <chr> & <dbl>\\\\\n\\hline\n\t Antioquia       & 05 & San Andrés De Cuerquía & 05647 &   218.72661 &   7240 & 48 & Región Eje Cafetero   & Otro    & Rural  &  33.10068\\\\\n\t Caquetá         & 18 & Belén De Los Andaquies & 18094 &  1191.61857 &  11102 & 60 & Región Centro Sur     & Otro    & Rural  &   9.31674\\\\\n\t Cauca           & 19 & Santander De Quilichao & 19698 &   518.19748 & 111789 & 36 & Región Pacífico       & Otro    & Urbano & 215.72664\\\\\n\t Cesar           & 20 & La Jagua De Ibirico    & 20400 &   755.90676 &  49052 & 51 & Región Caribe         & Otro    & Rural  &  64.89160\\\\\n\t Cundinamarca    & 25 & Guayabal De Siquima    & 25328 &    61.87345 &   4587 & 42 & Región Centro Oriente & Otro    & Rural  &  74.13519\\\\\n\t Chocó           & 27 & Unión Panamericana     & 27810 &   177.75984 &   6909 & 47 & Región Pacífico       & Otro    & Rural  &  38.86705\\\\\n\t Valle Del Cauca & 76 & Guadalajara De Buga    & 76111 &   825.87725 & 128316 & 34 & Región Pacífico       & Otro    & Urbano & 155.36934\\\\\n\t Guaviare        & 95 & San José Del Guaviare  & 95001 & 16768.51512 &  54333 & 70 & Región Llano          & Capital & Rural  &   3.24018\\\\\n\\end{tabular}\n",
      "text/plain": "  Departamento    Dep Municipio              Depmun Superficie  Poblacion\n1 Antioquia       05  San Andrés De Cuerquía 05647    218.72661   7240   \n2 Caquetá         18  Belén De Los Andaquies 18094   1191.61857  11102   \n3 Cauca           19  Santander De Quilichao 19698    518.19748 111789   \n4 Cesar           20  La Jagua De Ibirico    20400    755.90676  49052   \n5 Cundinamarca    25  Guayabal De Siquima    25328     61.87345   4587   \n6 Chocó           27  Unión Panamericana     27810    177.75984   6909   \n7 Valle Del Cauca 76  Guadalajara De Buga    76111    825.87725 128316   \n8 Guaviare        95  San José Del Guaviare  95001  16768.51512  54333   \n  Irural Region                Tipo    Zona   denspobl \n1 48     Región Eje Cafetero   Otro    Rural   33.10068\n2 60     Región Centro Sur     Otro    Rural    9.31674\n3 36     Región Pacífico       Otro    Urbano 215.72664\n4 51     Región Caribe         Otro    Rural   64.89160\n5 42     Región Centro Oriente Otro    Rural   74.13519\n6 47     Región Pacífico       Otro    Rural   38.86705\n7 34     Región Pacífico       Otro    Urbano 155.36934\n8 70     Región Llano          Capital Rural    3.24018"
     },
     "metadata": {},
     "output_type": "display_data"
    }
   ]
  },
  {
   "cell_type": "code",
   "metadata": {
    "tags": [],
    "cell_id": "1721d40e37584958b77420dc38c9bf37",
    "source_hash": "1873e453",
    "execution_start": 1676320651534,
    "execution_millis": 2,
    "deepnote_to_be_reexecuted": true,
    "deepnote_cell_type": "code",
    "deepnote_cell_height": 168.5625,
    "deepnote_output_heights": [
     58.5625
    ]
   },
   "source": "palabras <- with(Municipios,str_count(Municipio,\" \") + 1)\ntable(palabras)",
   "execution_count": 57,
   "outputs": [
    {
     "data": {
      "text/plain": "palabras\n  1   2   3   4   5   6 \n811 220  37  45   4   1 "
     },
     "metadata": {},
     "output_type": "display_data"
    }
   ]
  },
  {
   "cell_type": "code",
   "metadata": {
    "tags": [],
    "cell_id": "7e0ecacd67754ee18b8caa9a322c2c04",
    "source_hash": "aa519f16",
    "execution_start": 1676320707628,
    "execution_millis": 27,
    "deepnote_to_be_reexecuted": true,
    "deepnote_cell_type": "code",
    "deepnote_cell_height": 310,
    "deepnote_output_heights": [
     218
    ]
   },
   "source": "Municipios[palabras == 5, c(\"Departamento\",\"Municipio\")]",
   "execution_count": 58,
   "outputs": [
    {
     "data": {
      "text/html": "<table class=\"dataframe\">\n<caption>A tibble: 4 x 2</caption>\n<thead>\n\t<tr><th scope=col>Departamento</th><th scope=col>Municipio</th></tr>\n\t<tr><th scope=col>&lt;chr&gt;</th><th scope=col>&lt;chr&gt;</th></tr>\n</thead>\n<tbody>\n\t<tr><td>Antioquia   </td><td>San José De La Montaña </td></tr>\n\t<tr><td>Cundinamarca</td><td>San Juan De Río Seco   </td></tr>\n\t<tr><td>Chocó       </td><td>El Cantón Del San Pablo</td></tr>\n\t<tr><td>Chocó       </td><td>El Litoral Del San Juan</td></tr>\n</tbody>\n</table>\n",
      "text/markdown": "\nA tibble: 4 x 2\n\n| Departamento &lt;chr&gt; | Municipio &lt;chr&gt; |\n|---|---|\n| Antioquia    | San José De La Montaña  |\n| Cundinamarca | San Juan De Río Seco    |\n| Chocó        | El Cantón Del San Pablo |\n| Chocó        | El Litoral Del San Juan |\n\n",
      "text/latex": "A tibble: 4 x 2\n\\begin{tabular}{ll}\n Departamento & Municipio\\\\\n <chr> & <chr>\\\\\n\\hline\n\t Antioquia    & San José De La Montaña \\\\\n\t Cundinamarca & San Juan De Río Seco   \\\\\n\t Chocó        & El Cantón Del San Pablo\\\\\n\t Chocó        & El Litoral Del San Juan\\\\\n\\end{tabular}\n",
      "text/plain": "  Departamento Municipio              \n1 Antioquia    San José De La Montaña \n2 Cundinamarca San Juan De Río Seco   \n3 Chocó        El Cantón Del San Pablo\n4 Chocó        El Litoral Del San Juan"
     },
     "metadata": {},
     "output_type": "display_data"
    }
   ]
  },
  {
   "cell_type": "code",
   "metadata": {
    "tags": [],
    "cell_id": "92e7dfa6de5741de99ff9279cb42e6d4",
    "source_hash": "af25198b",
    "execution_start": 1676320879942,
    "execution_millis": 2,
    "deepnote_to_be_reexecuted": true,
    "deepnote_cell_type": "code",
    "deepnote_cell_height": 357,
    "deepnote_output_heights": [
     247
    ]
   },
   "source": "Mas4 <- subset(Municipios,str_count(Municipio,\" \") > 3)\nMas4",
   "execution_count": 65,
   "outputs": [
    {
     "data": {
      "text/html": "<table class=\"dataframe\">\n<caption>A tibble: 5 x 11</caption>\n<thead>\n\t<tr><th scope=col>Departamento</th><th scope=col>Dep</th><th scope=col>Municipio</th><th scope=col>Depmun</th><th scope=col>Superficie</th><th scope=col>Poblacion</th><th scope=col>Irural</th><th scope=col>Region</th><th scope=col>Tipo</th><th scope=col>Zona</th><th scope=col>denspobl</th></tr>\n\t<tr><th scope=col>&lt;chr&gt;</th><th scope=col>&lt;chr&gt;</th><th scope=col>&lt;chr&gt;</th><th scope=col>&lt;chr&gt;</th><th scope=col>&lt;dbl&gt;</th><th scope=col>&lt;dbl&gt;</th><th scope=col>&lt;dbl&gt;</th><th scope=col>&lt;chr&gt;</th><th scope=col>&lt;chr&gt;</th><th scope=col>&lt;chr&gt;</th><th scope=col>&lt;dbl&gt;</th></tr>\n</thead>\n<tbody>\n\t<tr><td>Antioquia   </td><td>05</td><td>San José De La Montaña     </td><td>05658</td><td> 126.0736</td><td> 3706</td><td>50</td><td>Región Eje Cafetero  </td><td>Otro</td><td>Rural </td><td> 29.395531</td></tr>\n\t<tr><td>Cundinamarca</td><td>25</td><td>San Juan De Río Seco       </td><td>25662</td><td> 314.0873</td><td> 8324</td><td>47</td><td>Región Centro Oriente</td><td>Otro</td><td>Rural </td><td> 26.502188</td></tr>\n\t<tr><td>Cundinamarca</td><td>25</td><td>Villa De San Diego De Ubate</td><td>25843</td><td> 102.2769</td><td>44802</td><td>29</td><td>Región Centro Oriente</td><td>Otro</td><td>Urbano</td><td>438.046212</td></tr>\n\t<tr><td>Chocó       </td><td>27</td><td>El Cantón Del San Pablo    </td><td>27135</td><td> 380.4957</td><td> 6210</td><td>54</td><td>Región Pacífico      </td><td>Otro</td><td>Rural </td><td> 16.320814</td></tr>\n\t<tr><td>Chocó       </td><td>27</td><td>El Litoral Del San Juan    </td><td>27250</td><td>4134.9790</td><td>22242</td><td>67</td><td>Región Pacífico      </td><td>Otro</td><td>Rural </td><td>  5.378987</td></tr>\n</tbody>\n</table>\n",
      "text/markdown": "\nA tibble: 5 x 11\n\n| Departamento &lt;chr&gt; | Dep &lt;chr&gt; | Municipio &lt;chr&gt; | Depmun &lt;chr&gt; | Superficie &lt;dbl&gt; | Poblacion &lt;dbl&gt; | Irural &lt;dbl&gt; | Region &lt;chr&gt; | Tipo &lt;chr&gt; | Zona &lt;chr&gt; | denspobl &lt;dbl&gt; |\n|---|---|---|---|---|---|---|---|---|---|---|\n| Antioquia    | 05 | San José De La Montaña      | 05658 |  126.0736 |  3706 | 50 | Región Eje Cafetero   | Otro | Rural  |  29.395531 |\n| Cundinamarca | 25 | San Juan De Río Seco        | 25662 |  314.0873 |  8324 | 47 | Región Centro Oriente | Otro | Rural  |  26.502188 |\n| Cundinamarca | 25 | Villa De San Diego De Ubate | 25843 |  102.2769 | 44802 | 29 | Región Centro Oriente | Otro | Urbano | 438.046212 |\n| Chocó        | 27 | El Cantón Del San Pablo     | 27135 |  380.4957 |  6210 | 54 | Región Pacífico       | Otro | Rural  |  16.320814 |\n| Chocó        | 27 | El Litoral Del San Juan     | 27250 | 4134.9790 | 22242 | 67 | Región Pacífico       | Otro | Rural  |   5.378987 |\n\n",
      "text/latex": "A tibble: 5 x 11\n\\begin{tabular}{lllllllllll}\n Departamento & Dep & Municipio & Depmun & Superficie & Poblacion & Irural & Region & Tipo & Zona & denspobl\\\\\n <chr> & <chr> & <chr> & <chr> & <dbl> & <dbl> & <dbl> & <chr> & <chr> & <chr> & <dbl>\\\\\n\\hline\n\t Antioquia    & 05 & San José De La Montaña      & 05658 &  126.0736 &  3706 & 50 & Región Eje Cafetero   & Otro & Rural  &  29.395531\\\\\n\t Cundinamarca & 25 & San Juan De Río Seco        & 25662 &  314.0873 &  8324 & 47 & Región Centro Oriente & Otro & Rural  &  26.502188\\\\\n\t Cundinamarca & 25 & Villa De San Diego De Ubate & 25843 &  102.2769 & 44802 & 29 & Región Centro Oriente & Otro & Urbano & 438.046212\\\\\n\t Chocó        & 27 & El Cantón Del San Pablo     & 27135 &  380.4957 &  6210 & 54 & Región Pacífico       & Otro & Rural  &  16.320814\\\\\n\t Chocó        & 27 & El Litoral Del San Juan     & 27250 & 4134.9790 & 22242 & 67 & Región Pacífico       & Otro & Rural  &   5.378987\\\\\n\\end{tabular}\n",
      "text/plain": "  Departamento Dep Municipio                   Depmun Superficie Poblacion\n1 Antioquia    05  San José De La Montaña      05658   126.0736   3706    \n2 Cundinamarca 25  San Juan De Río Seco        25662   314.0873   8324    \n3 Cundinamarca 25  Villa De San Diego De Ubate 25843   102.2769  44802    \n4 Chocó        27  El Cantón Del San Pablo     27135   380.4957   6210    \n5 Chocó        27  El Litoral Del San Juan     27250  4134.9790  22242    \n  Irural Region                Tipo Zona   denspobl  \n1 50     Región Eje Cafetero   Otro Rural   29.395531\n2 47     Región Centro Oriente Otro Rural   26.502188\n3 29     Región Centro Oriente Otro Urbano 438.046212\n4 54     Región Pacífico       Otro Rural   16.320814\n5 67     Región Pacífico       Otro Rural    5.378987"
     },
     "metadata": {},
     "output_type": "display_data"
    }
   ]
  },
  {
   "cell_type": "markdown",
   "source": "## Estadística descriptiva",
   "metadata": {
    "formattedRanges": [],
    "tags": [],
    "cell_id": "c41516d2671d4f4f9763b313b5049a50",
    "is_collapsed": false,
    "deepnote_cell_type": "text-cell-h2"
   }
  },
  {
   "cell_type": "markdown",
   "source": "### apply()",
   "metadata": {
    "formattedRanges": [
     {
      "type": "marks",
      "marks": {
       "bold": true
      },
      "toCodePoint": 7,
      "fromCodePoint": 0
     }
    ],
    "tags": [],
    "cell_id": "c815c797deb7496c85bf1a45c27d280f",
    "is_collapsed": false,
    "deepnote_cell_type": "text-cell-h3"
   }
  },
  {
   "cell_type": "markdown",
   "source": "Allow you to repetitively perform an action on multiple chunks of data. An apply function is essentially a loop, but run faster than loops and often require less code.",
   "metadata": {
    "formattedRanges": [],
    "tags": [],
    "cell_id": "5055e449-0824-4ff8-9848-241bd8df9cbf",
    "is_collapsed": false,
    "deepnote_cell_type": "text-cell-p"
   }
  },
  {
   "cell_type": "code",
   "metadata": {
    "tags": [],
    "cell_id": "29064c62f2fd4afbb570fe0a69ee507d",
    "source_hash": "2b27a3dd",
    "execution_start": 1676321197560,
    "execution_millis": 33,
    "deepnote_to_be_reexecuted": true,
    "deepnote_cell_type": "code",
    "deepnote_cell_height": 469.4375,
    "deepnote_output_heights": [
     28.1875,
     96.9375
    ]
   },
   "source": "missings <- function(x) return(sum(is.na(x)))\napply(Municipios,2,missings)#apply(dataFrame, 1 == filas & 2 == columnas, function)\napply(airquality,1,missings)#airquality ---> default for r\nstr(airquality)",
   "execution_count": 69,
   "outputs": [
    {
     "data": {
      "text/html": "<style>\n.dl-inline {width: auto; margin:0; padding: 0}\n.dl-inline>dt, .dl-inline>dd {float: none; width: auto; display: inline-block}\n.dl-inline>dt::after {content: \":\\0020\"; padding-right: .5ex}\n.dl-inline>dt:not(:first-of-type) {padding-left: .5ex}\n</style><dl class=dl-inline><dt>Departamento</dt><dd>0</dd><dt>Dep</dt><dd>0</dd><dt>Municipio</dt><dd>0</dd><dt>Depmun</dt><dd>0</dd><dt>Superficie</dt><dd>1</dd><dt>Poblacion</dt><dd>0</dd><dt>Irural</dt><dd>0</dd><dt>Region</dt><dd>0</dd><dt>Tipo</dt><dd>0</dd><dt>Zona</dt><dd>0</dd><dt>denspobl</dt><dd>1</dd></dl>\n",
      "text/markdown": "Departamento\n:   0Dep\n:   0Municipio\n:   0Depmun\n:   0Superficie\n:   1Poblacion\n:   0Irural\n:   0Region\n:   0Tipo\n:   0Zona\n:   0denspobl\n:   1\n\n",
      "text/latex": "\\begin{description*}\n\\item[Departamento] 0\n\\item[Dep] 0\n\\item[Municipio] 0\n\\item[Depmun] 0\n\\item[Superficie] 1\n\\item[Poblacion] 0\n\\item[Irural] 0\n\\item[Region] 0\n\\item[Tipo] 0\n\\item[Zona] 0\n\\item[denspobl] 1\n\\end{description*}\n",
      "text/plain": "Departamento          Dep    Municipio       Depmun   Superficie    Poblacion \n           0            0            0            0            1            0 \n      Irural       Region         Tipo         Zona     denspobl \n           0            0            0            0            1 "
     },
     "metadata": {},
     "output_type": "display_data"
    },
    {
     "data": {
      "text/html": "<style>\n.list-inline {list-style: none; margin:0; padding: 0}\n.list-inline>li {display: inline-block}\n.list-inline>li:not(:last-child)::after {content: \"\\00b7\"; padding: 0 .5ex}\n</style>\n<ol class=list-inline><li>0</li><li>0</li><li>0</li><li>0</li><li>2</li><li>1</li><li>0</li><li>0</li><li>0</li><li>1</li><li>1</li><li>0</li><li>0</li><li>0</li><li>0</li><li>0</li><li>0</li><li>0</li><li>0</li><li>0</li><li>0</li><li>0</li><li>0</li><li>0</li><li>1</li><li>1</li><li>2</li><li>0</li><li>0</li><li>0</li><li>0</li><li>1</li><li>1</li><li>1</li><li>1</li><li>1</li><li>1</li><li>0</li><li>1</li><li>0</li><li>0</li><li>1</li><li>1</li><li>0</li><li>1</li><li>1</li><li>0</li><li>0</li><li>0</li><li>0</li><li>0</li><li>1</li><li>1</li><li>1</li><li>1</li><li>1</li><li>1</li><li>1</li><li>1</li><li>1</li><li>1</li><li>0</li><li>0</li><li>0</li><li>1</li><li>0</li><li>0</li><li>0</li><li>0</li><li>0</li><li>0</li><li>1</li><li>0</li><li>0</li><li>1</li><li>0</li><li>0</li><li>0</li><li>0</li><li>0</li><li>0</li><li>0</li><li>1</li><li>1</li><li>0</li><li>0</li><li>0</li><li>0</li><li>0</li><li>0</li><li>0</li><li>0</li><li>0</li><li>0</li><li>0</li><li>1</li><li>1</li><li>1</li><li>0</li><li>0</li><li>0</li><li>1</li><li>1</li><li>0</li><li>0</li><li>0</li><li>1</li><li>0</li><li>0</li><li>0</li><li>0</li><li>0</li><li>0</li><li>0</li><li>1</li><li>0</li><li>0</li><li>0</li><li>1</li><li>0</li><li>0</li><li>0</li><li>0</li><li>0</li><li>0</li><li>0</li><li>0</li><li>0</li><li>0</li><li>0</li><li>0</li><li>0</li><li>0</li><li>0</li><li>0</li><li>0</li><li>0</li><li>0</li><li>0</li><li>0</li><li>0</li><li>0</li><li>0</li><li>0</li><li>0</li><li>0</li><li>0</li><li>0</li><li>0</li><li>1</li><li>0</li><li>0</li><li>0</li></ol>\n",
      "text/markdown": "1. 0\n2. 0\n3. 0\n4. 0\n5. 2\n6. 1\n7. 0\n8. 0\n9. 0\n10. 1\n11. 1\n12. 0\n13. 0\n14. 0\n15. 0\n16. 0\n17. 0\n18. 0\n19. 0\n20. 0\n21. 0\n22. 0\n23. 0\n24. 0\n25. 1\n26. 1\n27. 2\n28. 0\n29. 0\n30. 0\n31. 0\n32. 1\n33. 1\n34. 1\n35. 1\n36. 1\n37. 1\n38. 0\n39. 1\n40. 0\n41. 0\n42. 1\n43. 1\n44. 0\n45. 1\n46. 1\n47. 0\n48. 0\n49. 0\n50. 0\n51. 0\n52. 1\n53. 1\n54. 1\n55. 1\n56. 1\n57. 1\n58. 1\n59. 1\n60. 1\n61. 1\n62. 0\n63. 0\n64. 0\n65. 1\n66. 0\n67. 0\n68. 0\n69. 0\n70. 0\n71. 0\n72. 1\n73. 0\n74. 0\n75. 1\n76. 0\n77. 0\n78. 0\n79. 0\n80. 0\n81. 0\n82. 0\n83. 1\n84. 1\n85. 0\n86. 0\n87. 0\n88. 0\n89. 0\n90. 0\n91. 0\n92. 0\n93. 0\n94. 0\n95. 0\n96. 1\n97. 1\n98. 1\n99. 0\n100. 0\n101. 0\n102. 1\n103. 1\n104. 0\n105. 0\n106. 0\n107. 1\n108. 0\n109. 0\n110. 0\n111. 0\n112. 0\n113. 0\n114. 0\n115. 1\n116. 0\n117. 0\n118. 0\n119. 1\n120. 0\n121. 0\n122. 0\n123. 0\n124. 0\n125. 0\n126. 0\n127. 0\n128. 0\n129. 0\n130. 0\n131. 0\n132. 0\n133. 0\n134. 0\n135. 0\n136. 0\n137. 0\n138. 0\n139. 0\n140. 0\n141. 0\n142. 0\n143. 0\n144. 0\n145. 0\n146. 0\n147. 0\n148. 0\n149. 0\n150. 1\n151. 0\n152. 0\n153. 0\n\n\n",
      "text/latex": "\\begin{enumerate*}\n\\item 0\n\\item 0\n\\item 0\n\\item 0\n\\item 2\n\\item 1\n\\item 0\n\\item 0\n\\item 0\n\\item 1\n\\item 1\n\\item 0\n\\item 0\n\\item 0\n\\item 0\n\\item 0\n\\item 0\n\\item 0\n\\item 0\n\\item 0\n\\item 0\n\\item 0\n\\item 0\n\\item 0\n\\item 1\n\\item 1\n\\item 2\n\\item 0\n\\item 0\n\\item 0\n\\item 0\n\\item 1\n\\item 1\n\\item 1\n\\item 1\n\\item 1\n\\item 1\n\\item 0\n\\item 1\n\\item 0\n\\item 0\n\\item 1\n\\item 1\n\\item 0\n\\item 1\n\\item 1\n\\item 0\n\\item 0\n\\item 0\n\\item 0\n\\item 0\n\\item 1\n\\item 1\n\\item 1\n\\item 1\n\\item 1\n\\item 1\n\\item 1\n\\item 1\n\\item 1\n\\item 1\n\\item 0\n\\item 0\n\\item 0\n\\item 1\n\\item 0\n\\item 0\n\\item 0\n\\item 0\n\\item 0\n\\item 0\n\\item 1\n\\item 0\n\\item 0\n\\item 1\n\\item 0\n\\item 0\n\\item 0\n\\item 0\n\\item 0\n\\item 0\n\\item 0\n\\item 1\n\\item 1\n\\item 0\n\\item 0\n\\item 0\n\\item 0\n\\item 0\n\\item 0\n\\item 0\n\\item 0\n\\item 0\n\\item 0\n\\item 0\n\\item 1\n\\item 1\n\\item 1\n\\item 0\n\\item 0\n\\item 0\n\\item 1\n\\item 1\n\\item 0\n\\item 0\n\\item 0\n\\item 1\n\\item 0\n\\item 0\n\\item 0\n\\item 0\n\\item 0\n\\item 0\n\\item 0\n\\item 1\n\\item 0\n\\item 0\n\\item 0\n\\item 1\n\\item 0\n\\item 0\n\\item 0\n\\item 0\n\\item 0\n\\item 0\n\\item 0\n\\item 0\n\\item 0\n\\item 0\n\\item 0\n\\item 0\n\\item 0\n\\item 0\n\\item 0\n\\item 0\n\\item 0\n\\item 0\n\\item 0\n\\item 0\n\\item 0\n\\item 0\n\\item 0\n\\item 0\n\\item 0\n\\item 0\n\\item 0\n\\item 0\n\\item 0\n\\item 0\n\\item 1\n\\item 0\n\\item 0\n\\item 0\n\\end{enumerate*}\n",
      "text/plain": "  [1] 0 0 0 0 2 1 0 0 0 1 1 0 0 0 0 0 0 0 0 0 0 0 0 0 1 1 2 0 0 0 0 1 1 1 1 1 1\n [38] 0 1 0 0 1 1 0 1 1 0 0 0 0 0 1 1 1 1 1 1 1 1 1 1 0 0 0 1 0 0 0 0 0 0 1 0 0\n [75] 1 0 0 0 0 0 0 0 1 1 0 0 0 0 0 0 0 0 0 0 0 1 1 1 0 0 0 1 1 0 0 0 1 0 0 0 0\n[112] 0 0 0 1 0 0 0 1 0 0 0 0 0 0 0 0 0 0 0 0 0 0 0 0 0 0 0 0 0 0 0 0 0 0 0 0 0\n[149] 0 1 0 0 0"
     },
     "metadata": {},
     "output_type": "display_data"
    },
    {
     "name": "stdout",
     "text": "'data.frame':\t153 obs. of  6 variables:\n $ Ozone  : int  41 36 12 18 NA 28 23 19 8 NA ...\n $ Solar.R: int  190 118 149 313 NA NA 299 99 19 194 ...\n $ Wind   : num  7.4 8 12.6 11.5 14.3 14.9 8.6 13.8 20.1 8.6 ...\n $ Temp   : int  67 72 74 62 56 66 65 59 61 69 ...\n $ Month  : int  5 5 5 5 5 5 5 5 5 5 ...\n $ Day    : int  1 2 3 4 5 6 7 8 9 10 ...\n",
     "output_type": "stream"
    }
   ]
  },
  {
   "cell_type": "code",
   "metadata": {
    "tags": [],
    "cell_id": "047f32a0aa34405292b01a457ce589c2",
    "source_hash": "5773b5e2",
    "execution_start": 1676321229754,
    "execution_millis": 2,
    "deepnote_to_be_reexecuted": true,
    "deepnote_cell_type": "code",
    "deepnote_cell_height": 150.5625,
    "deepnote_output_heights": [
     58.5625
    ]
   },
   "source": "table(apply(airquality,1,missings))",
   "execution_count": 70,
   "outputs": [
    {
     "data": {
      "text/plain": "\n  0   1   2 \n111  40   2 "
     },
     "metadata": {},
     "output_type": "display_data"
    }
   ]
  },
  {
   "cell_type": "code",
   "metadata": {
    "tags": [],
    "cell_id": "dd5bf2d2d9f7461fb281925227717f03",
    "source_hash": "2af4fe4d",
    "execution_start": 1676321277684,
    "execution_millis": 25,
    "deepnote_to_be_reexecuted": true,
    "deepnote_cell_type": "code",
    "deepnote_cell_height": 150.5625,
    "deepnote_output_heights": [
     58.5625
    ]
   },
   "source": "table(apply(Municipios,1,missings))",
   "execution_count": 71,
   "outputs": [
    {
     "data": {
      "text/plain": "\n   0    2 \n1117    1 "
     },
     "metadata": {},
     "output_type": "display_data"
    }
   ]
  },
  {
   "cell_type": "markdown",
   "source": "### is.na()",
   "metadata": {
    "formattedRanges": [],
    "tags": [],
    "cell_id": "84ef18f757e2419890c1fd8ecb6a75de",
    "is_collapsed": false,
    "deepnote_cell_type": "text-cell-h3"
   }
  },
  {
   "cell_type": "code",
   "metadata": {
    "tags": [],
    "cell_id": "124ced9647c4483aa703a2ccb0678329",
    "source_hash": "ba8d5d8",
    "execution_start": 1676321464110,
    "execution_millis": 44,
    "deepnote_to_be_reexecuted": true,
    "deepnote_cell_type": "code",
    "deepnote_cell_height": 1146.3125,
    "deepnote_output_heights": [
     null,
     392,
     392
    ]
   },
   "source": "perdidos <- subset(airquality, is.na(Ozone))\n\nstr(perdidos)\nhead(perdidos,n=10)\ntail(perdidos,n=10)",
   "execution_count": 76,
   "outputs": [
    {
     "name": "stdout",
     "text": "'data.frame':\t37 obs. of  6 variables:\n $ Ozone  : int  NA NA NA NA NA NA NA NA NA NA ...\n $ Solar.R: int  NA 194 66 266 NA 286 287 242 186 220 ...\n $ Wind   : num  14.3 8.6 16.6 14.9 8 8.6 9.7 16.1 9.2 8.6 ...\n $ Temp   : int  56 69 57 58 57 78 74 67 84 85 ...\n $ Month  : int  5 5 5 5 5 6 6 6 6 6 ...\n $ Day    : int  5 10 25 26 27 1 2 3 4 5 ...\n",
     "output_type": "stream"
    },
    {
     "data": {
      "text/html": "<table class=\"dataframe\">\n<caption>A data.frame: 10 x 6</caption>\n<thead>\n\t<tr><th></th><th scope=col>Ozone</th><th scope=col>Solar.R</th><th scope=col>Wind</th><th scope=col>Temp</th><th scope=col>Month</th><th scope=col>Day</th></tr>\n\t<tr><th></th><th scope=col>&lt;int&gt;</th><th scope=col>&lt;int&gt;</th><th scope=col>&lt;dbl&gt;</th><th scope=col>&lt;int&gt;</th><th scope=col>&lt;int&gt;</th><th scope=col>&lt;int&gt;</th></tr>\n</thead>\n<tbody>\n\t<tr><th scope=row>5</th><td>NA</td><td> NA</td><td>14.3</td><td>56</td><td>5</td><td> 5</td></tr>\n\t<tr><th scope=row>10</th><td>NA</td><td>194</td><td> 8.6</td><td>69</td><td>5</td><td>10</td></tr>\n\t<tr><th scope=row>25</th><td>NA</td><td> 66</td><td>16.6</td><td>57</td><td>5</td><td>25</td></tr>\n\t<tr><th scope=row>26</th><td>NA</td><td>266</td><td>14.9</td><td>58</td><td>5</td><td>26</td></tr>\n\t<tr><th scope=row>27</th><td>NA</td><td> NA</td><td> 8.0</td><td>57</td><td>5</td><td>27</td></tr>\n\t<tr><th scope=row>32</th><td>NA</td><td>286</td><td> 8.6</td><td>78</td><td>6</td><td> 1</td></tr>\n\t<tr><th scope=row>33</th><td>NA</td><td>287</td><td> 9.7</td><td>74</td><td>6</td><td> 2</td></tr>\n\t<tr><th scope=row>34</th><td>NA</td><td>242</td><td>16.1</td><td>67</td><td>6</td><td> 3</td></tr>\n\t<tr><th scope=row>35</th><td>NA</td><td>186</td><td> 9.2</td><td>84</td><td>6</td><td> 4</td></tr>\n\t<tr><th scope=row>36</th><td>NA</td><td>220</td><td> 8.6</td><td>85</td><td>6</td><td> 5</td></tr>\n</tbody>\n</table>\n",
      "text/markdown": "\nA data.frame: 10 x 6\n\n| <!--/--> | Ozone &lt;int&gt; | Solar.R &lt;int&gt; | Wind &lt;dbl&gt; | Temp &lt;int&gt; | Month &lt;int&gt; | Day &lt;int&gt; |\n|---|---|---|---|---|---|---|\n| 5 | NA |  NA | 14.3 | 56 | 5 |  5 |\n| 10 | NA | 194 |  8.6 | 69 | 5 | 10 |\n| 25 | NA |  66 | 16.6 | 57 | 5 | 25 |\n| 26 | NA | 266 | 14.9 | 58 | 5 | 26 |\n| 27 | NA |  NA |  8.0 | 57 | 5 | 27 |\n| 32 | NA | 286 |  8.6 | 78 | 6 |  1 |\n| 33 | NA | 287 |  9.7 | 74 | 6 |  2 |\n| 34 | NA | 242 | 16.1 | 67 | 6 |  3 |\n| 35 | NA | 186 |  9.2 | 84 | 6 |  4 |\n| 36 | NA | 220 |  8.6 | 85 | 6 |  5 |\n\n",
      "text/latex": "A data.frame: 10 x 6\n\\begin{tabular}{r|llllll}\n  & Ozone & Solar.R & Wind & Temp & Month & Day\\\\\n  & <int> & <int> & <dbl> & <int> & <int> & <int>\\\\\n\\hline\n\t5 & NA &  NA & 14.3 & 56 & 5 &  5\\\\\n\t10 & NA & 194 &  8.6 & 69 & 5 & 10\\\\\n\t25 & NA &  66 & 16.6 & 57 & 5 & 25\\\\\n\t26 & NA & 266 & 14.9 & 58 & 5 & 26\\\\\n\t27 & NA &  NA &  8.0 & 57 & 5 & 27\\\\\n\t32 & NA & 286 &  8.6 & 78 & 6 &  1\\\\\n\t33 & NA & 287 &  9.7 & 74 & 6 &  2\\\\\n\t34 & NA & 242 & 16.1 & 67 & 6 &  3\\\\\n\t35 & NA & 186 &  9.2 & 84 & 6 &  4\\\\\n\t36 & NA & 220 &  8.6 & 85 & 6 &  5\\\\\n\\end{tabular}\n",
      "text/plain": "   Ozone Solar.R Wind Temp Month Day\n5  NA     NA     14.3 56   5      5 \n10 NA    194      8.6 69   5     10 \n25 NA     66     16.6 57   5     25 \n26 NA    266     14.9 58   5     26 \n27 NA     NA      8.0 57   5     27 \n32 NA    286      8.6 78   6      1 \n33 NA    287      9.7 74   6      2 \n34 NA    242     16.1 67   6      3 \n35 NA    186      9.2 84   6      4 \n36 NA    220      8.6 85   6      5 "
     },
     "metadata": {},
     "output_type": "display_data"
    },
    {
     "data": {
      "text/html": "<table class=\"dataframe\">\n<caption>A data.frame: 10 x 6</caption>\n<thead>\n\t<tr><th></th><th scope=col>Ozone</th><th scope=col>Solar.R</th><th scope=col>Wind</th><th scope=col>Temp</th><th scope=col>Month</th><th scope=col>Day</th></tr>\n\t<tr><th></th><th scope=col>&lt;int&gt;</th><th scope=col>&lt;int&gt;</th><th scope=col>&lt;dbl&gt;</th><th scope=col>&lt;int&gt;</th><th scope=col>&lt;int&gt;</th><th scope=col>&lt;int&gt;</th></tr>\n</thead>\n<tbody>\n\t<tr><th scope=row>72</th><td>NA</td><td>139</td><td> 8.6</td><td>82</td><td>7</td><td>11</td></tr>\n\t<tr><th scope=row>75</th><td>NA</td><td>291</td><td>14.9</td><td>91</td><td>7</td><td>14</td></tr>\n\t<tr><th scope=row>83</th><td>NA</td><td>258</td><td> 9.7</td><td>81</td><td>7</td><td>22</td></tr>\n\t<tr><th scope=row>84</th><td>NA</td><td>295</td><td>11.5</td><td>82</td><td>7</td><td>23</td></tr>\n\t<tr><th scope=row>102</th><td>NA</td><td>222</td><td> 8.6</td><td>92</td><td>8</td><td>10</td></tr>\n\t<tr><th scope=row>103</th><td>NA</td><td>137</td><td>11.5</td><td>86</td><td>8</td><td>11</td></tr>\n\t<tr><th scope=row>107</th><td>NA</td><td> 64</td><td>11.5</td><td>79</td><td>8</td><td>15</td></tr>\n\t<tr><th scope=row>115</th><td>NA</td><td>255</td><td>12.6</td><td>75</td><td>8</td><td>23</td></tr>\n\t<tr><th scope=row>119</th><td>NA</td><td>153</td><td> 5.7</td><td>88</td><td>8</td><td>27</td></tr>\n\t<tr><th scope=row>150</th><td>NA</td><td>145</td><td>13.2</td><td>77</td><td>9</td><td>27</td></tr>\n</tbody>\n</table>\n",
      "text/markdown": "\nA data.frame: 10 x 6\n\n| <!--/--> | Ozone &lt;int&gt; | Solar.R &lt;int&gt; | Wind &lt;dbl&gt; | Temp &lt;int&gt; | Month &lt;int&gt; | Day &lt;int&gt; |\n|---|---|---|---|---|---|---|\n| 72 | NA | 139 |  8.6 | 82 | 7 | 11 |\n| 75 | NA | 291 | 14.9 | 91 | 7 | 14 |\n| 83 | NA | 258 |  9.7 | 81 | 7 | 22 |\n| 84 | NA | 295 | 11.5 | 82 | 7 | 23 |\n| 102 | NA | 222 |  8.6 | 92 | 8 | 10 |\n| 103 | NA | 137 | 11.5 | 86 | 8 | 11 |\n| 107 | NA |  64 | 11.5 | 79 | 8 | 15 |\n| 115 | NA | 255 | 12.6 | 75 | 8 | 23 |\n| 119 | NA | 153 |  5.7 | 88 | 8 | 27 |\n| 150 | NA | 145 | 13.2 | 77 | 9 | 27 |\n\n",
      "text/latex": "A data.frame: 10 x 6\n\\begin{tabular}{r|llllll}\n  & Ozone & Solar.R & Wind & Temp & Month & Day\\\\\n  & <int> & <int> & <dbl> & <int> & <int> & <int>\\\\\n\\hline\n\t72 & NA & 139 &  8.6 & 82 & 7 & 11\\\\\n\t75 & NA & 291 & 14.9 & 91 & 7 & 14\\\\\n\t83 & NA & 258 &  9.7 & 81 & 7 & 22\\\\\n\t84 & NA & 295 & 11.5 & 82 & 7 & 23\\\\\n\t102 & NA & 222 &  8.6 & 92 & 8 & 10\\\\\n\t103 & NA & 137 & 11.5 & 86 & 8 & 11\\\\\n\t107 & NA &  64 & 11.5 & 79 & 8 & 15\\\\\n\t115 & NA & 255 & 12.6 & 75 & 8 & 23\\\\\n\t119 & NA & 153 &  5.7 & 88 & 8 & 27\\\\\n\t150 & NA & 145 & 13.2 & 77 & 9 & 27\\\\\n\\end{tabular}\n",
      "text/plain": "    Ozone Solar.R Wind Temp Month Day\n72  NA    139      8.6 82   7     11 \n75  NA    291     14.9 91   7     14 \n83  NA    258      9.7 81   7     22 \n84  NA    295     11.5 82   7     23 \n102 NA    222      8.6 92   8     10 \n103 NA    137     11.5 86   8     11 \n107 NA     64     11.5 79   8     15 \n115 NA    255     12.6 75   8     23 \n119 NA    153      5.7 88   8     27 \n150 NA    145     13.2 77   9     27 "
     },
     "metadata": {},
     "output_type": "display_data"
    }
   ]
  },
  {
   "cell_type": "code",
   "metadata": {
    "tags": [],
    "cell_id": "091597a8a3a4421fba27c2344dd82b7c",
    "source_hash": "2272eb1c",
    "execution_start": 1676321518727,
    "execution_millis": 43,
    "deepnote_to_be_reexecuted": true,
    "deepnote_cell_type": "code",
    "deepnote_cell_height": 1146.3125,
    "deepnote_output_heights": [
     null,
     392,
     392
    ]
   },
   "source": "perdidos <- subset(airquality, !is.na(Ozone))\n\nstr(perdidos)\nhead(perdidos,n=10)\ntail(perdidos,n=10)",
   "execution_count": 78,
   "outputs": [
    {
     "name": "stdout",
     "text": "'data.frame':\t116 obs. of  6 variables:\n $ Ozone  : int  41 36 12 18 28 23 19 8 7 16 ...\n $ Solar.R: int  190 118 149 313 NA 299 99 19 NA 256 ...\n $ Wind   : num  7.4 8 12.6 11.5 14.9 8.6 13.8 20.1 6.9 9.7 ...\n $ Temp   : int  67 72 74 62 66 65 59 61 74 69 ...\n $ Month  : int  5 5 5 5 5 5 5 5 5 5 ...\n $ Day    : int  1 2 3 4 6 7 8 9 11 12 ...\n",
     "output_type": "stream"
    },
    {
     "data": {
      "text/html": "<table class=\"dataframe\">\n<caption>A data.frame: 10 x 6</caption>\n<thead>\n\t<tr><th></th><th scope=col>Ozone</th><th scope=col>Solar.R</th><th scope=col>Wind</th><th scope=col>Temp</th><th scope=col>Month</th><th scope=col>Day</th></tr>\n\t<tr><th></th><th scope=col>&lt;int&gt;</th><th scope=col>&lt;int&gt;</th><th scope=col>&lt;dbl&gt;</th><th scope=col>&lt;int&gt;</th><th scope=col>&lt;int&gt;</th><th scope=col>&lt;int&gt;</th></tr>\n</thead>\n<tbody>\n\t<tr><th scope=row>1</th><td>41</td><td>190</td><td> 7.4</td><td>67</td><td>5</td><td> 1</td></tr>\n\t<tr><th scope=row>2</th><td>36</td><td>118</td><td> 8.0</td><td>72</td><td>5</td><td> 2</td></tr>\n\t<tr><th scope=row>3</th><td>12</td><td>149</td><td>12.6</td><td>74</td><td>5</td><td> 3</td></tr>\n\t<tr><th scope=row>4</th><td>18</td><td>313</td><td>11.5</td><td>62</td><td>5</td><td> 4</td></tr>\n\t<tr><th scope=row>6</th><td>28</td><td> NA</td><td>14.9</td><td>66</td><td>5</td><td> 6</td></tr>\n\t<tr><th scope=row>7</th><td>23</td><td>299</td><td> 8.6</td><td>65</td><td>5</td><td> 7</td></tr>\n\t<tr><th scope=row>8</th><td>19</td><td> 99</td><td>13.8</td><td>59</td><td>5</td><td> 8</td></tr>\n\t<tr><th scope=row>9</th><td> 8</td><td> 19</td><td>20.1</td><td>61</td><td>5</td><td> 9</td></tr>\n\t<tr><th scope=row>11</th><td> 7</td><td> NA</td><td> 6.9</td><td>74</td><td>5</td><td>11</td></tr>\n\t<tr><th scope=row>12</th><td>16</td><td>256</td><td> 9.7</td><td>69</td><td>5</td><td>12</td></tr>\n</tbody>\n</table>\n",
      "text/markdown": "\nA data.frame: 10 x 6\n\n| <!--/--> | Ozone &lt;int&gt; | Solar.R &lt;int&gt; | Wind &lt;dbl&gt; | Temp &lt;int&gt; | Month &lt;int&gt; | Day &lt;int&gt; |\n|---|---|---|---|---|---|---|\n| 1 | 41 | 190 |  7.4 | 67 | 5 |  1 |\n| 2 | 36 | 118 |  8.0 | 72 | 5 |  2 |\n| 3 | 12 | 149 | 12.6 | 74 | 5 |  3 |\n| 4 | 18 | 313 | 11.5 | 62 | 5 |  4 |\n| 6 | 28 |  NA | 14.9 | 66 | 5 |  6 |\n| 7 | 23 | 299 |  8.6 | 65 | 5 |  7 |\n| 8 | 19 |  99 | 13.8 | 59 | 5 |  8 |\n| 9 |  8 |  19 | 20.1 | 61 | 5 |  9 |\n| 11 |  7 |  NA |  6.9 | 74 | 5 | 11 |\n| 12 | 16 | 256 |  9.7 | 69 | 5 | 12 |\n\n",
      "text/latex": "A data.frame: 10 x 6\n\\begin{tabular}{r|llllll}\n  & Ozone & Solar.R & Wind & Temp & Month & Day\\\\\n  & <int> & <int> & <dbl> & <int> & <int> & <int>\\\\\n\\hline\n\t1 & 41 & 190 &  7.4 & 67 & 5 &  1\\\\\n\t2 & 36 & 118 &  8.0 & 72 & 5 &  2\\\\\n\t3 & 12 & 149 & 12.6 & 74 & 5 &  3\\\\\n\t4 & 18 & 313 & 11.5 & 62 & 5 &  4\\\\\n\t6 & 28 &  NA & 14.9 & 66 & 5 &  6\\\\\n\t7 & 23 & 299 &  8.6 & 65 & 5 &  7\\\\\n\t8 & 19 &  99 & 13.8 & 59 & 5 &  8\\\\\n\t9 &  8 &  19 & 20.1 & 61 & 5 &  9\\\\\n\t11 &  7 &  NA &  6.9 & 74 & 5 & 11\\\\\n\t12 & 16 & 256 &  9.7 & 69 & 5 & 12\\\\\n\\end{tabular}\n",
      "text/plain": "   Ozone Solar.R Wind Temp Month Day\n1  41    190      7.4 67   5      1 \n2  36    118      8.0 72   5      2 \n3  12    149     12.6 74   5      3 \n4  18    313     11.5 62   5      4 \n6  28     NA     14.9 66   5      6 \n7  23    299      8.6 65   5      7 \n8  19     99     13.8 59   5      8 \n9   8     19     20.1 61   5      9 \n11  7     NA      6.9 74   5     11 \n12 16    256      9.7 69   5     12 "
     },
     "metadata": {},
     "output_type": "display_data"
    },
    {
     "data": {
      "text/html": "<table class=\"dataframe\">\n<caption>A data.frame: 10 x 6</caption>\n<thead>\n\t<tr><th></th><th scope=col>Ozone</th><th scope=col>Solar.R</th><th scope=col>Wind</th><th scope=col>Temp</th><th scope=col>Month</th><th scope=col>Day</th></tr>\n\t<tr><th></th><th scope=col>&lt;int&gt;</th><th scope=col>&lt;int&gt;</th><th scope=col>&lt;dbl&gt;</th><th scope=col>&lt;int&gt;</th><th scope=col>&lt;int&gt;</th><th scope=col>&lt;int&gt;</th></tr>\n</thead>\n<tbody>\n\t<tr><th scope=row>143</th><td>16</td><td>201</td><td> 8.0</td><td>82</td><td>9</td><td>20</td></tr>\n\t<tr><th scope=row>144</th><td>13</td><td>238</td><td>12.6</td><td>64</td><td>9</td><td>21</td></tr>\n\t<tr><th scope=row>145</th><td>23</td><td> 14</td><td> 9.2</td><td>71</td><td>9</td><td>22</td></tr>\n\t<tr><th scope=row>146</th><td>36</td><td>139</td><td>10.3</td><td>81</td><td>9</td><td>23</td></tr>\n\t<tr><th scope=row>147</th><td> 7</td><td> 49</td><td>10.3</td><td>69</td><td>9</td><td>24</td></tr>\n\t<tr><th scope=row>148</th><td>14</td><td> 20</td><td>16.6</td><td>63</td><td>9</td><td>25</td></tr>\n\t<tr><th scope=row>149</th><td>30</td><td>193</td><td> 6.9</td><td>70</td><td>9</td><td>26</td></tr>\n\t<tr><th scope=row>151</th><td>14</td><td>191</td><td>14.3</td><td>75</td><td>9</td><td>28</td></tr>\n\t<tr><th scope=row>152</th><td>18</td><td>131</td><td> 8.0</td><td>76</td><td>9</td><td>29</td></tr>\n\t<tr><th scope=row>153</th><td>20</td><td>223</td><td>11.5</td><td>68</td><td>9</td><td>30</td></tr>\n</tbody>\n</table>\n",
      "text/markdown": "\nA data.frame: 10 x 6\n\n| <!--/--> | Ozone &lt;int&gt; | Solar.R &lt;int&gt; | Wind &lt;dbl&gt; | Temp &lt;int&gt; | Month &lt;int&gt; | Day &lt;int&gt; |\n|---|---|---|---|---|---|---|\n| 143 | 16 | 201 |  8.0 | 82 | 9 | 20 |\n| 144 | 13 | 238 | 12.6 | 64 | 9 | 21 |\n| 145 | 23 |  14 |  9.2 | 71 | 9 | 22 |\n| 146 | 36 | 139 | 10.3 | 81 | 9 | 23 |\n| 147 |  7 |  49 | 10.3 | 69 | 9 | 24 |\n| 148 | 14 |  20 | 16.6 | 63 | 9 | 25 |\n| 149 | 30 | 193 |  6.9 | 70 | 9 | 26 |\n| 151 | 14 | 191 | 14.3 | 75 | 9 | 28 |\n| 152 | 18 | 131 |  8.0 | 76 | 9 | 29 |\n| 153 | 20 | 223 | 11.5 | 68 | 9 | 30 |\n\n",
      "text/latex": "A data.frame: 10 x 6\n\\begin{tabular}{r|llllll}\n  & Ozone & Solar.R & Wind & Temp & Month & Day\\\\\n  & <int> & <int> & <dbl> & <int> & <int> & <int>\\\\\n\\hline\n\t143 & 16 & 201 &  8.0 & 82 & 9 & 20\\\\\n\t144 & 13 & 238 & 12.6 & 64 & 9 & 21\\\\\n\t145 & 23 &  14 &  9.2 & 71 & 9 & 22\\\\\n\t146 & 36 & 139 & 10.3 & 81 & 9 & 23\\\\\n\t147 &  7 &  49 & 10.3 & 69 & 9 & 24\\\\\n\t148 & 14 &  20 & 16.6 & 63 & 9 & 25\\\\\n\t149 & 30 & 193 &  6.9 & 70 & 9 & 26\\\\\n\t151 & 14 & 191 & 14.3 & 75 & 9 & 28\\\\\n\t152 & 18 & 131 &  8.0 & 76 & 9 & 29\\\\\n\t153 & 20 & 223 & 11.5 & 68 & 9 & 30\\\\\n\\end{tabular}\n",
      "text/plain": "    Ozone Solar.R Wind Temp Month Day\n143 16    201      8.0 82   9     20 \n144 13    238     12.6 64   9     21 \n145 23     14      9.2 71   9     22 \n146 36    139     10.3 81   9     23 \n147  7     49     10.3 69   9     24 \n148 14     20     16.6 63   9     25 \n149 30    193      6.9 70   9     26 \n151 14    191     14.3 75   9     28 \n152 18    131      8.0 76   9     29 \n153 20    223     11.5 68   9     30 "
     },
     "metadata": {},
     "output_type": "display_data"
    }
   ]
  },
  {
   "cell_type": "code",
   "metadata": {
    "tags": [],
    "cell_id": "252f8c54cd2a4929acf9287427dc8585",
    "source_hash": "3ce5dbde",
    "execution_start": 1676321458578,
    "execution_millis": 2,
    "deepnote_to_be_reexecuted": true,
    "deepnote_cell_type": "code",
    "deepnote_cell_height": 545.25,
    "deepnote_output_heights": [
     null,
     131
    ]
   },
   "source": "perdidos <- subset(Municipios, is.na(denspobl))\n\nstr(perdidos)\nhead(perdidos,n=10)",
   "execution_count": 75,
   "outputs": [
    {
     "name": "stdout",
     "text": "tibble [1 × 11] (S3: tbl_df/tbl/data.frame)\n $ Departamento: chr \"Guainía\"\n $ Dep         : chr \"94\"\n $ Municipio   : chr \"Mapiripana\"\n $ Depmun      : chr \"94663\"\n $ Superficie  : num NA\n $ Poblacion   : num 1048\n $ Irural      : num 84\n $ Region      : chr \"Región Llano\"\n $ Tipo        : chr \"Otro\"\n $ Zona        : chr \"Rural\"\n $ denspobl    : num NA\n",
     "output_type": "stream"
    },
    {
     "data": {
      "text/html": "<table class=\"dataframe\">\n<caption>A tibble: 1 x 11</caption>\n<thead>\n\t<tr><th scope=col>Departamento</th><th scope=col>Dep</th><th scope=col>Municipio</th><th scope=col>Depmun</th><th scope=col>Superficie</th><th scope=col>Poblacion</th><th scope=col>Irural</th><th scope=col>Region</th><th scope=col>Tipo</th><th scope=col>Zona</th><th scope=col>denspobl</th></tr>\n\t<tr><th scope=col>&lt;chr&gt;</th><th scope=col>&lt;chr&gt;</th><th scope=col>&lt;chr&gt;</th><th scope=col>&lt;chr&gt;</th><th scope=col>&lt;dbl&gt;</th><th scope=col>&lt;dbl&gt;</th><th scope=col>&lt;dbl&gt;</th><th scope=col>&lt;chr&gt;</th><th scope=col>&lt;chr&gt;</th><th scope=col>&lt;chr&gt;</th><th scope=col>&lt;dbl&gt;</th></tr>\n</thead>\n<tbody>\n\t<tr><td>Guainía</td><td>94</td><td>Mapiripana</td><td>94663</td><td>NA</td><td>1048</td><td>84</td><td>Región Llano</td><td>Otro</td><td>Rural</td><td>NA</td></tr>\n</tbody>\n</table>\n",
      "text/markdown": "\nA tibble: 1 x 11\n\n| Departamento &lt;chr&gt; | Dep &lt;chr&gt; | Municipio &lt;chr&gt; | Depmun &lt;chr&gt; | Superficie &lt;dbl&gt; | Poblacion &lt;dbl&gt; | Irural &lt;dbl&gt; | Region &lt;chr&gt; | Tipo &lt;chr&gt; | Zona &lt;chr&gt; | denspobl &lt;dbl&gt; |\n|---|---|---|---|---|---|---|---|---|---|---|\n| Guainía | 94 | Mapiripana | 94663 | NA | 1048 | 84 | Región Llano | Otro | Rural | NA |\n\n",
      "text/latex": "A tibble: 1 x 11\n\\begin{tabular}{lllllllllll}\n Departamento & Dep & Municipio & Depmun & Superficie & Poblacion & Irural & Region & Tipo & Zona & denspobl\\\\\n <chr> & <chr> & <chr> & <chr> & <dbl> & <dbl> & <dbl> & <chr> & <chr> & <chr> & <dbl>\\\\\n\\hline\n\t Guainía & 94 & Mapiripana & 94663 & NA & 1048 & 84 & Región Llano & Otro & Rural & NA\\\\\n\\end{tabular}\n",
      "text/plain": "  Departamento Dep Municipio  Depmun Superficie Poblacion Irural Region      \n1 Guainía      94  Mapiripana 94663  NA         1048      84     Región Llano\n  Tipo Zona  denspobl\n1 Otro Rural NA      "
     },
     "metadata": {},
     "output_type": "display_data"
    }
   ]
  },
  {
   "cell_type": "markdown",
   "source": "### Estadísticas descrpitvas",
   "metadata": {
    "formattedRanges": [],
    "tags": [],
    "cell_id": "00d581d1360b4cc0972cf10f4bbf9574",
    "is_collapsed": false,
    "deepnote_cell_type": "text-cell-h3"
   }
  },
  {
   "cell_type": "code",
   "metadata": {
    "tags": [],
    "cell_id": "8e99b7fbe7664319a78e115830348678",
    "source_hash": "1789f1fd",
    "execution_start": 1676321600074,
    "execution_millis": 2,
    "deepnote_to_be_reexecuted": true,
    "deepnote_cell_type": "code",
    "deepnote_cell_height": 483,
    "deepnote_output_heights": [
     247
    ]
   },
   "source": "summ <- function(x){\n x2 <- na.omit(x)\n y <- c(mean(x2),median(x2),sd(x2),sd(x2)/mean(x2),length(boxplot.stats(x2)$out),sum(is.na(x)))\n names(y) <- c(\"Mean\",\"Median\",\"Std.Dev\",\"Coef.Var\",\"Outliers\",\"Missings\")\n 0.\n return(round(y,digits=2))\n}\n\napply(Municipios[,c(\"Poblacion\",\"Superficie\",\"denspobl\",\"Irural\")],2,summ)",
   "execution_count": 79,
   "outputs": [
    {
     "data": {
      "text/html": "<table class=\"dataframe\">\n<caption>A matrix: 6 x 4 of type dbl</caption>\n<thead>\n\t<tr><th></th><th scope=col>Poblacion</th><th scope=col>Superficie</th><th scope=col>denspobl</th><th scope=col>Irural</th></tr>\n</thead>\n<tbody>\n\t<tr><th scope=row>Mean</th><td> 44095.63</td><td>1020.43</td><td>165.34</td><td>46.78</td></tr>\n\t<tr><th scope=row>Median</th><td> 12796.50</td><td> 287.04</td><td> 44.89</td><td>46.00</td></tr>\n\t<tr><th scope=row>Std.Dev</th><td>260344.32</td><td>3217.70</td><td>733.12</td><td>12.70</td></tr>\n\t<tr><th scope=row>Coef.Var</th><td>     5.90</td><td>   3.15</td><td>  4.43</td><td> 0.27</td></tr>\n\t<tr><th scope=row>Outliers</th><td>   111.00</td><td> 119.00</td><td>123.00</td><td>73.00</td></tr>\n\t<tr><th scope=row>Missings</th><td>     0.00</td><td>   1.00</td><td>  1.00</td><td> 0.00</td></tr>\n</tbody>\n</table>\n",
      "text/markdown": "\nA matrix: 6 x 4 of type dbl\n\n| <!--/--> | Poblacion | Superficie | denspobl | Irural |\n|---|---|---|---|---|\n| Mean |  44095.63 | 1020.43 | 165.34 | 46.78 |\n| Median |  12796.50 |  287.04 |  44.89 | 46.00 |\n| Std.Dev | 260344.32 | 3217.70 | 733.12 | 12.70 |\n| Coef.Var |      5.90 |    3.15 |   4.43 |  0.27 |\n| Outliers |    111.00 |  119.00 | 123.00 | 73.00 |\n| Missings |      0.00 |    1.00 |   1.00 |  0.00 |\n\n",
      "text/latex": "A matrix: 6 x 4 of type dbl\n\\begin{tabular}{r|llll}\n  & Poblacion & Superficie & denspobl & Irural\\\\\n\\hline\n\tMean &  44095.63 & 1020.43 & 165.34 & 46.78\\\\\n\tMedian &  12796.50 &  287.04 &  44.89 & 46.00\\\\\n\tStd.Dev & 260344.32 & 3217.70 & 733.12 & 12.70\\\\\n\tCoef.Var &      5.90 &    3.15 &   4.43 &  0.27\\\\\n\tOutliers &    111.00 &  119.00 & 123.00 & 73.00\\\\\n\tMissings &      0.00 &    1.00 &   1.00 &  0.00\\\\\n\\end{tabular}\n",
      "text/plain": "         Poblacion Superficie denspobl Irural\nMean      44095.63 1020.43    165.34   46.78 \nMedian    12796.50  287.04     44.89   46.00 \nStd.Dev  260344.32 3217.70    733.12   12.70 \nCoef.Var      5.90    3.15      4.43    0.27 \nOutliers    111.00  119.00    123.00   73.00 \nMissings      0.00    1.00      1.00    0.00 "
     },
     "metadata": {},
     "output_type": "display_data"
    }
   ]
  },
  {
   "cell_type": "markdown",
   "source": "<a style='text-decoration:none;line-height:16px;display:flex;color:#5B5B62;padding:10px;justify-content:end;' href='https://deepnote.com?utm_source=created-in-deepnote-cell&projectId=cd2fca3f-dc64-4c71-8bd4-adda531fa911' target=\"_blank\">\n<img alt='Created in deepnote.com' style='display:inline;max-height:16px;margin:0px;margin-right:7.5px;' src='data:image/svg+xml;base64,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' > </img>\nCreated in <span style='font-weight:600;margin-left:4px;'>Deepnote</span></a>",
   "metadata": {
    "tags": [],
    "created_in_deepnote_cell": true,
    "deepnote_cell_type": "markdown"
   }
  }
 ],
 "nbformat": 4,
 "nbformat_minor": 0,
 "metadata": {
  "deepnote": {},
  "orig_nbformat": 2,
  "deepnote_notebook_id": "bf6597a933424109bd722a6f145f531e",
  "deepnote_execution_queue": []
 }
}